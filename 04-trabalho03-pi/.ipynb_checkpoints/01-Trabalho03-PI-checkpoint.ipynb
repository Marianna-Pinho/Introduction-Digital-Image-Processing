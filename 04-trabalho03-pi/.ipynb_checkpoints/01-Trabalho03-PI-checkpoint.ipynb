{
 "cells": [
  {
   "cell_type": "markdown",
   "metadata": {},
   "source": [
    "# <center> Trabalho 03 - Introdução ao Processamento de Imagem Digital </center>\n",
    "\n",
    "**Aluno(a):** Marianna de Pinho Severo <br>\n",
    "**RA:** 264960 <br>\n",
    "**Professor:** Hélio Pedrini"
   ]
  },
  {
   "cell_type": "markdown",
   "metadata": {},
   "source": [
    "### Passo 01: Importar bibliotecas"
   ]
  },
  {
   "cell_type": "code",
   "execution_count": 1,
   "metadata": {},
   "outputs": [],
   "source": [
    "%matplotlib inline\n",
    "import cv2 as cv\n",
    "import numpy as np\n",
    "import matplotlib.pyplot as plt\n",
    "import skimage"
   ]
  },
  {
   "cell_type": "markdown",
   "metadata": {},
   "source": [
    "### Passo 02: Gerar funções auxiliares"
   ]
  },
  {
   "cell_type": "markdown",
   "metadata": {},
   "source": [
    "#### Funções para gerar kernels"
   ]
  },
  {
   "cell_type": "markdown",
   "metadata": {},
   "source": [
    "As funções *fillCircMask* e *genCircIdealKernel* são baseadas no código presente em [how-to-make-a-circular-kernel](https://stackoverflow.com/questions/44505504/how-to-make-a-circular-kernel)."
   ]
  },
  {
   "cell_type": "code",
   "execution_count": 2,
   "metadata": {},
   "outputs": [],
   "source": [
    "#Fills the mask in a circular way with the given factor value\n",
    "def fillCircMask(mask,factor,radius,center,top,bottom,left,right):\n",
    "    \n",
    "    for line in range(top, bottom):\n",
    "        for col in range(left, right):\n",
    "            if((center[0] - line)**2 + (center[1] - col)**2) <= radius**2:\n",
    "                mask[line, col] = factor"
   ]
  },
  {
   "cell_type": "code",
   "execution_count": 3,
   "metadata": {},
   "outputs": [],
   "source": [
    "#Generates Low, High and Band Pass Ideal Kernels\n",
    "def genCircIdealKernel(image_shape, radius, ftype='LPF', small_radius = 0):\n",
    "    \n",
    "    center = (image_shape[0]//2, image_shape[1]//2)\n",
    "    \n",
    "    top_limit = center[0] - radius\n",
    "    bottom_limit = center[0] + radius + 1\n",
    "    left_limit = center[1] - radius\n",
    "    right_limit = center[1] + radius + 1\n",
    "     \n",
    "    if ftype == 'LPF':\n",
    "        mask = np.zeros((image_shape[0],image_shape[1],2),np.uint8)\n",
    "        factor = 255\n",
    "    elif ftype == 'HPF':\n",
    "        mask = np.ones((image_shape[0],image_shape[1],2),np.uint8)*255\n",
    "        factor = 0\n",
    "    elif ftype == 'BPF':\n",
    "        mask = np.zeros((image_shape[0],image_shape[1],2),np.uint8)\n",
    "        small_mask = np.ones((image_shape[0],image_shape[1],2),np.uint8)\n",
    "        factor = 255\n",
    "        small_factor = 0\n",
    "        \n",
    "        fillCircMask(mask,factor,radius,center,top_limit,bottom_limit,left_limit,right_limit)\n",
    "        fillCircMask(small_mask, small_factor,small_radius,center,top_limit,bottom_limit,left_limit,right_limit)\n",
    "        mask = mask * small_mask\n",
    "        \n",
    "        return mask\n",
    "    \n",
    "    fillCircMask(mask,factor,radius,center,top_limit,bottom_limit,left_limit,right_limit)\n",
    "    \n",
    "    return mask"
   ]
  },
  {
   "cell_type": "markdown",
   "metadata": {},
   "source": [
    "#### Funções para visualização"
   ]
  },
  {
   "cell_type": "code",
   "execution_count": 4,
   "metadata": {},
   "outputs": [],
   "source": [
    "def plotImage(image):\n",
    "    plt.figure(figsize=(5, 5))\n",
    "    plt.imshow(image, cmap='gray', vmin=0, vmax=255)\n",
    "    plt.show()"
   ]
  },
  {
   "cell_type": "code",
   "execution_count": 5,
   "metadata": {},
   "outputs": [],
   "source": [
    "def plotAllImages(images, labels):\n",
    "    columns = 2\n",
    "    rows = 1\n",
    "    i = 1\n",
    "    fig=plt.figure(figsize=(15, 15))\n",
    "    \n",
    "    for image,label in zip(images,labels):\n",
    "        fig.add_subplot(rows, columns, i)\n",
    "        plt.xlabel(label)\n",
    "        plt.imshow(image, cmap = 'gray', vmin=0, vmax=255)\n",
    "        i = i+1\n",
    "\n",
    "    plt.subplots_adjust(bottom=0.40, top=0.75)\n",
    "    plt.show()"
   ]
  },
  {
   "cell_type": "markdown",
   "metadata": {},
   "source": [
    "#### Funções para FFT e compressão"
   ]
  },
  {
   "cell_type": "code",
   "execution_count": 6,
   "metadata": {},
   "outputs": [],
   "source": [
    "def getLogMagnitude(dft_image):\n",
    "    return 20*np.log(cv.magnitude(dft_image[:,:,0],dft_image[:,:,1]) + np.ones((dft_image.shape[0],dft_image.shape[1])))"
   ]
  },
  {
   "cell_type": "code",
   "execution_count": 7,
   "metadata": {},
   "outputs": [],
   "source": [
    "def compressImageByThreshold(dft_image, threshold=240):\n",
    "    mag_image = getLogMagnitude(dft_image)\n",
    "    \n",
    "    mag_image[mag_image < threshold] = 0\n",
    "    mag_image[mag_image >= threshold] = 1\n",
    "    \n",
    "    new_dft = np.copy(dft_image)\n",
    "    new_dft[:,:,0] = new_dft[:,:,0] * mag_image\n",
    "    new_dft[:,:,1] = new_dft[:,:,1] * mag_image\n",
    "    \n",
    "    return  new_dft"
   ]
  },
  {
   "cell_type": "code",
   "execution_count": 8,
   "metadata": {},
   "outputs": [],
   "source": [
    "def indexToLineCol(index, matrix_shape):\n",
    "    line = index//matrix_shape[1]\n",
    "    col = index % matrix_shape[1]\n",
    "    \n",
    "    return (line, col)"
   ]
  },
  {
   "cell_type": "code",
   "execution_count": 9,
   "metadata": {},
   "outputs": [],
   "source": [
    "def compressImageByPercent(dft_image, percent=0):\n",
    "    lines = dft_image.shape[0]\n",
    "    cols = dft_image.shape[1]\n",
    "    \n",
    "    dft_aux = np.copy(dft_image)\n",
    "    \n",
    "    total_coeff = lines * cols\n",
    "    number_to_compress = int(total_coeff * percent) + 1\n",
    "    \n",
    "    mag_image = getLogMagnitude(dft_aux)\n",
    "    index_to_zero = np.argsort(mag_image, axis=None)\n",
    "    \n",
    "    for index in index_to_zero:\n",
    "        if number_to_compress == 0:\n",
    "            break\n",
    "        \n",
    "        line,col = indexToLineCol(index, (lines,cols))\n",
    "        dft_aux[line,col][:] = 0\n",
    "        number_to_compress -= 1\n",
    "    \n",
    "    return dft_aux"
   ]
  },
  {
   "cell_type": "markdown",
   "metadata": {},
   "source": [
    "### Passo 03: Ler imagens"
   ]
  },
  {
   "cell_type": "code",
   "execution_count": 10,
   "metadata": {},
   "outputs": [],
   "source": [
    "images = {}\n",
    "images_names = ['baboon', 'butterfly', 'house','seagull']"
   ]
  },
  {
   "cell_type": "code",
   "execution_count": 11,
   "metadata": {},
   "outputs": [],
   "source": [
    "for image in images_names:\n",
    "    images[image] = cv.imread('input_images/'+image+'.png',0)"
   ]
  },
  {
   "cell_type": "markdown",
   "metadata": {},
   "source": [
    "### Passo 04: Gerar Kernels\n",
    "\n",
    "Os filtros são salvos em um dicionário chamado *ideal_kernels*. As chaves desses dicionários indicam o tipo de filtro: passa-baixa (LPF), passa-alta (HPF) e passa-banda (BPF); e a imagem que foi filtrada. Já os valores do dicionários são listas, em que cada elemento é um outro dicionário. Os dicionários dessas listas guardam as imagens que representam os filtros, cujas chaves indicam seus respectivos raios. Assim, um filtro passa-baixa de raio 10 pixels, que vai ser aplicado na imagem do *Baboon*, vai estar na seguinte hierarquia:\n",
    "\n",
    "<code>ideal_kernels = {\n",
    "        'LPF_Baboon' = [\n",
    "            { 10: filter_radius_10}\n",
    "        ]\n",
    "   }</code>\n",
    "   \n",
    "Para os pixels passa-banda são utilizados dois raios, um chamado de raio maior (bpf_big_radius) e outro de raio menor (bpf_small_radius)."
   ]
  },
  {
   "cell_type": "code",
   "execution_count": 12,
   "metadata": {},
   "outputs": [],
   "source": [
    "ideal_kernels = {}\n",
    "for image in images:\n",
    "        ideal_kernels['LPF_'+image] = []\n",
    "        ideal_kernels['HPF_'+image] = []\n",
    "        ideal_kernels['BPF_'+image] = []"
   ]
  },
  {
   "cell_type": "code",
   "execution_count": 13,
   "metadata": {},
   "outputs": [],
   "source": [
    "lpf_radius = [10, 30, 60, 160,200]#[r*10 for r in range(1,11)]\n",
    "hpf_radius = [10, 30, 60, 160,200]#[r*10 for r in range(1,11)]\n",
    "bpf_big_radius = [r*10 for r in range(6,10)]\n",
    "bpf_small_radius = [r*10 for r in range(1,6)]"
   ]
  },
  {
   "cell_type": "code",
   "execution_count": 14,
   "metadata": {},
   "outputs": [],
   "source": [
    "for key in ideal_kernels:\n",
    "    filt_name, image_name = key.split('_')\n",
    "    \n",
    "    if filt_name == 'LPF':\n",
    "        for r in lpf_radius:\n",
    "            ideal_kernels[key].append({str(r): genCircIdealKernel(images[image_name].shape,radius=r, ftype='LPF')})\n",
    "    elif filt_name == 'HPF':\n",
    "        for r in hpf_radius:\n",
    "            ideal_kernels[key].append({str(r): genCircIdealKernel(images[image_name].shape,radius=r, ftype='HPF')})\n",
    "    else:\n",
    "        for r_big in bpf_big_radius:\n",
    "            for r_small in bpf_small_radius:\n",
    "                ideal_kernels[key].append({str(r_big) + '_' + str(r_small): genCircIdealKernel(images[image_name].shape,radius=r_big, ftype='BPF', small_radius=r_small)})"
   ]
  },
  {
   "cell_type": "markdown",
   "metadata": {},
   "source": [
    "### Passo 05: Gerar espectros de Fourier das imagens\n",
    "\n",
    "Nessa etapa, geramos os espectros de Fourier para cada imagem de entrada. Para isso, aplicamos a transformada de Fourier e fazemos o shift da componente DC do espectro para o centro da imagem que o representa. Os espectros gerados são armazenados em um dicionário chamado *dft_images* cujas chaves são os nomes das imagens."
   ]
  },
  {
   "cell_type": "code",
   "execution_count": 15,
   "metadata": {},
   "outputs": [],
   "source": [
    "dft_images = {}"
   ]
  },
  {
   "cell_type": "code",
   "execution_count": 16,
   "metadata": {},
   "outputs": [],
   "source": [
    "for img_key in images:\n",
    "    # Generates complex array\n",
    "    dft_images[img_key] = cv.dft(np.float32(images[img_key]),flags = cv.DFT_COMPLEX_OUTPUT) \n",
    "    # Shifts the spectrum to the image center\n",
    "    dft_images[img_key] = np.fft.fftshift(dft_images[img_key]) "
   ]
  },
  {
   "cell_type": "code",
   "execution_count": 17,
   "metadata": {},
   "outputs": [],
   "source": [
    "image_magnitudes = {}"
   ]
  },
  {
   "cell_type": "code",
   "execution_count": 18,
   "metadata": {},
   "outputs": [],
   "source": [
    "for key in dft_images:\n",
    "    image_magnitudes[key] = 20*np.log(cv.magnitude(dft_images[key][:,:,0],dft_images[key][:,:,1])) #Generates the magnitude image"
   ]
  },
  {
   "cell_type": "markdown",
   "metadata": {},
   "source": [
    "### Passo 06: Aplicar filtros\n",
    "\n",
    "Os espectros das imagens filtradas são armazenados no dicionário *image_spectrums*, com a mesma estrutura que a empregada em *ideal_kernels*. "
   ]
  },
  {
   "cell_type": "code",
   "execution_count": 19,
   "metadata": {},
   "outputs": [],
   "source": [
    "image_spectrums = {}\n",
    "for image in images:\n",
    "        image_spectrums['LPF_'+image] = []\n",
    "        image_spectrums['HPF_'+image] = []\n",
    "        image_spectrums['BPF_'+image] = []    "
   ]
  },
  {
   "cell_type": "code",
   "execution_count": 20,
   "metadata": {},
   "outputs": [],
   "source": [
    "for key in ideal_kernels:\n",
    "    filt_name, image_name = key.split('_')\n",
    "    \n",
    "    for filt in ideal_kernels[key]:\n",
    "        filt_key = [key for key in filt.keys()][0]\n",
    "        \n",
    "        image_spectrums[key].append({filt_key: dft_images[image_name] * (filt[filt_key]/255)})"
   ]
  },
  {
   "cell_type": "markdown",
   "metadata": {},
   "source": [
    "### Passo 07: Gerar imagens filtradas\n",
    "\n",
    "Nesta seção, geramos as imagens no domínio espacial, a partir dos espectros que foram filtrados no domínio da frequência."
   ]
  },
  {
   "cell_type": "code",
   "execution_count": 21,
   "metadata": {},
   "outputs": [],
   "source": [
    "filtered_images = {}"
   ]
  },
  {
   "cell_type": "code",
   "execution_count": 22,
   "metadata": {},
   "outputs": [],
   "source": [
    "for spec_key in image_spectrums:\n",
    "    for spec_image in image_spectrums[spec_key]:\n",
    "        spec_img_key = [key for key in spec_image.keys()][0]\n",
    "        \n",
    "        #Shifts back the spectrum to the top left\n",
    "        filtered_images[spec_key + '_' + spec_img_key] = np.fft.ifftshift(spec_image[spec_img_key])\n",
    "        \n",
    "        #Applies the inverse transform\n",
    "        filtered_images[spec_key + '_' + spec_img_key] = cv.idft(filtered_images[spec_key + '_' + spec_img_key])\n",
    "        \n",
    "        #Gets the real part of the image\n",
    "        filtered_images[spec_key + '_' + spec_img_key] = cv.magnitude(filtered_images[spec_key + '_' + spec_img_key][:,:,0],filtered_images[spec_key + '_' + spec_img_key][:,:,1])\n",
    "        \n",
    "        #Convert to [0, 255] interval\n",
    "        filtered_images[spec_key + '_' + spec_img_key] = ((filtered_images[spec_key + '_' + spec_img_key]/np.max(filtered_images[spec_key + '_' + spec_img_key]))*255)#.astype(np.uint8)"
   ]
  },
  {
   "cell_type": "markdown",
   "metadata": {},
   "source": [
    "### Passo 08: Mostrar Imagens"
   ]
  },
  {
   "cell_type": "code",
   "execution_count": 23,
   "metadata": {},
   "outputs": [],
   "source": [
    "# for fkey in filtered_images:\n",
    "#     kernel_key = '_'.join(fkey.split('_')[:2])\n",
    "#     image_key = '_'.join(fkey.split('_')[2:])\n",
    "    \n",
    "#     for img in ideal_kernels[kernel_key]:\n",
    "#         if [key for key in img.keys()][0] == image_key:\n",
    "#             kernel_image = img[image_key][:,:,0]\n",
    "#             break\n",
    "            \n",
    "#     plotAllImages([filtered_images[fkey], kernel_image],[fkey, 'Filter_' + kernel_key + '_' + image_key])"
   ]
  },
  {
   "cell_type": "markdown",
   "metadata": {},
   "source": [
    "### Passo 09: Salvar imagens filtradas"
   ]
  },
  {
   "cell_type": "code",
   "execution_count": 24,
   "metadata": {},
   "outputs": [],
   "source": [
    "# for key in filtered_images:\n",
    "#     subfolder = key.split('_')[0]\n",
    "    \n",
    "#     cv.imwrite('output_images/'+subfolder+'/'+key+'.png', filtered_images[key])"
   ]
  },
  {
   "cell_type": "markdown",
   "metadata": {},
   "source": [
    "### Passo 10: Compressão das imagens"
   ]
  },
  {
   "cell_type": "code",
   "execution_count": 25,
   "metadata": {},
   "outputs": [],
   "source": [
    "image_to_compress = np.copy(dft_images['baboon'])"
   ]
  },
  {
   "cell_type": "markdown",
   "metadata": {},
   "source": [
    "#### Compressão por valor limite\n",
    "\n",
    "Neste tipo de compressão, zeramos todos os coeficientes cujas magnitudes são menores do que o valor limite (threshold) passado como parâmetro."
   ]
  },
  {
   "cell_type": "code",
   "execution_count": 26,
   "metadata": {},
   "outputs": [],
   "source": [
    "thresholds = [120, 140, 160, 180, 200, 220, 240, 260]\n",
    "compressed_threshold = {}"
   ]
  },
  {
   "cell_type": "code",
   "execution_count": 27,
   "metadata": {},
   "outputs": [],
   "source": [
    "for thre in thresholds:\n",
    "    compressed_threshold[thre] = compressImageByThreshold(image_to_compress, thre)"
   ]
  },
  {
   "cell_type": "code",
   "execution_count": 28,
   "metadata": {},
   "outputs": [],
   "source": [
    "for key in compressed_threshold:\n",
    "    compressed_threshold[key] = np.fft.ifftshift(compressed_threshold[key])\n",
    "    compressed_threshold[key] = cv.idft(compressed_threshold[key])[:,:,0]"
   ]
  },
  {
   "cell_type": "markdown",
   "metadata": {},
   "source": [
    "#### Compressão por porcentagem de coeficientes\n",
    "\n",
    "Neste tipo de compressão, zeramos uma determinada porcentagem da quantidade de coeficientes, em ordem crescente de valores de magnitude."
   ]
  },
  {
   "cell_type": "code",
   "execution_count": 29,
   "metadata": {},
   "outputs": [],
   "source": [
    "percents = [0.5, 0.8, 0.9, 0.95, 0.99, 0.995, 0.999, 0.9995]\n",
    "compressed_percent = {}"
   ]
  },
  {
   "cell_type": "code",
   "execution_count": 30,
   "metadata": {},
   "outputs": [],
   "source": [
    "for percent in percents:\n",
    "    compressed_percent[percent] = compressImageByPercent(image_to_compress, percent)"
   ]
  },
  {
   "cell_type": "code",
   "execution_count": 31,
   "metadata": {},
   "outputs": [],
   "source": [
    "for key in compressed_percent:\n",
    "    compressed_percent[key] = np.fft.ifftshift(compressed_percent[key])\n",
    "    compressed_percent[key] = cv.idft(compressed_percent[key])[:,:,0]"
   ]
  },
  {
   "cell_type": "markdown",
   "metadata": {},
   "source": [
    "### Passo 10: Salvar Imagens comprimidas"
   ]
  },
  {
   "cell_type": "code",
   "execution_count": 32,
   "metadata": {},
   "outputs": [],
   "source": [
    "# for key in compressed_threshold:\n",
    "#     skimage.io.imsave('output_images/compressed/threshold/compressed_'+str(key)+'.png', compressed_threshold[key])"
   ]
  },
  {
   "cell_type": "code",
   "execution_count": 33,
   "metadata": {},
   "outputs": [],
   "source": [
    "# for key in compressed_percent:\n",
    "#     skimage.io.imsave('output_images/compressed/percent/compressed_'+str(key)+'.png',compressed_percent[key]);"
   ]
  },
  {
   "cell_type": "markdown",
   "metadata": {},
   "source": [
    "### Passo 11: Salvar filtros e espectros para ajudar da escrita do relatório"
   ]
  },
  {
   "cell_type": "markdown",
   "metadata": {},
   "source": [
    "#### Salvar magnitudes dos espectros de Fourier das imagens originais"
   ]
  },
  {
   "cell_type": "code",
   "execution_count": 34,
   "metadata": {},
   "outputs": [],
   "source": [
    "# for key in image_magnitudes:\n",
    "#     cv.imwrite('report_images/original_images_spec/' + key + '.png', image_magnitudes[key])"
   ]
  },
  {
   "cell_type": "markdown",
   "metadata": {},
   "source": [
    "#### Salvar filtros gerados"
   ]
  },
  {
   "cell_type": "code",
   "execution_count": 35,
   "metadata": {},
   "outputs": [],
   "source": [
    "# for key in ideal_kernels:\n",
    "#     for filt in ideal_kernels[key]:\n",
    "#         f_key = [f_key for f_key in filt.keys()][0]\n",
    "        \n",
    "#         if key.split('_')[0] == 'LPF':\n",
    "            \n",
    "#             cv.imwrite('report_images/filters/lpf/' + key + '_' + f_key + '.png', filt[f_key][:,:,0])\n",
    "        \n",
    "#         elif key.split('_')[0] == 'HPF':\n",
    "#             cv.imwrite('report_images/filters/hpf/' + key + '_' + f_key + '.png', filt[f_key][:,:,0])\n",
    "        \n",
    "#         else:\n",
    "#             cv.imwrite('report_images/filters/bpf/' + key + '_' + f_key + '.png', filt[f_key][:,:,0])"
   ]
  },
  {
   "cell_type": "code",
   "execution_count": null,
   "metadata": {},
   "outputs": [],
   "source": []
  }
 ],
 "metadata": {
  "kernelspec": {
   "display_name": "Python 3",
   "language": "python",
   "name": "python3"
  },
  "language_info": {
   "codemirror_mode": {
    "name": "ipython",
    "version": 3
   },
   "file_extension": ".py",
   "mimetype": "text/x-python",
   "name": "python",
   "nbconvert_exporter": "python",
   "pygments_lexer": "ipython3",
   "version": "3.7.4"
  }
 },
 "nbformat": 4,
 "nbformat_minor": 2
}
