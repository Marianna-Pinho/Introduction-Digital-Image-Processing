{
 "cells": [
  {
   "cell_type": "markdown",
   "metadata": {},
   "source": [
    "# <center> Trabalho 04 - Introdução ao Processamento de Imagem Digital </center>\n",
    "\n",
    "**Aluno(a):** Marianna de Pinho Severo <br>\n",
    "**RA:** 264960 <br>\n",
    "**Professor:** Hélio Pedrini"
   ]
  },
  {
   "cell_type": "markdown",
   "metadata": {},
   "source": [
    "### Passo 01: Importar bibliotecas"
   ]
  },
  {
   "cell_type": "code",
   "execution_count": 1,
   "metadata": {},
   "outputs": [],
   "source": [
    "%matplotlib inline\n",
    "import numpy as np\n",
    "import cv2 as cv\n",
    "import matplotlib.pyplot as plt\n",
    "import pandas as pd"
   ]
  },
  {
   "cell_type": "markdown",
   "metadata": {},
   "source": [
    "#### PBM\n",
    "http://netpbm.sourceforge.net/doc/pbm.html\n",
    "\n",
    "#### Morphological operations\n",
    "https://opencv-python-tutroals.readthedocs.io/en/latest/py_tutorials/py_imgproc/py_morphological_ops/py_morphological_ops.html\n",
    "\n",
    "#### Connected components\n",
    "https://stackoverflow.com/questions/46441893/connected-component-labeling-in-python"
   ]
  },
  {
   "cell_type": "markdown",
   "metadata": {},
   "source": [
    "### Passo 02: Definir funções auxiliares"
   ]
  },
  {
   "cell_type": "code",
   "execution_count": 2,
   "metadata": {},
   "outputs": [],
   "source": [
    "def print_image(image, color=0):\n",
    "    \n",
    "    plt.figure(figsize=(10,10))\n",
    "    \n",
    "    if not color:\n",
    "        plt.imshow(image, cmap='gray')\n",
    "    else:\n",
    "        plt.imshow(image)"
   ]
  },
  {
   "cell_type": "code",
   "execution_count": 3,
   "metadata": {},
   "outputs": [],
   "source": [
    "def imshow_components(labels): #Refereciar stack overflow\n",
    "    # Map component labels to hue val\n",
    "    label_hue = np.uint8(179*labels/np.max(labels))\n",
    "    blank_ch = 255*np.ones_like(label_hue)\n",
    "    labeled_img = cv.merge([label_hue, blank_ch, blank_ch])\n",
    "\n",
    "    # cvt to BGR for display\n",
    "    labeled_img = cv.cvtColor(labeled_img, cv.COLOR_HSV2BGR)\n",
    "\n",
    "    # set bg label to black\n",
    "    labeled_img[label_hue==0] = 0\n",
    "    \n",
    "    print_image(labeled_img)\n",
    "#     cv.imshow('labeled.png', labeled_img)\n",
    "#     cv.waitKey()"
   ]
  },
  {
   "cell_type": "code",
   "execution_count": 4,
   "metadata": {},
   "outputs": [],
   "source": [
    "def imshow_components_rectagles(labels, stats): #Refereciar stack overflow\n",
    "    # Map component labels to hue val\n",
    "    label_hue = np.uint8(179*labels/np.max(labels))\n",
    "    blank_ch = 255*np.ones_like(label_hue)\n",
    "    labeled_img = cv.merge([label_hue, blank_ch, blank_ch])\n",
    "\n",
    "    # cvt to BGR for display\n",
    "    labeled_img = cv.cvtColor(labeled_img, cv.COLOR_HSV2BGR)\n",
    "\n",
    "    # set bg label to black\n",
    "    labeled_img[label_hue==0] = 0\n",
    "    \n",
    "    for stat in stats:\n",
    "        cv.rectangle(labeled_img, (stat[0], stat[1]), (stat[0]+stat[2], stat[1]+stat[3]), (255, 255, 255), 3) \n",
    "    \n",
    "    \n",
    "    print_image(labeled_img)\n",
    "#     cv.imshow('labeled.png', labeled_img)\n",
    "#     cv.waitKey()"
   ]
  },
  {
   "cell_type": "code",
   "execution_count": 5,
   "metadata": {},
   "outputs": [],
   "source": [
    "def getBlackPixelsRate(image,stat,color=1): #Black is considered 1 and White is considered 0\n",
    "    init_x = stat[0]\n",
    "    init_y = stat[1]\n",
    "    dx = stat[2]\n",
    "    dy = stat[3]\n",
    "    \n",
    "    area = (dx)*(dy)\n",
    "    \n",
    "    aux_image = image[init_y: init_y+dy,init_x:init_x + dx]\n",
    "    aux_image = aux_image[aux_image == color]\n",
    "    \n",
    "    return len(aux_image)/area, len(aux_image), area"
   ]
  },
  {
   "cell_type": "code",
   "execution_count": 6,
   "metadata": {},
   "outputs": [],
   "source": [
    "def getTransitionsRate(image, stat, total_black): #Black is 1 and White is 0\n",
    "    \n",
    "    if total_black == 0:\n",
    "        return 0,0,0,0\n",
    "    \n",
    "    init_x = stat[0]\n",
    "    init_y = stat[1]\n",
    "    dx = stat[2]\n",
    "    dy = stat[3]\n",
    "    \n",
    "    hor_count = 0\n",
    "    ver_count = 0\n",
    "    \n",
    "    max_y = init_y+dy\n",
    "    max_x = init_x+dx\n",
    "    \n",
    "    for line in range(init_y, max_y):\n",
    "        for col in range(init_x, max_x):\n",
    "            north = line - 1\n",
    "            south = line + 1\n",
    "            west = col - 1\n",
    "            east = col + 1\n",
    "            \n",
    "            #left neighbor\n",
    "            if west >= 0 and (image[line, col] == 0 and image[line,west] == 1):\n",
    "                hor_count+=1\n",
    "                \n",
    "            # right neighbor\n",
    "            if east < max_x and (image[line, col] == 0 and image[line,east] == 1):\n",
    "                hor_count+=1\n",
    "                \n",
    "            #top neighbor\n",
    "            if north >= 0 and (image[line,col] == 0 and image[north, col] == 1):\n",
    "                ver_count+=1\n",
    "                \n",
    "            #bottom neighbor\n",
    "            if south < max_y and (image[line,col] == 0 and image[south, col] == 1):\n",
    "                ver_count+=1\n",
    "            \n",
    "    return (hor_count + ver_count)/total_black, hor_count, ver_count,total_black"
   ]
  },
  {
   "cell_type": "markdown",
   "metadata": {},
   "source": [
    "### Passo 03: Ler imagem\n",
    "\n",
    "A imagem que vamos usar neste projeto é do tipo *Portable Bitmap* (PBM). Dessa maneira, esperamos que os pixels do objeto (pixels pretos) sejam representados por valores iguais a 1 e os pixels do fundo (brancos) por valores iguais a 0.\n",
    "\n",
    "Quando lemos essa imagem utilizando o método **imread** do *opencv*, a imagem é lida no formato monocromático, o que significa que seus valores poderão apresentar valores no intervalo de 0 a 255. Como na imagem lida só existem dois valores diferentes de pixels (0 e 255) e os valores 0 são atribuídos aos objetos, enquanto os valores 255 são atribuídos ao fundo, faremos a negação dessa imagem e dividiremos as intensidades de seus pixels por 255, de maneira a obtermos um arranjo de pixels como o esperado para uma imagem do tipo PBM. "
   ]
  },
  {
   "cell_type": "code",
   "execution_count": 7,
   "metadata": {},
   "outputs": [
    {
     "data": {
      "text/plain": [
       "(1374, 2233)"
      ]
     },
     "execution_count": 7,
     "metadata": {},
     "output_type": "execute_result"
    }
   ],
   "source": [
    "image = cv.imread('input_images/bitmap.pbm',0)\n",
    "image = cv.bitwise_not(image)//255\n",
    "image.shape"
   ]
  },
  {
   "cell_type": "markdown",
   "metadata": {},
   "source": [
    "### Passo 04: Criar elementos estruturantes"
   ]
  },
  {
   "cell_type": "markdown",
   "metadata": {},
   "source": [
    "#### a) Elemento estruturante de 1 x 100"
   ]
  },
  {
   "cell_type": "code",
   "execution_count": 50,
   "metadata": {},
   "outputs": [
    {
     "data": {
      "text/plain": [
       "array([[1, 1, 1, 1, 1, 1, 1, 1, 1, 1, 1, 1, 1, 1, 1, 1, 1, 1, 1, 1, 1, 1,\n",
       "        1, 1, 1, 1, 1, 1, 1, 1, 1, 1, 1, 1, 1, 1, 1, 1, 1, 1, 1, 1, 1, 1,\n",
       "        1, 1, 1, 1, 1, 1]], dtype=uint8)"
      ]
     },
     "execution_count": 50,
     "metadata": {},
     "output_type": "execute_result"
    }
   ],
   "source": [
    "kernel1_30 = np.ones((1,50),np.uint8)\n",
    "kernel1_30"
   ]
  },
  {
   "cell_type": "markdown",
   "metadata": {},
   "source": [
    "#### b) Elemento estruturante de 200 x 1"
   ]
  },
  {
   "cell_type": "code",
   "execution_count": 51,
   "metadata": {},
   "outputs": [],
   "source": [
    "kernel50_1 = np.ones((50,1), np.uint8)"
   ]
  },
  {
   "cell_type": "markdown",
   "metadata": {},
   "source": [
    "#### c) Elemento estruturante de 1 x 30"
   ]
  },
  {
   "cell_type": "code",
   "execution_count": 52,
   "metadata": {},
   "outputs": [
    {
     "data": {
      "text/plain": [
       "array([[1, 1, 1, 1, 1, 1, 1, 1, 1, 1, 1, 1]], dtype=uint8)"
      ]
     },
     "execution_count": 52,
     "metadata": {},
     "output_type": "execute_result"
    }
   ],
   "source": [
    "kernel1_10 = np.ones((1,12), np.uint8)\n",
    "kernel1_10"
   ]
  },
  {
   "cell_type": "code",
   "execution_count": 53,
   "metadata": {},
   "outputs": [
    {
     "data": {
      "text/plain": [
       "array([[1],\n",
       "       [1]], dtype=uint8)"
      ]
     },
     "execution_count": 53,
     "metadata": {},
     "output_type": "execute_result"
    }
   ],
   "source": [
    "kernel1_5 = np.ones((2,1), np.uint8)\n",
    "kernel1_5"
   ]
  },
  {
   "cell_type": "markdown",
   "metadata": {},
   "source": [
    "### Passo 05: Aplicar etapas indicadas na descrição do trabalho"
   ]
  },
  {
   "cell_type": "markdown",
   "metadata": {},
   "source": [
    "#### Etapa 01: Aplicar dilatação na imagem original com elemento estruturante de 1 x 100"
   ]
  },
  {
   "cell_type": "code",
   "execution_count": 54,
   "metadata": {},
   "outputs": [],
   "source": [
    "image_p1 = cv.dilate(np.copy(image),kernel1_30)"
   ]
  },
  {
   "cell_type": "code",
   "execution_count": 55,
   "metadata": {},
   "outputs": [
    {
     "data": {
      "image/png": "[encoded data removed]",
      "text/plain": [
       "<Figure size 720x720 with 1 Axes>"
      ]
     },
     "metadata": {
      "needs_background": "light"
     },
     "output_type": "display_data"
    }
   ],
   "source": [
    "print_image(image_p1)"
   ]
  },
  {
   "cell_type": "markdown",
   "metadata": {},
   "source": [
    "#### Etapa 02: Aplicar erosão na imagem da etapa 1 com elemento estruturante de 1 x 100"
   ]
  },
  {
   "cell_type": "code",
   "execution_count": 56,
   "metadata": {},
   "outputs": [],
   "source": [
    "image_p2 = cv.erode(np.copy(image_p1),kernel1_30)"
   ]
  },
  {
   "cell_type": "code",
   "execution_count": 57,
   "metadata": {},
   "outputs": [
    {
     "data": {
      "image/png": "[encoded data removed]",
      "text/plain": [
       "<Figure size 720x720 with 1 Axes>"
      ]
     },
     "metadata": {
      "needs_background": "light"
     },
     "output_type": "display_data"
    }
   ],
   "source": [
    "print_image(image_p2)"
   ]
  },
  {
   "cell_type": "markdown",
   "metadata": {},
   "source": [
    "#### Etapa 03: Aplicar dilatação na imagem original com elemento estruturante de 200 x 1"
   ]
  },
  {
   "cell_type": "code",
   "execution_count": 58,
   "metadata": {},
   "outputs": [],
   "source": [
    "image_p3 = cv.dilate(np.copy(image),kernel50_1)"
   ]
  },
  {
   "cell_type": "code",
   "execution_count": 59,
   "metadata": {},
   "outputs": [
    {
     "data": {
      "image/png": "[encoded data removed]",
      "text/plain": [
       "<Figure size 720x720 with 1 Axes>"
      ]
     },
     "metadata": {
      "needs_background": "light"
     },
     "output_type": "display_data"
    }
   ],
   "source": [
    "print_image(image_p3)"
   ]
  },
  {
   "cell_type": "markdown",
   "metadata": {},
   "source": [
    "#### Etapa 04: Aplicar erosão na imagem da etapa 3 com elemento estruturante de 200 x 1"
   ]
  },
  {
   "cell_type": "code",
   "execution_count": 60,
   "metadata": {},
   "outputs": [],
   "source": [
    "image_p4 = cv.erode(np.copy(image_p3),kernel50_1)"
   ]
  },
  {
   "cell_type": "code",
   "execution_count": 61,
   "metadata": {},
   "outputs": [
    {
     "data": {
      "image/png": "[encoded data removed]",
      "text/plain": [
       "<Figure size 720x720 with 1 Axes>"
      ]
     },
     "metadata": {
      "needs_background": "light"
     },
     "output_type": "display_data"
    }
   ],
   "source": [
    "print_image(image_p4)"
   ]
  },
  {
   "cell_type": "markdown",
   "metadata": {},
   "source": [
    "#### Etapa 05: Fazer intersecção das imagens produzidas nas etapas 2 e 4"
   ]
  },
  {
   "cell_type": "code",
   "execution_count": 62,
   "metadata": {},
   "outputs": [],
   "source": [
    "image_p5 = cv.bitwise_and(image_p2, image_p4)"
   ]
  },
  {
   "cell_type": "code",
   "execution_count": 63,
   "metadata": {},
   "outputs": [
    {
     "data": {
      "image/png": "[encoded data removed]",
      "text/plain": [
       "<Figure size 720x720 with 1 Axes>"
      ]
     },
     "metadata": {
      "needs_background": "light"
     },
     "output_type": "display_data"
    }
   ],
   "source": [
    "print_image(image_p5)"
   ]
  },
  {
   "cell_type": "markdown",
   "metadata": {},
   "source": [
    "#### Etapa 06: Aplicar fechamento na imagem da etapa 5 com elemento estruturante de 1 x 30"
   ]
  },
  {
   "cell_type": "code",
   "execution_count": 64,
   "metadata": {},
   "outputs": [],
   "source": [
    "image_p6 = cv.morphologyEx(image_p5, cv.MORPH_CLOSE, kernel1_10)"
   ]
  },
  {
   "cell_type": "code",
   "execution_count": 65,
   "metadata": {},
   "outputs": [
    {
     "data": {
      "image/png": "[encoded data removed]",
      "text/plain": [
       "<Figure size 720x720 with 1 Axes>"
      ]
     },
     "metadata": {
      "needs_background": "light"
     },
     "output_type": "display_data"
    }
   ],
   "source": [
    "print_image(image_p6)"
   ]
  },
  {
   "cell_type": "code",
   "execution_count": 66,
   "metadata": {},
   "outputs": [],
   "source": [
    "image_p6 = cv.morphologyEx(image_p6, cv.MORPH_OPEN, kernel1_5)"
   ]
  },
  {
   "cell_type": "code",
   "execution_count": 67,
   "metadata": {},
   "outputs": [
    {
     "data": {
      "image/png": "[encoded data removed]",
      "text/plain": [
       "<Figure size 720x720 with 1 Axes>"
      ]
     },
     "metadata": {
      "needs_background": "light"
     },
     "output_type": "display_data"
    }
   ],
   "source": [
    "print_image(image_p6)"
   ]
  },
  {
   "cell_type": "markdown",
   "metadata": {},
   "source": [
    "#### Etapa 07: Identificação de componentes conexos na imagem da etapa 06"
   ]
  },
  {
   "cell_type": "code",
   "execution_count": 68,
   "metadata": {},
   "outputs": [],
   "source": [
    "number_of_labels, image_labels, stats, centroids = cv.connectedComponentsWithStats(image_p6)"
   ]
  },
  {
   "cell_type": "code",
   "execution_count": 69,
   "metadata": {},
   "outputs": [
    {
     "name": "stdout",
     "output_type": "stream",
     "text": [
      "288\n"
     ]
    }
   ],
   "source": [
    "print(number_of_labels)"
   ]
  },
  {
   "cell_type": "code",
   "execution_count": 70,
   "metadata": {},
   "outputs": [
    {
     "data": {
      "image/png": "[encoded data removed]",
      "text/plain": [
       "<Figure size 720x720 with 1 Axes>"
      ]
     },
     "metadata": {
      "needs_background": "light"
     },
     "output_type": "display_data"
    }
   ],
   "source": [
    "imshow_components(np.copy(image_labels))"
   ]
  },
  {
   "cell_type": "code",
   "execution_count": 71,
   "metadata": {},
   "outputs": [
    {
     "data": {
      "image/png": "[encoded data removed]",
      "text/plain": [
       "<Figure size 720x720 with 1 Axes>"
      ]
     },
     "metadata": {
      "needs_background": "light"
     },
     "output_type": "display_data"
    }
   ],
   "source": [
    "imshow_components_rectagles(np.copy(image_labels),stats)"
   ]
  },
  {
   "cell_type": "markdown",
   "metadata": {},
   "source": [
    "#### Etapa 8: calcular razões para os componentes conexos obtidos na etapa 7"
   ]
  },
  {
   "cell_type": "markdown",
   "metadata": {},
   "source": [
    "##### a) Calcular razão entre o número de pixels pretos e o número total de pixels, para cada retângulo envolvendo um componente conexo"
   ]
  },
  {
   "cell_type": "code",
   "execution_count": 72,
   "metadata": {},
   "outputs": [],
   "source": [
    "black_pixels_ratios={}\n",
    "black_pixels_amount = {}\n",
    "component_area = {}"
   ]
  },
  {
   "cell_type": "code",
   "execution_count": 73,
   "metadata": {},
   "outputs": [],
   "source": [
    "for label, stat in zip(range(number_of_labels),stats):\n",
    "    black_pixels_ratios[label], black_pixels_amount[label], component_area[label] = getBlackPixelsRate(np.copy(image_p6),stat)"
   ]
  },
  {
   "cell_type": "code",
   "execution_count": 74,
   "metadata": {
    "scrolled": true
   },
   "outputs": [
    {
     "name": "stdout",
     "output_type": "stream",
     "text": [
      "Componente:0 | Ratio:0.2287645095957097 | Blacks:701882 | Area:3068142\n",
      "Componente:1 | Ratio:0.9375211077338736 | Blacks:2776 | Area:2961\n",
      "Componente:2 | Ratio:0.8737704918032787 | Blacks:1066 | Area:1220\n",
      "Componente:3 | Ratio:0.740650406504065 | Blacks:3644 | Area:4920\n",
      "Componente:4 | Ratio:0.7204545454545455 | Blacks:951 | Area:1320\n",
      "Componente:5 | Ratio:0.35912698412698413 | Blacks:181 | Area:504\n",
      "Componente:6 | Ratio:0.8447916666666667 | Blacks:811 | Area:960\n",
      "Componente:7 | Ratio:0.48412698412698413 | Blacks:244 | Area:504\n",
      "Componente:8 | Ratio:0.9641812865497076 | Blacks:1319 | Area:1368\n",
      "Componente:9 | Ratio:0.9203109815354713 | Blacks:947 | Area:1029\n",
      "Componente:10 | Ratio:0.8993751346692523 | Blacks:4174 | Area:4641\n",
      "Componente:11 | Ratio:0.9 | Blacks:720 | Area:800\n",
      "Componente:12 | Ratio:0.9262295081967213 | Blacks:1130 | Area:1220\n",
      "Componente:13 | Ratio:0.85 | Blacks:697 | Area:820\n",
      "Componente:14 | Ratio:0.9807886217693573 | Blacks:314177 | Area:320331\n",
      "Componente:15 | Ratio:0.6774712643678161 | Blacks:2947 | Area:4350\n",
      "Componente:16 | Ratio:0.76 | Blacks:19 | Area:25\n",
      "Componente:17 | Ratio:0.7310807683406619 | Blacks:3159 | Area:4321\n",
      "Componente:18 | Ratio:0.875 | Blacks:14 | Area:16\n",
      "Componente:19 | Ratio:0.8125 | Blacks:13 | Area:16\n",
      "Componente:20 | Ratio:0.679427235534775 | Blacks:2325 | Area:3422\n",
      "Componente:21 | Ratio:0.9166666666666666 | Blacks:11 | Area:12\n",
      "Componente:22 | Ratio:0.7152961980548187 | Blacks:1618 | Area:2262\n",
      "Componente:23 | Ratio:0.6841269841269841 | Blacks:1724 | Area:2520\n",
      "Componente:24 | Ratio:0.8237179487179487 | Blacks:1028 | Area:1248\n",
      "Componente:25 | Ratio:0.9288461538461539 | Blacks:483 | Area:520\n",
      "Componente:26 | Ratio:0.9206896551724137 | Blacks:534 | Area:580\n",
      "Componente:27 | Ratio:0.7638888888888888 | Blacks:275 | Area:360\n",
      "Componente:28 | Ratio:0.6993087557603687 | Blacks:2428 | Area:3472\n",
      "Componente:29 | Ratio:0.725 | Blacks:1566 | Area:2160\n",
      "Componente:30 | Ratio:0.84 | Blacks:21 | Area:25\n",
      "Componente:31 | Ratio:0.9 | Blacks:18 | Area:20\n",
      "Componente:32 | Ratio:0.6947916666666667 | Blacks:2001 | Area:2880\n",
      "Componente:33 | Ratio:0.7362797474502185 | Blacks:1516 | Area:2059\n",
      "Componente:34 | Ratio:0.8 | Blacks:20 | Area:25\n",
      "Componente:35 | Ratio:0.5439005439005439 | Blacks:2800 | Area:5148\n",
      "Componente:36 | Ratio:0.6791208791208792 | Blacks:1854 | Area:2730\n",
      "Componente:37 | Ratio:0.7881773399014779 | Blacks:1440 | Area:1827\n",
      "Componente:38 | Ratio:0.622093023255814 | Blacks:3638 | Area:5848\n",
      "Componente:39 | Ratio:0.9698412698412698 | Blacks:611 | Area:630\n",
      "Componente:40 | Ratio:0.8571428571428571 | Blacks:306 | Area:357\n",
      "Componente:41 | Ratio:0.9459241323648103 | Blacks:1172 | Area:1239\n",
      "Componente:42 | Ratio:0.6194331983805668 | Blacks:612 | Area:988\n",
      "Componente:43 | Ratio:0.8 | Blacks:92 | Area:115\n",
      "Componente:44 | Ratio:0.6562847608453838 | Blacks:1770 | Area:2697\n",
      "Componente:45 | Ratio:0.6585397316821465 | Blacks:5105 | Area:7752\n",
      "Componente:46 | Ratio:0.783668903803132 | Blacks:3503 | Area:4470\n",
      "Componente:47 | Ratio:0.9256756756756757 | Blacks:1781 | Area:1924\n",
      "Componente:48 | Ratio:0.851010101010101 | Blacks:337 | Area:396\n",
      "Componente:49 | Ratio:0.9945054945054945 | Blacks:543 | Area:546\n",
      "Componente:50 | Ratio:0.7634920634920634 | Blacks:1924 | Area:2520\n",
      "Componente:51 | Ratio:0.8333333333333334 | Blacks:25 | Area:30\n",
      "Componente:52 | Ratio:0.633087633087633 | Blacks:773 | Area:1221\n",
      "Componente:53 | Ratio:0.8045584045584045 | Blacks:2824 | Area:3510\n",
      "Componente:54 | Ratio:0.8134259259259259 | Blacks:1757 | Area:2160\n",
      "Componente:55 | Ratio:0.68 | Blacks:17 | Area:25\n",
      "Componente:56 | Ratio:0.7021072796934866 | Blacks:733 | Area:1044\n",
      "Componente:57 | Ratio:0.5517188926072406 | Blacks:3627 | Area:6574\n",
      "Componente:58 | Ratio:0.9 | Blacks:18 | Area:20\n",
      "Componente:59 | Ratio:0.6751724137931034 | Blacks:979 | Area:1450\n",
      "Componente:60 | Ratio:0.8177777777777778 | Blacks:920 | Area:1125\n",
      "Componente:61 | Ratio:0.7949074074074074 | Blacks:1717 | Area:2160\n",
      "Componente:62 | Ratio:0.9395604395604396 | Blacks:513 | Area:546\n",
      "Componente:63 | Ratio:1.0 | Blacks:340 | Area:340\n",
      "Componente:64 | Ratio:0.9 | Blacks:18 | Area:20\n",
      "Componente:65 | Ratio:0.593421052631579 | Blacks:902 | Area:1520\n",
      "Componente:66 | Ratio:0.7106666666666667 | Blacks:1066 | Area:1500\n",
      "Componente:67 | Ratio:0.9 | Blacks:18 | Area:20\n",
      "Componente:68 | Ratio:0.6537037037037037 | Blacks:706 | Area:1080\n",
      "Componente:69 | Ratio:0.7233333333333334 | Blacks:1085 | Area:1500\n",
      "Componente:70 | Ratio:0.603865859338612 | Blacks:2593 | Area:4294\n",
      "Componente:71 | Ratio:0.8333333333333334 | Blacks:25 | Area:30\n",
      "Componente:72 | Ratio:0.6776190476190476 | Blacks:2846 | Area:4200\n",
      "Componente:73 | Ratio:0.9 | Blacks:18 | Area:20\n",
      "Componente:74 | Ratio:0.5584436551501453 | Blacks:3459 | Area:6194\n",
      "Componente:75 | Ratio:0.784952380952381 | Blacks:4121 | Area:5250\n",
      "Componente:76 | Ratio:0.9954545454545455 | Blacks:657 | Area:660\n",
      "Componente:77 | Ratio:0.85 | Blacks:17 | Area:20\n",
      "Componente:78 | Ratio:0.8540229885057471 | Blacks:743 | Area:870\n",
      "Componente:79 | Ratio:0.7769331585845347 | Blacks:2964 | Area:3815\n",
      "Componente:80 | Ratio:0.784 | Blacks:1176 | Area:1500\n",
      "Componente:81 | Ratio:0.80990990990991 | Blacks:899 | Area:1110\n",
      "Componente:82 | Ratio:0.7 | Blacks:14 | Area:20\n",
      "Componente:83 | Ratio:0.911665257819104 | Blacks:2157 | Area:2366\n",
      "Componente:84 | Ratio:0.5294117647058824 | Blacks:1638 | Area:3094\n",
      "Componente:85 | Ratio:0.8664772727272727 | Blacks:915 | Area:1056\n",
      "Componente:86 | Ratio:0.9437229437229437 | Blacks:2398 | Area:2541\n",
      "Componente:87 | Ratio:1.0 | Blacks:1071 | Area:1071\n",
      "Componente:88 | Ratio:0.9673076923076923 | Blacks:503 | Area:520\n",
      "Componente:89 | Ratio:0.9842490842490842 | Blacks:2687 | Area:2730\n",
      "Componente:90 | Ratio:0.9448529411764706 | Blacks:1285 | Area:1360\n",
      "Componente:91 | Ratio:0.779959100204499 | Blacks:3814 | Area:4890\n",
      "Componente:92 | Ratio:0.88 | Blacks:22 | Area:25\n",
      "Componente:93 | Ratio:0.6864686468646864 | Blacks:2080 | Area:3030\n",
      "Componente:94 | Ratio:0.7489655172413793 | Blacks:1086 | Area:1450\n",
      "Componente:95 | Ratio:0.8 | Blacks:20 | Area:25\n",
      "Componente:96 | Ratio:0.5250904514708196 | Blacks:3338 | Area:6357\n",
      "Componente:97 | Ratio:0.5651315789473684 | Blacks:859 | Area:1520\n",
      "Componente:98 | Ratio:0.7437457741717377 | Blacks:1100 | Area:1479\n",
      "Componente:99 | Ratio:0.7391304347826086 | Blacks:2856 | Area:3864\n",
      "Componente:100 | Ratio:0.775483870967742 | Blacks:601 | Area:775\n",
      "Componente:101 | Ratio:0.9445316588173731 | Blacks:1805 | Area:1911\n",
      "Componente:102 | Ratio:1.0 | Blacks:660 | Area:660\n",
      "Componente:103 | Ratio:0.5690269994905757 | Blacks:3351 | Area:5889\n",
      "Componente:104 | Ratio:0.8555555555555555 | Blacks:693 | Area:810\n",
      "Componente:105 | Ratio:0.5915750915750916 | Blacks:2907 | Area:4914\n",
      "Componente:106 | Ratio:0.6481481481481481 | Blacks:700 | Area:1080\n",
      "Componente:107 | Ratio:0.6097145849698874 | Blacks:4657 | Area:7638\n",
      "Componente:108 | Ratio:0.9783783783783784 | Blacks:181 | Area:185\n",
      "Componente:109 | Ratio:0.7266666666666667 | Blacks:1090 | Area:1500\n",
      "Componente:110 | Ratio:0.7621878715814506 | Blacks:1282 | Area:1682\n",
      "Componente:111 | Ratio:0.9239592183517417 | Blacks:2175 | Area:2354\n",
      "Componente:112 | Ratio:0.9534714649218466 | Blacks:2623 | Area:2751\n",
      "Componente:113 | Ratio:0.9047619047619048 | Blacks:342 | Area:378\n",
      "Componente:114 | Ratio:0.6477419354838709 | Blacks:1004 | Area:1550\n",
      "Componente:115 | Ratio:0.6189125295508274 | Blacks:2618 | Area:4230\n",
      "Componente:116 | Ratio:0.7284382284382285 | Blacks:3125 | Area:4290\n",
      "Componente:117 | Ratio:0.7000871839581517 | Blacks:803 | Area:1147\n",
      "Componente:118 | Ratio:0.5919540229885057 | Blacks:2678 | Area:4524\n",
      "Componente:119 | Ratio:0.84 | Blacks:21 | Area:25\n",
      "Componente:120 | Ratio:0.7366666666666667 | Blacks:1105 | Area:1500\n",
      "Componente:121 | Ratio:0.92 | Blacks:23 | Area:25\n",
      "Componente:122 | Ratio:0.781127129750983 | Blacks:2980 | Area:3815\n",
      "Componente:123 | Ratio:0.7657407407407407 | Blacks:1654 | Area:2160\n",
      "Componente:124 | Ratio:0.9412698412698413 | Blacks:593 | Area:630\n",
      "Componente:125 | Ratio:0.9485514485514486 | Blacks:1899 | Area:2002\n",
      "Componente:126 | Ratio:1.0 | Blacks:546 | Area:546\n",
      "Componente:127 | Ratio:0.775 | Blacks:837 | Area:1080\n",
      "Componente:128 | Ratio:0.7433333333333333 | Blacks:1338 | Area:1800\n",
      "Componente:129 | Ratio:0.7101584342963654 | Blacks:762 | Area:1073\n",
      "Componente:130 | Ratio:0.5694857628559286 | Blacks:4020 | Area:7059\n",
      "Componente:131 | Ratio:0.8027649769585253 | Blacks:871 | Area:1085\n",
      "Componente:132 | Ratio:0.7363636363636363 | Blacks:1701 | Area:2310\n",
      "Componente:133 | Ratio:0.6215451215451215 | Blacks:3733 | Area:6006\n",
      "Componente:134 | Ratio:0.8002481389578163 | Blacks:645 | Area:806\n",
      "Componente:135 | Ratio:0.8187984496124031 | Blacks:845 | Area:1032\n",
      "Componente:136 | Ratio:0.7248366013071895 | Blacks:2218 | Area:3060\n",
      "Componente:137 | Ratio:0.9601731601731601 | Blacks:1109 | Area:1155\n",
      "Componente:138 | Ratio:0.5713615023474179 | Blacks:2434 | Area:4260\n",
      "Componente:139 | Ratio:0.6870056497175141 | Blacks:1216 | Area:1770\n",
      "Componente:140 | Ratio:0.4145918493744581 | Blacks:3347 | Area:8073\n",
      "Componente:141 | Ratio:0.7220360284876414 | Blacks:3447 | Area:4774\n",
      "Componente:142 | Ratio:0.7227513227513227 | Blacks:1366 | Area:1890\n",
      "Componente:143 | Ratio:0.7036496350364964 | Blacks:2892 | Area:4110\n",
      "Componente:144 | Ratio:0.8717592592592592 | Blacks:1883 | Area:2160\n",
      "Componente:145 | Ratio:0.7351724137931035 | Blacks:1066 | Area:1450\n",
      "Componente:146 | Ratio:0.6827188940092166 | Blacks:2963 | Area:4340\n",
      "Componente:147 | Ratio:0.6675675675675675 | Blacks:741 | Area:1110\n",
      "Componente:148 | Ratio:0.7526666666666667 | Blacks:1129 | Area:1500\n",
      "Componente:149 | Ratio:0.8877272727272727 | Blacks:1953 | Area:2200\n",
      "Componente:150 | Ratio:0.8383010432190761 | Blacks:1125 | Area:1342\n",
      "Componente:151 | Ratio:0.5045454545454545 | Blacks:111 | Area:220\n",
      "Componente:152 | Ratio:0.7943805874840357 | Blacks:622 | Area:783\n",
      "Componente:153 | Ratio:0.7311217808817111 | Blacks:1675 | Area:2291\n",
      "Componente:154 | Ratio:0.6875 | Blacks:11 | Area:16\n",
      "Componente:155 | Ratio:0.6875 | Blacks:11 | Area:16\n",
      "Componente:156 | Ratio:0.6816109422492401 | Blacks:897 | Area:1316\n",
      "Componente:157 | Ratio:0.5447427293064877 | Blacks:2922 | Area:5364\n",
      "Componente:158 | Ratio:0.85 | Blacks:17 | Area:20\n",
      "Componente:159 | Ratio:0.06243618878239963 | Blacks:7583 | Area:121452\n",
      "Componente:160 | Ratio:0.5695819581958196 | Blacks:2071 | Area:3636\n",
      "Componente:161 | Ratio:0.7624602332979852 | Blacks:2157 | Area:2829\n",
      "Componente:162 | Ratio:0.8928571428571429 | Blacks:875 | Area:980\n",
      "Componente:163 | Ratio:0.8844827586206897 | Blacks:513 | Area:580\n",
      "Componente:164 | Ratio:0.3625 | Blacks:580 | Area:1600\n",
      "Componente:165 | Ratio:0.8471428571428572 | Blacks:593 | Area:700\n",
      "Componente:166 | Ratio:0.9722222222222222 | Blacks:665 | Area:684\n",
      "Componente:167 | Ratio:0.4473684210526316 | Blacks:85 | Area:190\n",
      "Componente:168 | Ratio:0.5721023036459278 | Blacks:3154 | Area:5513\n",
      "Componente:169 | Ratio:0.7119140625 | Blacks:2187 | Area:3072\n",
      "Componente:170 | Ratio:0.12251851851851851 | Blacks:827 | Area:6750\n",
      "Componente:171 | Ratio:0.826530612244898 | Blacks:648 | Area:784\n",
      "Componente:172 | Ratio:0.7745535714285714 | Blacks:1735 | Area:2240\n",
      "Componente:173 | Ratio:0.5783169533169533 | Blacks:1883 | Area:3256\n",
      "Componente:174 | Ratio:0.8125 | Blacks:13 | Area:16\n",
      "Componente:175 | Ratio:0.7226162332545312 | Blacks:917 | Area:1269\n",
      "Componente:176 | Ratio:0.557979120059657 | Blacks:2993 | Area:5364\n",
      "Componente:177 | Ratio:0.9333333333333333 | Blacks:14 | Area:15\n",
      "Componente:178 | Ratio:0.731829573934837 | Blacks:1168 | Area:1596\n",
      "Componente:179 | Ratio:0.5389957264957265 | Blacks:3027 | Area:5616\n",
      "Componente:180 | Ratio:0.9375 | Blacks:15 | Area:16\n",
      "Componente:181 | Ratio:0.9815789473684211 | Blacks:746 | Area:760\n",
      "Componente:182 | Ratio:0.9314814814814815 | Blacks:503 | Area:540\n",
      "Componente:183 | Ratio:0.509375 | Blacks:815 | Area:1600\n",
      "Componente:184 | Ratio:0.7467105263157895 | Blacks:227 | Area:304\n",
      "Componente:185 | Ratio:0.75 | Blacks:36 | Area:48\n",
      "Componente:186 | Ratio:0.6283134844410296 | Blacks:3271 | Area:5206\n",
      "Componente:187 | Ratio:0.7607407407407407 | Blacks:2054 | Area:2700\n",
      "Componente:188 | Ratio:0.6097560975609756 | Blacks:875 | Area:1435\n",
      "Componente:189 | Ratio:0.12589928057553956 | Blacks:700 | Area:5560\n",
      "Componente:190 | Ratio:0.8877551020408163 | Blacks:696 | Area:784\n",
      "Componente:191 | Ratio:0.7626582278481012 | Blacks:1687 | Area:2212\n",
      "Componente:192 | Ratio:0.7303822937625755 | Blacks:1452 | Area:1988\n",
      "Componente:193 | Ratio:0.8125 | Blacks:13 | Area:16\n",
      "Componente:194 | Ratio:0.6773817843000233 | Blacks:2908 | Area:4293\n",
      "Componente:195 | Ratio:0.8 | Blacks:16 | Area:20\n",
      "Componente:196 | Ratio:0.6569264069264069 | Blacks:1214 | Area:1848\n",
      "Componente:197 | Ratio:0.5622710622710623 | Blacks:3684 | Area:6552\n",
      "Componente:198 | Ratio:0.8518518518518519 | Blacks:552 | Area:648\n",
      "Componente:199 | Ratio:0.2807017543859649 | Blacks:64 | Area:228\n",
      "Componente:200 | Ratio:0.7361827560795873 | Blacks:999 | Area:1357\n",
      "Componente:201 | Ratio:0.7748320961470484 | Blacks:2192 | Area:2829\n",
      "Componente:202 | Ratio:0.9653061224489796 | Blacks:946 | Area:980\n",
      "Componente:203 | Ratio:0.6398831263696129 | Blacks:1752 | Area:2738\n",
      "Componente:204 | Ratio:0.7087482219061166 | Blacks:1993 | Area:2812\n",
      "Componente:205 | Ratio:0.6071428571428571 | Blacks:850 | Area:1400\n",
      "Componente:206 | Ratio:0.8842857142857142 | Blacks:619 | Area:700\n",
      "Componente:207 | Ratio:0.9027093596059114 | Blacks:733 | Area:812\n",
      "Componente:208 | Ratio:0.7379310344827587 | Blacks:1712 | Area:2320\n",
      "Componente:209 | Ratio:0.75 | Blacks:15 | Area:20\n",
      "Componente:210 | Ratio:0.7127442403032954 | Blacks:2444 | Area:3429\n",
      "Componente:211 | Ratio:0.5171356923934244 | Blacks:1856 | Area:3589\n",
      "Componente:212 | Ratio:0.8333333333333334 | Blacks:10 | Area:12\n",
      "Componente:213 | Ratio:0.6777950310559007 | Blacks:873 | Area:1288\n",
      "Componente:214 | Ratio:0.526381129733085 | Blacks:3392 | Area:6444\n",
      "Componente:215 | Ratio:0.9 | Blacks:18 | Area:20\n",
      "Componente:216 | Ratio:0.5277777777777778 | Blacks:95 | Area:180\n",
      "Componente:217 | Ratio:0.9666666666666667 | Blacks:464 | Area:480\n",
      "Componente:218 | Ratio:0.883982683982684 | Blacks:1021 | Area:1155\n",
      "Componente:219 | Ratio:0.8390092879256966 | Blacks:542 | Area:646\n",
      "Componente:220 | Ratio:0.9499675113710201 | Blacks:1462 | Area:1539\n",
      "Componente:221 | Ratio:0.8862068965517241 | Blacks:514 | Area:580\n",
      "Componente:222 | Ratio:0.6319554848966613 | Blacks:3180 | Area:5032\n",
      "Componente:223 | Ratio:0.7833333333333333 | Blacks:2115 | Area:2700\n",
      "Componente:224 | Ratio:0.5651260504201681 | Blacks:807 | Area:1428\n",
      "Componente:225 | Ratio:0.7464503042596349 | Blacks:1472 | Area:1972\n",
      "Componente:226 | Ratio:0.8125 | Blacks:13 | Area:16\n",
      "Componente:227 | Ratio:0.6766091051805337 | Blacks:1724 | Area:2548\n",
      "Componente:228 | Ratio:0.5165165165165165 | Blacks:688 | Area:1332\n",
      "Componente:229 | Ratio:0.7131599684791174 | Blacks:905 | Area:1269\n",
      "Componente:230 | Ratio:0.5506285714285715 | Blacks:2409 | Area:4375\n",
      "Componente:231 | Ratio:0.8 | Blacks:20 | Area:25\n",
      "Componente:232 | Ratio:0.6754201680672269 | Blacks:643 | Area:952\n",
      "Componente:233 | Ratio:0.6922492401215805 | Blacks:911 | Area:1316\n",
      "Componente:234 | Ratio:0.4772727272727273 | Blacks:105 | Area:220\n",
      "Componente:235 | Ratio:0.7193121693121693 | Blacks:2719 | Area:3780\n",
      "Componente:236 | Ratio:0.6559714795008913 | Blacks:2944 | Area:4488\n",
      "Componente:237 | Ratio:0.8491570541259982 | Blacks:957 | Area:1127\n",
      "Componente:238 | Ratio:0.99375 | Blacks:477 | Area:480\n",
      "Componente:239 | Ratio:0.6886699507389162 | Blacks:699 | Area:1015\n",
      "Componente:240 | Ratio:0.7959770114942529 | Blacks:1108 | Area:1392\n",
      "Componente:241 | Ratio:0.7017916793197692 | Blacks:2311 | Area:3293\n",
      "Componente:242 | Ratio:0.8414285714285714 | Blacks:1178 | Area:1400\n",
      "Componente:243 | Ratio:0.5795303500221533 | Blacks:2616 | Area:4514\n",
      "Componente:244 | Ratio:0.5482625482625483 | Blacks:2556 | Area:4662\n",
      "Componente:245 | Ratio:1.0 | Blacks:128 | Area:128\n",
      "Componente:246 | Ratio:0.6530797101449275 | Blacks:721 | Area:1104\n",
      "Componente:247 | Ratio:0.6955128205128205 | Blacks:651 | Area:936\n",
      "Componente:248 | Ratio:0.5140916808149406 | Blacks:3028 | Area:5890\n",
      "Componente:249 | Ratio:0.8601769911504424 | Blacks:2430 | Area:2825\n",
      "Componente:250 | Ratio:0.6257763975155279 | Blacks:403 | Area:644\n",
      "Componente:251 | Ratio:0.9099326599326599 | Blacks:4324 | Area:4752\n",
      "Componente:252 | Ratio:0.5535947712418301 | Blacks:847 | Area:1530\n",
      "Componente:253 | Ratio:0.3927272727272727 | Blacks:216 | Area:550\n",
      "Componente:254 | Ratio:0.5747126436781609 | Blacks:1400 | Area:2436\n",
      "Componente:255 | Ratio:0.8888888888888888 | Blacks:8 | Area:9\n",
      "Componente:256 | Ratio:0.9262152777777778 | Blacks:1067 | Area:1152\n",
      "Componente:257 | Ratio:0.7130434782608696 | Blacks:1312 | Area:1840\n",
      "Componente:258 | Ratio:0.9724137931034482 | Blacks:423 | Area:435\n",
      "Componente:259 | Ratio:0.5503303536727555 | Blacks:1416 | Area:2573\n",
      "Componente:260 | Ratio:0.5752082312591866 | Blacks:3522 | Area:6123\n",
      "Componente:261 | Ratio:0.809095452273863 | Blacks:1619 | Area:2001\n",
      "Componente:262 | Ratio:0.7527512839325018 | Blacks:1026 | Area:1363\n",
      "Componente:263 | Ratio:0.5402530189764232 | Blacks:1879 | Area:3478\n",
      "Componente:264 | Ratio:0.6591836734693878 | Blacks:646 | Area:980\n",
      "Componente:265 | Ratio:0.7945707997065297 | Blacks:1083 | Area:1363\n",
      "Componente:266 | Ratio:0.5966435185185185 | Blacks:2062 | Area:3456\n",
      "Componente:267 | Ratio:0.6809732094040459 | Blacks:2491 | Area:3658\n",
      "Componente:268 | Ratio:1.0 | Blacks:2 | Area:2\n",
      "Componente:269 | Ratio:0.5181660899653979 | Blacks:1198 | Area:2312\n",
      "Componente:270 | Ratio:0.8452380952380952 | Blacks:497 | Area:588\n",
      "Componente:271 | Ratio:0.9714285714285714 | Blacks:34 | Area:35\n",
      "Componente:272 | Ratio:0.808531746031746 | Blacks:3260 | Area:4032\n",
      "Componente:273 | Ratio:0.71412680756396 | Blacks:1926 | Area:2697\n",
      "Componente:274 | Ratio:0.9 | Blacks:18 | Area:20\n",
      "Componente:275 | Ratio:0.9 | Blacks:18 | Area:20\n",
      "Componente:276 | Ratio:0.8676900584795322 | Blacks:2374 | Area:2736\n",
      "Componente:277 | Ratio:0.5950757575757576 | Blacks:1571 | Area:2640\n",
      "Componente:278 | Ratio:1.0 | Blacks:456 | Area:456\n",
      "Componente:279 | Ratio:0.9040247678018576 | Blacks:292 | Area:323\n",
      "Componente:280 | Ratio:0.8931888544891641 | Blacks:577 | Area:646\n",
      "Componente:281 | Ratio:1.0 | Blacks:304 | Area:304\n",
      "Componente:282 | Ratio:0.9956140350877193 | Blacks:454 | Area:456\n",
      "Componente:283 | Ratio:0.7573891625615764 | Blacks:3075 | Area:4060\n",
      "Componente:284 | Ratio:0.7804232804232805 | Blacks:1180 | Area:1512\n",
      "Componente:285 | Ratio:0.6142109851787271 | Blacks:1409 | Area:2294\n",
      "Componente:286 | Ratio:0.5687830687830688 | Blacks:430 | Area:756\n",
      "Componente:287 | Ratio:0.8966666666666666 | Blacks:538 | Area:600\n"
     ]
    }
   ],
   "source": [
    "for label in black_pixels_ratios:\n",
    "    print('Componente:{} | Ratio:{} | Blacks:{} | Area:{}'.format(label,black_pixels_ratios[label], black_pixels_amount[label], component_area[label]))"
   ]
  },
  {
   "cell_type": "code",
   "execution_count": 75,
   "metadata": {},
   "outputs": [],
   "source": [
    "# np.sort(list(black_pixels_ratios.values()))"
   ]
  },
  {
   "cell_type": "markdown",
   "metadata": {},
   "source": [
    "##### b) Razão entre o número de transições de branco para preto e o número de pixels pretos, para cada retângulo envolvendo um componente conexo"
   ]
  },
  {
   "cell_type": "code",
   "execution_count": 76,
   "metadata": {},
   "outputs": [],
   "source": [
    "transition_ratios={}\n",
    "hor_tran_amount = {}\n",
    "ver_tran_amount = {}\n",
    "total_black_amount = {}"
   ]
  },
  {
   "cell_type": "code",
   "execution_count": 77,
   "metadata": {},
   "outputs": [],
   "source": [
    "for label, stat in zip(range(number_of_labels),stats):\n",
    "    transition_ratios[label], hor_tran_amount[label], ver_tran_amount[label], total_black_amount[label] = getTransitionsRate(np.copy(image_p6), stat, black_pixels_amount[label])"
   ]
  },
  {
   "cell_type": "code",
   "execution_count": 78,
   "metadata": {},
   "outputs": [
    {
     "name": "stdout",
     "output_type": "stream",
     "text": [
      "Componente:0 | Ratio:0.08966749396622224 | Horizontal:17968, Vertical:44968 | Blacks:701882\n",
      "Componente:1 | Ratio:0.05511527377521614 | Horizontal:10, Vertical:143 | Blacks:2776\n",
      "Componente:2 | Ratio:0.08630393996247655 | Horizontal:31, Vertical:61 | Blacks:1066\n",
      "Componente:3 | Ratio:0.13336992316136115 | Horizontal:55, Vertical:431 | Blacks:3644\n",
      "Componente:4 | Ratio:0.08412197686645637 | Horizontal:40, Vertical:40 | Blacks:951\n",
      "Componente:5 | Ratio:0.44751381215469616 | Horizontal:41, Vertical:40 | Blacks:181\n",
      "Componente:6 | Ratio:0.0468557336621455 | Horizontal:19, Vertical:19 | Blacks:811\n",
      "Componente:7 | Ratio:0.2786885245901639 | Horizontal:28, Vertical:40 | Blacks:244\n",
      "Componente:8 | Ratio:0.028051554207733132 | Horizontal:32, Vertical:5 | Blacks:1319\n",
      "Componente:9 | Ratio:0.0908130939809926 | Horizontal:8, Vertical:78 | Blacks:947\n",
      "Componente:10 | Ratio:0.08696693818878773 | Horizontal:49, Vertical:314 | Blacks:4174\n",
      "Componente:11 | Ratio:0.10138888888888889 | Horizontal:32, Vertical:41 | Blacks:720\n",
      "Componente:12 | Ratio:0.07345132743362832 | Horizontal:35, Vertical:48 | Blacks:1130\n",
      "Componente:13 | Ratio:0.10903873744619799 | Horizontal:28, Vertical:48 | Blacks:697\n",
      "Componente:14 | Ratio:0.008250126521037505 | Horizontal:1100, Vertical:1492 | Blacks:314177\n",
      "Componente:15 | Ratio:0.12317611129962674 | Horizontal:50, Vertical:313 | Blacks:2947\n",
      "Componente:16 | Ratio:0.42105263157894735 | Horizontal:4, Vertical:4 | Blacks:19\n",
      "Componente:17 | Ratio:0.08515352959797404 | Horizontal:78, Vertical:191 | Blacks:3159\n",
      "Componente:18 | Ratio:0.2857142857142857 | Horizontal:2, Vertical:2 | Blacks:14\n",
      "Componente:19 | Ratio:0.38461538461538464 | Horizontal:3, Vertical:2 | Blacks:13\n",
      "Componente:20 | Ratio:0.07870967741935483 | Horizontal:56, Vertical:127 | Blacks:2325\n",
      "Componente:21 | Ratio:0.18181818181818182 | Horizontal:1, Vertical:1 | Blacks:11\n",
      "Componente:22 | Ratio:0.08714462299134734 | Horizontal:57, Vertical:84 | Blacks:1618\n",
      "Componente:23 | Ratio:0.08700696055684455 | Horizontal:36, Vertical:114 | Blacks:1724\n",
      "Componente:24 | Ratio:0.06906614785992218 | Horizontal:18, Vertical:53 | Blacks:1028\n",
      "Componente:25 | Ratio:0.057971014492753624 | Horizontal:19, Vertical:9 | Blacks:483\n",
      "Componente:26 | Ratio:0.08239700374531835 | Horizontal:21, Vertical:23 | Blacks:534\n",
      "Componente:27 | Ratio:0.1781818181818182 | Horizontal:33, Vertical:16 | Blacks:275\n",
      "Componente:28 | Ratio:0.07619439868204284 | Horizontal:32, Vertical:153 | Blacks:2428\n",
      "Componente:29 | Ratio:0.08301404853128991 | Horizontal:56, Vertical:74 | Blacks:1566\n",
      "Componente:30 | Ratio:0.3333333333333333 | Horizontal:3, Vertical:4 | Blacks:21\n",
      "Componente:31 | Ratio:0.2222222222222222 | Horizontal:2, Vertical:2 | Blacks:18\n",
      "Componente:32 | Ratio:0.07596201899050475 | Horizontal:49, Vertical:103 | Blacks:2001\n",
      "Componente:33 | Ratio:0.07058047493403694 | Horizontal:35, Vertical:72 | Blacks:1516\n",
      "Componente:34 | Ratio:0.45 | Horizontal:5, Vertical:4 | Blacks:20\n",
      "Componente:35 | Ratio:0.11821428571428572 | Horizontal:61, Vertical:270 | Blacks:2800\n",
      "Componente:36 | Ratio:0.11057173678532901 | Horizontal:26, Vertical:179 | Blacks:1854\n",
      "Componente:37 | Ratio:0.07708333333333334 | Horizontal:46, Vertical:65 | Blacks:1440\n",
      "Componente:38 | Ratio:0.10775151181968114 | Horizontal:45, Vertical:347 | Blacks:3638\n",
      "Componente:39 | Ratio:0.03273322422258593 | Horizontal:19, Vertical:1 | Blacks:611\n",
      "Componente:40 | Ratio:0.12091503267973856 | Horizontal:33, Vertical:4 | Blacks:306\n",
      "Componente:41 | Ratio:0.03924914675767918 | Horizontal:15, Vertical:31 | Blacks:1172\n",
      "Componente:42 | Ratio:0.14705882352941177 | Horizontal:24, Vertical:66 | Blacks:612\n",
      "Componente:43 | Ratio:0.2826086956521739 | Horizontal:3, Vertical:23 | Blacks:92\n",
      "Componente:44 | Ratio:0.11807909604519774 | Horizontal:39, Vertical:170 | Blacks:1770\n",
      "Componente:45 | Ratio:0.10773751224289912 | Horizontal:84, Vertical:466 | Blacks:5105\n",
      "Componente:46 | Ratio:0.06480159862974594 | Horizontal:52, Vertical:175 | Blacks:3503\n",
      "Componente:47 | Ratio:0.029758562605277934 | Horizontal:26, Vertical:27 | Blacks:1781\n",
      "Componente:48 | Ratio:0.14540059347181009 | Horizontal:17, Vertical:32 | Blacks:337\n",
      "Componente:49 | Ratio:0.007366482504604052 | Horizontal:3, Vertical:1 | Blacks:543\n",
      "Componente:50 | Ratio:0.0867983367983368 | Horizontal:46, Vertical:121 | Blacks:1924\n",
      "Componente:51 | Ratio:0.28 | Horizontal:3, Vertical:4 | Blacks:25\n",
      "Componente:52 | Ratio:0.1539456662354463 | Horizontal:41, Vertical:78 | Blacks:773\n",
      "Componente:53 | Ratio:0.06550991501416431 | Horizontal:53, Vertical:132 | Blacks:2824\n",
      "Componente:54 | Ratio:0.12293682413204325 | Horizontal:34, Vertical:182 | Blacks:1757\n",
      "Componente:55 | Ratio:0.7058823529411765 | Horizontal:4, Vertical:8 | Blacks:17\n",
      "Componente:56 | Ratio:0.10641200545702592 | Horizontal:35, Vertical:43 | Blacks:733\n",
      "Componente:57 | Ratio:0.12158808933002481 | Horizontal:79, Vertical:362 | Blacks:3627\n",
      "Componente:58 | Ratio:0.2222222222222222 | Horizontal:2, Vertical:2 | Blacks:18\n",
      "Componente:59 | Ratio:0.118488253319714 | Horizontal:39, Vertical:77 | Blacks:979\n",
      "Componente:60 | Ratio:0.057608695652173914 | Horizontal:9, Vertical:44 | Blacks:920\n",
      "Componente:61 | Ratio:0.0809551543389633 | Horizontal:52, Vertical:87 | Blacks:1717\n",
      "Componente:62 | Ratio:0.06432748538011696 | Horizontal:8, Vertical:25 | Blacks:513\n",
      "Componente:63 | Ratio:0.0 | Horizontal:0, Vertical:0 | Blacks:340\n",
      "Componente:64 | Ratio:0.2222222222222222 | Horizontal:2, Vertical:2 | Blacks:18\n",
      "Componente:65 | Ratio:0.15188470066518847 | Horizontal:52, Vertical:85 | Blacks:902\n",
      "Componente:66 | Ratio:0.1022514071294559 | Horizontal:30, Vertical:79 | Blacks:1066\n",
      "Componente:67 | Ratio:0.2222222222222222 | Horizontal:2, Vertical:2 | Blacks:18\n",
      "Componente:68 | Ratio:0.10764872521246459 | Horizontal:40, Vertical:36 | Blacks:706\n",
      "Componente:69 | Ratio:0.08663594470046083 | Horizontal:34, Vertical:60 | Blacks:1085\n",
      "Componente:70 | Ratio:0.11878133436174315 | Horizontal:53, Vertical:255 | Blacks:2593\n",
      "Componente:71 | Ratio:0.32 | Horizontal:4, Vertical:4 | Blacks:25\n",
      "Componente:72 | Ratio:0.10857343640196768 | Horizontal:42, Vertical:267 | Blacks:2846\n",
      "Componente:73 | Ratio:0.2222222222222222 | Horizontal:2, Vertical:2 | Blacks:18\n",
      "Componente:74 | Ratio:0.11072564324949408 | Horizontal:56, Vertical:327 | Blacks:3459\n",
      "Componente:75 | Ratio:0.10822615869934482 | Horizontal:29, Vertical:417 | Blacks:4121\n",
      "Componente:76 | Ratio:0.0060882800608828 | Horizontal:2, Vertical:2 | Blacks:657\n",
      "Componente:77 | Ratio:0.35294117647058826 | Horizontal:3, Vertical:3 | Blacks:17\n",
      "Componente:78 | Ratio:0.06998654104979811 | Horizontal:33, Vertical:19 | Blacks:743\n",
      "Componente:79 | Ratio:0.057692307692307696 | Horizontal:22, Vertical:149 | Blacks:2964\n",
      "Componente:80 | Ratio:0.04591836734693878 | Horizontal:20, Vertical:34 | Blacks:1176\n",
      "Componente:81 | Ratio:0.07230255839822025 | Horizontal:32, Vertical:33 | Blacks:899\n",
      "Componente:82 | Ratio:0.6428571428571429 | Horizontal:4, Vertical:5 | Blacks:14\n",
      "Componente:83 | Ratio:0.0296708391284191 | Horizontal:20, Vertical:44 | Blacks:2157\n",
      "Componente:84 | Ratio:0.14041514041514042 | Horizontal:46, Vertical:184 | Blacks:1638\n",
      "Componente:85 | Ratio:0.05901639344262295 | Horizontal:11, Vertical:43 | Blacks:915\n",
      "Componente:86 | Ratio:0.043369474562135114 | Horizontal:11, Vertical:93 | Blacks:2398\n",
      "Componente:87 | Ratio:0.0 | Horizontal:0, Vertical:0 | Blacks:1071\n",
      "Componente:88 | Ratio:0.03777335984095427 | Horizontal:5, Vertical:14 | Blacks:503\n",
      "Componente:89 | Ratio:0.01637513956084853 | Horizontal:9, Vertical:35 | Blacks:2687\n",
      "Componente:90 | Ratio:0.05058365758754864 | Horizontal:35, Vertical:30 | Blacks:1285\n",
      "Componente:91 | Ratio:0.0631882538017829 | Horizontal:36, Vertical:205 | Blacks:3814\n",
      "Componente:92 | Ratio:0.2727272727272727 | Horizontal:3, Vertical:3 | Blacks:22\n",
      "Componente:93 | Ratio:0.08076923076923077 | Horizontal:52, Vertical:116 | Blacks:2080\n",
      "Componente:94 | Ratio:0.06813996316758748 | Horizontal:23, Vertical:51 | Blacks:1086\n",
      "Componente:95 | Ratio:0.45 | Horizontal:4, Vertical:5 | Blacks:20\n",
      "Componente:96 | Ratio:0.11384062312762133 | Horizontal:50, Vertical:330 | Blacks:3338\n",
      "Componente:97 | Ratio:0.16414435389988358 | Horizontal:56, Vertical:85 | Blacks:859\n",
      "Componente:98 | Ratio:0.07454545454545454 | Horizontal:32, Vertical:50 | Blacks:1100\n",
      "Componente:99 | Ratio:0.06197478991596639 | Horizontal:32, Vertical:145 | Blacks:2856\n",
      "Componente:100 | Ratio:0.13810316139767054 | Horizontal:29, Vertical:54 | Blacks:601\n",
      "Componente:101 | Ratio:0.05096952908587258 | Horizontal:6, Vertical:86 | Blacks:1805\n",
      "Componente:102 | Ratio:0.0 | Horizontal:0, Vertical:0 | Blacks:660\n",
      "Componente:103 | Ratio:0.13428827215756492 | Horizontal:47, Vertical:403 | Blacks:3351\n",
      "Componente:104 | Ratio:0.09523809523809523 | Horizontal:17, Vertical:49 | Blacks:693\n",
      "Componente:105 | Ratio:0.10251117991056072 | Horizontal:41, Vertical:257 | Blacks:2907\n",
      "Componente:106 | Ratio:0.12285714285714286 | Horizontal:46, Vertical:40 | Blacks:700\n",
      "Componente:107 | Ratio:0.10285591582563883 | Horizontal:48, Vertical:431 | Blacks:4657\n",
      "Componente:108 | Ratio:0.04419889502762431 | Horizontal:4, Vertical:4 | Blacks:181\n",
      "Componente:109 | Ratio:0.10275229357798166 | Horizontal:36, Vertical:76 | Blacks:1090\n",
      "Componente:110 | Ratio:0.09750390015600624 | Horizontal:32, Vertical:93 | Blacks:1282\n",
      "Componente:111 | Ratio:0.06804597701149426 | Horizontal:6, Vertical:142 | Blacks:2175\n",
      "Componente:112 | Ratio:0.050324056423942054 | Horizontal:17, Vertical:115 | Blacks:2623\n",
      "Componente:113 | Ratio:0.1023391812865497 | Horizontal:32, Vertical:3 | Blacks:342\n",
      "Componente:114 | Ratio:0.17430278884462153 | Horizontal:50, Vertical:125 | Blacks:1004\n",
      "Componente:115 | Ratio:0.10160427807486631 | Horizontal:68, Vertical:198 | Blacks:2618\n",
      "Componente:116 | Ratio:0.06592 | Horizontal:50, Vertical:156 | Blacks:3125\n",
      "Componente:117 | Ratio:0.10211706102117062 | Horizontal:42, Vertical:40 | Blacks:803\n",
      "Componente:118 | Ratio:0.11911874533233757 | Horizontal:55, Vertical:264 | Blacks:2678\n",
      "Componente:119 | Ratio:0.2857142857142857 | Horizontal:3, Vertical:3 | Blacks:21\n",
      "Componente:120 | Ratio:0.10678733031674208 | Horizontal:28, Vertical:90 | Blacks:1105\n",
      "Componente:121 | Ratio:0.17391304347826086 | Horizontal:2, Vertical:2 | Blacks:23\n",
      "Componente:122 | Ratio:0.060738255033557044 | Horizontal:33, Vertical:148 | Blacks:2980\n",
      "Componente:123 | Ratio:0.06106408706166868 | Horizontal:21, Vertical:80 | Blacks:1654\n",
      "Componente:124 | Ratio:0.03541315345699832 | Horizontal:19, Vertical:2 | Blacks:593\n",
      "Componente:125 | Ratio:0.04634017904160084 | Horizontal:20, Vertical:68 | Blacks:1899\n",
      "Componente:126 | Ratio:0.0 | Horizontal:0, Vertical:0 | Blacks:546\n",
      "Componente:127 | Ratio:0.04898446833930705 | Horizontal:9, Vertical:32 | Blacks:837\n",
      "Componente:128 | Ratio:0.07548579970104634 | Horizontal:15, Vertical:86 | Blacks:1338\n",
      "Componente:129 | Ratio:0.09317585301837271 | Horizontal:36, Vertical:35 | Blacks:762\n",
      "Componente:130 | Ratio:0.11293532338308458 | Horizontal:80, Vertical:374 | Blacks:4020\n",
      "Componente:131 | Ratio:0.10677382319173363 | Horizontal:14, Vertical:79 | Blacks:871\n",
      "Componente:132 | Ratio:0.06819517930629042 | Horizontal:14, Vertical:102 | Blacks:1701\n",
      "Componente:133 | Ratio:0.1293865523707474 | Horizontal:61, Vertical:422 | Blacks:3733\n",
      "Componente:134 | Ratio:0.09457364341085271 | Horizontal:14, Vertical:47 | Blacks:645\n",
      "Componente:135 | Ratio:0.08402366863905325 | Horizontal:17, Vertical:54 | Blacks:845\n",
      "Componente:136 | Ratio:0.10099188458070334 | Horizontal:50, Vertical:174 | Blacks:2218\n",
      "Componente:137 | Ratio:0.04328223624887286 | Horizontal:9, Vertical:39 | Blacks:1109\n",
      "Componente:138 | Ratio:0.10271158586688578 | Horizontal:71, Vertical:179 | Blacks:2434\n",
      "Componente:139 | Ratio:0.11019736842105263 | Horizontal:45, Vertical:89 | Blacks:1216\n",
      "Componente:140 | Ratio:0.16522258739169404 | Horizontal:130, Vertical:423 | Blacks:3347\n",
      "Componente:141 | Ratio:0.07629823034522773 | Horizontal:59, Vertical:204 | Blacks:3447\n",
      "Componente:142 | Ratio:0.11493411420204978 | Horizontal:46, Vertical:111 | Blacks:1366\n",
      "Componente:143 | Ratio:0.07192254495159059 | Horizontal:54, Vertical:154 | Blacks:2892\n",
      "Componente:144 | Ratio:0.05469994689325544 | Horizontal:49, Vertical:54 | Blacks:1883\n",
      "Componente:145 | Ratio:0.09662288930581614 | Horizontal:42, Vertical:61 | Blacks:1066\n",
      "Componente:146 | Ratio:0.109011137360783 | Horizontal:37, Vertical:286 | Blacks:2963\n",
      "Componente:147 | Ratio:0.11740890688259109 | Horizontal:44, Vertical:43 | Blacks:741\n",
      "Componente:148 | Ratio:0.07617360496014172 | Horizontal:41, Vertical:45 | Blacks:1129\n",
      "Componente:149 | Ratio:0.04608294930875576 | Horizontal:19, Vertical:71 | Blacks:1953\n",
      "Componente:150 | Ratio:0.11022222222222222 | Horizontal:16, Vertical:108 | Blacks:1125\n",
      "Componente:151 | Ratio:0.6216216216216216 | Horizontal:32, Vertical:37 | Blacks:111\n",
      "Componente:152 | Ratio:0.12540192926045016 | Horizontal:48, Vertical:30 | Blacks:622\n",
      "Componente:153 | Ratio:0.05014925373134328 | Horizontal:22, Vertical:62 | Blacks:1675\n",
      "Componente:154 | Ratio:0.7272727272727273 | Horizontal:4, Vertical:4 | Blacks:11\n",
      "Componente:155 | Ratio:0.7272727272727273 | Horizontal:4, Vertical:4 | Blacks:11\n",
      "Componente:156 | Ratio:0.12151616499442586 | Horizontal:54, Vertical:55 | Blacks:897\n",
      "Componente:157 | Ratio:0.14134154688569472 | Horizontal:108, Vertical:305 | Blacks:2922\n",
      "Componente:158 | Ratio:0.29411764705882354 | Horizontal:3, Vertical:2 | Blacks:17\n",
      "Componente:159 | Ratio:0.5063958855334301 | Horizontal:1653, Vertical:2187 | Blacks:7583\n",
      "Componente:160 | Ratio:0.14437469821342347 | Horizontal:91, Vertical:208 | Blacks:2071\n",
      "Componente:161 | Ratio:0.08762169680111266 | Horizontal:48, Vertical:141 | Blacks:2157\n",
      "Componente:162 | Ratio:0.10514285714285715 | Horizontal:28, Vertical:64 | Blacks:875\n",
      "Componente:163 | Ratio:0.08966861598440545 | Horizontal:22, Vertical:24 | Blacks:513\n",
      "Componente:164 | Ratio:0.3620689655172414 | Horizontal:58, Vertical:152 | Blacks:580\n",
      "Componente:165 | Ratio:0.1703204047217538 | Horizontal:33, Vertical:68 | Blacks:593\n",
      "Componente:166 | Ratio:0.02556390977443609 | Horizontal:8, Vertical:9 | Blacks:665\n",
      "Componente:167 | Ratio:0.6352941176470588 | Horizontal:23, Vertical:31 | Blacks:85\n",
      "Componente:168 | Ratio:0.12048192771084337 | Horizontal:84, Vertical:296 | Blacks:3154\n",
      "Componente:169 | Ratio:0.08962048468221308 | Horizontal:39, Vertical:157 | Blacks:2187\n",
      "Componente:170 | Ratio:0.5078597339782346 | Horizontal:157, Vertical:263 | Blacks:827\n",
      "Componente:171 | Ratio:0.12037037037037036 | Horizontal:49, Vertical:29 | Blacks:648\n",
      "Componente:172 | Ratio:0.0414985590778098 | Horizontal:10, Vertical:62 | Blacks:1735\n",
      "Componente:173 | Ratio:0.12002124269782262 | Horizontal:52, Vertical:174 | Blacks:1883\n",
      "Componente:174 | Ratio:0.38461538461538464 | Horizontal:3, Vertical:2 | Blacks:13\n",
      "Componente:175 | Ratio:0.09814612868047982 | Horizontal:41, Vertical:49 | Blacks:917\n",
      "Componente:176 | Ratio:0.13297694620781825 | Horizontal:104, Vertical:294 | Blacks:2993\n",
      "Componente:177 | Ratio:0.14285714285714285 | Horizontal:1, Vertical:1 | Blacks:14\n",
      "Componente:178 | Ratio:0.09503424657534247 | Horizontal:36, Vertical:75 | Blacks:1168\n",
      "Componente:179 | Ratio:0.13842087875784606 | Horizontal:98, Vertical:321 | Blacks:3027\n",
      "Componente:180 | Ratio:0.13333333333333333 | Horizontal:1, Vertical:1 | Blacks:15\n",
      "Componente:181 | Ratio:0.020107238605898123 | Horizontal:14, Vertical:1 | Blacks:746\n",
      "Componente:182 | Ratio:0.06560636182902585 | Horizontal:11, Vertical:22 | Blacks:503\n",
      "Componente:183 | Ratio:0.20245398773006135 | Horizontal:30, Vertical:135 | Blacks:815\n",
      "Componente:184 | Ratio:0.22466960352422907 | Horizontal:26, Vertical:25 | Blacks:227\n",
      "Componente:185 | Ratio:0.3888888888888889 | Horizontal:6, Vertical:8 | Blacks:36\n",
      "Componente:186 | Ratio:0.11678385814735555 | Horizontal:86, Vertical:296 | Blacks:3271\n",
      "Componente:187 | Ratio:0.09396299902629017 | Horizontal:36, Vertical:157 | Blacks:2054\n",
      "Componente:188 | Ratio:0.14057142857142857 | Horizontal:43, Vertical:80 | Blacks:875\n",
      "Componente:189 | Ratio:0.5671428571428572 | Horizontal:124, Vertical:273 | Blacks:700\n",
      "Componente:190 | Ratio:0.06896551724137931 | Horizontal:23, Vertical:25 | Blacks:696\n",
      "Componente:191 | Ratio:0.05690574985180794 | Horizontal:31, Vertical:65 | Blacks:1687\n",
      "Componente:192 | Ratio:0.06680440771349862 | Horizontal:23, Vertical:74 | Blacks:1452\n",
      "Componente:193 | Ratio:0.38461538461538464 | Horizontal:3, Vertical:2 | Blacks:13\n",
      "Componente:194 | Ratio:0.07977991746905089 | Horizontal:63, Vertical:169 | Blacks:2908\n",
      "Componente:195 | Ratio:0.375 | Horizontal:2, Vertical:4 | Blacks:16\n",
      "Componente:196 | Ratio:0.15403624382207579 | Horizontal:48, Vertical:139 | Blacks:1214\n",
      "Componente:197 | Ratio:0.1240499457111835 | Horizontal:110, Vertical:347 | Blacks:3684\n",
      "Componente:198 | Ratio:0.06884057971014493 | Horizontal:11, Vertical:27 | Blacks:552\n",
      "Componente:199 | Ratio:0.796875 | Horizontal:34, Vertical:17 | Blacks:64\n",
      "Componente:200 | Ratio:0.15315315315315314 | Horizontal:41, Vertical:112 | Blacks:999\n",
      "Componente:201 | Ratio:0.10720802919708029 | Horizontal:47, Vertical:188 | Blacks:2192\n",
      "Componente:202 | Ratio:0.039112050739957716 | Horizontal:18, Vertical:19 | Blacks:946\n",
      "Componente:203 | Ratio:0.1067351598173516 | Horizontal:42, Vertical:145 | Blacks:1752\n",
      "Componente:204 | Ratio:0.12242849974912193 | Horizontal:53, Vertical:191 | Blacks:1993\n",
      "Componente:205 | Ratio:0.17058823529411765 | Horizontal:44, Vertical:101 | Blacks:850\n",
      "Componente:206 | Ratio:0.10016155088852989 | Horizontal:32, Vertical:30 | Blacks:619\n",
      "Componente:207 | Ratio:0.0723055934515689 | Horizontal:14, Vertical:39 | Blacks:733\n",
      "Componente:208 | Ratio:0.0514018691588785 | Horizontal:20, Vertical:68 | Blacks:1712\n",
      "Componente:209 | Ratio:0.5333333333333333 | Horizontal:5, Vertical:3 | Blacks:15\n",
      "Componente:210 | Ratio:0.08633387888707038 | Horizontal:74, Vertical:137 | Blacks:2444\n",
      "Componente:211 | Ratio:0.14601293103448276 | Horizontal:65, Vertical:206 | Blacks:1856\n",
      "Componente:212 | Ratio:0.4 | Horizontal:2, Vertical:2 | Blacks:10\n",
      "Componente:213 | Ratio:0.13860252004581902 | Horizontal:47, Vertical:74 | Blacks:873\n",
      "Componente:214 | Ratio:0.1388561320754717 | Horizontal:99, Vertical:372 | Blacks:3392\n",
      "Componente:215 | Ratio:0.2222222222222222 | Horizontal:2, Vertical:2 | Blacks:18\n",
      "Componente:216 | Ratio:0.4421052631578947 | Horizontal:26, Vertical:16 | Blacks:95\n",
      "Componente:217 | Ratio:0.03879310344827586 | Horizontal:14, Vertical:4 | Blacks:464\n",
      "Componente:218 | Ratio:0.11655239960822723 | Horizontal:13, Vertical:106 | Blacks:1021\n",
      "Componente:219 | Ratio:0.1070110701107011 | Horizontal:25, Vertical:33 | Blacks:542\n",
      "Componente:220 | Ratio:0.05129958960328317 | Horizontal:13, Vertical:62 | Blacks:1462\n",
      "Componente:221 | Ratio:0.08949416342412451 | Horizontal:21, Vertical:25 | Blacks:514\n",
      "Componente:222 | Ratio:0.10911949685534592 | Horizontal:96, Vertical:251 | Blacks:3180\n",
      "Componente:223 | Ratio:0.09787234042553192 | Horizontal:41, Vertical:166 | Blacks:2115\n",
      "Componente:224 | Ratio:0.16480793060718713 | Horizontal:51, Vertical:82 | Blacks:807\n",
      "Componente:225 | Ratio:0.12839673913043478 | Horizontal:32, Vertical:157 | Blacks:1472\n",
      "Componente:226 | Ratio:0.46153846153846156 | Horizontal:3, Vertical:3 | Blacks:13\n",
      "Componente:227 | Ratio:0.09860788863109049 | Horizontal:69, Vertical:101 | Blacks:1724\n",
      "Componente:228 | Ratio:0.21511627906976744 | Horizontal:67, Vertical:81 | Blacks:688\n",
      "Componente:229 | Ratio:0.09502762430939227 | Horizontal:41, Vertical:45 | Blacks:905\n",
      "Componente:230 | Ratio:0.13906185139061852 | Horizontal:71, Vertical:264 | Blacks:2409\n",
      "Componente:231 | Ratio:0.35 | Horizontal:3, Vertical:4 | Blacks:20\n",
      "Componente:232 | Ratio:0.1104199066874028 | Horizontal:38, Vertical:33 | Blacks:643\n",
      "Componente:233 | Ratio:0.1119648737650933 | Horizontal:31, Vertical:71 | Blacks:911\n",
      "Componente:234 | Ratio:0.7238095238095238 | Horizontal:28, Vertical:48 | Blacks:105\n",
      "Componente:235 | Ratio:0.09268113276940051 | Horizontal:82, Vertical:170 | Blacks:2719\n",
      "Componente:236 | Ratio:0.10835597826086957 | Horizontal:47, Vertical:272 | Blacks:2944\n",
      "Componente:237 | Ratio:0.06060606060606061 | Horizontal:10, Vertical:48 | Blacks:957\n",
      "Componente:238 | Ratio:0.008385744234800839 | Horizontal:3, Vertical:1 | Blacks:477\n",
      "Componente:239 | Ratio:0.09585121602288985 | Horizontal:33, Vertical:34 | Blacks:699\n",
      "Componente:240 | Ratio:0.04693140794223827 | Horizontal:22, Vertical:30 | Blacks:1108\n",
      "Componente:241 | Ratio:0.07226308957161402 | Horizontal:41, Vertical:126 | Blacks:2311\n",
      "Componente:242 | Ratio:0.06451612903225806 | Horizontal:30, Vertical:46 | Blacks:1178\n",
      "Componente:243 | Ratio:0.1162079510703364 | Horizontal:66, Vertical:238 | Blacks:2616\n",
      "Componente:244 | Ratio:0.14006259780907668 | Horizontal:63, Vertical:295 | Blacks:2556\n",
      "Componente:245 | Ratio:0.0 | Horizontal:0, Vertical:0 | Blacks:128\n",
      "Componente:246 | Ratio:0.12343966712898752 | Horizontal:41, Vertical:48 | Blacks:721\n",
      "Componente:247 | Ratio:0.12135176651305683 | Horizontal:37, Vertical:42 | Blacks:651\n",
      "Componente:248 | Ratio:0.15521796565389695 | Horizontal:61, Vertical:409 | Blacks:3028\n",
      "Componente:249 | Ratio:0.04691358024691358 | Horizontal:35, Vertical:79 | Blacks:2430\n",
      "Componente:250 | Ratio:0.17866004962779156 | Horizontal:35, Vertical:37 | Blacks:403\n",
      "Componente:251 | Ratio:0.06128584643848289 | Horizontal:53, Vertical:212 | Blacks:4324\n",
      "Componente:252 | Ratio:0.20306965761511217 | Horizontal:56, Vertical:116 | Blacks:847\n",
      "Componente:253 | Ratio:0.35185185185185186 | Horizontal:38, Vertical:38 | Blacks:216\n",
      "Componente:254 | Ratio:0.14357142857142857 | Horizontal:40, Vertical:161 | Blacks:1400\n",
      "Componente:255 | Ratio:0.25 | Horizontal:1, Vertical:1 | Blacks:8\n",
      "Componente:256 | Ratio:0.08247422680412371 | Horizontal:21, Vertical:67 | Blacks:1067\n",
      "Componente:257 | Ratio:0.10518292682926829 | Horizontal:33, Vertical:105 | Blacks:1312\n",
      "Componente:258 | Ratio:0.03546099290780142 | Horizontal:8, Vertical:7 | Blacks:423\n",
      "Componente:259 | Ratio:0.15889830508474576 | Horizontal:69, Vertical:156 | Blacks:1416\n",
      "Componente:260 | Ratio:0.13486655309483248 | Horizontal:76, Vertical:399 | Blacks:3522\n",
      "Componente:261 | Ratio:0.053119209388511425 | Horizontal:26, Vertical:60 | Blacks:1619\n",
      "Componente:262 | Ratio:0.07017543859649122 | Horizontal:27, Vertical:45 | Blacks:1026\n",
      "Componente:263 | Ratio:0.1335816923895689 | Horizontal:45, Vertical:206 | Blacks:1879\n",
      "Componente:264 | Ratio:0.11764705882352941 | Horizontal:42, Vertical:34 | Blacks:646\n",
      "Componente:265 | Ratio:0.06463527239150507 | Horizontal:29, Vertical:41 | Blacks:1083\n",
      "Componente:266 | Ratio:0.1309408341416101 | Horizontal:45, Vertical:225 | Blacks:2062\n",
      "Componente:267 | Ratio:0.10317141710156563 | Horizontal:43, Vertical:214 | Blacks:2491\n",
      "Componente:268 | Ratio:0.0 | Horizontal:0, Vertical:0 | Blacks:2\n",
      "Componente:269 | Ratio:0.17111853088480802 | Horizontal:44, Vertical:161 | Blacks:1198\n",
      "Componente:270 | Ratio:0.10865191146881288 | Horizontal:17, Vertical:37 | Blacks:497\n",
      "Componente:271 | Ratio:0.058823529411764705 | Horizontal:1, Vertical:1 | Blacks:34\n",
      "Componente:272 | Ratio:0.053067484662576686 | Horizontal:59, Vertical:114 | Blacks:3260\n",
      "Componente:273 | Ratio:0.1407061266874351 | Horizontal:95, Vertical:176 | Blacks:1926\n",
      "Componente:274 | Ratio:0.16666666666666666 | Horizontal:2, Vertical:1 | Blacks:18\n",
      "Componente:275 | Ratio:0.16666666666666666 | Horizontal:1, Vertical:2 | Blacks:18\n",
      "Componente:276 | Ratio:0.04549283909014322 | Horizontal:26, Vertical:82 | Blacks:2374\n",
      "Componente:277 | Ratio:0.12603437301082113 | Horizontal:37, Vertical:161 | Blacks:1571\n",
      "Componente:278 | Ratio:0.0 | Horizontal:0, Vertical:0 | Blacks:456\n",
      "Componente:279 | Ratio:0.0958904109589041 | Horizontal:15, Vertical:13 | Blacks:292\n",
      "Componente:280 | Ratio:0.058925476603119586 | Horizontal:26, Vertical:8 | Blacks:577\n",
      "Componente:281 | Ratio:0.0 | Horizontal:0, Vertical:0 | Blacks:304\n",
      "Componente:282 | Ratio:0.006607929515418502 | Horizontal:2, Vertical:1 | Blacks:454\n",
      "Componente:283 | Ratio:0.0656910569105691 | Horizontal:36, Vertical:166 | Blacks:3075\n",
      "Componente:284 | Ratio:0.08389830508474576 | Horizontal:25, Vertical:74 | Blacks:1180\n",
      "Componente:285 | Ratio:0.18594748048261178 | Horizontal:51, Vertical:211 | Blacks:1409\n",
      "Componente:286 | Ratio:0.2255813953488372 | Horizontal:32, Vertical:65 | Blacks:430\n",
      "Componente:287 | Ratio:0.10408921933085502 | Horizontal:30, Vertical:26 | Blacks:538\n"
     ]
    }
   ],
   "source": [
    "for label in transition_ratios:\n",
    "    print('Componente:{} | Ratio:{} | Horizontal:{}, Vertical:{} | Blacks:{}'.format(label,transition_ratios[label], hor_tran_amount[label], ver_tran_amount[label], total_black_amount[label]))"
   ]
  },
  {
   "cell_type": "code",
   "execution_count": 86,
   "metadata": {},
   "outputs": [
    {
     "data": {
      "image/png": "[encoded data removed]",
      "text/plain": [
       "<Figure size 720x720 with 1 Axes>"
      ]
     },
     "metadata": {
      "needs_background": "light"
     },
     "output_type": "display_data"
    }
   ],
   "source": [
    "imshow_components_rectagles(image_labels, stats[87:88])"
   ]
  },
  {
   "cell_type": "code",
   "execution_count": null,
   "metadata": {},
   "outputs": [],
   "source": [
    "# for key in transition_ratios:\n",
    "#     if transition_ratios[key] < 0.008 and transition_ratios[key] > 0 :\n",
    "#         break"
   ]
  },
  {
   "cell_type": "code",
   "execution_count": 80,
   "metadata": {},
   "outputs": [
    {
     "data": {
      "text/plain": [
       "array([0.        , 0.        , 0.        , 0.        , 0.        ,\n",
       "       0.        , 0.        , 0.        , 0.00608828, 0.00660793,\n",
       "       0.00736648, 0.00825013, 0.00838574, 0.01637514, 0.02010724,\n",
       "       0.02556391, 0.02805155, 0.02967084, 0.02975856, 0.03273322,\n",
       "       0.03541315, 0.03546099, 0.03777336, 0.0387931 , 0.03911205,\n",
       "       0.03924915, 0.04149856, 0.04328224, 0.04336947, 0.0441989 ,\n",
       "       0.04549284, 0.04591837, 0.04608295, 0.04634018, 0.04685573,\n",
       "       0.04691358, 0.04693141, 0.04898447, 0.05014925, 0.05032406,\n",
       "       0.05058366, 0.05096953, 0.05129959, 0.05140187, 0.05306748,\n",
       "       0.05311921, 0.05469995, 0.05511527, 0.05690575, 0.0576087 ,\n",
       "       0.05769231, 0.05797101, 0.05882353, 0.05892548, 0.05901639,\n",
       "       0.06060606, 0.06073826, 0.06106409, 0.06128585, 0.06197479,\n",
       "       0.06318825, 0.06432749, 0.06451613, 0.06463527, 0.0648016 ,\n",
       "       0.06550992, 0.06560636, 0.06569106, 0.06592   , 0.06680441,\n",
       "       0.06804598, 0.06813996, 0.06819518, 0.06884058, 0.06896552,\n",
       "       0.06906615, 0.06998654, 0.07017544, 0.07058047, 0.07192254,\n",
       "       0.07226309, 0.07230256, 0.07230559, 0.07345133, 0.07454545,\n",
       "       0.0754858 , 0.07596202, 0.0761736 , 0.0761944 , 0.07629823,\n",
       "       0.07708333, 0.07870968, 0.07977992, 0.08076923, 0.08095515,\n",
       "       0.082397  , 0.08247423, 0.08301405, 0.08389831, 0.08402367,\n",
       "       0.08412198, 0.08515353, 0.08630394, 0.08633388, 0.08663594,\n",
       "       0.08679834, 0.08696694, 0.08700696, 0.08714462, 0.0876217 ,\n",
       "       0.08949416, 0.08962048, 0.08966749, 0.08966862, 0.09081309,\n",
       "       0.09268113, 0.09317585, 0.093963  , 0.09457364, 0.09502762,\n",
       "       0.09503425, 0.0952381 , 0.09585122, 0.09589041, 0.09662289,\n",
       "       0.0975039 , 0.09787234, 0.09814613, 0.09860789, 0.10016155,\n",
       "       0.10099188, 0.10138889, 0.10160428, 0.10211706, 0.10225141,\n",
       "       0.10233918, 0.10251118, 0.10271159, 0.10275229, 0.10285592,\n",
       "       0.10317142, 0.10408922, 0.10514286, 0.10518293, 0.10641201,\n",
       "       0.10673516, 0.10677382, 0.10678733, 0.10701107, 0.10720803,\n",
       "       0.10764873, 0.10773751, 0.10775151, 0.10822616, 0.10835598,\n",
       "       0.10857344, 0.10865191, 0.10901114, 0.10903874, 0.1091195 ,\n",
       "       0.11019737, 0.11022222, 0.11041991, 0.11057174, 0.11072564,\n",
       "       0.11196487, 0.11293532, 0.11384062, 0.11493411, 0.11620795,\n",
       "       0.1165524 , 0.11678386, 0.11740891, 0.11764706, 0.1180791 ,\n",
       "       0.11821429, 0.11848825, 0.11878133, 0.11911875, 0.12002124,\n",
       "       0.12037037, 0.12048193, 0.12091503, 0.12135177, 0.12151616,\n",
       "       0.12158809, 0.1224285 , 0.12285714, 0.12293682, 0.12317611,\n",
       "       0.12343967, 0.12404995, 0.12540193, 0.12603437, 0.12839674,\n",
       "       0.12938655, 0.13094083, 0.13297695, 0.13333333, 0.13336992,\n",
       "       0.13358169, 0.13428827, 0.13486655, 0.13810316, 0.13842088,\n",
       "       0.13860252, 0.13885613, 0.13906185, 0.1400626 , 0.14041514,\n",
       "       0.14057143, 0.14070613, 0.14134155, 0.14285714, 0.14357143,\n",
       "       0.1443747 , 0.14540059, 0.14601293, 0.14705882, 0.1518847 ,\n",
       "       0.15315315, 0.15394567, 0.15403624, 0.15521797, 0.15889831,\n",
       "       0.16414435, 0.16480793, 0.16522259, 0.16666667, 0.16666667,\n",
       "       0.1703204 , 0.17058824, 0.17111853, 0.17391304, 0.17430279,\n",
       "       0.17818182, 0.17866005, 0.18181818, 0.18594748, 0.20245399,\n",
       "       0.20306966, 0.21511628, 0.22222222, 0.22222222, 0.22222222,\n",
       "       0.22222222, 0.22222222, 0.22222222, 0.2246696 , 0.2255814 ,\n",
       "       0.25      , 0.27272727, 0.27868852, 0.28      , 0.2826087 ,\n",
       "       0.28571429, 0.28571429, 0.29411765, 0.32      , 0.33333333,\n",
       "       0.35      , 0.35185185, 0.35294118, 0.36206897, 0.375     ,\n",
       "       0.38461538, 0.38461538, 0.38461538, 0.38888889, 0.4       ,\n",
       "       0.42105263, 0.44210526, 0.44751381, 0.45      , 0.45      ,\n",
       "       0.46153846, 0.50639589, 0.50785973, 0.53333333, 0.56714286,\n",
       "       0.62162162, 0.63529412, 0.64285714, 0.70588235, 0.72380952,\n",
       "       0.72727273, 0.72727273, 0.796875  ])"
      ]
     },
     "execution_count": 80,
     "metadata": {},
     "output_type": "execute_result"
    }
   ],
   "source": [
    "np.sort(list(transition_ratios.values()))"
   ]
  },
  {
   "cell_type": "markdown",
   "metadata": {},
   "source": [
    "#### Etapa 9: Criar uma regra, baseada na Etapa 8, para determinar se um componente conexo é texto ou não"
   ]
  },
  {
   "cell_type": "code",
   "execution_count": null,
   "metadata": {},
   "outputs": [],
   "source": [
    "component_classes = {}"
   ]
  },
  {
   "cell_type": "code",
   "execution_count": null,
   "metadata": {},
   "outputs": [],
   "source": [
    "for comp_key in range(number_of_labels):\n",
    "    if black_pixels_ratios[comp_key] < 0.06:\n",
    "        component_classes[comp_key] = 0\n",
    "    elif transition_ratios[comp_key] < 0.01 and component_area[comp_key] < 5:\n",
    "        component_classes[comp_key] = 0\n",
    "    elif component_area[comp_key] < 5:\n",
    "        component_classes[comp_key] = 0\n",
    "    else:\n",
    "        component_classes[comp_key] = 1"
   ]
  },
  {
   "cell_type": "code",
   "execution_count": null,
   "metadata": {},
   "outputs": [],
   "source": [
    "for key in component_classes:\n",
    "    print(\"Componente:{} | Text: {}\".format(key,component_classes[key]))"
   ]
  },
  {
   "cell_type": "code",
   "execution_count": null,
   "metadata": {},
   "outputs": [],
   "source": [
    "text_labels = [key for key in component_classes if component_classes[key] == 1]\n",
    "no_text_labels = [key for key in component_classes if component_classes[key] == 0]\n",
    "text_stats = stats[text_labels]\n",
    "\n",
    "text_image = np.copy(image_labels)\n",
    "for l in no_text_labels:\n",
    "    text_image[text_image == l] = 0"
   ]
  },
  {
   "cell_type": "code",
   "execution_count": null,
   "metadata": {},
   "outputs": [],
   "source": [
    "imshow_components_rectagles(text_image, text_stats)"
   ]
  },
  {
   "cell_type": "markdown",
   "metadata": {},
   "source": [
    "#### Etapa 10: Segmentar palavras, colocar retângulos e calcular quantidades "
   ]
  },
  {
   "cell_type": "markdown",
   "metadata": {},
   "source": [
    "##### a) Segmentar palavras"
   ]
  },
  {
   "cell_type": "code",
   "execution_count": null,
   "metadata": {},
   "outputs": [],
   "source": [
    "np.unique(text_image)\n",
    "text_image = np.uint8(text_image)\n",
    "teste_i = cv.bitwise_and(image,text_image)"
   ]
  },
  {
   "cell_type": "code",
   "execution_count": null,
   "metadata": {},
   "outputs": [],
   "source": [
    "image_10 = cv.morphologyEx(text_image, cv.MORPH_OPEN, kernel1_30)"
   ]
  },
  {
   "cell_type": "code",
   "execution_count": null,
   "metadata": {},
   "outputs": [],
   "source": [
    "print_image(image_10)"
   ]
  },
  {
   "cell_type": "code",
   "execution_count": null,
   "metadata": {},
   "outputs": [],
   "source": []
  }
 ],
 "metadata": {
  "kernelspec": {
   "display_name": "Python 3",
   "language": "python",
   "name": "python3"
  },
  "language_info": {
   "codemirror_mode": {
    "name": "ipython",
    "version": 3
   },
   "file_extension": ".py",
   "mimetype": "text/x-python",
   "name": "python",
   "nbconvert_exporter": "python",
   "pygments_lexer": "ipython3",
   "version": "3.7.4"
  }
 },
 "nbformat": 4,
 "nbformat_minor": 2
}
