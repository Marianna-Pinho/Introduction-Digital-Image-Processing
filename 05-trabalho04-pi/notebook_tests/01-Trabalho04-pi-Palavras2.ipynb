{
 "cells": [
  {
   "cell_type": "markdown",
   "metadata": {},
   "source": [
    "# <center> Trabalho 04 - Introdução ao Processamento de Imagem Digital </center>\n",
    "\n",
    "**Aluno(a):** Marianna de Pinho Severo <br>\n",
    "**RA:** 264960 <br>\n",
    "**Professor:** Hélio Pedrini"
   ]
  },
  {
   "cell_type": "markdown",
   "metadata": {},
   "source": [
    "### Passo 01: Importar bibliotecas"
   ]
  },
  {
   "cell_type": "code",
   "execution_count": 1,
   "metadata": {},
   "outputs": [],
   "source": [
    "%matplotlib inline\n",
    "import numpy as np\n",
    "import cv2 as cv\n",
    "import matplotlib.pyplot as plt\n",
    "import pandas as pd"
   ]
  },
  {
   "cell_type": "markdown",
   "metadata": {},
   "source": [
    "### Passo 02: Definir funções auxiliares"
   ]
  },
  {
   "cell_type": "code",
   "execution_count": 2,
   "metadata": {},
   "outputs": [],
   "source": [
    "def print_image(image, color=0):\n",
    "    \n",
    "    plt.figure(figsize=(10,10))\n",
    "    \n",
    "    if not color:\n",
    "        plt.imshow(image, cmap='gray')\n",
    "    else:\n",
    "        plt.imshow(image)"
   ]
  },
  {
   "cell_type": "code",
   "execution_count": 3,
   "metadata": {},
   "outputs": [],
   "source": [
    "def imshow_components(labels): #Refereciar stack overflow\n",
    "    # Map component labels to hue val\n",
    "    label_hue = np.uint8(179*labels/np.max(labels))\n",
    "    blank_ch = 255*np.ones_like(label_hue)\n",
    "    labeled_img = cv.merge([label_hue, blank_ch, blank_ch])\n",
    "\n",
    "    # cvt to BGR for display\n",
    "    labeled_img = cv.cvtColor(labeled_img, cv.COLOR_HSV2BGR)\n",
    "\n",
    "    # set bg label to black\n",
    "    labeled_img[label_hue==0] = 0\n",
    "    \n",
    "    print_image(labeled_img)\n",
    "#     cv.imshow('labeled.png', labeled_img)\n",
    "#     cv.waitKey()"
   ]
  },
  {
   "cell_type": "code",
   "execution_count": 50,
   "metadata": {},
   "outputs": [],
   "source": [
    "def imshow_components_rectagles(labels, stats): #Refereciar stack overflow\n",
    "    # Map component labels to hue val\n",
    "    label_hue = np.uint8(179*labels/np.max(labels))\n",
    "    blank_ch = 255*np.ones_like(label_hue)\n",
    "    labeled_img = cv.merge([label_hue, blank_ch, blank_ch])\n",
    "\n",
    "    # cvt to BGR for display\n",
    "    labeled_img = cv.cvtColor(labeled_img, cv.COLOR_HSV2BGR)\n",
    "\n",
    "    # set bg label to black\n",
    "    labeled_img[label_hue==0] = 0\n",
    "    \n",
    "    for stat in stats:\n",
    "        cv.rectangle(labeled_img, (stat[0], stat[1]), (stat[0]+stat[2], stat[1]+stat[3]), (255, 255, 255), 3) \n",
    "    \n",
    "    \n",
    "    print_image(labeled_img,1)\n",
    "#     cv.imshow('labeled.png', labeled_img)\n",
    "#     cv.waitKey()"
   ]
  },
  {
   "cell_type": "code",
   "execution_count": 5,
   "metadata": {},
   "outputs": [],
   "source": [
    "def getBlackPixelsRate(image,stat,color=1): #Black is considered 1 and White is considered 0\n",
    "    init_x = stat[0]\n",
    "    init_y = stat[1]\n",
    "    dx = stat[2]\n",
    "    dy = stat[3]\n",
    "    \n",
    "    area = (dx)*(dy)\n",
    "    \n",
    "    aux_image = image[init_y: init_y+dy,init_x:init_x + dx]\n",
    "    aux_image = aux_image[aux_image == color]\n",
    "    \n",
    "    return len(aux_image)/area, len(aux_image), area"
   ]
  },
  {
   "cell_type": "code",
   "execution_count": 6,
   "metadata": {},
   "outputs": [],
   "source": [
    "def getTransitionsRate(image, stat, total_black): #Black is 1 and White is 0\n",
    "    \n",
    "    if total_black == 0:\n",
    "        return 0,0,0,0\n",
    "    \n",
    "    init_x = stat[0]\n",
    "    init_y = stat[1]\n",
    "    dx = stat[2]\n",
    "    dy = stat[3]\n",
    "    \n",
    "    hor_count = 0\n",
    "    ver_count = 0\n",
    "    \n",
    "    max_y = init_y+dy\n",
    "    max_x = init_x+dx\n",
    "    \n",
    "    for line in range(init_y, max_y):\n",
    "        for col in range(init_x, max_x):\n",
    "            north = line - 1\n",
    "            south = line + 1\n",
    "            west = col - 1\n",
    "            east = col + 1\n",
    "            \n",
    "            #left neighbor\n",
    "            if west >= 0 and (image[line, col] == 0 and image[line,west] == 1):\n",
    "                hor_count+=1\n",
    "                \n",
    "            # right neighbor\n",
    "            if east < max_x and (image[line, col] == 0 and image[line,east] == 1):\n",
    "                hor_count+=1\n",
    "                \n",
    "            #top neighbor\n",
    "            if north >= 0 and (image[line,col] == 0 and image[north, col] == 1):\n",
    "                ver_count+=1\n",
    "                \n",
    "            #bottom neighbor\n",
    "            if south < max_y and (image[line,col] == 0 and image[south, col] == 1):\n",
    "                ver_count+=1\n",
    "            \n",
    "    return (hor_count + ver_count)/total_black, hor_count, ver_count,total_black"
   ]
  },
  {
   "cell_type": "markdown",
   "metadata": {},
   "source": [
    "### Passo 03: Ler imagem\n",
    "\n",
    "A imagem que vamos usar neste projeto é do tipo *Portable Bitmap* (PBM). Dessa maneira, esperamos que os pixels do objeto (pixels pretos) sejam representados por valores iguais a 1 e os pixels do fundo (brancos) por valores iguais a 0.\n",
    "\n",
    "Quando lemos essa imagem utilizando o método **imread** do *opencv*, a imagem é lida no formato monocromático, o que significa que seus valores poderão apresentar valores no intervalo de 0 a 255. Como na imagem lida só existem dois valores diferentes de pixels (0 e 255) e os valores 0 são atribuídos aos objetos, enquanto os valores 255 são atribuídos ao fundo, faremos a negação dessa imagem e dividiremos as intensidades de seus pixels por 255, de maneira a obtermos um arranjo de pixels como o esperado para uma imagem do tipo PBM. "
   ]
  },
  {
   "cell_type": "code",
   "execution_count": 7,
   "metadata": {},
   "outputs": [
    {
     "data": {
      "text/plain": [
       "(1374, 2233)"
      ]
     },
     "execution_count": 7,
     "metadata": {},
     "output_type": "execute_result"
    }
   ],
   "source": [
    "image = cv.imread('input_images/bitmap.pbm',0)\n",
    "image = cv.bitwise_not(image)//255\n",
    "image.shape"
   ]
  },
  {
   "cell_type": "markdown",
   "metadata": {},
   "source": [
    "### Aplicando dilatação 1"
   ]
  },
  {
   "cell_type": "code",
   "execution_count": 8,
   "metadata": {},
   "outputs": [
    {
     "data": {
      "text/plain": [
       "array([[1, 1, 1, 1, 1, 1],\n",
       "       [1, 1, 1, 1, 1, 1],\n",
       "       [1, 1, 1, 1, 1, 1],\n",
       "       [1, 1, 1, 1, 1, 1],\n",
       "       [1, 1, 1, 1, 1, 1],\n",
       "       [1, 1, 1, 1, 1, 1]], dtype=uint8)"
      ]
     },
     "execution_count": 8,
     "metadata": {},
     "output_type": "execute_result"
    }
   ],
   "source": [
    "kernel_dilate_1 = np.ones((6,6),np.uint8)\n",
    "kernel_dilate_1"
   ]
  },
  {
   "cell_type": "code",
   "execution_count": 9,
   "metadata": {},
   "outputs": [],
   "source": [
    "image_p1 = cv.dilate(np.copy(image), kernel_dilate_1)"
   ]
  },
  {
   "cell_type": "code",
   "execution_count": 10,
   "metadata": {},
   "outputs": [
    {
     "data": {
      "image/png": "[encoded data removed]",
      "text/plain": [
       "<Figure size 720x720 with 1 Axes>"
      ]
     },
     "metadata": {
      "needs_background": "light"
     },
     "output_type": "display_data"
    }
   ],
   "source": [
    "print_image(image_p1)"
   ]
  },
  {
   "cell_type": "markdown",
   "metadata": {},
   "source": [
    "### Aplicar erosão 1"
   ]
  },
  {
   "cell_type": "code",
   "execution_count": 11,
   "metadata": {},
   "outputs": [
    {
     "data": {
      "text/plain": [
       "array([[1, 1, 1]], dtype=uint8)"
      ]
     },
     "execution_count": 11,
     "metadata": {},
     "output_type": "execute_result"
    }
   ],
   "source": [
    "kernel_erode_1 = np.ones((1,3), np.uint8)\n",
    "kernel_erode_1"
   ]
  },
  {
   "cell_type": "code",
   "execution_count": 12,
   "metadata": {},
   "outputs": [],
   "source": [
    "image_p2 = cv.erode(np.copy(image_p1), kernel_erode_1)"
   ]
  },
  {
   "cell_type": "code",
   "execution_count": 13,
   "metadata": {},
   "outputs": [
    {
     "data": {
      "image/png": "[encoded data removed]",
      "text/plain": [
       "<Figure size 720x720 with 1 Axes>"
      ]
     },
     "metadata": {
      "needs_background": "light"
     },
     "output_type": "display_data"
    }
   ],
   "source": [
    "print_image(image_p2)"
   ]
  },
  {
   "cell_type": "markdown",
   "metadata": {},
   "source": [
    "### Aplicar dilatação 2"
   ]
  },
  {
   "cell_type": "code",
   "execution_count": 14,
   "metadata": {},
   "outputs": [],
   "source": [
    "kernel_dilate_2 = np.ones((10,1), np.uint8)"
   ]
  },
  {
   "cell_type": "code",
   "execution_count": 15,
   "metadata": {},
   "outputs": [],
   "source": [
    "image_p3 = cv.dilate(np.copy(image_p2), kernel_dilate_2)"
   ]
  },
  {
   "cell_type": "code",
   "execution_count": 16,
   "metadata": {},
   "outputs": [
    {
     "data": {
      "image/png": "[encoded data removed]",
      "text/plain": [
       "<Figure size 720x720 with 1 Axes>"
      ]
     },
     "metadata": {
      "needs_background": "light"
     },
     "output_type": "display_data"
    }
   ],
   "source": [
    "print_image(image_p3)"
   ]
  },
  {
   "cell_type": "markdown",
   "metadata": {},
   "source": [
    "### Aplicar erosão 2"
   ]
  },
  {
   "cell_type": "code",
   "execution_count": 17,
   "metadata": {},
   "outputs": [
    {
     "data": {
      "text/plain": [
       "array([[1, 1, 1]], dtype=uint8)"
      ]
     },
     "execution_count": 17,
     "metadata": {},
     "output_type": "execute_result"
    }
   ],
   "source": [
    "kernel_erode_2 = np.ones((1,3), np.uint8)\n",
    "kernel_erode_2"
   ]
  },
  {
   "cell_type": "code",
   "execution_count": 18,
   "metadata": {},
   "outputs": [],
   "source": [
    "image_p4 = cv.erode(np.copy(image_p3), kernel_erode_2)"
   ]
  },
  {
   "cell_type": "code",
   "execution_count": 19,
   "metadata": {},
   "outputs": [
    {
     "data": {
      "image/png": "[encoded data removed]",
      "text/plain": [
       "<Figure size 720x720 with 1 Axes>"
      ]
     },
     "metadata": {
      "needs_background": "light"
     },
     "output_type": "display_data"
    }
   ],
   "source": [
    "print_image(image_p4)"
   ]
  },
  {
   "cell_type": "markdown",
   "metadata": {},
   "source": [
    "### Aplicar interseção"
   ]
  },
  {
   "cell_type": "code",
   "execution_count": 20,
   "metadata": {},
   "outputs": [],
   "source": [
    "image_p5 = cv.bitwise_and(np.copy(image_p2), np.copy(image_p4))"
   ]
  },
  {
   "cell_type": "code",
   "execution_count": 21,
   "metadata": {},
   "outputs": [
    {
     "data": {
      "image/png": "[encoded data removed]",
      "text/plain": [
       "<Figure size 720x720 with 1 Axes>"
      ]
     },
     "metadata": {
      "needs_background": "light"
     },
     "output_type": "display_data"
    }
   ],
   "source": [
    "print_image(image_p5)"
   ]
  },
  {
   "cell_type": "markdown",
   "metadata": {},
   "source": [
    "### Aplicar fechamento"
   ]
  },
  {
   "cell_type": "code",
   "execution_count": 22,
   "metadata": {},
   "outputs": [
    {
     "data": {
      "text/plain": [
       "array([[1, 1, 1, 1, 1, 1, 1, 1]], dtype=uint8)"
      ]
     },
     "execution_count": 22,
     "metadata": {},
     "output_type": "execute_result"
    }
   ],
   "source": [
    "kernel_close_1 = np.ones((1,8), np.uint8)\n",
    "kernel_close_1"
   ]
  },
  {
   "cell_type": "code",
   "execution_count": 23,
   "metadata": {},
   "outputs": [],
   "source": [
    "image_p6 = cv.morphologyEx(np.copy(image_p5), cv.MORPH_CLOSE, kernel_close_1)"
   ]
  },
  {
   "cell_type": "code",
   "execution_count": 24,
   "metadata": {},
   "outputs": [
    {
     "data": {
      "image/png": "[encoded data removed]",
      "text/plain": [
       "<Figure size 720x720 with 1 Axes>"
      ]
     },
     "metadata": {
      "needs_background": "light"
     },
     "output_type": "display_data"
    }
   ],
   "source": [
    "print_image(image_p6)"
   ]
  },
  {
   "cell_type": "markdown",
   "metadata": {},
   "source": [
    "#### Etapa 07: Identificação de componentes conexos na imagem da etapa 06"
   ]
  },
  {
   "cell_type": "code",
   "execution_count": 25,
   "metadata": {},
   "outputs": [],
   "source": [
    "number_of_labels, image_labels, stats, centroids = cv.connectedComponentsWithStats(image_p6, connectivity = 8)"
   ]
  },
  {
   "cell_type": "code",
   "execution_count": 26,
   "metadata": {},
   "outputs": [
    {
     "name": "stdout",
     "output_type": "stream",
     "text": [
      "251\n"
     ]
    }
   ],
   "source": [
    "print(number_of_labels)"
   ]
  },
  {
   "cell_type": "code",
   "execution_count": 27,
   "metadata": {},
   "outputs": [
    {
     "data": {
      "image/png": "[encoded data removed]",
      "text/plain": [
       "<Figure size 720x720 with 1 Axes>"
      ]
     },
     "metadata": {
      "needs_background": "light"
     },
     "output_type": "display_data"
    }
   ],
   "source": [
    "imshow_components(np.copy(image_labels))"
   ]
  },
  {
   "cell_type": "code",
   "execution_count": 28,
   "metadata": {},
   "outputs": [
    {
     "data": {
      "image/png": "[encoded data removed]",
      "text/plain": [
       "<Figure size 720x720 with 1 Axes>"
      ]
     },
     "metadata": {
      "needs_background": "light"
     },
     "output_type": "display_data"
    }
   ],
   "source": [
    "imshow_components_rectagles(np.copy(image_labels),stats)"
   ]
  },
  {
   "cell_type": "markdown",
   "metadata": {},
   "source": [
    "#### Etapa 8: calcular razões para os componentes conexos obtidos na etapa 7"
   ]
  },
  {
   "cell_type": "markdown",
   "metadata": {},
   "source": [
    "##### a) Calcular razão entre o número de pixels pretos e o número total de pixels, para cada retângulo envolvendo um componente conexo"
   ]
  },
  {
   "cell_type": "code",
   "execution_count": 29,
   "metadata": {},
   "outputs": [],
   "source": [
    "black_pixels_ratios={}\n",
    "black_pixels_amount = {}\n",
    "component_area = {}"
   ]
  },
  {
   "cell_type": "code",
   "execution_count": 30,
   "metadata": {},
   "outputs": [],
   "source": [
    "for label, stat in zip(range(number_of_labels),stats):\n",
    "    black_pixels_ratios[label], black_pixels_amount[label], component_area[label] = getBlackPixelsRate(np.copy(image_p6),stat)"
   ]
  },
  {
   "cell_type": "code",
   "execution_count": 31,
   "metadata": {
    "scrolled": true
   },
   "outputs": [
    {
     "name": "stdout",
     "output_type": "stream",
     "text": [
      "Componente:0 | Ratio:0.26355853151516456 | Blacks:808635 | Area:3068142\n",
      "Componente:1 | Ratio:0.9123630672926447 | Blacks:3498 | Area:3834\n",
      "Componente:2 | Ratio:0.8901098901098901 | Blacks:1458 | Area:1638\n",
      "Componente:3 | Ratio:0.7600961538461538 | Blacks:4743 | Area:6240\n",
      "Componente:4 | Ratio:0.7669683257918553 | Blacks:1356 | Area:1768\n",
      "Componente:5 | Ratio:0.5318840579710145 | Blacks:367 | Area:690\n",
      "Componente:6 | Ratio:0.8615384615384616 | Blacks:1120 | Area:1300\n",
      "Componente:7 | Ratio:0.6181818181818182 | Blacks:408 | Area:660\n",
      "Componente:8 | Ratio:0.9621917808219178 | Blacks:1756 | Area:1825\n",
      "Componente:9 | Ratio:0.896575821104123 | Blacks:1283 | Area:1431\n",
      "Componente:10 | Ratio:0.8818818818818819 | Blacks:5286 | Area:5994\n",
      "Componente:11 | Ratio:0.9148351648351648 | Blacks:999 | Area:1092\n",
      "Componente:12 | Ratio:0.9495192307692307 | Blacks:1580 | Area:1664\n",
      "Componente:13 | Ratio:0.924865831842576 | Blacks:1034 | Area:1118\n",
      "Componente:14 | Ratio:1.0 | Blacks:27 | Area:27\n",
      "Componente:15 | Ratio:0.9740459590793615 | Blacks:320916 | Area:329467\n",
      "Componente:16 | Ratio:0.7351598173515982 | Blacks:3864 | Area:5256\n",
      "Componente:17 | Ratio:0.7643809523809524 | Blacks:4013 | Area:5250\n",
      "Componente:18 | Ratio:0.7365079365079366 | Blacks:696 | Area:945\n",
      "Componente:19 | Ratio:0.7034813925570228 | Blacks:2930 | Area:4165\n",
      "Componente:20 | Ratio:0.734375 | Blacks:799 | Area:1088\n",
      "Componente:21 | Ratio:0.7365079365079366 | Blacks:2088 | Area:2835\n",
      "Componente:22 | Ratio:0.7608695652173914 | Blacks:2380 | Area:3128\n",
      "Componente:23 | Ratio:0.8314465408805032 | Blacks:1322 | Area:1590\n",
      "Componente:24 | Ratio:0.8603238866396761 | Blacks:425 | Area:494\n",
      "Componente:25 | Ratio:0.7226890756302521 | Blacks:3096 | Area:4284\n",
      "Componente:26 | Ratio:0.7333333333333333 | Blacks:2541 | Area:3465\n",
      "Componente:27 | Ratio:0.7527777777777778 | Blacks:1897 | Area:2520\n",
      "Componente:28 | Ratio:0.74375 | Blacks:833 | Area:1120\n",
      "Componente:29 | Ratio:0.5974025974025974 | Blacks:3496 | Area:5852\n",
      "Componente:30 | Ratio:0.7267080745341615 | Blacks:2340 | Area:3220\n",
      "Componente:31 | Ratio:0.754054054054054 | Blacks:1953 | Area:2590\n",
      "Componente:32 | Ratio:0.5797425118234367 | Blacks:4413 | Area:7612\n",
      "Componente:33 | Ratio:0.7482142857142857 | Blacks:1676 | Area:2240\n",
      "Componente:34 | Ratio:0.5711538461538461 | Blacks:891 | Area:1560\n",
      "Componente:35 | Ratio:0.9467948717948718 | Blacks:1477 | Area:1560\n",
      "Componente:36 | Ratio:0.8974358974358975 | Blacks:420 | Area:468\n",
      "Componente:37 | Ratio:0.7016229712858927 | Blacks:2248 | Area:3204\n",
      "Componente:38 | Ratio:0.6479863868406126 | Blacks:5712 | Area:8815\n",
      "Componente:39 | Ratio:0.720164609053498 | Blacks:700 | Area:972\n",
      "Componente:40 | Ratio:0.7118095238095238 | Blacks:3737 | Area:5250\n",
      "Componente:41 | Ratio:0.853763440860215 | Blacks:1985 | Area:2325\n",
      "Componente:42 | Ratio:0.8557504873294347 | Blacks:439 | Area:513\n",
      "Componente:43 | Ratio:0.5979591836734693 | Blacks:879 | Area:1470\n",
      "Componente:44 | Ratio:0.7593220338983051 | Blacks:3136 | Area:4130\n",
      "Componente:45 | Ratio:0.7212355212355213 | Blacks:1868 | Area:2590\n",
      "Componente:46 | Ratio:0.7181069958847737 | Blacks:698 | Area:972\n",
      "Componente:47 | Ratio:0.7885714285714286 | Blacks:2346 | Area:2975\n",
      "Componente:48 | Ratio:0.7052631578947368 | Blacks:938 | Area:1330\n",
      "Componente:49 | Ratio:0.6200365726227796 | Blacks:4747 | Area:7656\n",
      "Componente:50 | Ratio:0.746218487394958 | Blacks:1332 | Area:1785\n",
      "Componente:51 | Ratio:0.8246376811594203 | Blacks:1138 | Area:1380\n",
      "Componente:52 | Ratio:0.8527472527472527 | Blacks:2328 | Area:2730\n",
      "Componente:53 | Ratio:0.8933333333333333 | Blacks:402 | Area:450\n",
      "Componente:54 | Ratio:0.7081081081081081 | Blacks:917 | Area:1295\n",
      "Componente:55 | Ratio:0.7635854341736694 | Blacks:1363 | Area:1785\n",
      "Componente:56 | Ratio:0.5695652173913044 | Blacks:2882 | Area:5060\n",
      "Componente:57 | Ratio:0.72806484295846 | Blacks:3593 | Area:4935\n",
      "Componente:58 | Ratio:0.5774667405764967 | Blacks:4167 | Area:7216\n",
      "Componente:59 | Ratio:0.6211003970504821 | Blacks:1095 | Area:1763\n",
      "Componente:60 | Ratio:0.7563025210084033 | Blacks:1350 | Area:1785\n",
      "Componente:61 | Ratio:0.7097035040431267 | Blacks:5266 | Area:7420\n",
      "Componente:62 | Ratio:0.9682352941176471 | Blacks:823 | Area:850\n",
      "Componente:63 | Ratio:0.6411363636363636 | Blacks:2821 | Area:4400\n",
      "Componente:64 | Ratio:0.7495798319327731 | Blacks:1338 | Area:1785\n",
      "Componente:65 | Ratio:0.7030075187969925 | Blacks:935 | Area:1330\n",
      "Componente:66 | Ratio:0.7428571428571429 | Blacks:702 | Area:945\n",
      "Componente:67 | Ratio:0.5548418972332015 | Blacks:2246 | Area:4048\n",
      "Componente:68 | Ratio:0.8244781783681214 | Blacks:869 | Area:1054\n",
      "Componente:69 | Ratio:0.8338008415147266 | Blacks:2378 | Area:2852\n",
      "Componente:70 | Ratio:0.8268115942028985 | Blacks:1141 | Area:1380\n",
      "Componente:71 | Ratio:0.9087995337995338 | Blacks:3119 | Area:3432\n",
      "Componente:72 | Ratio:0.927536231884058 | Blacks:1600 | Area:1725\n",
      "Componente:73 | Ratio:0.9637452711223203 | Blacks:3057 | Area:3172\n",
      "Componente:74 | Ratio:0.9437869822485208 | Blacks:1276 | Area:1352\n",
      "Componente:75 | Ratio:0.564440133037694 | Blacks:4073 | Area:7216\n",
      "Componente:76 | Ratio:0.6108905275099262 | Blacks:1077 | Area:1763\n",
      "Componente:77 | Ratio:0.7607466063348416 | Blacks:1345 | Area:1768\n",
      "Componente:78 | Ratio:0.7791738382099828 | Blacks:4527 | Area:5810\n",
      "Componente:79 | Ratio:0.732871012482663 | Blacks:2642 | Area:3605\n",
      "Componente:80 | Ratio:0.743546339399069 | Blacks:3514 | Area:4726\n",
      "Componente:81 | Ratio:0.754325259515571 | Blacks:1308 | Area:1734\n",
      "Componente:82 | Ratio:0.793939393939394 | Blacks:786 | Area:990\n",
      "Componente:83 | Ratio:0.9214046822742475 | Blacks:2204 | Area:2392\n",
      "Componente:84 | Ratio:0.9505882352941176 | Blacks:808 | Area:850\n",
      "Componente:85 | Ratio:0.6136363636363636 | Blacks:3429 | Area:5588\n",
      "Componente:86 | Ratio:0.7189189189189189 | Blacks:931 | Area:1295\n",
      "Componente:87 | Ratio:0.614986498649865 | Blacks:5466 | Area:8888\n",
      "Componente:88 | Ratio:0.7607843137254902 | Blacks:1358 | Area:1785\n",
      "Componente:89 | Ratio:0.7318627450980392 | Blacks:1493 | Area:2040\n",
      "Componente:90 | Ratio:0.5829844497607656 | Blacks:3899 | Area:6688\n",
      "Componente:91 | Ratio:0.8051020408163265 | Blacks:789 | Area:980\n",
      "Componente:92 | Ratio:0.8643724696356275 | Blacks:427 | Area:494\n",
      "Componente:93 | Ratio:0.9032921810699589 | Blacks:2634 | Area:2916\n",
      "Componente:94 | Ratio:0.9054366685945633 | Blacks:3131 | Area:3458\n",
      "Componente:95 | Ratio:0.6922514619883041 | Blacks:947 | Area:1368\n",
      "Componente:96 | Ratio:0.6194638694638694 | Blacks:3189 | Area:5148\n",
      "Componente:97 | Ratio:0.7428571428571429 | Blacks:806 | Area:1085\n",
      "Componente:98 | Ratio:0.7549019607843137 | Blacks:1386 | Area:1836\n",
      "Componente:99 | Ratio:0.7534391534391535 | Blacks:712 | Area:945\n",
      "Componente:100 | Ratio:0.6470454545454546 | Blacks:2847 | Area:4400\n",
      "Componente:101 | Ratio:0.7315068493150685 | Blacks:1869 | Area:2555\n",
      "Componente:102 | Ratio:0.7291666666666666 | Blacks:1365 | Area:1872\n",
      "Componente:103 | Ratio:0.6073926073926074 | Blacks:3040 | Area:5005\n",
      "Componente:104 | Ratio:0.7607142857142857 | Blacks:3834 | Area:5040\n",
      "Componente:105 | Ratio:0.9182769726247987 | Blacks:2281 | Area:2484\n",
      "Componente:106 | Ratio:0.6130153999006458 | Blacks:4936 | Area:8052\n",
      "Componente:107 | Ratio:0.7435897435897436 | Blacks:2030 | Area:2730\n",
      "Componente:108 | Ratio:0.6312316715542522 | Blacks:4305 | Area:6820\n",
      "Componente:109 | Ratio:0.7135135135135136 | Blacks:924 | Area:1295\n",
      "Componente:110 | Ratio:0.7587822014051522 | Blacks:1620 | Area:2135\n",
      "Componente:111 | Ratio:0.7147058823529412 | Blacks:972 | Area:1360\n",
      "Componente:112 | Ratio:0.6684451219512195 | Blacks:877 | Area:1312\n",
      "Componente:113 | Ratio:0.8074596774193549 | Blacks:801 | Area:992\n",
      "Componente:114 | Ratio:0.8217391304347826 | Blacks:1134 | Area:1380\n",
      "Componente:115 | Ratio:0.7070735090152566 | Blacks:2549 | Area:3605\n",
      "Componente:116 | Ratio:0.9270557029177718 | Blacks:1398 | Area:1508\n",
      "Componente:117 | Ratio:0.4699519230769231 | Blacks:4301 | Area:9152\n",
      "Componente:118 | Ratio:0.703763440860215 | Blacks:3927 | Area:5580\n",
      "Componente:119 | Ratio:0.7120879120879121 | Blacks:1620 | Area:2275\n",
      "Componente:120 | Ratio:0.7387461459403906 | Blacks:3594 | Area:4865\n",
      "Componente:121 | Ratio:0.759073359073359 | Blacks:1966 | Area:2590\n",
      "Componente:122 | Ratio:0.7681660899653979 | Blacks:1332 | Area:1734\n",
      "Componente:123 | Ratio:0.6067932067932068 | Blacks:3037 | Area:5005\n",
      "Componente:124 | Ratio:0.7390476190476191 | Blacks:1552 | Area:2100\n",
      "Componente:125 | Ratio:0.7165413533834587 | Blacks:953 | Area:1330\n",
      "Componente:126 | Ratio:0.7753501400560224 | Blacks:1384 | Area:1785\n",
      "Componente:127 | Ratio:0.7202521670606777 | Blacks:3656 | Area:5076\n",
      "Componente:128 | Ratio:0.8744444444444445 | Blacks:2361 | Area:2700\n",
      "Componente:129 | Ratio:0.9121863799283154 | Blacks:1527 | Area:1674\n",
      "Componente:130 | Ratio:0.8830769230769231 | Blacks:287 | Area:325\n",
      "Componente:131 | Ratio:0.8164300202839757 | Blacks:805 | Area:986\n",
      "Componente:132 | Ratio:0.7463235294117647 | Blacks:2030 | Area:2720\n",
      "Componente:133 | Ratio:0.7080170777988615 | Blacks:2985 | Area:4216\n",
      "Componente:134 | Ratio:0.7258064516129032 | Blacks:765 | Area:1054\n",
      "Componente:135 | Ratio:0.7622549019607843 | Blacks:1244 | Area:1632\n",
      "Componente:136 | Ratio:0.6292063492063492 | Blacks:3964 | Area:6300\n",
      "Componente:137 | Ratio:0.4339250493096647 | Blacks:1100 | Area:2535\n",
      "Componente:138 | Ratio:0.12996778527835787 | Blacks:16057 | Area:123546\n",
      "Componente:139 | Ratio:0.6547842401500938 | Blacks:2792 | Area:4264\n",
      "Componente:140 | Ratio:0.9002079002079002 | Blacks:866 | Area:962\n",
      "Componente:141 | Ratio:0.9352 | Blacks:1169 | Area:1250\n",
      "Componente:142 | Ratio:0.9594017094017094 | Blacks:898 | Area:936\n",
      "Componente:143 | Ratio:0.87 | Blacks:261 | Area:300\n",
      "Componente:144 | Ratio:0.6246031746031746 | Blacks:3935 | Area:6300\n",
      "Componente:145 | Ratio:0.7027027027027027 | Blacks:2548 | Area:3626\n",
      "Componente:146 | Ratio:0.21244588744588744 | Blacks:1963 | Area:9240\n",
      "Componente:147 | Ratio:1.0 | Blacks:12 | Area:12\n",
      "Componente:148 | Ratio:0.8141414141414142 | Blacks:806 | Area:990\n",
      "Componente:149 | Ratio:0.7598204264870931 | Blacks:2031 | Area:2673\n",
      "Componente:150 | Ratio:0.6326912787586945 | Blacks:2365 | Area:3738\n",
      "Componente:151 | Ratio:0.7458455522971652 | Blacks:763 | Area:1023\n",
      "Componente:152 | Ratio:0.7922979797979798 | Blacks:1255 | Area:1584\n",
      "Componente:153 | Ratio:0.6355555555555555 | Blacks:4004 | Area:6300\n",
      "Componente:154 | Ratio:0.42672064777327934 | Blacks:1054 | Area:2470\n",
      "Componente:155 | Ratio:0.7608486017357763 | Blacks:1578 | Area:2074\n",
      "Componente:156 | Ratio:0.604073075771189 | Blacks:4034 | Area:6678\n",
      "Componente:157 | Ratio:0.9374358974358974 | Blacks:914 | Area:975\n",
      "Componente:158 | Ratio:0.8711111111111111 | Blacks:392 | Area:450\n",
      "Componente:159 | Ratio:0.6461794019933554 | Blacks:3890 | Area:6020\n",
      "Componente:160 | Ratio:0.649749373433584 | Blacks:2074 | Area:3192\n",
      "Componente:161 | Ratio:0.6098837209302326 | Blacks:1049 | Area:1720\n",
      "Componente:162 | Ratio:0.26541471048513304 | Blacks:1696 | Area:6390\n",
      "Componente:163 | Ratio:0.7264302981466559 | Blacks:1803 | Area:2482\n",
      "Componente:164 | Ratio:0.7049335863377609 | Blacks:2972 | Area:4216\n",
      "Componente:165 | Ratio:0.725189393939394 | Blacks:3829 | Area:5280\n",
      "Componente:166 | Ratio:0.742540494458653 | Blacks:1742 | Area:2346\n",
      "Componente:167 | Ratio:0.5998712998712998 | Blacks:4661 | Area:7770\n",
      "Componente:168 | Ratio:0.8338557993730408 | Blacks:798 | Area:957\n",
      "Componente:169 | Ratio:0.759090909090909 | Blacks:2004 | Area:2640\n",
      "Componente:170 | Ratio:0.6314285714285715 | Blacks:221 | Area:350\n",
      "Componente:171 | Ratio:0.8399014778325123 | Blacks:682 | Area:812\n",
      "Componente:172 | Ratio:0.7965517241379311 | Blacks:1386 | Area:1740\n",
      "Componente:173 | Ratio:0.9376 | Blacks:1172 | Area:1250\n",
      "Componente:174 | Ratio:0.6291472868217054 | Blacks:2029 | Area:3225\n",
      "Componente:175 | Ratio:0.651219512195122 | Blacks:1068 | Area:1640\n",
      "Componente:176 | Ratio:0.6393650793650794 | Blacks:2014 | Area:3150\n",
      "Componente:177 | Ratio:0.9383783783783783 | Blacks:868 | Area:925\n",
      "Componente:178 | Ratio:0.8316430020283976 | Blacks:820 | Area:986\n",
      "Componente:179 | Ratio:0.7334785766158315 | Blacks:2020 | Area:2754\n",
      "Componente:180 | Ratio:0.7458823529411764 | Blacks:634 | Area:850\n",
      "Componente:181 | Ratio:0.7836504580690627 | Blacks:3336 | Area:4257\n",
      "Componente:182 | Ratio:0.5968201233981965 | Blacks:2515 | Area:4214\n",
      "Componente:183 | Ratio:0.7286527514231499 | Blacks:768 | Area:1054\n",
      "Componente:184 | Ratio:0.7702205882352942 | Blacks:1257 | Area:1632\n",
      "Componente:185 | Ratio:0.6005724694249285 | Blacks:4616 | Area:7686\n",
      "Componente:186 | Ratio:0.75 | Blacks:234 | Area:312\n",
      "Componente:187 | Ratio:0.9141483516483516 | Blacks:1331 | Area:1456\n",
      "Componente:188 | Ratio:0.964390243902439 | Blacks:1977 | Area:2050\n",
      "Componente:189 | Ratio:0.888095238095238 | Blacks:746 | Area:840\n",
      "Componente:190 | Ratio:0.65775950668037 | Blacks:3840 | Area:5838\n",
      "Componente:191 | Ratio:0.6492297817715019 | Blacks:2023 | Area:3116\n",
      "Componente:192 | Ratio:0.6088252832438878 | Blacks:1021 | Area:1677\n",
      "Componente:193 | Ratio:0.7611764705882353 | Blacks:647 | Area:850\n",
      "Componente:194 | Ratio:0.7372122762148338 | Blacks:2306 | Area:3128\n",
      "Componente:195 | Ratio:0.6025641025641025 | Blacks:987 | Area:1638\n",
      "Componente:196 | Ratio:0.7779839208410637 | Blacks:1258 | Area:1617\n",
      "Componente:197 | Ratio:0.6245275888133031 | Blacks:3305 | Area:5292\n",
      "Componente:198 | Ratio:0.7075163398692811 | Blacks:866 | Area:1224\n",
      "Componente:199 | Ratio:0.7506127450980392 | Blacks:1225 | Area:1632\n",
      "Componente:200 | Ratio:0.8905325443786982 | Blacks:301 | Area:338\n",
      "Componente:201 | Ratio:0.7533613445378151 | Blacks:3586 | Area:4760\n",
      "Componente:202 | Ratio:0.7247899159663865 | Blacks:1725 | Area:2380\n",
      "Componente:203 | Ratio:0.6479062620053784 | Blacks:3373 | Area:5206\n",
      "Componente:204 | Ratio:0.8220689655172414 | Blacks:1192 | Area:1450\n",
      "Componente:205 | Ratio:1.0 | Blacks:12 | Area:12\n",
      "Componente:206 | Ratio:0.6322964669738863 | Blacks:3293 | Area:5208\n",
      "Componente:207 | Ratio:0.610236220472441 | Blacks:3255 | Area:5334\n",
      "Componente:208 | Ratio:0.701797385620915 | Blacks:859 | Area:1224\n",
      "Componente:209 | Ratio:0.7617046818727491 | Blacks:1269 | Area:1666\n",
      "Componente:210 | Ratio:0.7423611111111111 | Blacks:1069 | Area:1440\n",
      "Componente:211 | Ratio:0.7616666666666667 | Blacks:914 | Area:1200\n",
      "Componente:212 | Ratio:0.6107826576576577 | Blacks:4339 | Area:7104\n",
      "Componente:213 | Ratio:0.6413043478260869 | Blacks:2478 | Area:3864\n",
      "Componente:214 | Ratio:0.7468805704099821 | Blacks:1257 | Area:1683\n",
      "Componente:215 | Ratio:0.7264367816091954 | Blacks:632 | Area:870\n",
      "Componente:216 | Ratio:0.8658333333333333 | Blacks:5195 | Area:6000\n",
      "Componente:217 | Ratio:0.8023188405797101 | Blacks:2768 | Area:3450\n",
      "Componente:218 | Ratio:0.6519916142557652 | Blacks:1244 | Area:1908\n",
      "Componente:219 | Ratio:0.5769230769230769 | Blacks:420 | Area:728\n",
      "Componente:220 | Ratio:0.6681063122923588 | Blacks:2011 | Area:3010\n",
      "Componente:221 | Ratio:0.6443758573388203 | Blacks:1879 | Area:2916\n",
      "Componente:222 | Ratio:0.9570361145703612 | Blacks:1537 | Area:1606\n",
      "Componente:223 | Ratio:0.978494623655914 | Blacks:637 | Area:651\n",
      "Componente:224 | Ratio:0.6294117647058823 | Blacks:1926 | Area:3060\n",
      "Componente:225 | Ratio:0.5666666666666667 | Blacks:4080 | Area:7200\n",
      "Componente:226 | Ratio:1.0 | Blacks:12 | Area:12\n",
      "Componente:227 | Ratio:0.7247474747474747 | Blacks:861 | Area:1188\n",
      "Componente:228 | Ratio:0.7647058823529411 | Blacks:1248 | Area:1632\n",
      "Componente:229 | Ratio:0.6386723661051044 | Blacks:2540 | Area:3977\n",
      "Componente:230 | Ratio:0.6703296703296703 | Blacks:1830 | Area:2730\n",
      "Componente:231 | Ratio:0.7555147058823529 | Blacks:1233 | Area:1632\n",
      "Componente:232 | Ratio:0.5819548872180451 | Blacks:2322 | Area:3990\n",
      "Componente:233 | Ratio:0.700204406086759 | Blacks:3083 | Area:4403\n",
      "Componente:234 | Ratio:0.807070707070707 | Blacks:799 | Area:990\n",
      "Componente:235 | Ratio:0.7773109243697479 | Blacks:1480 | Area:1904\n",
      "Componente:236 | Ratio:0.7575757575757576 | Blacks:625 | Area:825\n",
      "Componente:237 | Ratio:0.5952380952380952 | Blacks:2025 | Area:3402\n",
      "Componente:238 | Ratio:0.6098901098901099 | Blacks:1665 | Area:2730\n",
      "Componente:239 | Ratio:0.7988980716253443 | Blacks:580 | Area:726\n",
      "Componente:240 | Ratio:0.7466666666666667 | Blacks:616 | Area:825\n",
      "Componente:241 | Ratio:0.7909921129099211 | Blacks:3811 | Area:4818\n",
      "Componente:242 | Ratio:0.8032983508245877 | Blacks:2679 | Area:3335\n",
      "Componente:243 | Ratio:0.8666666666666667 | Blacks:728 | Area:840\n",
      "Componente:244 | Ratio:0.8970588235294118 | Blacks:366 | Area:408\n",
      "Componente:245 | Ratio:0.8842592592592593 | Blacks:382 | Area:432\n",
      "Componente:246 | Ratio:0.7329995828118482 | Blacks:3514 | Area:4794\n",
      "Componente:247 | Ratio:0.6281179138321995 | Blacks:1662 | Area:2646\n",
      "Componente:248 | Ratio:0.6266233766233766 | Blacks:579 | Area:924\n",
      "Componente:249 | Ratio:0.8165289256198347 | Blacks:1482 | Area:1815\n",
      "Componente:250 | Ratio:0.95375 | Blacks:763 | Area:800\n"
     ]
    }
   ],
   "source": [
    "for label in black_pixels_ratios:\n",
    "    print('Componente:{} | Ratio:{} | Blacks:{} | Area:{}'.format(label,black_pixels_ratios[label], black_pixels_amount[label], component_area[label]))"
   ]
  },
  {
   "cell_type": "code",
   "execution_count": 32,
   "metadata": {},
   "outputs": [
    {
     "data": {
      "text/plain": [
       "array([     12,      12,      12,      27,     300,     312,     325,\n",
       "           338,     350,     408,     432,     450,     450,     468,\n",
       "           494,     494,     513,     651,     660,     690,     726,\n",
       "           728,     800,     812,     825,     825,     840,     840,\n",
       "           850,     850,     850,     850,     870,     924,     925,\n",
       "           936,     945,     945,     945,     957,     962,     972,\n",
       "           972,     975,     980,     986,     986,     990,     990,\n",
       "           990,     992,    1023,    1054,    1054,    1054,    1085,\n",
       "          1088,    1092,    1118,    1120,    1188,    1200,    1224,\n",
       "          1224,    1250,    1250,    1295,    1295,    1295,    1300,\n",
       "          1312,    1330,    1330,    1330,    1352,    1360,    1368,\n",
       "          1380,    1380,    1380,    1431,    1440,    1450,    1456,\n",
       "          1470,    1508,    1560,    1560,    1584,    1590,    1606,\n",
       "          1617,    1632,    1632,    1632,    1632,    1632,    1638,\n",
       "          1638,    1640,    1664,    1666,    1674,    1677,    1683,\n",
       "          1720,    1725,    1734,    1734,    1740,    1763,    1763,\n",
       "          1768,    1768,    1785,    1785,    1785,    1785,    1785,\n",
       "          1785,    1815,    1825,    1836,    1872,    1904,    1908,\n",
       "          2040,    2050,    2074,    2100,    2135,    2240,    2275,\n",
       "          2325,    2346,    2380,    2392,    2470,    2482,    2484,\n",
       "          2520,    2535,    2555,    2590,    2590,    2590,    2640,\n",
       "          2646,    2673,    2700,    2720,    2730,    2730,    2730,\n",
       "          2730,    2754,    2835,    2852,    2916,    2916,    2975,\n",
       "          3010,    3060,    3116,    3128,    3128,    3150,    3172,\n",
       "          3192,    3204,    3220,    3225,    3335,    3402,    3432,\n",
       "          3450,    3458,    3465,    3605,    3605,    3626,    3738,\n",
       "          3834,    3864,    3977,    3990,    4048,    4130,    4165,\n",
       "          4214,    4216,    4216,    4257,    4264,    4284,    4400,\n",
       "          4400,    4403,    4726,    4760,    4794,    4818,    4865,\n",
       "          4935,    5005,    5005,    5040,    5060,    5076,    5148,\n",
       "          5206,    5208,    5250,    5250,    5256,    5280,    5292,\n",
       "          5334,    5580,    5588,    5810,    5838,    5852,    5994,\n",
       "          6000,    6020,    6240,    6300,    6300,    6300,    6390,\n",
       "          6678,    6688,    6820,    7104,    7200,    7216,    7216,\n",
       "          7420,    7612,    7656,    7686,    7770,    8052,    8815,\n",
       "          8888,    9152,    9240,  123546,  329467, 3068142], dtype=int32)"
      ]
     },
     "execution_count": 32,
     "metadata": {},
     "output_type": "execute_result"
    }
   ],
   "source": [
    "np.sort(list(component_area.values()))"
   ]
  },
  {
   "cell_type": "markdown",
   "metadata": {},
   "source": [
    "##### b) Razão entre o número de transições de branco para preto e o número de pixels pretos, para cada retângulo envolvendo um componente conexo"
   ]
  },
  {
   "cell_type": "code",
   "execution_count": 33,
   "metadata": {},
   "outputs": [],
   "source": [
    "transition_ratios={}\n",
    "hor_tran_amount = {}\n",
    "ver_tran_amount = {}\n",
    "total_black_amount = {}"
   ]
  },
  {
   "cell_type": "code",
   "execution_count": 34,
   "metadata": {},
   "outputs": [],
   "source": [
    "for label, stat in zip(range(number_of_labels),stats):\n",
    "    transition_ratios[label], hor_tran_amount[label], ver_tran_amount[label], total_black_amount[label] = getTransitionsRate(np.copy(image_p6), stat, black_pixels_amount[label])"
   ]
  },
  {
   "cell_type": "code",
   "execution_count": 35,
   "metadata": {},
   "outputs": [
    {
     "name": "stdout",
     "output_type": "stream",
     "text": [
      "Componente:0 | Ratio:0.08346410927056089 | Horizontal:23530, Vertical:43962 | Blacks:808635\n",
      "Componente:1 | Ratio:0.08033161806746712 | Horizontal:39, Vertical:242 | Blacks:3498\n",
      "Componente:2 | Ratio:0.0720164609053498 | Horizontal:35, Vertical:70 | Blacks:1458\n",
      "Componente:3 | Ratio:0.11933375500737929 | Horizontal:113, Vertical:453 | Blacks:4743\n",
      "Componente:4 | Ratio:0.07890855457227139 | Horizontal:46, Vertical:61 | Blacks:1356\n",
      "Componente:5 | Ratio:0.21525885558583105 | Horizontal:42, Vertical:37 | Blacks:367\n",
      "Componente:6 | Ratio:0.06964285714285715 | Horizontal:41, Vertical:37 | Blacks:1120\n",
      "Componente:7 | Ratio:0.18872549019607843 | Horizontal:33, Vertical:44 | Blacks:408\n",
      "Componente:8 | Ratio:0.02733485193621868 | Horizontal:33, Vertical:15 | Blacks:1756\n",
      "Componente:9 | Ratio:0.10366328916601715 | Horizontal:45, Vertical:88 | Blacks:1283\n",
      "Componente:10 | Ratio:0.088157396897465 | Horizontal:88, Vertical:378 | Blacks:5286\n",
      "Componente:11 | Ratio:0.08008008008008008 | Horizontal:32, Vertical:48 | Blacks:999\n",
      "Componente:12 | Ratio:0.052531645569620256 | Horizontal:37, Vertical:46 | Blacks:1580\n",
      "Componente:13 | Ratio:0.07640232108317214 | Horizontal:23, Vertical:56 | Blacks:1034\n",
      "Componente:14 | Ratio:0.0 | Horizontal:0, Vertical:0 | Blacks:27\n",
      "Componente:15 | Ratio:0.007649976941006369 | Horizontal:1186, Vertical:1269 | Blacks:320916\n",
      "Componente:16 | Ratio:0.09497929606625259 | Horizontal:75, Vertical:292 | Blacks:3864\n",
      "Componente:17 | Ratio:0.07949165213057563 | Horizontal:105, Vertical:214 | Blacks:4013\n",
      "Componente:18 | Ratio:0.11063218390804598 | Horizontal:50, Vertical:27 | Blacks:696\n",
      "Componente:19 | Ratio:0.11638225255972696 | Horizontal:106, Vertical:235 | Blacks:2930\n",
      "Componente:20 | Ratio:0.09887359198998748 | Horizontal:48, Vertical:31 | Blacks:799\n",
      "Componente:21 | Ratio:0.11302681992337164 | Horizontal:81, Vertical:155 | Blacks:2088\n",
      "Componente:22 | Ratio:0.06302521008403361 | Horizontal:49, Vertical:101 | Blacks:2380\n",
      "Componente:23 | Ratio:0.0907715582450832 | Horizontal:32, Vertical:88 | Blacks:1322\n",
      "Componente:24 | Ratio:0.1011764705882353 | Horizontal:29, Vertical:14 | Blacks:425\n",
      "Componente:25 | Ratio:0.07202842377260982 | Horizontal:69, Vertical:154 | Blacks:3096\n",
      "Componente:26 | Ratio:0.06139315230224321 | Horizontal:51, Vertical:105 | Blacks:2541\n",
      "Componente:27 | Ratio:0.06852925672113865 | Horizontal:58, Vertical:72 | Blacks:1897\n",
      "Componente:28 | Ratio:0.10204081632653061 | Horizontal:48, Vertical:37 | Blacks:833\n",
      "Componente:29 | Ratio:0.10440503432494279 | Horizontal:95, Vertical:270 | Blacks:3496\n",
      "Componente:30 | Ratio:0.09444444444444444 | Horizontal:43, Vertical:178 | Blacks:2340\n",
      "Componente:31 | Ratio:0.07578084997439836 | Horizontal:67, Vertical:81 | Blacks:1953\n",
      "Componente:32 | Ratio:0.10174484477679584 | Horizontal:89, Vertical:360 | Blacks:4413\n",
      "Componente:33 | Ratio:0.09606205250596658 | Horizontal:67, Vertical:94 | Blacks:1676\n",
      "Componente:34 | Ratio:0.14702581369248036 | Horizontal:55, Vertical:76 | Blacks:891\n",
      "Componente:35 | Ratio:0.05010155721056195 | Horizontal:27, Vertical:47 | Blacks:1477\n",
      "Componente:36 | Ratio:0.09285714285714286 | Horizontal:28, Vertical:11 | Blacks:420\n",
      "Componente:37 | Ratio:0.10097864768683273 | Horizontal:57, Vertical:170 | Blacks:2248\n",
      "Componente:38 | Ratio:0.0938375350140056 | Horizontal:155, Vertical:381 | Blacks:5712\n",
      "Componente:39 | Ratio:0.13857142857142857 | Horizontal:46, Vertical:51 | Blacks:700\n",
      "Componente:40 | Ratio:0.10436178753010436 | Horizontal:105, Vertical:285 | Blacks:3737\n",
      "Componente:41 | Ratio:0.05340050377833753 | Horizontal:30, Vertical:76 | Blacks:1985\n",
      "Componente:42 | Ratio:0.13895216400911162 | Horizontal:33, Vertical:28 | Blacks:439\n",
      "Componente:43 | Ratio:0.20819112627986347 | Horizontal:98, Vertical:85 | Blacks:879\n",
      "Componente:44 | Ratio:0.07557397959183673 | Horizontal:73, Vertical:164 | Blacks:3136\n",
      "Componente:45 | Ratio:0.1322269807280514 | Horizontal:87, Vertical:160 | Blacks:1868\n",
      "Componente:46 | Ratio:0.14040114613180515 | Horizontal:46, Vertical:52 | Blacks:698\n",
      "Componente:47 | Ratio:0.06308610400682012 | Horizontal:65, Vertical:83 | Blacks:2346\n",
      "Componente:48 | Ratio:0.09914712153518124 | Horizontal:47, Vertical:46 | Blacks:938\n",
      "Componente:49 | Ratio:0.10132715399199495 | Horizontal:115, Vertical:366 | Blacks:4747\n",
      "Componente:50 | Ratio:0.10285285285285285 | Horizontal:53, Vertical:84 | Blacks:1332\n",
      "Componente:51 | Ratio:0.06766256590509666 | Horizontal:28, Vertical:49 | Blacks:1138\n",
      "Componente:52 | Ratio:0.055412371134020616 | Horizontal:44, Vertical:85 | Blacks:2328\n",
      "Componente:53 | Ratio:0.09203980099502487 | Horizontal:27, Vertical:10 | Blacks:402\n",
      "Componente:54 | Ratio:0.09596510359869138 | Horizontal:43, Vertical:45 | Blacks:917\n",
      "Componente:55 | Ratio:0.07556859867938372 | Horizontal:50, Vertical:53 | Blacks:1363\n",
      "Componente:56 | Ratio:0.13601665510062458 | Horizontal:133, Vertical:259 | Blacks:2882\n",
      "Componente:57 | Ratio:0.09796827163929864 | Horizontal:74, Vertical:278 | Blacks:3593\n",
      "Componente:58 | Ratio:0.11159107271418287 | Horizontal:124, Vertical:341 | Blacks:4167\n",
      "Componente:59 | Ratio:0.14703196347031963 | Horizontal:73, Vertical:88 | Blacks:1095\n",
      "Componente:60 | Ratio:0.08888888888888889 | Horizontal:48, Vertical:72 | Blacks:1350\n",
      "Componente:61 | Ratio:0.09266995822255981 | Horizontal:70, Vertical:418 | Blacks:5266\n",
      "Componente:62 | Ratio:0.03645200486026731 | Horizontal:23, Vertical:7 | Blacks:823\n",
      "Componente:63 | Ratio:0.10811768876285005 | Horizontal:95, Vertical:210 | Blacks:2821\n",
      "Componente:64 | Ratio:0.09715994020926756 | Horizontal:48, Vertical:82 | Blacks:1338\n",
      "Componente:65 | Ratio:0.11871657754010695 | Horizontal:44, Vertical:67 | Blacks:935\n",
      "Componente:66 | Ratio:0.10683760683760683 | Horizontal:45, Vertical:30 | Blacks:702\n",
      "Componente:67 | Ratio:0.11353517364203028 | Horizontal:74, Vertical:181 | Blacks:2246\n",
      "Componente:68 | Ratio:0.08630609896432681 | Horizontal:47, Vertical:28 | Blacks:869\n",
      "Componente:69 | Ratio:0.07401177460050462 | Horizontal:52, Vertical:124 | Blacks:2378\n",
      "Componente:70 | Ratio:0.09290096406660824 | Horizontal:36, Vertical:70 | Blacks:1141\n",
      "Componente:71 | Ratio:0.05995511381853158 | Horizontal:35, Vertical:152 | Blacks:3119\n",
      "Componente:72 | Ratio:0.05875 | Horizontal:44, Vertical:50 | Blacks:1600\n",
      "Componente:73 | Ratio:0.040235525024533855 | Horizontal:18, Vertical:105 | Blacks:3057\n",
      "Componente:74 | Ratio:0.0603448275862069 | Horizontal:28, Vertical:49 | Blacks:1276\n",
      "Componente:75 | Ratio:0.1185858089860054 | Horizontal:124, Vertical:359 | Blacks:4073\n",
      "Componente:76 | Ratio:0.1532033426183844 | Horizontal:75, Vertical:90 | Blacks:1077\n",
      "Componente:77 | Ratio:0.07806691449814127 | Horizontal:50, Vertical:55 | Blacks:1345\n",
      "Componente:78 | Ratio:0.07157057654075547 | Horizontal:111, Vertical:213 | Blacks:4527\n",
      "Componente:79 | Ratio:0.09348978046934141 | Horizontal:77, Vertical:170 | Blacks:2642\n",
      "Componente:80 | Ratio:0.0811041548093341 | Horizontal:79, Vertical:206 | Blacks:3514\n",
      "Componente:81 | Ratio:0.09480122324159021 | Horizontal:52, Vertical:72 | Blacks:1308\n",
      "Componente:82 | Ratio:0.12340966921119594 | Horizontal:39, Vertical:58 | Blacks:786\n",
      "Componente:83 | Ratio:0.08938294010889292 | Horizontal:30, Vertical:167 | Blacks:2204\n",
      "Componente:84 | Ratio:0.050742574257425746 | Horizontal:26, Vertical:15 | Blacks:808\n",
      "Componente:85 | Ratio:0.10294546515018956 | Horizontal:83, Vertical:270 | Blacks:3429\n",
      "Componente:86 | Ratio:0.09774436090225563 | Horizontal:46, Vertical:45 | Blacks:931\n",
      "Componente:87 | Ratio:0.09165751920965971 | Horizontal:110, Vertical:391 | Blacks:5466\n",
      "Componente:88 | Ratio:0.10235640648011782 | Horizontal:55, Vertical:84 | Blacks:1358\n",
      "Componente:89 | Ratio:0.09444072337575352 | Horizontal:72, Vertical:69 | Blacks:1493\n",
      "Componente:90 | Ratio:0.09617850730956655 | Horizontal:75, Vertical:300 | Blacks:3899\n",
      "Componente:91 | Ratio:0.10266159695817491 | Horizontal:54, Vertical:27 | Blacks:789\n",
      "Componente:92 | Ratio:0.09601873536299765 | Horizontal:29, Vertical:12 | Blacks:427\n",
      "Componente:93 | Ratio:0.08580106302201974 | Horizontal:38, Vertical:188 | Blacks:2634\n",
      "Componente:94 | Ratio:0.05972532737144682 | Horizontal:31, Vertical:156 | Blacks:3131\n",
      "Componente:95 | Ratio:0.11932418162618796 | Horizontal:47, Vertical:66 | Blacks:947\n",
      "Componente:96 | Ratio:0.11790529946691752 | Horizontal:111, Vertical:265 | Blacks:3189\n",
      "Componente:97 | Ratio:0.09553349875930521 | Horizontal:45, Vertical:32 | Blacks:806\n",
      "Componente:98 | Ratio:0.09884559884559885 | Horizontal:46, Vertical:91 | Blacks:1386\n",
      "Componente:99 | Ratio:0.10955056179775281 | Horizontal:48, Vertical:30 | Blacks:712\n",
      "Componente:100 | Ratio:0.10677906568317527 | Horizontal:98, Vertical:206 | Blacks:2847\n",
      "Componente:101 | Ratio:0.09951845906902086 | Horizontal:59, Vertical:127 | Blacks:1869\n",
      "Componente:102 | Ratio:0.10695970695970695 | Horizontal:51, Vertical:95 | Blacks:1365\n",
      "Componente:103 | Ratio:0.10888157894736843 | Horizontal:105, Vertical:226 | Blacks:3040\n",
      "Componente:104 | Ratio:0.07198748043818466 | Horizontal:70, Vertical:206 | Blacks:3834\n",
      "Componente:105 | Ratio:0.08505041648399825 | Horizontal:34, Vertical:160 | Blacks:2281\n",
      "Componente:106 | Ratio:0.09481361426256078 | Horizontal:111, Vertical:357 | Blacks:4936\n",
      "Componente:107 | Ratio:0.07142857142857142 | Horizontal:53, Vertical:92 | Blacks:2030\n",
      "Componente:108 | Ratio:0.09895470383275261 | Horizontal:111, Vertical:315 | Blacks:4305\n",
      "Componente:109 | Ratio:0.09632034632034632 | Horizontal:46, Vertical:43 | Blacks:924\n",
      "Componente:110 | Ratio:0.08024691358024691 | Horizontal:52, Vertical:78 | Blacks:1620\n",
      "Componente:111 | Ratio:0.09979423868312758 | Horizontal:46, Vertical:51 | Blacks:972\n",
      "Componente:112 | Ratio:0.1322690992018244 | Horizontal:58, Vertical:58 | Blacks:877\n",
      "Componente:113 | Ratio:0.10861423220973783 | Horizontal:31, Vertical:56 | Blacks:801\n",
      "Componente:114 | Ratio:0.07671957671957672 | Horizontal:38, Vertical:49 | Blacks:1134\n",
      "Componente:115 | Ratio:0.095723813260102 | Horizontal:53, Vertical:191 | Blacks:2549\n",
      "Componente:116 | Ratio:0.07439198855507868 | Horizontal:34, Vertical:70 | Blacks:1398\n",
      "Componente:117 | Ratio:0.1385724250174378 | Horizontal:178, Vertical:418 | Blacks:4301\n",
      "Componente:118 | Ratio:0.08632543926661573 | Horizontal:82, Vertical:257 | Blacks:3927\n",
      "Componente:119 | Ratio:0.10246913580246914 | Horizontal:67, Vertical:99 | Blacks:1620\n",
      "Componente:120 | Ratio:0.08681135225375626 | Horizontal:89, Vertical:223 | Blacks:3594\n",
      "Componente:121 | Ratio:0.09969481180061038 | Horizontal:78, Vertical:118 | Blacks:1966\n",
      "Componente:122 | Ratio:0.07432432432432433 | Horizontal:49, Vertical:50 | Blacks:1332\n",
      "Componente:123 | Ratio:0.1080013170892328 | Horizontal:100, Vertical:228 | Blacks:3037\n",
      "Componente:124 | Ratio:0.07603092783505154 | Horizontal:55, Vertical:63 | Blacks:1552\n",
      "Componente:125 | Ratio:0.09338929695697797 | Horizontal:45, Vertical:44 | Blacks:953\n",
      "Componente:126 | Ratio:0.07008670520231214 | Horizontal:45, Vertical:52 | Blacks:1384\n",
      "Componente:127 | Ratio:0.09327133479212253 | Horizontal:75, Vertical:266 | Blacks:3656\n",
      "Componente:128 | Ratio:0.04743752647183397 | Horizontal:30, Vertical:82 | Blacks:2361\n",
      "Componente:129 | Ratio:0.0870988867059594 | Horizontal:24, Vertical:109 | Blacks:1527\n",
      "Componente:130 | Ratio:0.14285714285714285 | Horizontal:22, Vertical:19 | Blacks:287\n",
      "Componente:131 | Ratio:0.11428571428571428 | Horizontal:45, Vertical:47 | Blacks:805\n",
      "Componente:132 | Ratio:0.0916256157635468 | Horizontal:53, Vertical:133 | Blacks:2030\n",
      "Componente:133 | Ratio:0.07738693467336684 | Horizontal:62, Vertical:169 | Blacks:2985\n",
      "Componente:134 | Ratio:0.1084967320261438 | Horizontal:47, Vertical:36 | Blacks:765\n",
      "Componente:135 | Ratio:0.07797427652733119 | Horizontal:46, Vertical:51 | Blacks:1244\n",
      "Componente:136 | Ratio:0.09737638748738647 | Horizontal:109, Vertical:277 | Blacks:3964\n",
      "Componente:137 | Ratio:0.19 | Horizontal:84, Vertical:125 | Blacks:1100\n",
      "Componente:138 | Ratio:0.2420128292956343 | Horizontal:1714, Vertical:2172 | Blacks:16057\n",
      "Componente:139 | Ratio:0.10565902578796561 | Horizontal:90, Vertical:205 | Blacks:2792\n",
      "Componente:140 | Ratio:0.09815242494226328 | Horizontal:28, Vertical:57 | Blacks:866\n",
      "Componente:141 | Ratio:0.07014542343883662 | Horizontal:26, Vertical:56 | Blacks:1169\n",
      "Componente:142 | Ratio:0.045657015590200446 | Horizontal:20, Vertical:21 | Blacks:898\n",
      "Componente:143 | Ratio:0.11494252873563218 | Horizontal:13, Vertical:17 | Blacks:261\n",
      "Componente:144 | Ratio:0.09529860228716645 | Horizontal:102, Vertical:273 | Blacks:3935\n",
      "Componente:145 | Ratio:0.09929356357927786 | Horizontal:71, Vertical:182 | Blacks:2548\n",
      "Componente:146 | Ratio:0.22567498726439122 | Horizontal:178, Vertical:265 | Blacks:1963\n",
      "Componente:147 | Ratio:0.0 | Horizontal:0, Vertical:0 | Blacks:12\n",
      "Componente:148 | Ratio:0.10173697270471464 | Horizontal:43, Vertical:39 | Blacks:806\n",
      "Componente:149 | Ratio:0.06499261447562776 | Horizontal:50, Vertical:82 | Blacks:2031\n",
      "Componente:150 | Ratio:0.09471458773784355 | Horizontal:62, Vertical:162 | Blacks:2365\n",
      "Componente:151 | Ratio:0.10615989515072084 | Horizontal:51, Vertical:30 | Blacks:763\n",
      "Componente:152 | Ratio:0.06772908366533864 | Horizontal:37, Vertical:48 | Blacks:1255\n",
      "Componente:153 | Ratio:0.09315684315684315 | Horizontal:108, Vertical:265 | Blacks:4004\n",
      "Componente:154 | Ratio:0.2030360531309298 | Horizontal:88, Vertical:126 | Blacks:1054\n",
      "Componente:155 | Ratio:0.10012674271229405 | Horizontal:53, Vertical:105 | Blacks:1578\n",
      "Componente:156 | Ratio:0.11328705999008429 | Horizontal:129, Vertical:328 | Blacks:4034\n",
      "Componente:157 | Ratio:0.060175054704595186 | Horizontal:29, Vertical:26 | Blacks:914\n",
      "Componente:158 | Ratio:0.11479591836734694 | Horizontal:30, Vertical:15 | Blacks:392\n",
      "Componente:159 | Ratio:0.09845758354755783 | Horizontal:108, Vertical:275 | Blacks:3890\n",
      "Componente:160 | Ratio:0.12825458052073288 | Horizontal:102, Vertical:164 | Blacks:2074\n",
      "Componente:161 | Ratio:0.1773117254528122 | Horizontal:75, Vertical:111 | Blacks:1049\n",
      "Componente:162 | Ratio:0.23997641509433962 | Horizontal:134, Vertical:273 | Blacks:1696\n",
      "Componente:163 | Ratio:0.08430393788130892 | Horizontal:68, Vertical:84 | Blacks:1803\n",
      "Componente:164 | Ratio:0.09825033647375504 | Horizontal:65, Vertical:227 | Blacks:2972\n",
      "Componente:165 | Ratio:0.09715330373465657 | Horizontal:79, Vertical:293 | Blacks:3829\n",
      "Componente:166 | Ratio:0.1079219288174512 | Horizontal:61, Vertical:127 | Blacks:1742\n",
      "Componente:167 | Ratio:0.11993134520489165 | Horizontal:168, Vertical:391 | Blacks:4661\n",
      "Componente:168 | Ratio:0.09649122807017543 | Horizontal:42, Vertical:35 | Blacks:798\n",
      "Componente:169 | Ratio:0.058383233532934134 | Horizontal:38, Vertical:79 | Blacks:2004\n",
      "Componente:170 | Ratio:0.20361990950226244 | Horizontal:32, Vertical:13 | Blacks:221\n",
      "Componente:171 | Ratio:0.08651026392961877 | Horizontal:29, Vertical:30 | Blacks:682\n",
      "Componente:172 | Ratio:0.11038961038961038 | Horizontal:42, Vertical:111 | Blacks:1386\n",
      "Componente:173 | Ratio:0.06143344709897611 | Horizontal:31, Vertical:41 | Blacks:1172\n",
      "Componente:174 | Ratio:0.13652045342533267 | Horizontal:110, Vertical:167 | Blacks:2029\n",
      "Componente:175 | Ratio:0.13202247191011235 | Horizontal:51, Vertical:90 | Blacks:1068\n",
      "Componente:176 | Ratio:0.10278053624627606 | Horizontal:67, Vertical:140 | Blacks:2014\n",
      "Componente:177 | Ratio:0.056451612903225805 | Horizontal:21, Vertical:28 | Blacks:868\n",
      "Componente:178 | Ratio:0.1024390243902439 | Horizontal:45, Vertical:39 | Blacks:820\n",
      "Componente:179 | Ratio:0.0900990099009901 | Horizontal:54, Vertical:128 | Blacks:2020\n",
      "Componente:180 | Ratio:0.13406940063091483 | Horizontal:41, Vertical:44 | Blacks:634\n",
      "Componente:181 | Ratio:0.06564748201438848 | Horizontal:75, Vertical:144 | Blacks:3336\n",
      "Componente:182 | Ratio:0.12365805168986084 | Horizontal:68, Vertical:243 | Blacks:2515\n",
      "Componente:183 | Ratio:0.09765625 | Horizontal:45, Vertical:30 | Blacks:768\n",
      "Componente:184 | Ratio:0.08432776451869531 | Horizontal:43, Vertical:63 | Blacks:1257\n",
      "Componente:185 | Ratio:0.10203639514731369 | Horizontal:122, Vertical:349 | Blacks:4616\n",
      "Componente:186 | Ratio:0.17094017094017094 | Horizontal:26, Vertical:14 | Blacks:234\n",
      "Componente:187 | Ratio:0.0879038317054846 | Horizontal:15, Vertical:102 | Blacks:1331\n",
      "Componente:188 | Ratio:0.03945371775417299 | Horizontal:18, Vertical:60 | Blacks:1977\n",
      "Componente:189 | Ratio:0.05227882037533512 | Horizontal:23, Vertical:16 | Blacks:746\n",
      "Componente:190 | Ratio:0.0953125 | Horizontal:104, Vertical:262 | Blacks:3840\n",
      "Componente:191 | Ratio:0.12209589718240237 | Horizontal:113, Vertical:134 | Blacks:2023\n",
      "Componente:192 | Ratio:0.14103819784524976 | Horizontal:60, Vertical:84 | Blacks:1021\n",
      "Componente:193 | Ratio:0.10200927357032458 | Horizontal:39, Vertical:27 | Blacks:647\n",
      "Componente:194 | Ratio:0.09843885516045099 | Horizontal:76, Vertical:151 | Blacks:2306\n",
      "Componente:195 | Ratio:0.15501519756838905 | Horizontal:71, Vertical:82 | Blacks:987\n",
      "Componente:196 | Ratio:0.07313195548489666 | Horizontal:42, Vertical:50 | Blacks:1258\n",
      "Componente:197 | Ratio:0.09561270801815432 | Horizontal:74, Vertical:242 | Blacks:3305\n",
      "Componente:198 | Ratio:0.09699769053117784 | Horizontal:41, Vertical:43 | Blacks:866\n",
      "Componente:199 | Ratio:0.09959183673469388 | Horizontal:45, Vertical:77 | Blacks:1225\n",
      "Componente:200 | Ratio:0.15946843853820597 | Horizontal:20, Vertical:28 | Blacks:301\n",
      "Componente:201 | Ratio:0.08895705521472393 | Horizontal:126, Vertical:193 | Blacks:3586\n",
      "Componente:202 | Ratio:0.13855072463768117 | Horizontal:85, Vertical:154 | Blacks:1725\n",
      "Componente:203 | Ratio:0.12273940112659354 | Horizontal:103, Vertical:311 | Blacks:3373\n",
      "Componente:204 | Ratio:0.10318791946308725 | Horizontal:29, Vertical:94 | Blacks:1192\n",
      "Componente:205 | Ratio:0.0 | Horizontal:0, Vertical:0 | Blacks:12\n",
      "Componente:206 | Ratio:0.09687215305192834 | Horizontal:89, Vertical:230 | Blacks:3293\n",
      "Componente:207 | Ratio:0.09831029185867896 | Horizontal:78, Vertical:242 | Blacks:3255\n",
      "Componente:208 | Ratio:0.10710128055878929 | Horizontal:48, Vertical:44 | Blacks:859\n",
      "Componente:209 | Ratio:0.07959022852639874 | Horizontal:50, Vertical:51 | Blacks:1269\n",
      "Componente:210 | Ratio:0.08044901777362021 | Horizontal:38, Vertical:48 | Blacks:1069\n",
      "Componente:211 | Ratio:0.1050328227571116 | Horizontal:32, Vertical:64 | Blacks:914\n",
      "Componente:212 | Ratio:0.10232772528232312 | Horizontal:69, Vertical:375 | Blacks:4339\n",
      "Componente:213 | Ratio:0.10088781275221953 | Horizontal:84, Vertical:166 | Blacks:2478\n",
      "Componente:214 | Ratio:0.09466984884645982 | Horizontal:55, Vertical:64 | Blacks:1257\n",
      "Componente:215 | Ratio:0.10917721518987342 | Horizontal:33, Vertical:36 | Blacks:632\n",
      "Componente:216 | Ratio:0.10240615976900866 | Horizontal:130, Vertical:402 | Blacks:5195\n",
      "Componente:217 | Ratio:0.08995664739884393 | Horizontal:62, Vertical:187 | Blacks:2768\n",
      "Componente:218 | Ratio:0.12620578778135047 | Horizontal:61, Vertical:96 | Blacks:1244\n",
      "Componente:219 | Ratio:0.1595238095238095 | Horizontal:37, Vertical:30 | Blacks:420\n",
      "Componente:220 | Ratio:0.09646941819990054 | Horizontal:43, Vertical:151 | Blacks:2011\n",
      "Componente:221 | Ratio:0.10697179350718468 | Horizontal:48, Vertical:153 | Blacks:1879\n",
      "Componente:222 | Ratio:0.048796356538711776 | Horizontal:15, Vertical:60 | Blacks:1537\n",
      "Componente:223 | Ratio:0.02511773940345369 | Horizontal:11, Vertical:5 | Blacks:637\n",
      "Componente:224 | Ratio:0.11007268951194185 | Horizontal:66, Vertical:146 | Blacks:1926\n",
      "Componente:225 | Ratio:0.12794117647058822 | Horizontal:163, Vertical:359 | Blacks:4080\n",
      "Componente:226 | Ratio:0.0 | Horizontal:0, Vertical:0 | Blacks:12\n",
      "Componente:227 | Ratio:0.0975609756097561 | Horizontal:43, Vertical:41 | Blacks:861\n",
      "Componente:228 | Ratio:0.09775641025641026 | Horizontal:42, Vertical:80 | Blacks:1248\n",
      "Componente:229 | Ratio:0.11692913385826771 | Horizontal:91, Vertical:206 | Blacks:2540\n",
      "Componente:230 | Ratio:0.10765027322404372 | Horizontal:68, Vertical:129 | Blacks:1830\n",
      "Componente:231 | Ratio:0.0908353609083536 | Horizontal:45, Vertical:67 | Blacks:1233\n",
      "Componente:232 | Ratio:0.10637381567614125 | Horizontal:66, Vertical:181 | Blacks:2322\n",
      "Componente:233 | Ratio:0.09665909828089524 | Horizontal:64, Vertical:234 | Blacks:3083\n",
      "Componente:234 | Ratio:0.1113892365456821 | Horizontal:51, Vertical:38 | Blacks:799\n",
      "Componente:235 | Ratio:0.10743243243243243 | Horizontal:62, Vertical:97 | Blacks:1480\n",
      "Componente:236 | Ratio:0.1136 | Horizontal:38, Vertical:33 | Blacks:625\n",
      "Componente:237 | Ratio:0.11506172839506174 | Horizontal:69, Vertical:164 | Blacks:2025\n",
      "Componente:238 | Ratio:0.11051051051051052 | Horizontal:60, Vertical:124 | Blacks:1665\n",
      "Componente:239 | Ratio:0.11896551724137931 | Horizontal:45, Vertical:24 | Blacks:580\n",
      "Componente:240 | Ratio:0.1038961038961039 | Horizontal:40, Vertical:24 | Blacks:616\n",
      "Componente:241 | Ratio:0.06533718184203621 | Horizontal:86, Vertical:163 | Blacks:3811\n",
      "Componente:242 | Ratio:0.09929078014184398 | Horizontal:60, Vertical:206 | Blacks:2679\n",
      "Componente:243 | Ratio:0.08516483516483517 | Horizontal:26, Vertical:36 | Blacks:728\n",
      "Componente:244 | Ratio:0.07923497267759563 | Horizontal:19, Vertical:10 | Blacks:366\n",
      "Componente:245 | Ratio:0.09424083769633508 | Horizontal:26, Vertical:10 | Blacks:382\n",
      "Componente:246 | Ratio:0.06772908366533864 | Horizontal:79, Vertical:159 | Blacks:3514\n",
      "Componente:247 | Ratio:0.1233453670276775 | Horizontal:78, Vertical:127 | Blacks:1662\n",
      "Componente:248 | Ratio:0.17443868739205526 | Horizontal:52, Vertical:49 | Blacks:579\n",
      "Componente:249 | Ratio:0.07692307692307693 | Horizontal:39, Vertical:75 | Blacks:1482\n",
      "Componente:250 | Ratio:0.057667103538663174 | Horizontal:22, Vertical:22 | Blacks:763\n"
     ]
    }
   ],
   "source": [
    "for label in transition_ratios:\n",
    "    print('Componente:{} | Ratio:{} | Horizontal:{}, Vertical:{} | Blacks:{}'.format(label,transition_ratios[label], hor_tran_amount[label], ver_tran_amount[label], total_black_amount[label]))"
   ]
  },
  {
   "cell_type": "code",
   "execution_count": 36,
   "metadata": {},
   "outputs": [
    {
     "data": {
      "image/png": "[encoded data removed]",
      "text/plain": [
       "<Figure size 720x720 with 1 Axes>"
      ]
     },
     "metadata": {
      "needs_background": "light"
     },
     "output_type": "display_data"
    }
   ],
   "source": [
    "imshow_components_rectagles(image_labels, stats[87:88])"
   ]
  },
  {
   "cell_type": "code",
   "execution_count": 37,
   "metadata": {},
   "outputs": [],
   "source": [
    "# for key in transition_ratios:\n",
    "#     if transition_ratios[key] < 0.008 and transition_ratios[key] > 0 :\n",
    "#         break"
   ]
  },
  {
   "cell_type": "code",
   "execution_count": 38,
   "metadata": {},
   "outputs": [
    {
     "data": {
      "text/plain": [
       "array([0.        , 0.        , 0.        , 0.        , 0.00764998,\n",
       "       0.02511774, 0.02733485, 0.036452  , 0.03945372, 0.04023553,\n",
       "       0.04565702, 0.04743753, 0.04879636, 0.05010156, 0.05074257,\n",
       "       0.05227882, 0.05253165, 0.0534005 , 0.05541237, 0.05645161,\n",
       "       0.0576671 , 0.05838323, 0.05875   , 0.05972533, 0.05995511,\n",
       "       0.06017505, 0.06034483, 0.06139315, 0.06143345, 0.06302521,\n",
       "       0.0630861 , 0.06499261, 0.06533718, 0.06564748, 0.06766257,\n",
       "       0.06772908, 0.06772908, 0.06852926, 0.06964286, 0.07008671,\n",
       "       0.07014542, 0.07142857, 0.07157058, 0.07198748, 0.07201646,\n",
       "       0.07202842, 0.07313196, 0.07401177, 0.07432432, 0.07439199,\n",
       "       0.0755686 , 0.07557398, 0.07578085, 0.07603093, 0.07640232,\n",
       "       0.07671958, 0.07692308, 0.07738693, 0.07797428, 0.07806691,\n",
       "       0.07890855, 0.07923497, 0.07949165, 0.07959023, 0.08008008,\n",
       "       0.08024691, 0.08033162, 0.08044902, 0.08110415, 0.08346411,\n",
       "       0.08430394, 0.08432776, 0.08505042, 0.08516484, 0.08580106,\n",
       "       0.0863061 , 0.08632544, 0.08651026, 0.08681135, 0.08709889,\n",
       "       0.08790383, 0.0881574 , 0.08888889, 0.08895706, 0.08938294,\n",
       "       0.08995665, 0.09009901, 0.09077156, 0.09083536, 0.09162562,\n",
       "       0.09165752, 0.0920398 , 0.09266996, 0.09285714, 0.09290096,\n",
       "       0.09315684, 0.09327133, 0.0933893 , 0.09348978, 0.09383754,\n",
       "       0.09424084, 0.09444072, 0.09444444, 0.09466985, 0.09471459,\n",
       "       0.09480122, 0.09481361, 0.0949793 , 0.0952986 , 0.0953125 ,\n",
       "       0.0955335 , 0.09561271, 0.09572381, 0.0959651 , 0.09601874,\n",
       "       0.09606205, 0.09617851, 0.09632035, 0.09646942, 0.09649123,\n",
       "       0.0966591 , 0.09687215, 0.09699769, 0.0971533 , 0.09715994,\n",
       "       0.09737639, 0.09756098, 0.09765625, 0.09774436, 0.09775641,\n",
       "       0.09796827, 0.09815242, 0.09825034, 0.09831029, 0.09843886,\n",
       "       0.09845758, 0.0988456 , 0.09887359, 0.0989547 , 0.09914712,\n",
       "       0.09929078, 0.09929356, 0.09951846, 0.09959184, 0.09969481,\n",
       "       0.09979424, 0.10012674, 0.10088781, 0.10097865, 0.10117647,\n",
       "       0.10132715, 0.10173697, 0.10174484, 0.10200927, 0.1020364 ,\n",
       "       0.10204082, 0.10232773, 0.10235641, 0.10240616, 0.10243902,\n",
       "       0.10246914, 0.1026616 , 0.10278054, 0.10285285, 0.10294547,\n",
       "       0.10318792, 0.10366329, 0.1038961 , 0.10436179, 0.10440503,\n",
       "       0.10503282, 0.10565903, 0.1061599 , 0.10637382, 0.10677907,\n",
       "       0.10683761, 0.10695971, 0.10697179, 0.10710128, 0.10743243,\n",
       "       0.10765027, 0.10792193, 0.10800132, 0.10811769, 0.10849673,\n",
       "       0.10861423, 0.10888158, 0.10917722, 0.10955056, 0.11007269,\n",
       "       0.11038961, 0.11051051, 0.11063218, 0.11138924, 0.11159107,\n",
       "       0.11302682, 0.11328706, 0.11353517, 0.1136    , 0.11428571,\n",
       "       0.11479592, 0.11494253, 0.11506173, 0.11638225, 0.11692913,\n",
       "       0.1179053 , 0.11858581, 0.11871658, 0.11896552, 0.11932418,\n",
       "       0.11933376, 0.11993135, 0.1220959 , 0.1227394 , 0.12334537,\n",
       "       0.12340967, 0.12365805, 0.12620579, 0.12794118, 0.12825458,\n",
       "       0.13202247, 0.13222698, 0.1322691 , 0.1340694 , 0.13601666,\n",
       "       0.13652045, 0.13855072, 0.13857143, 0.13857243, 0.13895216,\n",
       "       0.14040115, 0.1410382 , 0.14285714, 0.14702581, 0.14703196,\n",
       "       0.15320334, 0.1550152 , 0.15946844, 0.15952381, 0.17094017,\n",
       "       0.17443869, 0.17731173, 0.18872549, 0.19      , 0.20303605,\n",
       "       0.20361991, 0.20819113, 0.21525886, 0.22567499, 0.23997642,\n",
       "       0.24201283])"
      ]
     },
     "execution_count": 38,
     "metadata": {},
     "output_type": "execute_result"
    }
   ],
   "source": [
    "np.sort(list(transition_ratios.values()))"
   ]
  },
  {
   "cell_type": "markdown",
   "metadata": {},
   "source": [
    "#### Etapa 9: Criar uma regra, baseada na Etapa 8, para determinar se um componente conexo é texto ou não"
   ]
  },
  {
   "cell_type": "code",
   "execution_count": 43,
   "metadata": {},
   "outputs": [],
   "source": [
    "component_classes = {}"
   ]
  },
  {
   "cell_type": "code",
   "execution_count": 44,
   "metadata": {},
   "outputs": [],
   "source": [
    "for comp_key in range(number_of_labels):\n",
    "    if transition_ratios[comp_key] < 0.008:\n",
    "        component_classes[comp_key] = 0\n",
    "    else:\n",
    "        component_classes[comp_key] = 1"
   ]
  },
  {
   "cell_type": "code",
   "execution_count": 45,
   "metadata": {},
   "outputs": [
    {
     "name": "stdout",
     "output_type": "stream",
     "text": [
      "Componente:0 | Text: 1\n",
      "Componente:1 | Text: 1\n",
      "Componente:2 | Text: 1\n",
      "Componente:3 | Text: 1\n",
      "Componente:4 | Text: 1\n",
      "Componente:5 | Text: 1\n",
      "Componente:6 | Text: 1\n",
      "Componente:7 | Text: 1\n",
      "Componente:8 | Text: 1\n",
      "Componente:9 | Text: 1\n",
      "Componente:10 | Text: 1\n",
      "Componente:11 | Text: 1\n",
      "Componente:12 | Text: 1\n",
      "Componente:13 | Text: 1\n",
      "Componente:14 | Text: 0\n",
      "Componente:15 | Text: 0\n",
      "Componente:16 | Text: 1\n",
      "Componente:17 | Text: 1\n",
      "Componente:18 | Text: 1\n",
      "Componente:19 | Text: 1\n",
      "Componente:20 | Text: 1\n",
      "Componente:21 | Text: 1\n",
      "Componente:22 | Text: 1\n",
      "Componente:23 | Text: 1\n",
      "Componente:24 | Text: 1\n",
      "Componente:25 | Text: 1\n",
      "Componente:26 | Text: 1\n",
      "Componente:27 | Text: 1\n",
      "Componente:28 | Text: 1\n",
      "Componente:29 | Text: 1\n",
      "Componente:30 | Text: 1\n",
      "Componente:31 | Text: 1\n",
      "Componente:32 | Text: 1\n",
      "Componente:33 | Text: 1\n",
      "Componente:34 | Text: 1\n",
      "Componente:35 | Text: 1\n",
      "Componente:36 | Text: 1\n",
      "Componente:37 | Text: 1\n",
      "Componente:38 | Text: 1\n",
      "Componente:39 | Text: 1\n",
      "Componente:40 | Text: 1\n",
      "Componente:41 | Text: 1\n",
      "Componente:42 | Text: 1\n",
      "Componente:43 | Text: 1\n",
      "Componente:44 | Text: 1\n",
      "Componente:45 | Text: 1\n",
      "Componente:46 | Text: 1\n",
      "Componente:47 | Text: 1\n",
      "Componente:48 | Text: 1\n",
      "Componente:49 | Text: 1\n",
      "Componente:50 | Text: 1\n",
      "Componente:51 | Text: 1\n",
      "Componente:52 | Text: 1\n",
      "Componente:53 | Text: 1\n",
      "Componente:54 | Text: 1\n",
      "Componente:55 | Text: 1\n",
      "Componente:56 | Text: 1\n",
      "Componente:57 | Text: 1\n",
      "Componente:58 | Text: 1\n",
      "Componente:59 | Text: 1\n",
      "Componente:60 | Text: 1\n",
      "Componente:61 | Text: 1\n",
      "Componente:62 | Text: 1\n",
      "Componente:63 | Text: 1\n",
      "Componente:64 | Text: 1\n",
      "Componente:65 | Text: 1\n",
      "Componente:66 | Text: 1\n",
      "Componente:67 | Text: 1\n",
      "Componente:68 | Text: 1\n",
      "Componente:69 | Text: 1\n",
      "Componente:70 | Text: 1\n",
      "Componente:71 | Text: 1\n",
      "Componente:72 | Text: 1\n",
      "Componente:73 | Text: 1\n",
      "Componente:74 | Text: 1\n",
      "Componente:75 | Text: 1\n",
      "Componente:76 | Text: 1\n",
      "Componente:77 | Text: 1\n",
      "Componente:78 | Text: 1\n",
      "Componente:79 | Text: 1\n",
      "Componente:80 | Text: 1\n",
      "Componente:81 | Text: 1\n",
      "Componente:82 | Text: 1\n",
      "Componente:83 | Text: 1\n",
      "Componente:84 | Text: 1\n",
      "Componente:85 | Text: 1\n",
      "Componente:86 | Text: 1\n",
      "Componente:87 | Text: 1\n",
      "Componente:88 | Text: 1\n",
      "Componente:89 | Text: 1\n",
      "Componente:90 | Text: 1\n",
      "Componente:91 | Text: 1\n",
      "Componente:92 | Text: 1\n",
      "Componente:93 | Text: 1\n",
      "Componente:94 | Text: 1\n",
      "Componente:95 | Text: 1\n",
      "Componente:96 | Text: 1\n",
      "Componente:97 | Text: 1\n",
      "Componente:98 | Text: 1\n",
      "Componente:99 | Text: 1\n",
      "Componente:100 | Text: 1\n",
      "Componente:101 | Text: 1\n",
      "Componente:102 | Text: 1\n",
      "Componente:103 | Text: 1\n",
      "Componente:104 | Text: 1\n",
      "Componente:105 | Text: 1\n",
      "Componente:106 | Text: 1\n",
      "Componente:107 | Text: 1\n",
      "Componente:108 | Text: 1\n",
      "Componente:109 | Text: 1\n",
      "Componente:110 | Text: 1\n",
      "Componente:111 | Text: 1\n",
      "Componente:112 | Text: 1\n",
      "Componente:113 | Text: 1\n",
      "Componente:114 | Text: 1\n",
      "Componente:115 | Text: 1\n",
      "Componente:116 | Text: 1\n",
      "Componente:117 | Text: 1\n",
      "Componente:118 | Text: 1\n",
      "Componente:119 | Text: 1\n",
      "Componente:120 | Text: 1\n",
      "Componente:121 | Text: 1\n",
      "Componente:122 | Text: 1\n",
      "Componente:123 | Text: 1\n",
      "Componente:124 | Text: 1\n",
      "Componente:125 | Text: 1\n",
      "Componente:126 | Text: 1\n",
      "Componente:127 | Text: 1\n",
      "Componente:128 | Text: 1\n",
      "Componente:129 | Text: 1\n",
      "Componente:130 | Text: 1\n",
      "Componente:131 | Text: 1\n",
      "Componente:132 | Text: 1\n",
      "Componente:133 | Text: 1\n",
      "Componente:134 | Text: 1\n",
      "Componente:135 | Text: 1\n",
      "Componente:136 | Text: 1\n",
      "Componente:137 | Text: 1\n",
      "Componente:138 | Text: 1\n",
      "Componente:139 | Text: 1\n",
      "Componente:140 | Text: 1\n",
      "Componente:141 | Text: 1\n",
      "Componente:142 | Text: 1\n",
      "Componente:143 | Text: 1\n",
      "Componente:144 | Text: 1\n",
      "Componente:145 | Text: 1\n",
      "Componente:146 | Text: 1\n",
      "Componente:147 | Text: 0\n",
      "Componente:148 | Text: 1\n",
      "Componente:149 | Text: 1\n",
      "Componente:150 | Text: 1\n",
      "Componente:151 | Text: 1\n",
      "Componente:152 | Text: 1\n",
      "Componente:153 | Text: 1\n",
      "Componente:154 | Text: 1\n",
      "Componente:155 | Text: 1\n",
      "Componente:156 | Text: 1\n",
      "Componente:157 | Text: 1\n",
      "Componente:158 | Text: 1\n",
      "Componente:159 | Text: 1\n",
      "Componente:160 | Text: 1\n",
      "Componente:161 | Text: 1\n",
      "Componente:162 | Text: 1\n",
      "Componente:163 | Text: 1\n",
      "Componente:164 | Text: 1\n",
      "Componente:165 | Text: 1\n",
      "Componente:166 | Text: 1\n",
      "Componente:167 | Text: 1\n",
      "Componente:168 | Text: 1\n",
      "Componente:169 | Text: 1\n",
      "Componente:170 | Text: 1\n",
      "Componente:171 | Text: 1\n",
      "Componente:172 | Text: 1\n",
      "Componente:173 | Text: 1\n",
      "Componente:174 | Text: 1\n",
      "Componente:175 | Text: 1\n",
      "Componente:176 | Text: 1\n",
      "Componente:177 | Text: 1\n",
      "Componente:178 | Text: 1\n",
      "Componente:179 | Text: 1\n",
      "Componente:180 | Text: 1\n",
      "Componente:181 | Text: 1\n",
      "Componente:182 | Text: 1\n",
      "Componente:183 | Text: 1\n",
      "Componente:184 | Text: 1\n",
      "Componente:185 | Text: 1\n",
      "Componente:186 | Text: 1\n",
      "Componente:187 | Text: 1\n",
      "Componente:188 | Text: 1\n",
      "Componente:189 | Text: 1\n",
      "Componente:190 | Text: 1\n",
      "Componente:191 | Text: 1\n",
      "Componente:192 | Text: 1\n",
      "Componente:193 | Text: 1\n",
      "Componente:194 | Text: 1\n",
      "Componente:195 | Text: 1\n",
      "Componente:196 | Text: 1\n",
      "Componente:197 | Text: 1\n",
      "Componente:198 | Text: 1\n",
      "Componente:199 | Text: 1\n",
      "Componente:200 | Text: 1\n",
      "Componente:201 | Text: 1\n",
      "Componente:202 | Text: 1\n",
      "Componente:203 | Text: 1\n",
      "Componente:204 | Text: 1\n",
      "Componente:205 | Text: 0\n",
      "Componente:206 | Text: 1\n",
      "Componente:207 | Text: 1\n",
      "Componente:208 | Text: 1\n",
      "Componente:209 | Text: 1\n",
      "Componente:210 | Text: 1\n",
      "Componente:211 | Text: 1\n",
      "Componente:212 | Text: 1\n",
      "Componente:213 | Text: 1\n",
      "Componente:214 | Text: 1\n",
      "Componente:215 | Text: 1\n",
      "Componente:216 | Text: 1\n",
      "Componente:217 | Text: 1\n",
      "Componente:218 | Text: 1\n",
      "Componente:219 | Text: 1\n",
      "Componente:220 | Text: 1\n",
      "Componente:221 | Text: 1\n",
      "Componente:222 | Text: 1\n",
      "Componente:223 | Text: 1\n",
      "Componente:224 | Text: 1\n",
      "Componente:225 | Text: 1\n",
      "Componente:226 | Text: 0\n",
      "Componente:227 | Text: 1\n",
      "Componente:228 | Text: 1\n",
      "Componente:229 | Text: 1\n",
      "Componente:230 | Text: 1\n",
      "Componente:231 | Text: 1\n",
      "Componente:232 | Text: 1\n",
      "Componente:233 | Text: 1\n",
      "Componente:234 | Text: 1\n",
      "Componente:235 | Text: 1\n",
      "Componente:236 | Text: 1\n",
      "Componente:237 | Text: 1\n",
      "Componente:238 | Text: 1\n",
      "Componente:239 | Text: 1\n",
      "Componente:240 | Text: 1\n",
      "Componente:241 | Text: 1\n",
      "Componente:242 | Text: 1\n",
      "Componente:243 | Text: 1\n",
      "Componente:244 | Text: 1\n",
      "Componente:245 | Text: 1\n",
      "Componente:246 | Text: 1\n",
      "Componente:247 | Text: 1\n",
      "Componente:248 | Text: 1\n",
      "Componente:249 | Text: 1\n",
      "Componente:250 | Text: 1\n"
     ]
    }
   ],
   "source": [
    "for key in component_classes:\n",
    "    print(\"Componente:{} | Text: {}\".format(key,component_classes[key]))"
   ]
  },
  {
   "cell_type": "code",
   "execution_count": 46,
   "metadata": {},
   "outputs": [],
   "source": [
    "text_labels = [key for key in component_classes if component_classes[key] == 1]\n",
    "no_text_labels = [key for key in component_classes if component_classes[key] == 0]\n",
    "text_stats = stats[text_labels]\n",
    "\n",
    "text_image = np.copy(image_labels)\n",
    "for l in no_text_labels:\n",
    "    text_image[text_image == l] = 0"
   ]
  },
  {
   "cell_type": "code",
   "execution_count": 51,
   "metadata": {},
   "outputs": [
    {
     "data": {
      "image/png": "[encoded data removed]",
      "text/plain": [
       "<Figure size 720x720 with 1 Axes>"
      ]
     },
     "metadata": {
      "needs_background": "light"
     },
     "output_type": "display_data"
    }
   ],
   "source": [
    "imshow_components_rectagles(text_image, text_stats)"
   ]
  },
  {
   "cell_type": "markdown",
   "metadata": {},
   "source": [
    "#### Etapa 10: Segmentar palavras, colocar retângulos e calcular quantidades "
   ]
  },
  {
   "cell_type": "markdown",
   "metadata": {},
   "source": [
    "##### a) Segmentar palavras"
   ]
  },
  {
   "cell_type": "code",
   "execution_count": null,
   "metadata": {},
   "outputs": [],
   "source": [
    "np.unique(text_image)\n",
    "text_image = np.uint8(text_image)\n",
    "teste_i = cv.bitwise_and(image,text_image)"
   ]
  },
  {
   "cell_type": "code",
   "execution_count": null,
   "metadata": {},
   "outputs": [],
   "source": [
    "image_10 = cv.morphologyEx(text_image, cv.MORPH_OPEN, kernel1_30)"
   ]
  },
  {
   "cell_type": "code",
   "execution_count": null,
   "metadata": {},
   "outputs": [],
   "source": [
    "print_image(image_10)"
   ]
  },
  {
   "cell_type": "code",
   "execution_count": 48,
   "metadata": {},
   "outputs": [
    {
     "data": {
      "text/plain": [
       "(1374, 2233)"
      ]
     },
     "execution_count": 48,
     "metadata": {},
     "output_type": "execute_result"
    }
   ],
   "source": [
    "image_labels.shape"
   ]
  },
  {
   "cell_type": "code",
   "execution_count": null,
   "metadata": {},
   "outputs": [],
   "source": []
  }
 ],
 "metadata": {
  "kernelspec": {
   "display_name": "Python 3",
   "language": "python",
   "name": "python3"
  },
  "language_info": {
   "codemirror_mode": {
    "name": "ipython",
    "version": 3
   },
   "file_extension": ".py",
   "mimetype": "text/x-python",
   "name": "python",
   "nbconvert_exporter": "python",
   "pygments_lexer": "ipython3",
   "version": "3.7.4"
  }
 },
 "nbformat": 4,
 "nbformat_minor": 2
}
