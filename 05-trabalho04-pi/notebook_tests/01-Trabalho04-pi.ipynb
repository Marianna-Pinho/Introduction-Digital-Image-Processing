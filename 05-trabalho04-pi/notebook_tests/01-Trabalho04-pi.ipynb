{
 "cells": [
  {
   "cell_type": "markdown",
   "metadata": {},
   "source": [
    "# <center> Trabalho 04 - Introdução ao Processamento de Imagem Digital </center>\n",
    "\n",
    "**Aluno(a):** Marianna de Pinho Severo <br>\n",
    "**RA:** 264960 <br>\n",
    "**Professor:** Hélio Pedrini"
   ]
  },
  {
   "cell_type": "markdown",
   "metadata": {},
   "source": [
    "### Passo 01: Importar bibliotecas"
   ]
  },
  {
   "cell_type": "code",
   "execution_count": 1,
   "metadata": {},
   "outputs": [],
   "source": [
    "%matplotlib inline\n",
    "import numpy as np\n",
    "import cv2 as cv\n",
    "import matplotlib.pyplot as plt\n",
    "import pandas as pd"
   ]
  },
  {
   "cell_type": "markdown",
   "metadata": {},
   "source": [
    "#### PBM\n",
    "http://netpbm.sourceforge.net/doc/pbm.html\n",
    "\n",
    "#### Morphological operations\n",
    "https://opencv-python-tutroals.readthedocs.io/en/latest/py_tutorials/py_imgproc/py_morphological_ops/py_morphological_ops.html\n",
    "\n",
    "#### Connected components\n",
    "https://stackoverflow.com/questions/46441893/connected-component-labeling-in-python"
   ]
  },
  {
   "cell_type": "markdown",
   "metadata": {},
   "source": [
    "### Passo 02: Definir funções auxiliares"
   ]
  },
  {
   "cell_type": "code",
   "execution_count": 2,
   "metadata": {},
   "outputs": [],
   "source": [
    "def print_image(image, color=0):\n",
    "    \n",
    "    plt.figure(figsize=(10,10))\n",
    "    \n",
    "    if not color:\n",
    "        plt.imshow(image, cmap='gray')\n",
    "    else:\n",
    "        plt.imshow(image)"
   ]
  },
  {
   "cell_type": "code",
   "execution_count": 3,
   "metadata": {},
   "outputs": [],
   "source": [
    "def imshow_components(labels): #Refereciar stack overflow\n",
    "    # Map component labels to hue val\n",
    "    label_hue = np.uint8(179*labels/np.max(labels))\n",
    "    blank_ch = 255*np.ones_like(label_hue)\n",
    "    labeled_img = cv.merge([label_hue, blank_ch, blank_ch])\n",
    "\n",
    "    # cvt to BGR for display\n",
    "    labeled_img = cv.cvtColor(labeled_img, cv.COLOR_HSV2BGR)\n",
    "\n",
    "    # set bg label to black\n",
    "    labeled_img[label_hue==0] = 0\n",
    "    \n",
    "    print_image(labeled_img)\n",
    "#     cv.imshow('labeled.png', labeled_img)\n",
    "#     cv.waitKey()"
   ]
  },
  {
   "cell_type": "code",
   "execution_count": 4,
   "metadata": {},
   "outputs": [],
   "source": [
    "def imshow_components_rectagles(labels, stats): #Refereciar stack overflow\n",
    "    # Map component labels to hue val\n",
    "    label_hue = np.uint8(179*labels/np.max(labels))\n",
    "    blank_ch = 255*np.ones_like(label_hue)\n",
    "    labeled_img = cv.merge([label_hue, blank_ch, blank_ch])\n",
    "\n",
    "    # cvt to BGR for display\n",
    "    labeled_img = cv.cvtColor(labeled_img, cv.COLOR_HSV2BGR)\n",
    "\n",
    "    # set bg label to black\n",
    "    labeled_img[label_hue==0] = 0\n",
    "    \n",
    "    for stat in stats:\n",
    "        cv.rectangle(labeled_img, (stat[0], stat[1]), (stat[0]+stat[2], stat[1]+stat[3]), (255, 255, 255), 3) \n",
    "    \n",
    "    \n",
    "    print_image(labeled_img)\n",
    "#     cv.imshow('labeled.png', labeled_img)\n",
    "#     cv.waitKey()"
   ]
  },
  {
   "cell_type": "code",
   "execution_count": 5,
   "metadata": {},
   "outputs": [],
   "source": [
    "def getBlackPixelsRate(image,stat,color=1): #Black is considered 1 and White is considered 0\n",
    "    init_x = stat[0]\n",
    "    init_y = stat[1]\n",
    "    dx = stat[2]\n",
    "    dy = stat[3]\n",
    "    \n",
    "    area = (dx)*(dy)\n",
    "    \n",
    "    aux_image = image[init_y: init_y+dy,init_x:init_x + dx]\n",
    "    aux_image = aux_image[aux_image == color]\n",
    "    \n",
    "    return len(aux_image)/area, len(aux_image), area"
   ]
  },
  {
   "cell_type": "code",
   "execution_count": 6,
   "metadata": {},
   "outputs": [],
   "source": [
    "def getTransitionsRate(image, stat, total_black): #Black is 1 and White is 0\n",
    "    \n",
    "    if total_black == 0:\n",
    "        return 0,0,0,0\n",
    "    \n",
    "    init_x = stat[0]\n",
    "    init_y = stat[1]\n",
    "    dx = stat[2]\n",
    "    dy = stat[3]\n",
    "    \n",
    "    hor_count = 0\n",
    "    ver_count = 0\n",
    "    \n",
    "    max_y = init_y+dy\n",
    "    max_x = init_x+dx\n",
    "    \n",
    "    for line in range(init_y, max_y):\n",
    "        for col in range(init_x, max_x):\n",
    "            north = line - 1\n",
    "            south = line + 1\n",
    "            west = col - 1\n",
    "            east = col + 1\n",
    "            \n",
    "            #left neighbor\n",
    "            if west >= 0 and (image[line, col] == 0 and image[line,west] == 1):\n",
    "                hor_count+=1\n",
    "                \n",
    "            # right neighbor\n",
    "            if east < max_x and (image[line, col] == 0 and image[line,east] == 1):\n",
    "                hor_count+=1\n",
    "                \n",
    "            #top neighbor\n",
    "            if north >= 0 and (image[line,col] == 0 and image[north, col] == 1):\n",
    "                ver_count+=1\n",
    "                \n",
    "            #bottom neighbor\n",
    "            if south < max_y and (image[line,col] == 0 and image[south, col] == 1):\n",
    "                ver_count+=1\n",
    "            \n",
    "    return (hor_count + ver_count)/total_black, hor_count, ver_count,total_black"
   ]
  },
  {
   "cell_type": "markdown",
   "metadata": {},
   "source": [
    "### Passo 03: Ler imagem\n",
    "\n",
    "A imagem que vamos usar neste projeto é do tipo *Portable Bitmap* (PBM). Dessa maneira, esperamos que os pixels do objeto (pixels pretos) sejam representados por valores iguais a 1 e os pixels do fundo (brancos) por valores iguais a 0.\n",
    "\n",
    "Quando lemos essa imagem utilizando o método **imread** do *opencv*, a imagem é lida no formato monocromático, o que significa que seus valores poderão apresentar valores no intervalo de 0 a 255. Como na imagem lida só existem dois valores diferentes de pixels (0 e 255) e os valores 0 são atribuídos aos objetos, enquanto os valores 255 são atribuídos ao fundo, faremos a negação dessa imagem e dividiremos as intensidades de seus pixels por 255, de maneira a obtermos um arranjo de pixels como o esperado para uma imagem do tipo PBM. "
   ]
  },
  {
   "cell_type": "code",
   "execution_count": 7,
   "metadata": {},
   "outputs": [
    {
     "data": {
      "text/plain": [
       "(1374, 2233)"
      ]
     },
     "execution_count": 7,
     "metadata": {},
     "output_type": "execute_result"
    }
   ],
   "source": [
    "image = cv.imread('input_images/bitmap.pbm',0)\n",
    "image = cv.bitwise_not(image)//255\n",
    "image.shape"
   ]
  },
  {
   "cell_type": "markdown",
   "metadata": {},
   "source": [
    "### Passo 04: Criar elementos estruturantes"
   ]
  },
  {
   "cell_type": "markdown",
   "metadata": {},
   "source": [
    "#### a) Elemento estruturante de 1 x 100"
   ]
  },
  {
   "cell_type": "code",
   "execution_count": 8,
   "metadata": {},
   "outputs": [
    {
     "data": {
      "text/plain": [
       "array([[1, 1, 1, 1, 1, 1, 1, 1, 1, 1, 1, 1, 1, 1, 1, 1, 1, 1, 1, 1, 1, 1,\n",
       "        1, 1, 1, 1, 1, 1, 1, 1, 1, 1, 1, 1, 1, 1, 1, 1, 1, 1, 1, 1, 1, 1,\n",
       "        1, 1, 1, 1, 1, 1, 1, 1, 1, 1, 1, 1, 1, 1, 1, 1, 1, 1, 1, 1, 1, 1,\n",
       "        1, 1, 1, 1, 1, 1, 1, 1, 1, 1, 1, 1, 1, 1, 1, 1, 1, 1, 1, 1, 1, 1,\n",
       "        1, 1, 1, 1, 1, 1, 1, 1, 1, 1, 1, 1]], dtype=uint8)"
      ]
     },
     "execution_count": 8,
     "metadata": {},
     "output_type": "execute_result"
    }
   ],
   "source": [
    "kernel1_100 = np.ones((1,100),np.uint8)\n",
    "kernel1_100"
   ]
  },
  {
   "cell_type": "markdown",
   "metadata": {},
   "source": [
    "#### b) Elemento estruturante de 200 x 1"
   ]
  },
  {
   "cell_type": "code",
   "execution_count": 9,
   "metadata": {},
   "outputs": [],
   "source": [
    "kernel200_1 = np.ones((200,1), np.uint8)"
   ]
  },
  {
   "cell_type": "markdown",
   "metadata": {},
   "source": [
    "#### c) Elemento estruturante de 1 x 30"
   ]
  },
  {
   "cell_type": "code",
   "execution_count": 10,
   "metadata": {},
   "outputs": [
    {
     "data": {
      "text/plain": [
       "array([[1, 1, 1, 1, 1, 1, 1, 1, 1, 1, 1, 1, 1, 1, 1, 1, 1, 1, 1, 1, 1, 1,\n",
       "        1, 1, 1, 1, 1, 1, 1, 1]], dtype=uint8)"
      ]
     },
     "execution_count": 10,
     "metadata": {},
     "output_type": "execute_result"
    }
   ],
   "source": [
    "kernel1_30 = np.ones((1,30), np.uint8)\n",
    "kernel1_30"
   ]
  },
  {
   "cell_type": "markdown",
   "metadata": {},
   "source": [
    "### Passo 05: Aplicar etapas indicadas na descrição do trabalho"
   ]
  },
  {
   "cell_type": "markdown",
   "metadata": {},
   "source": [
    "#### Etapa 01: Aplicar dilatação na imagem original com elemento estruturante de 1 x 100"
   ]
  },
  {
   "cell_type": "code",
   "execution_count": 61,
   "metadata": {},
   "outputs": [],
   "source": [
    "image_p1 = cv.dilate(np.copy(image),kernel1_100, iterations=2)"
   ]
  },
  {
   "cell_type": "code",
   "execution_count": 62,
   "metadata": {},
   "outputs": [
    {
     "data": {
      "image/png": "[encoded data removed]",
      "text/plain": [
       "<Figure size 720x720 with 1 Axes>"
      ]
     },
     "metadata": {
      "needs_background": "light"
     },
     "output_type": "display_data"
    }
   ],
   "source": [
    "print_image(image_p1)"
   ]
  },
  {
   "cell_type": "markdown",
   "metadata": {},
   "source": [
    "#### Etapa 02: Aplicar erosão na imagem da etapa 1 com elemento estruturante de 1 x 100"
   ]
  },
  {
   "cell_type": "code",
   "execution_count": 63,
   "metadata": {},
   "outputs": [],
   "source": [
    "image_p2 = cv.erode(np.copy(image_p1),kernel1_100)"
   ]
  },
  {
   "cell_type": "code",
   "execution_count": 64,
   "metadata": {},
   "outputs": [
    {
     "data": {
      "image/png": "[encoded data removed]",
      "text/plain": [
       "<Figure size 720x720 with 1 Axes>"
      ]
     },
     "metadata": {
      "needs_background": "light"
     },
     "output_type": "display_data"
    }
   ],
   "source": [
    "print_image(image_p2)"
   ]
  },
  {
   "cell_type": "markdown",
   "metadata": {},
   "source": [
    "#### Etapa 03: Aplicar dilatação na imagem original com elemento estruturante de 200 x 1"
   ]
  },
  {
   "cell_type": "code",
   "execution_count": 65,
   "metadata": {},
   "outputs": [],
   "source": [
    "image_p3 = cv.dilate(np.copy(image),kernel200_1, iterations=8)"
   ]
  },
  {
   "cell_type": "code",
   "execution_count": 66,
   "metadata": {},
   "outputs": [
    {
     "data": {
      "image/png": "[encoded data removed]",
      "text/plain": [
       "<Figure size 720x720 with 1 Axes>"
      ]
     },
     "metadata": {
      "needs_background": "light"
     },
     "output_type": "display_data"
    }
   ],
   "source": [
    "print_image(image_p3)"
   ]
  },
  {
   "cell_type": "markdown",
   "metadata": {},
   "source": [
    "#### Etapa 04: Aplicar erosão na imagem da etapa 3 com elemento estruturante de 200 x 1"
   ]
  },
  {
   "cell_type": "code",
   "execution_count": 67,
   "metadata": {},
   "outputs": [],
   "source": [
    "image_p4 = cv.erode(np.copy(image_p3),kernel200_1)"
   ]
  },
  {
   "cell_type": "code",
   "execution_count": 68,
   "metadata": {},
   "outputs": [
    {
     "data": {
      "image/png": "[encoded data removed]",
      "text/plain": [
       "<Figure size 720x720 with 1 Axes>"
      ]
     },
     "metadata": {
      "needs_background": "light"
     },
     "output_type": "display_data"
    }
   ],
   "source": [
    "print_image(image_p4)"
   ]
  },
  {
   "cell_type": "markdown",
   "metadata": {},
   "source": [
    "#### Etapa 05: Fazer intersecção das imagens produzidas nas etapas 2 e 4"
   ]
  },
  {
   "cell_type": "code",
   "execution_count": 69,
   "metadata": {},
   "outputs": [],
   "source": [
    "image_p5 = cv.bitwise_and(image_p2, image_p4)"
   ]
  },
  {
   "cell_type": "code",
   "execution_count": 70,
   "metadata": {},
   "outputs": [
    {
     "data": {
      "image/png": "[encoded data removed]",
      "text/plain": [
       "<Figure size 720x720 with 1 Axes>"
      ]
     },
     "metadata": {
      "needs_background": "light"
     },
     "output_type": "display_data"
    }
   ],
   "source": [
    "print_image(image_p5)"
   ]
  },
  {
   "cell_type": "markdown",
   "metadata": {},
   "source": [
    "#### Etapa 06: Aplicar fechamento na imagem da etapa 5 com elemento estruturante de 1 x 30"
   ]
  },
  {
   "cell_type": "code",
   "execution_count": 71,
   "metadata": {},
   "outputs": [],
   "source": [
    "image_p6 = cv.morphologyEx(image_p5, cv.MORPH_CLOSE, kernel1_30)"
   ]
  },
  {
   "cell_type": "code",
   "execution_count": 72,
   "metadata": {},
   "outputs": [
    {
     "data": {
      "image/png": "[encoded data removed]",
      "text/plain": [
       "<Figure size 720x720 with 1 Axes>"
      ]
     },
     "metadata": {
      "needs_background": "light"
     },
     "output_type": "display_data"
    }
   ],
   "source": [
    "print_image(image_p6)"
   ]
  },
  {
   "cell_type": "markdown",
   "metadata": {},
   "source": [
    "#### Etapa 07: Identificação de componentes conexos na imagem da etapa 06"
   ]
  },
  {
   "cell_type": "code",
   "execution_count": 73,
   "metadata": {},
   "outputs": [],
   "source": [
    "number_of_labels, image_labels, stats, centroids = cv.connectedComponentsWithStats(image_p6)"
   ]
  },
  {
   "cell_type": "code",
   "execution_count": 74,
   "metadata": {},
   "outputs": [
    {
     "name": "stdout",
     "output_type": "stream",
     "text": [
      "39\n"
     ]
    }
   ],
   "source": [
    "print(number_of_labels)"
   ]
  },
  {
   "cell_type": "code",
   "execution_count": 75,
   "metadata": {},
   "outputs": [
    {
     "data": {
      "image/png": "[encoded data removed]",
      "text/plain": [
       "<Figure size 720x720 with 1 Axes>"
      ]
     },
     "metadata": {
      "needs_background": "light"
     },
     "output_type": "display_data"
    }
   ],
   "source": [
    "imshow_components(np.copy(image_labels))"
   ]
  },
  {
   "cell_type": "code",
   "execution_count": 76,
   "metadata": {},
   "outputs": [
    {
     "data": {
      "image/png": "[encoded data removed]",
      "text/plain": [
       "<Figure size 720x720 with 1 Axes>"
      ]
     },
     "metadata": {
      "needs_background": "light"
     },
     "output_type": "display_data"
    }
   ],
   "source": [
    "imshow_components_rectagles(np.copy(image_labels),stats)"
   ]
  },
  {
   "cell_type": "markdown",
   "metadata": {},
   "source": [
    "#### Etapa 8: calcular razões para os componentes conexos obtidos na etapa 7"
   ]
  },
  {
   "cell_type": "markdown",
   "metadata": {},
   "source": [
    "##### a) Calcular razão entre o número de pixels pretos e o número total de pixels, para cada retângulo envolvendo um componente conexo"
   ]
  },
  {
   "cell_type": "code",
   "execution_count": 77,
   "metadata": {},
   "outputs": [],
   "source": [
    "black_pixels_ratios={}\n",
    "black_pixels_amount = {}\n",
    "component_area = {}"
   ]
  },
  {
   "cell_type": "code",
   "execution_count": 33,
   "metadata": {},
   "outputs": [],
   "source": [
    "for label, stat in zip(range(number_of_labels),stats):\n",
    "    black_pixels_ratios[label], black_pixels_amount[label], component_area[label] = getBlackPixelsRate(np.copy(image_p6),stat)"
   ]
  },
  {
   "cell_type": "code",
   "execution_count": 34,
   "metadata": {
    "scrolled": true
   },
   "outputs": [
    {
     "name": "stdout",
     "output_type": "stream",
     "text": [
      "Componente:0 | Ratio:0.3799260268918453 | Blacks:1165667 | Area:3068142\n",
      "Componente:1 | Ratio:0.8976736111111111 | Blacks:25853 | Area:28800\n",
      "Componente:2 | Ratio:1.0 | Blacks:882 | Area:882\n",
      "Componente:3 | Ratio:0.995049504950495 | Blacks:402 | Area:404\n",
      "Componente:4 | Ratio:1.0 | Blacks:82 | Area:82\n",
      "Componente:5 | Ratio:0.9104817201762246 | Blacks:339342 | Area:372706\n",
      "Componente:6 | Ratio:0.735655737704918 | Blacks:32310 | Area:43920\n",
      "Componente:7 | Ratio:0.7804872495446266 | Blacks:34279 | Area:43920\n",
      "Componente:8 | Ratio:0.8172728539576366 | Blacks:23459 | Area:28704\n",
      "Componente:9 | Ratio:0.8084920750327178 | Blacks:33360 | Area:41262\n",
      "Componente:10 | Ratio:0.7510919017288444 | Blacks:33018 | Area:43960\n",
      "Componente:11 | Ratio:0.7176448589392983 | Blacks:30703 | Area:42783\n",
      "Componente:12 | Ratio:0.7421519563239308 | Blacks:32625 | Area:43960\n",
      "Componente:13 | Ratio:0.7563636363636363 | Blacks:33280 | Area:44000\n",
      "Componente:14 | Ratio:0.7650273224043715 | Blacks:33600 | Area:43920\n",
      "Componente:15 | Ratio:0.835944055944056 | Blacks:35862 | Area:42900\n",
      "Componente:16 | Ratio:0.7857808857808858 | Blacks:33710 | Area:42900\n",
      "Componente:17 | Ratio:0.8555032016431074 | Blacks:14162 | Area:16554\n",
      "Componente:18 | Ratio:0.9468468468468468 | Blacks:2102 | Area:2220\n",
      "Componente:19 | Ratio:0.7552425436675911 | Blacks:31045 | Area:41106\n",
      "Componente:20 | Ratio:0.5251439757156231 | Blacks:92554 | Area:176245\n",
      "Componente:21 | Ratio:0.8435435435435436 | Blacks:11236 | Area:13320\n",
      "Componente:22 | Ratio:1.0 | Blacks:100 | Area:100\n",
      "Componente:23 | Ratio:0.80572179243906 | Blacks:33120 | Area:41106\n",
      "Componente:24 | Ratio:0.9066432147206062 | Blacks:13402 | Area:14782\n",
      "Componente:25 | Ratio:0.7277526395173454 | Blacks:29915 | Area:41106\n",
      "Componente:26 | Ratio:0.8407647805841681 | Blacks:11917 | Area:14174\n",
      "Componente:27 | Ratio:0.7324478178368121 | Blacks:30108 | Area:41106\n",
      "Componente:28 | Ratio:0.948316737790422 | Blacks:2000 | Area:2109\n",
      "Componente:29 | Ratio:0.9123711340206185 | Blacks:13098 | Area:14356\n",
      "Componente:30 | Ratio:0.8254803126597998 | Blacks:33900 | Area:41067\n",
      "Componente:31 | Ratio:0.9446589446589446 | Blacks:2202 | Area:2331\n",
      "Componente:32 | Ratio:0.8023080008639576 | Blacks:26002 | Area:32409\n",
      "Componente:33 | Ratio:0.7926374050714378 | Blacks:24632 | Area:31076\n",
      "Componente:34 | Ratio:0.9973118279569892 | Blacks:2968 | Area:2976\n",
      "Componente:35 | Ratio:0.825136612021858 | Blacks:4681 | Area:5673\n",
      "Componente:36 | Ratio:0.8255415162454873 | Blacks:27441 | Area:33240\n",
      "Componente:37 | Ratio:0.7872569510418645 | Blacks:24860 | Area:31578\n",
      "Componente:38 | Ratio:0.752895752895753 | Blacks:13455 | Area:17871\n"
     ]
    }
   ],
   "source": [
    "for label in black_pixels_ratios:\n",
    "    print('Componente:{} | Ratio:{} | Blacks:{} | Area:{}'.format(label,black_pixels_ratios[label], black_pixels_amount[label], component_area[label]))"
   ]
  },
  {
   "cell_type": "code",
   "execution_count": 35,
   "metadata": {},
   "outputs": [
    {
     "data": {
      "text/plain": [
       "array([     82,     100,     404,     882,    2109,    2220,    2331,\n",
       "          2976,    5673,   13320,   14174,   14356,   14782,   16554,\n",
       "         17871,   28704,   28800,   31076,   31578,   32409,   33240,\n",
       "         41067,   41106,   41106,   41106,   41106,   41262,   42783,\n",
       "         42900,   42900,   43920,   43920,   43920,   43960,   43960,\n",
       "         44000,  176245,  372706, 3068142], dtype=int32)"
      ]
     },
     "execution_count": 35,
     "metadata": {},
     "output_type": "execute_result"
    }
   ],
   "source": [
    "np.sort(list(component_area.values()))"
   ]
  },
  {
   "cell_type": "code",
   "execution_count": 48,
   "metadata": {},
   "outputs": [
    {
     "data": {
      "image/png": "[encoded data removed]",
      "text/plain": [
       "<Figure size 720x720 with 1 Axes>"
      ]
     },
     "metadata": {
      "needs_background": "light"
     },
     "output_type": "display_data"
    }
   ],
   "source": [
    "imshow_components_rectagles(image_labels, stats[34:35])"
   ]
  },
  {
   "cell_type": "markdown",
   "metadata": {},
   "source": [
    "##### b) Razão entre o número de transições de branco para preto e o número de pixels pretos, para cada retângulo envolvendo um componente conexo"
   ]
  },
  {
   "cell_type": "code",
   "execution_count": 37,
   "metadata": {},
   "outputs": [],
   "source": [
    "transition_ratios={}\n",
    "hor_tran_amount = {}\n",
    "ver_tran_amount = {}\n",
    "total_black_amount = {}"
   ]
  },
  {
   "cell_type": "code",
   "execution_count": 38,
   "metadata": {},
   "outputs": [],
   "source": [
    "for label, stat in zip(range(number_of_labels),stats):\n",
    "    transition_ratios[label], hor_tran_amount[label], ver_tran_amount[label], total_black_amount[label] = getTransitionsRate(np.copy(image_p6), stat, black_pixels_amount[label])"
   ]
  },
  {
   "cell_type": "code",
   "execution_count": 39,
   "metadata": {},
   "outputs": [
    {
     "name": "stdout",
     "output_type": "stream",
     "text": [
      "Componente:0 | Ratio:0.053648254604445354 | Horizontal:4854, Vertical:57682 | Blacks:1165667\n",
      "Componente:1 | Ratio:0.05206359029899818 | Horizontal:13, Vertical:1333 | Blacks:25853\n",
      "Componente:2 | Ratio:0.0 | Horizontal:0, Vertical:0 | Blacks:882\n",
      "Componente:3 | Ratio:0.009950248756218905 | Horizontal:2, Vertical:2 | Blacks:402\n",
      "Componente:4 | Ratio:0.0 | Horizontal:0, Vertical:0 | Blacks:82\n",
      "Componente:5 | Ratio:0.007213961136552504 | Horizontal:892, Vertical:1556 | Blacks:339342\n",
      "Componente:6 | Ratio:0.062116991643454036 | Horizontal:44, Vertical:1963 | Blacks:32310\n",
      "Componente:7 | Ratio:0.05434814317803903 | Horizontal:83, Vertical:1780 | Blacks:34279\n",
      "Componente:8 | Ratio:0.05192037171234921 | Horizontal:74, Vertical:1144 | Blacks:23459\n",
      "Componente:9 | Ratio:0.04085731414868105 | Horizontal:61, Vertical:1302 | Blacks:33360\n",
      "Componente:10 | Ratio:0.07356593373311528 | Horizontal:116, Vertical:2313 | Blacks:33018\n",
      "Componente:11 | Ratio:0.06654072891899815 | Horizontal:63, Vertical:1980 | Blacks:30703\n",
      "Componente:12 | Ratio:0.0729808429118774 | Horizontal:81, Vertical:2300 | Blacks:32625\n",
      "Componente:13 | Ratio:0.05667067307692308 | Horizontal:110, Vertical:1776 | Blacks:33280\n",
      "Componente:14 | Ratio:0.07020833333333333 | Horizontal:63, Vertical:2296 | Blacks:33600\n",
      "Componente:15 | Ratio:0.04567508783670738 | Horizontal:79, Vertical:1559 | Blacks:35862\n",
      "Componente:16 | Ratio:0.053337288638386236 | Horizontal:43, Vertical:1755 | Blacks:33710\n",
      "Componente:17 | Ratio:0.042084451348679566 | Horizontal:45, Vertical:551 | Blacks:14162\n",
      "Componente:18 | Ratio:0.03472882968601332 | Horizontal:32, Vertical:41 | Blacks:2102\n",
      "Componente:19 | Ratio:0.06535674021581575 | Horizontal:62, Vertical:1967 | Blacks:31045\n",
      "Componente:20 | Ratio:0.036918987834129266 | Horizontal:913, Vertical:2504 | Blacks:92554\n",
      "Componente:21 | Ratio:0.028212887148451406 | Horizontal:66, Vertical:251 | Blacks:11236\n",
      "Componente:22 | Ratio:0.0 | Horizontal:0, Vertical:0 | Blacks:100\n",
      "Componente:23 | Ratio:0.06766304347826087 | Horizontal:66, Vertical:2175 | Blacks:33120\n",
      "Componente:24 | Ratio:0.031189374720191017 | Horizontal:68, Vertical:350 | Blacks:13402\n",
      "Componente:25 | Ratio:0.06538525823165636 | Horizontal:47, Vertical:1909 | Blacks:29915\n",
      "Componente:26 | Ratio:0.03910380129227155 | Horizontal:65, Vertical:401 | Blacks:11917\n",
      "Componente:27 | Ratio:0.0690846286701209 | Horizontal:80, Vertical:2000 | Blacks:30108\n",
      "Componente:28 | Ratio:0.028 | Horizontal:34, Vertical:22 | Blacks:2000\n",
      "Componente:29 | Ratio:0.02588181401740724 | Horizontal:61, Vertical:278 | Blacks:13098\n",
      "Componente:30 | Ratio:0.05584070796460177 | Horizontal:49, Vertical:1844 | Blacks:33900\n",
      "Componente:31 | Ratio:0.039509536784741145 | Horizontal:33, Vertical:54 | Blacks:2202\n",
      "Componente:32 | Ratio:0.055534189677717095 | Horizontal:68, Vertical:1376 | Blacks:26002\n",
      "Componente:33 | Ratio:0.06231731081519974 | Horizontal:27, Vertical:1508 | Blacks:24632\n",
      "Componente:34 | Ratio:0.003032345013477089 | Horizontal:1, Vertical:8 | Blacks:2968\n",
      "Componente:35 | Ratio:0.03994872890408033 | Horizontal:56, Vertical:131 | Blacks:4681\n",
      "Componente:36 | Ratio:0.07496082504281915 | Horizontal:97, Vertical:1960 | Blacks:27441\n",
      "Componente:37 | Ratio:0.05193081255028158 | Horizontal:59, Vertical:1232 | Blacks:24860\n",
      "Componente:38 | Ratio:0.046674098848011894 | Horizontal:64, Vertical:564 | Blacks:13455\n"
     ]
    }
   ],
   "source": [
    "for label in transition_ratios:\n",
    "    print('Componente:{} | Ratio:{} | Horizontal:{}, Vertical:{} | Blacks:{}'.format(label,transition_ratios[label], hor_tran_amount[label], ver_tran_amount[label], total_black_amount[label]))"
   ]
  },
  {
   "cell_type": "code",
   "execution_count": 46,
   "metadata": {},
   "outputs": [
    {
     "data": {
      "text/plain": [
       "array([0.        , 0.        , 0.        , 0.00303235, 0.00721396,\n",
       "       0.00995025, 0.02588181, 0.028     , 0.02821289, 0.03118937,\n",
       "       0.03472883, 0.03691899, 0.0391038 , 0.03950954, 0.03994873,\n",
       "       0.04085731, 0.04208445, 0.04567509, 0.0466741 , 0.05192037,\n",
       "       0.05193081, 0.05206359, 0.05333729, 0.05364825, 0.05434814,\n",
       "       0.05553419, 0.05584071, 0.05667067, 0.06211699, 0.06231731,\n",
       "       0.06535674, 0.06538526, 0.06654073, 0.06766304, 0.06908463,\n",
       "       0.07020833, 0.07298084, 0.07356593, 0.07496083])"
      ]
     },
     "execution_count": 46,
     "metadata": {},
     "output_type": "execute_result"
    }
   ],
   "source": [
    "np.sort(list(transition_ratios.values()))"
   ]
  },
  {
   "cell_type": "markdown",
   "metadata": {},
   "source": [
    "#### Etapa 9: Criar uma regra, baseada na Etapa 8, para determinar se um componente conexo é texto ou não"
   ]
  },
  {
   "cell_type": "code",
   "execution_count": 40,
   "metadata": {},
   "outputs": [],
   "source": [
    "component_classes = {}"
   ]
  },
  {
   "cell_type": "code",
   "execution_count": 41,
   "metadata": {},
   "outputs": [],
   "source": [
    "for comp_key in range(number_of_labels):\n",
    "    if black_pixels_ratios[comp_key] < 0.53:\n",
    "        component_classes[comp_key] = 0\n",
    "    elif transition_ratios[comp_key] < 0.014:\n",
    "        component_classes[comp_key] = 0\n",
    "    else:\n",
    "        component_classes[comp_key] = 1"
   ]
  },
  {
   "cell_type": "code",
   "execution_count": 42,
   "metadata": {},
   "outputs": [],
   "source": [
    "# for key in component_classes:\n",
    "#     print(\"Componente:{} | Text: {}\".format(key,component_classes[key]))"
   ]
  },
  {
   "cell_type": "code",
   "execution_count": 43,
   "metadata": {},
   "outputs": [],
   "source": [
    "text_labels = [key for key in component_classes if component_classes[key] == 1]\n",
    "no_text_labels = [key for key in component_classes if component_classes[key] == 0]\n",
    "text_stats = stats[text_labels]\n",
    "\n",
    "text_image = np.copy(image_labels)\n",
    "for l in no_text_labels:\n",
    "    text_image[text_image == l] = 0"
   ]
  },
  {
   "cell_type": "code",
   "execution_count": 45,
   "metadata": {},
   "outputs": [
    {
     "name": "stdout",
     "output_type": "stream",
     "text": [
      "31\n"
     ]
    },
    {
     "data": {
      "image/png": "[encoded data removed]",
      "text/plain": [
       "<Figure size 720x720 with 1 Axes>"
      ]
     },
     "metadata": {
      "needs_background": "light"
     },
     "output_type": "display_data"
    }
   ],
   "source": [
    "print(len(text_labels))\n",
    "imshow_components_rectagles(text_image, text_stats)"
   ]
  },
  {
   "cell_type": "markdown",
   "metadata": {},
   "source": [
    "#### Etapa 10: Segmentar palavras, colocar retângulos e calcular quantidades "
   ]
  },
  {
   "cell_type": "markdown",
   "metadata": {},
   "source": [
    "##### a) Segmentar palavras"
   ]
  },
  {
   "cell_type": "code",
   "execution_count": 38,
   "metadata": {},
   "outputs": [],
   "source": [
    "np.unique(text_image)\n",
    "text_image = np.uint8(text_image)\n",
    "teste_i = cv.bitwise_and(image,text_image)"
   ]
  },
  {
   "cell_type": "code",
   "execution_count": 39,
   "metadata": {},
   "outputs": [],
   "source": [
    "image_10 = cv.morphologyEx(text_image, cv.MORPH_OPEN, kernel1_30)"
   ]
  },
  {
   "cell_type": "code",
   "execution_count": 40,
   "metadata": {},
   "outputs": [
    {
     "data": {
      "image/png": "[encoded data removed]",
      "text/plain": [
       "<Figure size 720x720 with 1 Axes>"
      ]
     },
     "metadata": {
      "needs_background": "light"
     },
     "output_type": "display_data"
    }
   ],
   "source": [
    "print_image(image_10)"
   ]
  },
  {
   "cell_type": "code",
   "execution_count": null,
   "metadata": {},
   "outputs": [],
   "source": []
  }
 ],
 "metadata": {
  "kernelspec": {
   "display_name": "Python 3",
   "language": "python",
   "name": "python3"
  },
  "language_info": {
   "codemirror_mode": {
    "name": "ipython",
    "version": 3
   },
   "file_extension": ".py",
   "mimetype": "text/x-python",
   "name": "python",
   "nbconvert_exporter": "python",
   "pygments_lexer": "ipython3",
   "version": "3.7.4"
  }
 },
 "nbformat": 4,
 "nbformat_minor": 2
}
