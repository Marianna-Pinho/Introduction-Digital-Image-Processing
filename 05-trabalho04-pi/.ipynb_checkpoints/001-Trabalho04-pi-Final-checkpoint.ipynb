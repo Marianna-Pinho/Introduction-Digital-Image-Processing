{
 "cells": [
  {
   "cell_type": "markdown",
   "metadata": {},
   "source": [
    "# <center> Trabalho 04 - Introdução ao Processamento de Imagem Digital </center>\n",
    "\n",
    "**Aluno(a):** Marianna de Pinho Severo <br>\n",
    "**RA:** 264960 <br>\n",
    "**Professor:** Hélio Pedrini"
   ]
  },
  {
   "cell_type": "markdown",
   "metadata": {},
   "source": [
    "### Passo 1: Importar bibliotecas"
   ]
  },
  {
   "cell_type": "code",
   "execution_count": 2,
   "metadata": {},
   "outputs": [],
   "source": [
    "%matplotlib inline\n",
    "import numpy as np\n",
    "import cv2 as cv\n",
    "import matplotlib.pyplot as plt"
   ]
  },
  {
   "cell_type": "markdown",
   "metadata": {},
   "source": [
    "### Passo 2: Definir funções auxiliares"
   ]
  },
  {
   "cell_type": "markdown",
   "metadata": {},
   "source": [
    "#### Passo 2.1: Funções para mostrar e salvar imagens"
   ]
  },
  {
   "cell_type": "code",
   "execution_count": 3,
   "metadata": {},
   "outputs": [],
   "source": [
    "#Prints an image using matplotlib imshow method\n",
    "def printImage(image):\n",
    "    plt.figure(figsize=(10,10))\n",
    "    plt.imshow(image, cmap='gray')"
   ]
  },
  {
   "cell_type": "code",
   "execution_count": 4,
   "metadata": {},
   "outputs": [],
   "source": [
    "#Prints an image with enveloping rectangules\n",
    "def printImageRectangles(labels, stats):\n",
    "        # Map component labels to hue val\n",
    "    label_hue = np.uint8(179*labels/np.max(labels))\n",
    "    blank_ch = 255*np.ones_like(label_hue)\n",
    "    black_ch = np.zeros_like(label_hue)\n",
    "    labeled_img = cv.merge([black_ch, black_ch, blank_ch])\n",
    "\n",
    "    # cvt to BGR for display\n",
    "    labeled_img = cv.cvtColor(labeled_img, cv.COLOR_HSV2BGR)\n",
    "\n",
    "    # set backgroung label to black\n",
    "    labeled_img[label_hue==0] = 0\n",
    "    \n",
    "    for stat in stats:\n",
    "        cv.rectangle(labeled_img, (stat[0], stat[1]), (stat[0]+stat[2], stat[1]+stat[3]), (0, 255, 255), 3) \n",
    "    printImage(labeled_img)"
   ]
  },
  {
   "cell_type": "code",
   "execution_count": 5,
   "metadata": {},
   "outputs": [],
   "source": [
    "#Prints the connected components with different colors\n",
    "#Function based in the code from https://stackoverflow.com/questions/46441893/connected-component-labeling-in-python\n",
    "def imshowComponents(labels):\n",
    "    # Map component labels to hue val\n",
    "    label_hue = np.uint8(179*labels/np.max(labels))\n",
    "    blank_ch = 255*np.ones_like(label_hue)\n",
    "    labeled_img = cv.merge([label_hue, blank_ch, blank_ch])\n",
    "\n",
    "    # cvt to BGR for display\n",
    "    labeled_img = cv.cvtColor(labeled_img, cv.COLOR_HSV2BGR)\n",
    "\n",
    "    # set background label to black\n",
    "    labeled_img[label_hue==0] = 0\n",
    "    \n",
    "    printImage(labeled_img)"
   ]
  },
  {
   "cell_type": "code",
   "execution_count": 6,
   "metadata": {},
   "outputs": [],
   "source": [
    "#Prints the connected components with different colors and put rectangles around them.\n",
    "#Function based in the code from https://stackoverflow.com/questions/46441893/connected-component-labeling-in-python\n",
    "def imshowComponentsRectagles(labels, stats):\n",
    "    # Map component labels to hue val\n",
    "    label_hue = np.uint8(179*labels/np.max(labels))\n",
    "    blank_ch = 255*np.ones_like(label_hue)\n",
    "    labeled_img = cv.merge([label_hue, blank_ch, blank_ch])\n",
    "\n",
    "    # cvt to BGR for display\n",
    "    labeled_img = cv.cvtColor(labeled_img, cv.COLOR_HSV2BGR)\n",
    "\n",
    "    # set backgroung label to black\n",
    "    labeled_img[label_hue==0] = 0\n",
    "    \n",
    "    for stat in stats:\n",
    "        cv.rectangle(labeled_img, (stat[0], stat[1]), (stat[0]+stat[2], stat[1]+stat[3]), (255, 255, 255), 3) \n",
    "    \n",
    "    printImage(labeled_img)"
   ]
  },
  {
   "cell_type": "code",
   "execution_count": 215,
   "metadata": {},
   "outputs": [],
   "source": [
    "def getRectanglesImage(labels, stats):\n",
    "    # Map component labels to hue val\n",
    "    label_hue = np.uint8(179*labels/np.max(labels))\n",
    "    blank_ch = 255*np.ones_like(label_hue)\n",
    "    black_ch = np.zeros_like(label_hue)\n",
    "    labeled_img = cv.merge([black_ch, black_ch, blank_ch])\n",
    "\n",
    "    # cvt to BGR for display\n",
    "    labeled_img = cv.cvtColor(labeled_img, cv.COLOR_HSV2BGR)\n",
    "\n",
    "    # set backgroung label to black\n",
    "    labeled_img[label_hue==0] = 0\n",
    "    \n",
    "    for stat in stats:\n",
    "        cv.rectangle(labeled_img, (stat[0], stat[1]), (stat[0]+stat[2], stat[1]+stat[3]), (0, 255, 255), 3) \n",
    "    return labeled_img"
   ]
  },
  {
   "cell_type": "markdown",
   "metadata": {},
   "source": [
    "#### Passo 2.2: Função para calcular a taxa de pixels pretos (objeto) por área, de um componente conexo"
   ]
  },
  {
   "cell_type": "code",
   "execution_count": 7,
   "metadata": {},
   "outputs": [],
   "source": [
    "def getBlackPixelsRate(image,stat,color=1): #Black is considered 1 and White is considered 0\n",
    "    init_x = stat[0]\n",
    "    init_y = stat[1]\n",
    "    dx = stat[2]\n",
    "    dy = stat[3]\n",
    "    \n",
    "    area = (dx)*(dy)\n",
    "    \n",
    "    aux_image = image[init_y: init_y+dy,init_x:init_x + dx]\n",
    "    aux_image = aux_image[aux_image == color]\n",
    "    \n",
    "    return len(aux_image)/area, len(aux_image), area"
   ]
  },
  {
   "cell_type": "markdown",
   "metadata": {},
   "source": [
    "#### Passo 2.3: Função para calcular a taxa de transições de vizinhança 4 por total de pixels pretos, de um componente conexo"
   ]
  },
  {
   "cell_type": "code",
   "execution_count": 8,
   "metadata": {},
   "outputs": [],
   "source": [
    "def getTransitionsRate(image, stat, total_black): #Black is 1 and White is 0\n",
    "    \n",
    "    if total_black == 0:\n",
    "        return 0,0,0,0\n",
    "    \n",
    "    init_x = stat[0]\n",
    "    init_y = stat[1]\n",
    "    dx = stat[2]\n",
    "    dy = stat[3]\n",
    "    \n",
    "    hor_count = 0\n",
    "    ver_count = 0\n",
    "    \n",
    "    max_y = init_y+dy\n",
    "    max_x = init_x+dx\n",
    "    \n",
    "    for line in range(init_y, max_y):\n",
    "        for col in range(init_x, max_x):\n",
    "            north = line - 1\n",
    "            south = line + 1\n",
    "            west = col - 1\n",
    "            east = col + 1\n",
    "            \n",
    "            #left neighbor\n",
    "            if west >= 0 and (image[line, col] == 0 and image[line,west] == 1):\n",
    "                hor_count+=1\n",
    "                \n",
    "            # right neighbor\n",
    "            if east < max_x and (image[line, col] == 0 and image[line,east] == 1):\n",
    "                hor_count+=1\n",
    "                \n",
    "            #top neighbor\n",
    "            if north >= 0 and (image[line,col] == 0 and image[north, col] == 1):\n",
    "                ver_count+=1\n",
    "                \n",
    "            #bottom neighbor\n",
    "            if south < max_y and (image[line,col] == 0 and image[south, col] == 1):\n",
    "                ver_count+=1\n",
    "            \n",
    "    return (hor_count + ver_count)/total_black, hor_count, ver_count,total_black"
   ]
  },
  {
   "cell_type": "markdown",
   "metadata": {},
   "source": [
    "### Passo 3: Ler imagem\n",
    "\n",
    "A imagem que vamos usar neste projeto é do tipo *Portable Bitmap* (PBM). Dessa maneira, esperamos que os pixels do objeto (pixels pretos) sejam representados por valores iguais a 1 e os pixels do fundo (brancos) por valores iguais a 0.\n",
    "\n",
    "Quando lemos essa imagem utilizando o método **imread** do *opencv*, a imagem é lida no formato monocromático, o que significa que seus valores poderão apresentar valores no intervalo de 0 a 255. Como na imagem lida só existem dois valores diferentes de pixels (0 e 255) e os valores 0 são atribuídos aos objetos, enquanto os valores 255 são atribuídos ao fundo, faremos a negação dessa imagem e dividiremos as intensidades de seus pixels por 255, de maneira a obtermos um arranjo de pixels como o esperado para uma imagem do tipo PBM. "
   ]
  },
  {
   "cell_type": "code",
   "execution_count": 9,
   "metadata": {},
   "outputs": [
    {
     "data": {
      "text/plain": [
       "(1374, 2233)"
      ]
     },
     "execution_count": 9,
     "metadata": {},
     "output_type": "execute_result"
    }
   ],
   "source": [
    "image = cv.imread('input_images/bitmap.pbm',0)\n",
    "image = cv.bitwise_not(image)//255\n",
    "image.shape"
   ]
  },
  {
   "cell_type": "markdown",
   "metadata": {},
   "source": [
    "### Passo 4: Definir elementos estruturantes"
   ]
  },
  {
   "cell_type": "markdown",
   "metadata": {},
   "source": [
    "#### Passo 4.1: Elementos estruturantes para identificação de linhas"
   ]
  },
  {
   "cell_type": "code",
   "execution_count": 10,
   "metadata": {},
   "outputs": [
    {
     "data": {
      "text/plain": [
       "array([[1, 1, 1, 1, 1, 1, 1, 1, 1, 1, 1, 1, 1, 1, 1, 1, 1, 1, 1, 1, 1, 1,\n",
       "        1, 1, 1, 1, 1, 1, 1, 1, 1, 1, 1, 1, 1, 1, 1, 1, 1, 1, 1, 1, 1, 1,\n",
       "        1, 1, 1, 1, 1, 1, 1, 1, 1, 1, 1, 1, 1, 1, 1, 1, 1, 1, 1, 1, 1, 1,\n",
       "        1, 1, 1, 1, 1, 1, 1, 1, 1, 1, 1, 1, 1, 1, 1, 1, 1, 1, 1, 1, 1, 1,\n",
       "        1, 1, 1, 1, 1, 1, 1, 1, 1, 1, 1, 1]], dtype=uint8)"
      ]
     },
     "execution_count": 10,
     "metadata": {},
     "output_type": "execute_result"
    }
   ],
   "source": [
    "kernel1_100 = np.ones((1,100),np.uint8)\n",
    "kernel1_100"
   ]
  },
  {
   "cell_type": "code",
   "execution_count": 11,
   "metadata": {},
   "outputs": [],
   "source": [
    "kernel200_1 = np.ones((200,1), np.uint8)"
   ]
  },
  {
   "cell_type": "code",
   "execution_count": 12,
   "metadata": {},
   "outputs": [
    {
     "data": {
      "text/plain": [
       "array([[1, 1, 1, 1, 1, 1, 1, 1, 1, 1, 1, 1, 1, 1, 1, 1, 1, 1, 1, 1, 1, 1,\n",
       "        1, 1, 1, 1, 1, 1, 1, 1]], dtype=uint8)"
      ]
     },
     "execution_count": 12,
     "metadata": {},
     "output_type": "execute_result"
    }
   ],
   "source": [
    "kernel1_30 = np.ones((1,30), np.uint8)\n",
    "kernel1_30"
   ]
  },
  {
   "cell_type": "markdown",
   "metadata": {},
   "source": [
    "#### Passo 4.2: Elementos estruturantes para identificação de palavras"
   ]
  },
  {
   "cell_type": "code",
   "execution_count": 13,
   "metadata": {},
   "outputs": [
    {
     "data": {
      "text/plain": [
       "array([[1, 1, 1, 1, 1, 1],\n",
       "       [1, 1, 1, 1, 1, 1],\n",
       "       [1, 1, 1, 1, 1, 1],\n",
       "       [1, 1, 1, 1, 1, 1],\n",
       "       [1, 1, 1, 1, 1, 1],\n",
       "       [1, 1, 1, 1, 1, 1]], dtype=uint8)"
      ]
     },
     "execution_count": 13,
     "metadata": {},
     "output_type": "execute_result"
    }
   ],
   "source": [
    "kernel6_6 = np.ones((6,6),np.uint8)\n",
    "kernel6_6"
   ]
  },
  {
   "cell_type": "code",
   "execution_count": 14,
   "metadata": {},
   "outputs": [
    {
     "data": {
      "text/plain": [
       "array([[1, 1, 1]], dtype=uint8)"
      ]
     },
     "execution_count": 14,
     "metadata": {},
     "output_type": "execute_result"
    }
   ],
   "source": [
    "kernel1_3 = np.ones((1,3), np.uint8)\n",
    "kernel1_3"
   ]
  },
  {
   "cell_type": "code",
   "execution_count": 15,
   "metadata": {},
   "outputs": [],
   "source": [
    "kernel10_1 = np.ones((10,1), np.uint8)"
   ]
  },
  {
   "cell_type": "code",
   "execution_count": 16,
   "metadata": {},
   "outputs": [
    {
     "data": {
      "text/plain": [
       "array([[1, 1, 1, 1, 1, 1, 1, 1]], dtype=uint8)"
      ]
     },
     "execution_count": 16,
     "metadata": {},
     "output_type": "execute_result"
    }
   ],
   "source": [
    "kernel1_8 = np.ones((1,8), np.uint8)\n",
    "kernel1_8"
   ]
  },
  {
   "cell_type": "markdown",
   "metadata": {},
   "source": [
    "Para a realização do passo 10 deste trabalho, duas abordagens serão seguidas: na primeira delas, aplicaremos os outros nove passos descritos no trabalho, o que nos permitirá identificar partes da imagem que representam texto e a contar o número de linha; a segunda abordagem também nos permitirá identificar partes da imagem que representam texto, mas também permitirá que contemos a quantidade de palavras. Suas implementação é realizada nas seções abaixo."
   ]
  },
  {
   "cell_type": "markdown",
   "metadata": {},
   "source": [
    "### Passo 5: Aplicar etapas indicadas na descrição do trabalho até a etapa 09\n",
    "\n",
    "Todas as imagens intermediárias geradas nesta seção serão salvas no dicionário **line_processed_images**."
   ]
  },
  {
   "cell_type": "code",
   "execution_count": 17,
   "metadata": {},
   "outputs": [],
   "source": [
    "line_processed_images = {}"
   ]
  },
  {
   "cell_type": "markdown",
   "metadata": {},
   "source": [
    "#### Passo 5.1: Aplicar dilatação na imagem original com elemento estruturante de 1 x 100"
   ]
  },
  {
   "cell_type": "code",
   "execution_count": 18,
   "metadata": {},
   "outputs": [],
   "source": [
    "line_processed_images['dilate1_100'] = cv.dilate(np.copy(image),kernel1_100)"
   ]
  },
  {
   "cell_type": "code",
   "execution_count": 19,
   "metadata": {},
   "outputs": [],
   "source": [
    "# printImage(line_processed_images['dilate1_100'])"
   ]
  },
  {
   "cell_type": "markdown",
   "metadata": {},
   "source": [
    "#### Passo 5.2: Aplicar erosão, na imagem do passo anterior, com elemento estruturante de 1 x 100"
   ]
  },
  {
   "cell_type": "code",
   "execution_count": 20,
   "metadata": {},
   "outputs": [],
   "source": [
    "line_processed_images['erode1_100'] = cv.erode(np.copy(line_processed_images['dilate1_100']),kernel1_100)"
   ]
  },
  {
   "cell_type": "code",
   "execution_count": 21,
   "metadata": {},
   "outputs": [],
   "source": [
    "# printImage(line_processed_images['erode1_100'])"
   ]
  },
  {
   "cell_type": "markdown",
   "metadata": {},
   "source": [
    "#### Passo 5.3: Aplicar dilatação na imagem original com elemento estruturante de 200 x 1"
   ]
  },
  {
   "cell_type": "code",
   "execution_count": 22,
   "metadata": {},
   "outputs": [],
   "source": [
    "line_processed_images['dilate200_1'] = cv.dilate(np.copy(image),kernel200_1)"
   ]
  },
  {
   "cell_type": "code",
   "execution_count": 23,
   "metadata": {},
   "outputs": [],
   "source": [
    "# printImage(line_processed_images['dilate200_1'])"
   ]
  },
  {
   "cell_type": "markdown",
   "metadata": {},
   "source": [
    "#### Passo 5.4: Aplicar erosão, na imagem do passo anterior, com elemento estruturante de 200 x 1"
   ]
  },
  {
   "cell_type": "code",
   "execution_count": 24,
   "metadata": {},
   "outputs": [],
   "source": [
    "line_processed_images['erode200_1'] = cv.erode(np.copy(line_processed_images['dilate200_1']),kernel200_1)"
   ]
  },
  {
   "cell_type": "code",
   "execution_count": 25,
   "metadata": {},
   "outputs": [],
   "source": [
    "# printImage(line_processed_images['erode200_1'])"
   ]
  },
  {
   "cell_type": "markdown",
   "metadata": {},
   "source": [
    "#### Passo 5.5: Fazer interseção das imagens produzidas nos passos 5.2 e 5.4"
   ]
  },
  {
   "cell_type": "code",
   "execution_count": 26,
   "metadata": {},
   "outputs": [],
   "source": [
    "line_processed_images['inter2_4'] = cv.bitwise_and(line_processed_images['erode1_100'], line_processed_images['erode200_1'])\n"
   ]
  },
  {
   "cell_type": "code",
   "execution_count": 27,
   "metadata": {},
   "outputs": [],
   "source": [
    "# printImage(line_processed_images['inter2_4'])"
   ]
  },
  {
   "cell_type": "markdown",
   "metadata": {},
   "source": [
    "#### Passo 5.6: Aplicar fechamento, na imagem do passo anterior, com elemento estruturante de 1 x 30"
   ]
  },
  {
   "cell_type": "code",
   "execution_count": 28,
   "metadata": {},
   "outputs": [],
   "source": [
    "line_processed_images['close1_30'] = cv.morphologyEx(line_processed_images['inter2_4'], cv.MORPH_CLOSE, kernel1_30)\n"
   ]
  },
  {
   "cell_type": "code",
   "execution_count": 29,
   "metadata": {},
   "outputs": [],
   "source": [
    "# printImage(line_processed_images['close1_30'])"
   ]
  },
  {
   "cell_type": "markdown",
   "metadata": {},
   "source": [
    "#### Passo 5.7: Identificação de componentes conexos na imagem do passo anterior"
   ]
  },
  {
   "cell_type": "code",
   "execution_count": 30,
   "metadata": {},
   "outputs": [],
   "source": [
    "line_num_labels, line_image_labels, line_stats, line_centroids = cv.connectedComponentsWithStats(line_processed_images['close1_30'])\n"
   ]
  },
  {
   "cell_type": "code",
   "execution_count": 31,
   "metadata": {},
   "outputs": [
    {
     "name": "stdout",
     "output_type": "stream",
     "text": [
      "54\n"
     ]
    }
   ],
   "source": [
    "print(line_num_labels)"
   ]
  },
  {
   "cell_type": "code",
   "execution_count": 32,
   "metadata": {},
   "outputs": [],
   "source": [
    "# imshowComponents(np.copy(line_image_labels))"
   ]
  },
  {
   "cell_type": "code",
   "execution_count": 33,
   "metadata": {},
   "outputs": [
    {
     "data": {
      "image/png": "[encoded data removed]",
      "text/plain": [
       "<Figure size 720x720 with 1 Axes>"
      ]
     },
     "metadata": {
      "needs_background": "light"
     },
     "output_type": "display_data"
    }
   ],
   "source": [
    "imshowComponentsRectagles(np.copy(line_image_labels),line_stats)"
   ]
  },
  {
   "cell_type": "markdown",
   "metadata": {},
   "source": [
    "#### Passo 5.8: Calcular razões para os componentes conexos obtidos no passo anterior"
   ]
  },
  {
   "cell_type": "markdown",
   "metadata": {},
   "source": [
    "##### Passo 5.8.1: Calcular razão entre o número de pixels pretos e o número total de pixels, para cada retângulo envolvendo um componente conexo"
   ]
  },
  {
   "cell_type": "code",
   "execution_count": 34,
   "metadata": {},
   "outputs": [],
   "source": [
    "line_black_ratios={}\n",
    "line_black_amounts = {}\n",
    "line_component_areas = {}"
   ]
  },
  {
   "cell_type": "code",
   "execution_count": 35,
   "metadata": {},
   "outputs": [],
   "source": [
    "for label, stat in zip(range(line_num_labels),line_stats):\n",
    "    line_black_ratios[label], line_black_amounts[label], line_component_areas[label] = getBlackPixelsRate(np.copy(image),stat)"
   ]
  },
  {
   "cell_type": "code",
   "execution_count": 36,
   "metadata": {
    "scrolled": true
   },
   "outputs": [
    {
     "name": "stdout",
     "output_type": "stream",
     "text": [
      "Componente:0 | Ratio:0.15326995947384442 | Blacks:470254 | Area:3068142\n",
      "Componente:1 | Ratio:0.29763478260869564 | Blacks:8557 | Area:28750\n",
      "Componente:2 | Ratio:0.36848072562358275 | Blacks:325 | Area:882\n",
      "Componente:3 | Ratio:0.0 | Blacks:0 | Area:6\n",
      "Componente:4 | Ratio:0.8370760255786994 | Blacks:268611 | Area:320892\n",
      "Componente:5 | Ratio:0.21467495219885277 | Blacks:8982 | Area:41840\n",
      "Componente:6 | Ratio:0.22251434034416825 | Blacks:9310 | Area:41840\n",
      "Componente:7 | Ratio:0.2552410901467505 | Blacks:6331 | Area:24804\n",
      "Componente:8 | Ratio:0.20510274234206707 | Blacks:8055 | Area:39273\n",
      "Componente:9 | Ratio:0.20871537726838588 | Blacks:8741 | Area:41880\n",
      "Componente:10 | Ratio:0.45 | Blacks:9 | Area:20\n",
      "Componente:11 | Ratio:0.2235205237975321 | Blacks:8876 | Area:39710\n",
      "Componente:12 | Ratio:0.4 | Blacks:8 | Area:20\n",
      "Componente:13 | Ratio:0.2167304015296367 | Blacks:9068 | Area:41840\n",
      "Componente:14 | Ratio:0.23410611854684513 | Blacks:9795 | Area:41840\n",
      "Componente:15 | Ratio:0.22114463601532566 | Blacks:9235 | Area:41760\n",
      "Componente:16 | Ratio:0.2165514536451439 | Blacks:8834 | Area:40794\n",
      "Componente:17 | Ratio:0.21003088689513164 | Blacks:8568 | Area:40794\n",
      "Componente:18 | Ratio:0.3038932146829811 | Blacks:4098 | Area:13485\n",
      "Componente:19 | Ratio:0.4125 | Blacks:99 | Area:240\n",
      "Componente:20 | Ratio:0.22203742203742205 | Blacks:6408 | Area:28860\n",
      "Componente:21 | Ratio:0.06213158654934691 | Blacks:7958 | Area:128083\n",
      "Componente:22 | Ratio:0.3115468409586057 | Blacks:1144 | Area:3672\n",
      "Componente:23 | Ratio:0.2800041420731076 | Blacks:2704 | Area:9657\n",
      "Componente:24 | Ratio:0.0 | Blacks:0 | Area:1\n",
      "Componente:25 | Ratio:0.21770334928229665 | Blacks:6461 | Area:29678\n",
      "Componente:26 | Ratio:0.2964365639524875 | Blacks:1722 | Area:5809\n",
      "Componente:27 | Ratio:0.6875 | Blacks:33 | Area:48\n",
      "Componente:28 | Ratio:0.2602540834845735 | Blacks:2868 | Area:11020\n",
      "Componente:29 | Ratio:0.28764957264957264 | Blacks:6731 | Area:23400\n",
      "Componente:30 | Ratio:0.52 | Blacks:13 | Area:25\n",
      "Componente:31 | Ratio:0.296448087431694 | Blacks:1953 | Area:6588\n",
      "Componente:32 | Ratio:0.35526315789473684 | Blacks:81 | Area:228\n",
      "Componente:33 | Ratio:0.2305032654629274 | Blacks:2400 | Area:10412\n",
      "Componente:34 | Ratio:0.2134240851809421 | Blacks:6334 | Area:29678\n",
      "Componente:35 | Ratio:0.2786322233836046 | Blacks:1866 | Area:6697\n",
      "Componente:36 | Ratio:0.45454545454545453 | Blacks:95 | Area:209\n",
      "Componente:37 | Ratio:0.26157299167679793 | Blacks:2797 | Area:10693\n",
      "Componente:38 | Ratio:0.56 | Blacks:14 | Area:25\n",
      "Componente:39 | Ratio:0.23493877015003775 | Blacks:7156 | Area:30459\n",
      "Componente:40 | Ratio:0.4166666666666667 | Blacks:105 | Area:252\n",
      "Componente:41 | Ratio:0.37456271864067964 | Blacks:1499 | Area:4002\n",
      "Componente:42 | Ratio:0.0 | Blacks:0 | Area:7\n",
      "Componente:43 | Ratio:0.0 | Blacks:0 | Area:7\n",
      "Componente:44 | Ratio:0.21017771657157847 | Blacks:6410 | Area:30498\n",
      "Componente:45 | Ratio:0.23585969100192294 | Blacks:7114 | Area:30162\n",
      "Componente:46 | Ratio:0.75 | Blacks:9 | Area:12\n",
      "Componente:47 | Ratio:0.22395833333333334 | Blacks:645 | Area:2880\n",
      "Componente:48 | Ratio:0.2980956082394092 | Blacks:767 | Area:2573\n",
      "Componente:49 | Ratio:0.2354043392504931 | Blacks:7161 | Area:30420\n",
      "Componente:50 | Ratio:0.0 | Blacks:0 | Area:1\n",
      "Componente:51 | Ratio:0.0 | Blacks:0 | Area:2\n",
      "Componente:52 | Ratio:0.220748987854251 | Blacks:6543 | Area:29640\n",
      "Componente:53 | Ratio:0.23690878378378377 | Blacks:3366 | Area:14208\n"
     ]
    }
   ],
   "source": [
    "for label in line_black_ratios:\n",
    "    print('Componente:{} | Ratio:{} | Blacks:{} | Area:{}'.format(label,line_black_ratios[label], line_black_amounts[label], line_component_areas[label]))"
   ]
  },
  {
   "cell_type": "markdown",
   "metadata": {},
   "source": [
    "##### Passo 5.8.2: Calcular razão entre o número de transições de branco para preto e o número de pixels pretos, para cada retângulo envolvendo um componente conexo"
   ]
  },
  {
   "cell_type": "code",
   "execution_count": 37,
   "metadata": {},
   "outputs": [],
   "source": [
    "line_transition_ratios={}\n",
    "line_hor_tran_amount = {}\n",
    "line_ver_tran_amount = {}\n",
    "line_total_black_amount = {}"
   ]
  },
  {
   "cell_type": "code",
   "execution_count": 38,
   "metadata": {},
   "outputs": [],
   "source": [
    "for label, stat in zip(range(line_num_labels),line_stats):\n",
    "    line_transition_ratios[label], line_hor_tran_amount[label], line_ver_tran_amount[label], line_total_black_amount[label] = getTransitionsRate(np.copy(image), stat, line_black_amounts[label])"
   ]
  },
  {
   "cell_type": "code",
   "execution_count": 39,
   "metadata": {},
   "outputs": [],
   "source": [
    "# for label in line_transition_ratios:\n",
    "#     print('Componente:{} | Ratio:{} | Horizontal:{}, Vertical:{} | Blacks:{}'.format(label,line_transition_ratios[label], line_hor_tran_amount[label], line_ver_tran_amount[label], line_total_black_amount[label]))"
   ]
  },
  {
   "cell_type": "markdown",
   "metadata": {},
   "source": [
    "#### Passo 5.9: Criar uma regra para determinar se um componente conexo é texto ou não"
   ]
  },
  {
   "cell_type": "code",
   "execution_count": 40,
   "metadata": {},
   "outputs": [],
   "source": [
    "line_component_classes = {}"
   ]
  },
  {
   "cell_type": "code",
   "execution_count": 84,
   "metadata": {},
   "outputs": [],
   "source": [
    "for comp_key in range(line_num_labels):\n",
    "    if comp_key == 0:\n",
    "        line_component_classes[comp_key] = 0\n",
    "    elif line_black_ratios[comp_key] < 0.07:\n",
    "        line_component_classes[comp_key] = 0\n",
    "    elif line_transition_ratios[comp_key] < 0.46:\n",
    "        line_component_classes[comp_key] = 0\n",
    "    else:\n",
    "        line_component_classes[comp_key] = 1"
   ]
  },
  {
   "cell_type": "code",
   "execution_count": 86,
   "metadata": {},
   "outputs": [],
   "source": [
    "# for key in line_component_classes:\n",
    "#     print(\"Componente:{} | Text: {}\".format(key,line_component_classes[key]))"
   ]
  },
  {
   "cell_type": "code",
   "execution_count": 43,
   "metadata": {},
   "outputs": [
    {
     "name": "stdout",
     "output_type": "stream",
     "text": [
      "43\n"
     ]
    },
    {
     "data": {
      "image/png": "[encoded data removed]",
      "text/plain": [
       "<Figure size 720x720 with 1 Axes>"
      ]
     },
     "metadata": {
      "needs_background": "light"
     },
     "output_type": "display_data"
    }
   ],
   "source": [
    "#To show the text selected components\n",
    "\n",
    "text_labels = [key for key in line_component_classes if line_component_classes[key] == 1]\n",
    "no_text_labels = [key for key in line_component_classes if line_component_classes[key] == 0]\n",
    "text_stats = line_stats[text_labels]\n",
    "\n",
    "text_image = np.copy(line_image_labels)\n",
    "for l in no_text_labels:\n",
    "    text_image[text_image == l] = 0\n",
    "\n",
    "print(len(text_labels))\n",
    "imshowComponentsRectagles(text_image, text_stats)"
   ]
  },
  {
   "cell_type": "markdown",
   "metadata": {},
   "source": [
    "### Passo 06: Aplicação dos passos para identificação de texto e contagem de palavras"
   ]
  },
  {
   "cell_type": "markdown",
   "metadata": {},
   "source": [
    "Todas as imagens intermediárias geradas nesta seção serão salvas no dicionário **word_processed_images**."
   ]
  },
  {
   "cell_type": "code",
   "execution_count": 44,
   "metadata": {},
   "outputs": [],
   "source": [
    "word_processed_images = {}"
   ]
  },
  {
   "cell_type": "markdown",
   "metadata": {},
   "source": [
    "#### Passo 6.1: Aplicar dilatação na imagem original, com elemento estruturante 6x6"
   ]
  },
  {
   "cell_type": "code",
   "execution_count": 45,
   "metadata": {},
   "outputs": [],
   "source": [
    "word_processed_images['dilate6_6'] = cv.dilate(np.copy(image), kernel6_6)"
   ]
  },
  {
   "cell_type": "code",
   "execution_count": 46,
   "metadata": {},
   "outputs": [],
   "source": [
    "# printImage(word_processed_images['dilate6_6'])"
   ]
  },
  {
   "cell_type": "markdown",
   "metadata": {},
   "source": [
    "#### Passo 6.2: Aplicar erosão, na imagem resultante do passo anterior, com elemento estruturante 1x3"
   ]
  },
  {
   "cell_type": "code",
   "execution_count": 47,
   "metadata": {},
   "outputs": [],
   "source": [
    "word_processed_images['erode1_3'] = cv.erode(np.copy(word_processed_images['dilate6_6']), kernel1_3)\n"
   ]
  },
  {
   "cell_type": "code",
   "execution_count": 48,
   "metadata": {},
   "outputs": [],
   "source": [
    "# printImage(word_processed_images['erode1_3'])"
   ]
  },
  {
   "cell_type": "markdown",
   "metadata": {},
   "source": [
    "#### Passo 6.3: Aplicar dilatação, na imagem resultante do passo anterior, com elemento estruturante 10x1"
   ]
  },
  {
   "cell_type": "code",
   "execution_count": 49,
   "metadata": {},
   "outputs": [],
   "source": [
    "word_processed_images['dilate10_1'] = cv.dilate(np.copy(word_processed_images['erode1_3']), kernel10_1)"
   ]
  },
  {
   "cell_type": "code",
   "execution_count": 50,
   "metadata": {},
   "outputs": [],
   "source": [
    "# printImage(word_processed_images['dilate10_1'])"
   ]
  },
  {
   "cell_type": "markdown",
   "metadata": {},
   "source": [
    "#### Passo 6.4: Aplicar erosão, na imagem resultante do passo anterior, com elemento estruturante 1x3"
   ]
  },
  {
   "cell_type": "code",
   "execution_count": 51,
   "metadata": {},
   "outputs": [],
   "source": [
    "word_processed_images['erode1_3_2'] = cv.erode(np.copy(word_processed_images['dilate10_1']), kernel1_3)"
   ]
  },
  {
   "cell_type": "code",
   "execution_count": 52,
   "metadata": {},
   "outputs": [],
   "source": [
    "# printImage(word_processed_images['erode1_3_2'])"
   ]
  },
  {
   "cell_type": "markdown",
   "metadata": {},
   "source": [
    "#### Passo 6.5: Aplicar interseção com as imagens resultantes dos passos 6.2 e 6.4"
   ]
  },
  {
   "cell_type": "code",
   "execution_count": 53,
   "metadata": {},
   "outputs": [],
   "source": [
    "word_processed_images['inter2_4_w'] = cv.bitwise_and(np.copy(word_processed_images['erode1_3']), np.copy(word_processed_images['erode1_3_2']))\n"
   ]
  },
  {
   "cell_type": "code",
   "execution_count": 54,
   "metadata": {},
   "outputs": [],
   "source": [
    "# printImage(word_processed_images['inter2_4_w'])"
   ]
  },
  {
   "cell_type": "markdown",
   "metadata": {},
   "source": [
    "#### Passo 6.6: Aplicar fechamento, na imagem do passo anterior, com elemento estruturante 1x8"
   ]
  },
  {
   "cell_type": "code",
   "execution_count": 55,
   "metadata": {},
   "outputs": [],
   "source": [
    "word_processed_images['close1_8'] = cv.morphologyEx(np.copy(word_processed_images['inter2_4_w']), cv.MORPH_CLOSE, kernel1_8)\n"
   ]
  },
  {
   "cell_type": "code",
   "execution_count": 56,
   "metadata": {},
   "outputs": [],
   "source": [
    "# printImage(word_processed_images['close1_8'])"
   ]
  },
  {
   "cell_type": "markdown",
   "metadata": {},
   "source": [
    "#### Passo 6.7:  Identificação de componentes conexos na imagem do passo anterior"
   ]
  },
  {
   "cell_type": "code",
   "execution_count": 57,
   "metadata": {},
   "outputs": [],
   "source": [
    "word_num_labels, word_image_labels, word_stats, word_centroids = cv.connectedComponentsWithStats(word_processed_images['close1_8'], connectivity = 8)\n"
   ]
  },
  {
   "cell_type": "code",
   "execution_count": 58,
   "metadata": {},
   "outputs": [
    {
     "name": "stdout",
     "output_type": "stream",
     "text": [
      "251\n"
     ]
    }
   ],
   "source": [
    "print(word_num_labels)"
   ]
  },
  {
   "cell_type": "code",
   "execution_count": 59,
   "metadata": {},
   "outputs": [],
   "source": [
    "# imshowComponents(np.copy(word_image_labels))"
   ]
  },
  {
   "cell_type": "code",
   "execution_count": 60,
   "metadata": {},
   "outputs": [],
   "source": [
    "# imshowComponentsRectagles(np.copy(word_image_labels),word_stats)"
   ]
  },
  {
   "cell_type": "markdown",
   "metadata": {},
   "source": [
    "#### Passo 6.8: Calcular razões para os componentes conexos obtidos no passo anterior"
   ]
  },
  {
   "cell_type": "markdown",
   "metadata": {},
   "source": [
    "##### Passo 6.8.1: Calcular razão entre o número de pixels pretos e o número total de pixels, para cada retângulo envolvendo um componente conexo"
   ]
  },
  {
   "cell_type": "code",
   "execution_count": 61,
   "metadata": {},
   "outputs": [],
   "source": [
    "word_black_ratios={}\n",
    "word_black_amounts = {}\n",
    "word_component_areas = {}"
   ]
  },
  {
   "cell_type": "code",
   "execution_count": 62,
   "metadata": {},
   "outputs": [],
   "source": [
    "for label, stat in zip(range(word_num_labels),word_stats):\n",
    "    word_black_ratios[label], word_black_amounts[label], word_component_areas[label] = getBlackPixelsRate(np.copy(word_processed_images['close1_8']),stat)"
   ]
  },
  {
   "cell_type": "code",
   "execution_count": 63,
   "metadata": {},
   "outputs": [],
   "source": [
    "# for label in word_black_ratios:\n",
    "#     print('Componente:{} | Ratio:{} | Blacks:{} | Area:{}'.format(label,word_black_ratios[label], word_black_amounts[label], word_component_areas[label]))"
   ]
  },
  {
   "cell_type": "markdown",
   "metadata": {},
   "source": [
    "##### Passo 6.8.2: Calcular razão entre o número de transições de branco para preto e o número de pixels pretos, para cada retângulo envolvendo um componente conexo"
   ]
  },
  {
   "cell_type": "code",
   "execution_count": 64,
   "metadata": {},
   "outputs": [],
   "source": [
    "word_transition_ratios={}\n",
    "word_hor_tran_amount = {}\n",
    "word_ver_tran_amount = {}\n",
    "word_total_black_amount = {}"
   ]
  },
  {
   "cell_type": "code",
   "execution_count": 65,
   "metadata": {},
   "outputs": [],
   "source": [
    "for label, stat in zip(range(word_num_labels),word_stats):\n",
    "    word_transition_ratios[label], word_hor_tran_amount[label], word_ver_tran_amount[label], word_total_black_amount[label] = getTransitionsRate(np.copy(word_processed_images['close1_8']), stat, word_black_amounts[label])"
   ]
  },
  {
   "cell_type": "code",
   "execution_count": 79,
   "metadata": {},
   "outputs": [],
   "source": [
    "# for label in word_transition_ratios:\n",
    "#     print('Componente:{} | Ratio:{} | Horizontal:{}, Vertical:{} | Blacks:{}'.format(label,word_transition_ratios[label], word_hor_tran_amount[label], word_ver_tran_amount[label], word_total_black_amount[label]))"
   ]
  },
  {
   "cell_type": "markdown",
   "metadata": {},
   "source": [
    "#### Passo 6.9: Criar uma regra para determinar se um componente conexo é texto ou não"
   ]
  },
  {
   "cell_type": "code",
   "execution_count": 67,
   "metadata": {},
   "outputs": [],
   "source": [
    "word_component_classes = {}"
   ]
  },
  {
   "cell_type": "code",
   "execution_count": 87,
   "metadata": {},
   "outputs": [],
   "source": [
    "for comp_key in range(word_num_labels):\n",
    "    if comp_key == 0:\n",
    "        word_component_classes[comp_key] = 0\n",
    "    elif word_black_ratios[comp_key] <= 0.27:\n",
    "        word_component_classes[comp_key] = 0\n",
    "    elif word_transition_ratios[comp_key] < 0.008:\n",
    "        word_component_classes[comp_key] = 0\n",
    "    else:\n",
    "        word_component_classes[comp_key] = 1"
   ]
  },
  {
   "cell_type": "code",
   "execution_count": 81,
   "metadata": {},
   "outputs": [],
   "source": [
    "# for key in word_component_classes:\n",
    "#     print(\"Componente:{} | Text: {}\".format(key,word_component_classes[key]))"
   ]
  },
  {
   "cell_type": "code",
   "execution_count": 70,
   "metadata": {},
   "outputs": [
    {
     "name": "stdout",
     "output_type": "stream",
     "text": [
      "242\n"
     ]
    },
    {
     "data": {
      "image/png": "[encoded data removed]",
      "text/plain": [
       "<Figure size 720x720 with 1 Axes>"
      ]
     },
     "metadata": {
      "needs_background": "light"
     },
     "output_type": "display_data"
    }
   ],
   "source": [
    "text_labels = [key for key in word_component_classes if word_component_classes[key] == 1]\n",
    "no_text_labels = [key for key in word_component_classes if word_component_classes[key] == 0]\n",
    "text_stats = word_stats[text_labels]\n",
    "\n",
    "text_image = np.copy(word_image_labels)\n",
    "for l in no_text_labels:\n",
    "    text_image[text_image == l] = 0\n",
    "\n",
    "print(len(text_stats))\n",
    "imshowComponentsRectagles(text_image, text_stats)"
   ]
  },
  {
   "cell_type": "markdown",
   "metadata": {},
   "source": [
    "### Passo 07: Contar o número de blocos de palavras e colocar retângulos envolventes na imagem original"
   ]
  },
  {
   "cell_type": "markdown",
   "metadata": {},
   "source": [
    "#### Passo 7.1: Contar número de palavras\n",
    "\n",
    "Como no Passo 6 identificamos os blocos de palavras existentes na imagem, para contarmos quantos deles existem, basta olharmos quantos dos itens do dicionário **word_component_classes** possuem valor igual a 1, pois foi nesse dicionário que armazenamos o resultado das regras desenvolvidas no Passo 6.9."
   ]
  },
  {
   "cell_type": "code",
   "execution_count": 71,
   "metadata": {},
   "outputs": [
    {
     "name": "stdout",
     "output_type": "stream",
     "text": [
      "O número de blocos de palavras é:242\n"
     ]
    }
   ],
   "source": [
    "word_classes_values = np.array(list(word_component_classes.values()))\n",
    "number_of_words = word_classes_values[word_classes_values == 1]\n",
    "print(\"O número de blocos de palavras é:{}\".format(len(number_of_words)))"
   ]
  },
  {
   "cell_type": "markdown",
   "metadata": {},
   "source": [
    "#### Passo 7.2: Colocar retângulo envolvente em torno dos blocos de palavras"
   ]
  },
  {
   "cell_type": "code",
   "execution_count": 72,
   "metadata": {},
   "outputs": [],
   "source": [
    "clean_word_stats = []\n",
    "for key in word_component_classes:\n",
    "    if word_component_classes[key]:\n",
    "        clean_word_stats.append(word_stats[key])"
   ]
  },
  {
   "cell_type": "code",
   "execution_count": 73,
   "metadata": {},
   "outputs": [
    {
     "data": {
      "image/png": "[encoded data removed]",
      "text/plain": [
       "<Figure size 720x720 with 1 Axes>"
      ]
     },
     "metadata": {
      "needs_background": "light"
     },
     "output_type": "display_data"
    }
   ],
   "source": [
    "printImageRectangles(np.copy(image), clean_word_stats)"
   ]
  },
  {
   "cell_type": "markdown",
   "metadata": {},
   "source": [
    "### Passo 08: Contar número de linhas de texto\n",
    "\n",
    "Para contarmos o número de linhas de texto, usaremos o dicionário **line_component_classes**, cujos itens indicam quais componentes conexos são considerados textos, considerando as etapas realizadas no Passo 5. Entretanto, ao contrário do que fizemos na seção anterior, não basta contar o número de itens que possui valor igual a 1. Isso acontece porque, de acordo com as operações que foram aplicadas, podemos ter mais de um componente conexo que está na mesma linha. Assim, outros operações precisam ser realizadas contarmos apenas as linhas."
   ]
  },
  {
   "cell_type": "code",
   "execution_count": 200,
   "metadata": {},
   "outputs": [],
   "source": [
    "clean_line_stats = []\n",
    "for key in line_component_classes:\n",
    "    if line_component_classes[key]:\n",
    "        clean_line_stats.append(line_stats[key])"
   ]
  },
  {
   "cell_type": "code",
   "execution_count": 201,
   "metadata": {},
   "outputs": [],
   "source": [
    "same_line_dict = {}\n",
    "for pos in range(len(clean_line_stats)-1):\n",
    "    same_line_dict[pos] = []"
   ]
  },
  {
   "cell_type": "code",
   "execution_count": 202,
   "metadata": {},
   "outputs": [],
   "source": [
    "for pos in range(len(clean_line_stats)):\n",
    "    for pos2 in range (len(clean_line_stats)):\n",
    "        if pos == pos2:\n",
    "            continue\n",
    "        reference = clean_line_stats[pos]\n",
    "        check = clean_line_stats[pos2]\n",
    "        if check[1] >= reference[1] and check[1] <= reference[1] + reference[3]:\n",
    "            same_line_dict[pos].append(pos2)"
   ]
  },
  {
   "cell_type": "code",
   "execution_count": 205,
   "metadata": {},
   "outputs": [],
   "source": [
    "aux_same_line_dict = same_line_dict.copy()\n",
    "for key in same_line_dict:        \n",
    "    for comp in same_line_dict[key]:\n",
    "        aux_same_line_dict.pop(comp,-1)"
   ]
  },
  {
   "cell_type": "code",
   "execution_count": 208,
   "metadata": {},
   "outputs": [
    {
     "name": "stdout",
     "output_type": "stream",
     "text": [
      "O número de linhas de texto é: 26\n"
     ]
    }
   ],
   "source": [
    "number_of_lines = len(aux_same_line_dict.keys())\n",
    "print(\"O número de linhas de texto é: {}\".format(number_of_lines))"
   ]
  },
  {
   "cell_type": "markdown",
   "metadata": {},
   "source": [
    "### Passo 08: Salvar imagens"
   ]
  },
  {
   "cell_type": "code",
   "execution_count": 211,
   "metadata": {},
   "outputs": [],
   "source": [
    "for key in line_processed_images:\n",
    "    cv.imwrite('output_images/line_processed_'+key+'.pbm', line_processed_images[key])"
   ]
  },
  {
   "cell_type": "code",
   "execution_count": 212,
   "metadata": {},
   "outputs": [],
   "source": [
    "for key in word_processed_images:\n",
    "    cv.imwrite('output_images/word_processed_'+key+'.pbm', word_processed_images[key])"
   ]
  },
  {
   "cell_type": "code",
   "execution_count": 217,
   "metadata": {},
   "outputs": [
    {
     "data": {
      "text/plain": [
       "True"
      ]
     },
     "execution_count": 217,
     "metadata": {},
     "output_type": "execute_result"
    }
   ],
   "source": [
    "cv.imwrite('output_images/word_rectagles.png', getRectanglesImage(np.copy(image), clean_word_stats))"
   ]
  },
  {
   "cell_type": "code",
   "execution_count": null,
   "metadata": {},
   "outputs": [],
   "source": []
  }
 ],
 "metadata": {
  "kernelspec": {
   "display_name": "Python 3",
   "language": "python",
   "name": "python3"
  },
  "language_info": {
   "codemirror_mode": {
    "name": "ipython",
    "version": 3
   },
   "file_extension": ".py",
   "mimetype": "text/x-python",
   "name": "python",
   "nbconvert_exporter": "python",
   "pygments_lexer": "ipython3",
   "version": "3.7.4"
  }
 },
 "nbformat": 4,
 "nbformat_minor": 2
}
