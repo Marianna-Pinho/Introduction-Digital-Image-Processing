{
 "cells": [
  {
   "cell_type": "markdown",
   "metadata": {},
   "source": [
    "# <center> Trabalho 04 - Introdução ao Processamento de Imagem Digital </center>\n",
    "\n",
    "**Aluno(a):** Marianna de Pinho Severo <br>\n",
    "**RA:** 264960 <br>\n",
    "**Professor:** Hélio Pedrini"
   ]
  },
  {
   "cell_type": "markdown",
   "metadata": {},
   "source": [
    "### Passo 01: Importar bibliotecas"
   ]
  },
  {
   "cell_type": "code",
   "execution_count": 1,
   "metadata": {},
   "outputs": [],
   "source": [
    "%matplotlib inline\n",
    "import numpy as np\n",
    "import cv2 as cv\n",
    "import matplotlib.pyplot as plt\n",
    "import pandas as pd"
   ]
  },
  {
   "cell_type": "markdown",
   "metadata": {},
   "source": [
    "#### PBM\n",
    "http://netpbm.sourceforge.net/doc/pbm.html\n",
    "\n",
    "#### Morphological operations\n",
    "https://opencv-python-tutroals.readthedocs.io/en/latest/py_tutorials/py_imgproc/py_morphological_ops/py_morphological_ops.html\n",
    "\n",
    "#### Connected components\n",
    "https://stackoverflow.com/questions/46441893/connected-component-labeling-in-python"
   ]
  },
  {
   "cell_type": "markdown",
   "metadata": {},
   "source": [
    "### Passo 02: Definir funções auxiliares"
   ]
  },
  {
   "cell_type": "code",
   "execution_count": 2,
   "metadata": {},
   "outputs": [],
   "source": [
    "def print_image(image, color=0):\n",
    "    \n",
    "    plt.figure(figsize=(10,10))\n",
    "    \n",
    "    if not color:\n",
    "        plt.imshow(image, cmap='gray')\n",
    "    else:\n",
    "        plt.imshow(image)"
   ]
  },
  {
   "cell_type": "code",
   "execution_count": 3,
   "metadata": {},
   "outputs": [],
   "source": [
    "def imshow_components(labels): #Refereciar stack overflow\n",
    "    # Map component labels to hue val\n",
    "    label_hue = np.uint8(179*labels/np.max(labels))\n",
    "    blank_ch = 255*np.ones_like(label_hue)\n",
    "    labeled_img = cv.merge([label_hue, blank_ch, blank_ch])\n",
    "\n",
    "    # cvt to BGR for display\n",
    "    labeled_img = cv.cvtColor(labeled_img, cv.COLOR_HSV2BGR)\n",
    "\n",
    "    # set bg label to black\n",
    "    labeled_img[label_hue==0] = 0\n",
    "    \n",
    "    print_image(labeled_img)\n",
    "#     cv.imshow('labeled.png', labeled_img)\n",
    "#     cv.waitKey()"
   ]
  },
  {
   "cell_type": "code",
   "execution_count": 4,
   "metadata": {},
   "outputs": [],
   "source": [
    "def imshow_components_rectagles(labels, stats): #Refereciar stack overflow\n",
    "    # Map component labels to hue val\n",
    "    label_hue = np.uint8(179*labels/np.max(labels))\n",
    "    blank_ch = 255*np.ones_like(label_hue)\n",
    "    labeled_img = cv.merge([label_hue, blank_ch, blank_ch])\n",
    "\n",
    "    # cvt to BGR for display\n",
    "    labeled_img = cv.cvtColor(labeled_img, cv.COLOR_HSV2BGR)\n",
    "\n",
    "    # set bg label to black\n",
    "    labeled_img[label_hue==0] = 0\n",
    "    \n",
    "    for stat in stats:\n",
    "        cv.rectangle(labeled_img, (stat[0], stat[1]), (stat[0]+stat[2], stat[1]+stat[3]), (255, 255, 255), 3) \n",
    "    \n",
    "    \n",
    "    print_image(labeled_img)\n",
    "#     cv.imshow('labeled.png', labeled_img)\n",
    "#     cv.waitKey()"
   ]
  },
  {
   "cell_type": "code",
   "execution_count": 5,
   "metadata": {},
   "outputs": [],
   "source": [
    "def getBlackPixelsRate(image,stat,color=1): #Black is considered 1 and White is considered 0\n",
    "    init_x = stat[0]\n",
    "    init_y = stat[1]\n",
    "    dx = stat[2]\n",
    "    dy = stat[3]\n",
    "    \n",
    "    area = (dx)*(dy)\n",
    "    \n",
    "    aux_image = image[init_y: init_y+dy,init_x:init_x + dx]\n",
    "    aux_image = aux_image[aux_image == color]\n",
    "    \n",
    "    return len(aux_image)/area, len(aux_image), area"
   ]
  },
  {
   "cell_type": "code",
   "execution_count": 6,
   "metadata": {},
   "outputs": [],
   "source": [
    "def getTransitionsRate(image, stat, total_black): #Black is 1 and White is 0\n",
    "    \n",
    "    if total_black == 0:\n",
    "        return 0,0,0,0\n",
    "    \n",
    "    init_x = stat[0]\n",
    "    init_y = stat[1]\n",
    "    dx = stat[2]\n",
    "    dy = stat[3]\n",
    "    \n",
    "    hor_count = 0\n",
    "    ver_count = 0\n",
    "    \n",
    "    max_y = init_y+dy\n",
    "    max_x = init_x+dx\n",
    "    \n",
    "    for line in range(init_y, max_y):\n",
    "        for col in range(init_x, max_x):\n",
    "            north = line - 1\n",
    "            south = line + 1\n",
    "            west = col - 1\n",
    "            east = col + 1\n",
    "            \n",
    "            #left neighbor\n",
    "            if west >= 0 and (image[line, col] == 0 and image[line,west] == 1):\n",
    "                hor_count+=1\n",
    "                \n",
    "            # right neighbor\n",
    "            if east < max_x and (image[line, col] == 0 and image[line,east] == 1):\n",
    "                hor_count+=1\n",
    "                \n",
    "            #top neighbor\n",
    "            if north >= 0 and (image[line,col] == 0 and image[north, col] == 1):\n",
    "                ver_count+=1\n",
    "                \n",
    "            #bottom neighbor\n",
    "            if south < max_y and (image[line,col] == 0 and image[south, col] == 1):\n",
    "                ver_count+=1\n",
    "            \n",
    "    return (hor_count + ver_count)/total_black, hor_count, ver_count,total_black"
   ]
  },
  {
   "cell_type": "markdown",
   "metadata": {},
   "source": [
    "### Passo 03: Ler imagem\n",
    "\n",
    "A imagem que vamos usar neste projeto é do tipo *Portable Bitmap* (PBM). Dessa maneira, esperamos que os pixels do objeto (pixels pretos) sejam representados por valores iguais a 1 e os pixels do fundo (brancos) por valores iguais a 0.\n",
    "\n",
    "Quando lemos essa imagem utilizando o método **imread** do *opencv*, a imagem é lida no formato monocromático, o que significa que seus valores poderão apresentar valores no intervalo de 0 a 255. Como na imagem lida só existem dois valores diferentes de pixels (0 e 255) e os valores 0 são atribuídos aos objetos, enquanto os valores 255 são atribuídos ao fundo, faremos a negação dessa imagem e dividiremos as intensidades de seus pixels por 255, de maneira a obtermos um arranjo de pixels como o esperado para uma imagem do tipo PBM. "
   ]
  },
  {
   "cell_type": "code",
   "execution_count": 7,
   "metadata": {},
   "outputs": [
    {
     "data": {
      "text/plain": [
       "(1374, 2233)"
      ]
     },
     "execution_count": 7,
     "metadata": {},
     "output_type": "execute_result"
    }
   ],
   "source": [
    "image = cv.imread('input_images/bitmap.pbm',0)\n",
    "image = cv.bitwise_not(image)//255\n",
    "image.shape"
   ]
  },
  {
   "cell_type": "markdown",
   "metadata": {},
   "source": [
    "### Passo 04: Criar elementos estruturantes"
   ]
  },
  {
   "cell_type": "markdown",
   "metadata": {},
   "source": [
    "#### a) Elemento estruturante de 1 x 100"
   ]
  },
  {
   "cell_type": "code",
   "execution_count": 8,
   "metadata": {},
   "outputs": [
    {
     "data": {
      "text/plain": [
       "array([[1, 1, 1, 1, 1, 1, 1, 1, 1, 1, 1, 1, 1, 1, 1, 1, 1, 1, 1, 1, 1, 1,\n",
       "        1, 1, 1, 1, 1, 1, 1, 1]], dtype=uint8)"
      ]
     },
     "execution_count": 8,
     "metadata": {},
     "output_type": "execute_result"
    }
   ],
   "source": [
    "kernel1_30 = np.ones((1,30),np.uint8)\n",
    "kernel1_30"
   ]
  },
  {
   "cell_type": "markdown",
   "metadata": {},
   "source": [
    "#### b) Elemento estruturante de 200 x 1"
   ]
  },
  {
   "cell_type": "code",
   "execution_count": 9,
   "metadata": {},
   "outputs": [],
   "source": [
    "kernel50_1 = np.ones((50,1), np.uint8)"
   ]
  },
  {
   "cell_type": "markdown",
   "metadata": {},
   "source": [
    "#### c) Elemento estruturante de 1 x 30"
   ]
  },
  {
   "cell_type": "code",
   "execution_count": 10,
   "metadata": {},
   "outputs": [
    {
     "data": {
      "text/plain": [
       "array([[1, 1, 1, 1, 1, 1, 1, 1, 1, 1, 1, 1]], dtype=uint8)"
      ]
     },
     "execution_count": 10,
     "metadata": {},
     "output_type": "execute_result"
    }
   ],
   "source": [
    "kernel1_10 = np.ones((1,12), np.uint8)\n",
    "kernel1_10"
   ]
  },
  {
   "cell_type": "code",
   "execution_count": 11,
   "metadata": {},
   "outputs": [
    {
     "data": {
      "text/plain": [
       "array([[1],\n",
       "       [1]], dtype=uint8)"
      ]
     },
     "execution_count": 11,
     "metadata": {},
     "output_type": "execute_result"
    }
   ],
   "source": [
    "kernel1_5 = np.ones((2,1), np.uint8)\n",
    "kernel1_5"
   ]
  },
  {
   "cell_type": "markdown",
   "metadata": {},
   "source": [
    "### Passo 05: Aplicar etapas indicadas na descrição do trabalho"
   ]
  },
  {
   "cell_type": "markdown",
   "metadata": {},
   "source": [
    "#### Etapa 01: Aplicar dilatação na imagem original com elemento estruturante de 1 x 100"
   ]
  },
  {
   "cell_type": "code",
   "execution_count": 12,
   "metadata": {},
   "outputs": [],
   "source": [
    "image_p1 = cv.dilate(np.copy(image),kernel1_30)"
   ]
  },
  {
   "cell_type": "code",
   "execution_count": 13,
   "metadata": {},
   "outputs": [
    {
     "data": {
      "image/png": "[encoded data removed]",
      "text/plain": [
       "<Figure size 720x720 with 1 Axes>"
      ]
     },
     "metadata": {
      "needs_background": "light"
     },
     "output_type": "display_data"
    }
   ],
   "source": [
    "print_image(image_p1)"
   ]
  },
  {
   "cell_type": "markdown",
   "metadata": {},
   "source": [
    "#### Etapa 02: Aplicar erosão na imagem da etapa 1 com elemento estruturante de 1 x 100"
   ]
  },
  {
   "cell_type": "code",
   "execution_count": 14,
   "metadata": {},
   "outputs": [],
   "source": [
    "image_p2 = cv.erode(np.copy(image_p1),kernel1_30)"
   ]
  },
  {
   "cell_type": "code",
   "execution_count": 15,
   "metadata": {},
   "outputs": [
    {
     "data": {
      "image/png": "[encoded data removed]",
      "text/plain": [
       "<Figure size 720x720 with 1 Axes>"
      ]
     },
     "metadata": {
      "needs_background": "light"
     },
     "output_type": "display_data"
    }
   ],
   "source": [
    "print_image(image_p2)"
   ]
  },
  {
   "cell_type": "markdown",
   "metadata": {},
   "source": [
    "#### Etapa 03: Aplicar dilatação na imagem original com elemento estruturante de 200 x 1"
   ]
  },
  {
   "cell_type": "code",
   "execution_count": 16,
   "metadata": {},
   "outputs": [],
   "source": [
    "image_p3 = cv.dilate(np.copy(image),kernel50_1)"
   ]
  },
  {
   "cell_type": "code",
   "execution_count": 17,
   "metadata": {},
   "outputs": [
    {
     "data": {
      "image/png": "[encoded data removed]",
      "text/plain": [
       "<Figure size 720x720 with 1 Axes>"
      ]
     },
     "metadata": {
      "needs_background": "light"
     },
     "output_type": "display_data"
    }
   ],
   "source": [
    "print_image(image_p3)"
   ]
  },
  {
   "cell_type": "markdown",
   "metadata": {},
   "source": [
    "#### Etapa 04: Aplicar erosão na imagem da etapa 3 com elemento estruturante de 200 x 1"
   ]
  },
  {
   "cell_type": "code",
   "execution_count": 18,
   "metadata": {},
   "outputs": [],
   "source": [
    "image_p4 = cv.erode(np.copy(image_p3),kernel50_1)"
   ]
  },
  {
   "cell_type": "code",
   "execution_count": 19,
   "metadata": {},
   "outputs": [
    {
     "data": {
      "image/png": "[encoded data removed]",
      "text/plain": [
       "<Figure size 720x720 with 1 Axes>"
      ]
     },
     "metadata": {
      "needs_background": "light"
     },
     "output_type": "display_data"
    }
   ],
   "source": [
    "print_image(image_p4)"
   ]
  },
  {
   "cell_type": "markdown",
   "metadata": {},
   "source": [
    "#### Etapa 05: Fazer intersecção das imagens produzidas nas etapas 2 e 4"
   ]
  },
  {
   "cell_type": "code",
   "execution_count": 20,
   "metadata": {},
   "outputs": [],
   "source": [
    "image_p5 = cv.bitwise_and(image_p2, image_p4)"
   ]
  },
  {
   "cell_type": "code",
   "execution_count": 21,
   "metadata": {},
   "outputs": [
    {
     "data": {
      "image/png": "[encoded data removed]",
      "text/plain": [
       "<Figure size 720x720 with 1 Axes>"
      ]
     },
     "metadata": {
      "needs_background": "light"
     },
     "output_type": "display_data"
    }
   ],
   "source": [
    "print_image(image_p5)"
   ]
  },
  {
   "cell_type": "markdown",
   "metadata": {},
   "source": [
    "#### Etapa 06: Aplicar fechamento na imagem da etapa 5 com elemento estruturante de 1 x 30"
   ]
  },
  {
   "cell_type": "code",
   "execution_count": 22,
   "metadata": {},
   "outputs": [],
   "source": [
    "image_p6 = cv.morphologyEx(image_p5, cv.MORPH_CLOSE, kernel1_10)"
   ]
  },
  {
   "cell_type": "code",
   "execution_count": 23,
   "metadata": {},
   "outputs": [
    {
     "data": {
      "image/png": "[encoded data removed]",
      "text/plain": [
       "<Figure size 720x720 with 1 Axes>"
      ]
     },
     "metadata": {
      "needs_background": "light"
     },
     "output_type": "display_data"
    }
   ],
   "source": [
    "print_image(image_p6)"
   ]
  },
  {
   "cell_type": "code",
   "execution_count": 24,
   "metadata": {},
   "outputs": [],
   "source": [
    "image_p6 = cv.morphologyEx(image_p6, cv.MORPH_OPEN, kernel1_5)"
   ]
  },
  {
   "cell_type": "code",
   "execution_count": 25,
   "metadata": {},
   "outputs": [
    {
     "data": {
      "image/png": "[encoded data removed]",
      "text/plain": [
       "<Figure size 720x720 with 1 Axes>"
      ]
     },
     "metadata": {
      "needs_background": "light"
     },
     "output_type": "display_data"
    }
   ],
   "source": [
    "print_image(image_p6)"
   ]
  },
  {
   "cell_type": "markdown",
   "metadata": {},
   "source": [
    "#### Etapa 07: Identificação de componentes conexos na imagem da etapa 06"
   ]
  },
  {
   "cell_type": "code",
   "execution_count": 26,
   "metadata": {},
   "outputs": [],
   "source": [
    "number_of_labels, image_labels, stats, centroids = cv.connectedComponentsWithStats(image_p6)"
   ]
  },
  {
   "cell_type": "code",
   "execution_count": 27,
   "metadata": {},
   "outputs": [
    {
     "name": "stdout",
     "output_type": "stream",
     "text": [
      "293\n"
     ]
    }
   ],
   "source": [
    "print(number_of_labels)"
   ]
  },
  {
   "cell_type": "code",
   "execution_count": 28,
   "metadata": {},
   "outputs": [
    {
     "data": {
      "image/png": "[encoded data removed]",
      "text/plain": [
       "<Figure size 720x720 with 1 Axes>"
      ]
     },
     "metadata": {
      "needs_background": "light"
     },
     "output_type": "display_data"
    }
   ],
   "source": [
    "imshow_components(np.copy(image_labels))"
   ]
  },
  {
   "cell_type": "code",
   "execution_count": 29,
   "metadata": {},
   "outputs": [
    {
     "data": {
      "image/png": "[encoded data removed]",
      "text/plain": [
       "<Figure size 720x720 with 1 Axes>"
      ]
     },
     "metadata": {
      "needs_background": "light"
     },
     "output_type": "display_data"
    }
   ],
   "source": [
    "imshow_components_rectagles(np.copy(image_labels),stats)"
   ]
  },
  {
   "cell_type": "markdown",
   "metadata": {},
   "source": [
    "#### Etapa 8: calcular razões para os componentes conexos obtidos na etapa 7"
   ]
  },
  {
   "cell_type": "markdown",
   "metadata": {},
   "source": [
    "##### a) Calcular razão entre o número de pixels pretos e o número total de pixels, para cada retângulo envolvendo um componente conexo"
   ]
  },
  {
   "cell_type": "code",
   "execution_count": 30,
   "metadata": {},
   "outputs": [],
   "source": [
    "black_pixels_ratios={}\n",
    "black_pixels_amount = {}\n",
    "component_area = {}"
   ]
  },
  {
   "cell_type": "code",
   "execution_count": 31,
   "metadata": {},
   "outputs": [],
   "source": [
    "for label, stat in zip(range(number_of_labels),stats):\n",
    "    black_pixels_ratios[label], black_pixels_amount[label], component_area[label] = getBlackPixelsRate(np.copy(image_p6),stat)"
   ]
  },
  {
   "cell_type": "code",
   "execution_count": 32,
   "metadata": {
    "scrolled": true
   },
   "outputs": [
    {
     "name": "stdout",
     "output_type": "stream",
     "text": [
      "Componente:0 | Ratio:0.2222488398516105 | Blacks:681891 | Area:3068142\n",
      "Componente:1 | Ratio:0.9375211077338736 | Blacks:2776 | Area:2961\n",
      "Componente:2 | Ratio:0.8737704918032787 | Blacks:1066 | Area:1220\n",
      "Componente:3 | Ratio:0.740650406504065 | Blacks:3644 | Area:4920\n",
      "Componente:4 | Ratio:0.7075757575757575 | Blacks:934 | Area:1320\n",
      "Componente:5 | Ratio:0.28125 | Blacks:135 | Area:480\n",
      "Componente:6 | Ratio:0.8447916666666667 | Blacks:811 | Area:960\n",
      "Componente:7 | Ratio:0.4305555555555556 | Blacks:217 | Area:504\n",
      "Componente:8 | Ratio:0.9641812865497076 | Blacks:1319 | Area:1368\n",
      "Componente:9 | Ratio:0.9203109815354713 | Blacks:947 | Area:1029\n",
      "Componente:10 | Ratio:0.8959276018099548 | Blacks:4158 | Area:4641\n",
      "Componente:11 | Ratio:0.9 | Blacks:720 | Area:800\n",
      "Componente:12 | Ratio:0.9262295081967213 | Blacks:1130 | Area:1220\n",
      "Componente:13 | Ratio:0.85 | Blacks:697 | Area:820\n",
      "Componente:14 | Ratio:0.9782912050347922 | Blacks:313377 | Area:320331\n",
      "Componente:15 | Ratio:0.6586206896551724 | Blacks:2865 | Area:4350\n",
      "Componente:16 | Ratio:0.8 | Blacks:12 | Area:15\n",
      "Componente:17 | Ratio:0.6915065956954408 | Blacks:2988 | Area:4321\n",
      "Componente:18 | Ratio:0.9166666666666666 | Blacks:11 | Area:12\n",
      "Componente:19 | Ratio:0.8125 | Blacks:13 | Area:16\n",
      "Componente:20 | Ratio:0.6654877689360448 | Blacks:2258 | Area:3393\n",
      "Componente:21 | Ratio:0.9166666666666666 | Blacks:11 | Area:12\n",
      "Componente:22 | Ratio:0.7020335985853228 | Blacks:1588 | Area:2262\n",
      "Componente:23 | Ratio:0.6781746031746032 | Blacks:1709 | Area:2520\n",
      "Componente:24 | Ratio:0.780448717948718 | Blacks:974 | Area:1248\n",
      "Componente:25 | Ratio:0.8192307692307692 | Blacks:426 | Area:520\n",
      "Componente:26 | Ratio:0.846551724137931 | Blacks:491 | Area:580\n",
      "Componente:27 | Ratio:0.7 | Blacks:252 | Area:360\n",
      "Componente:28 | Ratio:0.6736751152073732 | Blacks:2339 | Area:3472\n",
      "Componente:29 | Ratio:0.7069444444444445 | Blacks:1527 | Area:2160\n",
      "Componente:30 | Ratio:0.84 | Blacks:21 | Area:25\n",
      "Componente:31 | Ratio:0.9 | Blacks:18 | Area:20\n",
      "Componente:32 | Ratio:0.6947916666666667 | Blacks:2001 | Area:2880\n",
      "Componente:33 | Ratio:0.7338513841670714 | Blacks:1511 | Area:2059\n",
      "Componente:34 | Ratio:0.8 | Blacks:20 | Area:25\n",
      "Componente:35 | Ratio:0.5439005439005439 | Blacks:2800 | Area:5148\n",
      "Componente:36 | Ratio:0.6604395604395604 | Blacks:1803 | Area:2730\n",
      "Componente:37 | Ratio:0.7473148671565857 | Blacks:1322 | Area:1769\n",
      "Componente:38 | Ratio:0.5846443228454172 | Blacks:3419 | Area:5848\n",
      "Componente:39 | Ratio:0.9555555555555556 | Blacks:602 | Area:630\n",
      "Componente:40 | Ratio:0.8179271708683473 | Blacks:292 | Area:357\n",
      "Componente:41 | Ratio:0.8958837772397095 | Blacks:1110 | Area:1239\n",
      "Componente:42 | Ratio:0.6194331983805668 | Blacks:612 | Area:988\n",
      "Componente:43 | Ratio:0.8 | Blacks:20 | Area:25\n",
      "Componente:44 | Ratio:0.6562847608453838 | Blacks:1770 | Area:2697\n",
      "Componente:45 | Ratio:0.5893962848297214 | Blacks:4569 | Area:7752\n",
      "Componente:46 | Ratio:0.875 | Blacks:14 | Area:16\n",
      "Componente:47 | Ratio:0.6953020134228188 | Blacks:3108 | Area:4470\n",
      "Componente:48 | Ratio:0.8555093555093555 | Blacks:1646 | Area:1924\n",
      "Componente:49 | Ratio:0.851010101010101 | Blacks:337 | Area:396\n",
      "Componente:50 | Ratio:0.9395604395604396 | Blacks:513 | Area:546\n",
      "Componente:51 | Ratio:0.676984126984127 | Blacks:1706 | Area:2520\n",
      "Componente:52 | Ratio:0.8 | Blacks:20 | Area:25\n",
      "Componente:53 | Ratio:0.6101556101556102 | Blacks:745 | Area:1221\n",
      "Componente:54 | Ratio:0.6841954022988506 | Blacks:2381 | Area:3480\n",
      "Componente:55 | Ratio:0.751643192488263 | Blacks:1601 | Area:2130\n",
      "Componente:56 | Ratio:0.7 | Blacks:14 | Area:20\n",
      "Componente:57 | Ratio:0.6082375478927203 | Blacks:635 | Area:1044\n",
      "Componente:58 | Ratio:0.5409187709157286 | Blacks:3556 | Area:6574\n",
      "Componente:59 | Ratio:0.9 | Blacks:18 | Area:20\n",
      "Componente:60 | Ratio:0.6158620689655172 | Blacks:893 | Area:1450\n",
      "Componente:61 | Ratio:0.736 | Blacks:828 | Area:1125\n",
      "Componente:62 | Ratio:0.7827715355805244 | Blacks:1672 | Area:2136\n",
      "Componente:63 | Ratio:0.8373015873015873 | Blacks:422 | Area:504\n",
      "Componente:64 | Ratio:0.7617647058823529 | Blacks:259 | Area:340\n",
      "Componente:65 | Ratio:0.9 | Blacks:18 | Area:20\n",
      "Componente:66 | Ratio:0.5322368421052631 | Blacks:809 | Area:1520\n",
      "Componente:67 | Ratio:0.6706666666666666 | Blacks:1006 | Area:1500\n",
      "Componente:68 | Ratio:0.9 | Blacks:18 | Area:20\n",
      "Componente:69 | Ratio:0.5914285714285714 | Blacks:621 | Area:1050\n",
      "Componente:70 | Ratio:0.634 | Blacks:951 | Area:1500\n",
      "Componente:71 | Ratio:0.5554261760596181 | Blacks:2385 | Area:4294\n",
      "Componente:72 | Ratio:0.8 | Blacks:20 | Area:25\n",
      "Componente:73 | Ratio:0.6521428571428571 | Blacks:2739 | Area:4200\n",
      "Componente:74 | Ratio:0.9 | Blacks:18 | Area:20\n",
      "Componente:75 | Ratio:0.540045766590389 | Blacks:3304 | Area:6118\n",
      "Componente:76 | Ratio:0.7731428571428571 | Blacks:4059 | Area:5250\n",
      "Componente:77 | Ratio:0.8878787878787879 | Blacks:586 | Area:660\n",
      "Componente:78 | Ratio:0.85 | Blacks:17 | Area:20\n",
      "Componente:79 | Ratio:0.767816091954023 | Blacks:668 | Area:870\n",
      "Componente:80 | Ratio:0.6128440366972477 | Blacks:2338 | Area:3815\n",
      "Componente:81 | Ratio:0.646 | Blacks:969 | Area:1500\n",
      "Componente:82 | Ratio:0.6837837837837838 | Blacks:759 | Area:1110\n",
      "Componente:83 | Ratio:0.7 | Blacks:14 | Area:20\n",
      "Componente:84 | Ratio:0.8554522400676247 | Blacks:2024 | Area:2366\n",
      "Componente:85 | Ratio:0.5294117647058824 | Blacks:1638 | Area:3094\n",
      "Componente:86 | Ratio:0.8494318181818182 | Blacks:897 | Area:1056\n",
      "Componente:87 | Ratio:0.9370326643053916 | Blacks:2381 | Area:2541\n",
      "Componente:88 | Ratio:0.9402427637721755 | Blacks:1007 | Area:1071\n",
      "Componente:89 | Ratio:0.9673076923076923 | Blacks:503 | Area:520\n",
      "Componente:90 | Ratio:0.8945054945054945 | Blacks:2442 | Area:2730\n",
      "Componente:91 | Ratio:0.9433823529411764 | Blacks:1283 | Area:1360\n",
      "Componente:92 | Ratio:0.7756646216768917 | Blacks:3793 | Area:4890\n",
      "Componente:93 | Ratio:0.88 | Blacks:22 | Area:25\n",
      "Componente:94 | Ratio:0.6716171617161716 | Blacks:2035 | Area:3030\n",
      "Componente:95 | Ratio:0.6903448275862069 | Blacks:1001 | Area:1450\n",
      "Componente:96 | Ratio:0.8 | Blacks:20 | Area:25\n",
      "Componente:97 | Ratio:0.5227308478842221 | Blacks:3323 | Area:6357\n",
      "Componente:98 | Ratio:0.5572368421052631 | Blacks:847 | Area:1520\n",
      "Componente:99 | Ratio:0.7045300878972278 | Blacks:1042 | Area:1479\n",
      "Componente:100 | Ratio:0.7153209109730849 | Blacks:2764 | Area:3864\n",
      "Componente:101 | Ratio:0.7535483870967742 | Blacks:584 | Area:775\n",
      "Componente:102 | Ratio:0.8765044479330194 | Blacks:1675 | Area:1911\n",
      "Componente:103 | Ratio:0.9621212121212122 | Blacks:635 | Area:660\n",
      "Componente:104 | Ratio:0.5073866530820174 | Blacks:2988 | Area:5889\n",
      "Componente:105 | Ratio:0.8074074074074075 | Blacks:654 | Area:810\n",
      "Componente:106 | Ratio:0.5915750915750916 | Blacks:2907 | Area:4914\n",
      "Componente:107 | Ratio:0.6342592592592593 | Blacks:685 | Area:1080\n",
      "Componente:108 | Ratio:0.5993715632364494 | Blacks:4578 | Area:7638\n",
      "Componente:109 | Ratio:0.9783783783783784 | Blacks:181 | Area:185\n",
      "Componente:110 | Ratio:0.702 | Blacks:1053 | Area:1500\n",
      "Componente:111 | Ratio:0.727705112960761 | Blacks:1224 | Area:1682\n",
      "Componente:112 | Ratio:0.9090909090909091 | Blacks:2140 | Area:2354\n",
      "Componente:113 | Ratio:0.8724100327153762 | Blacks:2400 | Area:2751\n",
      "Componente:114 | Ratio:0.9047619047619048 | Blacks:342 | Area:378\n",
      "Componente:115 | Ratio:0.6477419354838709 | Blacks:1004 | Area:1550\n",
      "Componente:116 | Ratio:0.5803782505910166 | Blacks:2455 | Area:4230\n",
      "Componente:117 | Ratio:0.6990675990675991 | Blacks:2999 | Area:4290\n",
      "Componente:118 | Ratio:0.8 | Blacks:20 | Area:25\n",
      "Componente:119 | Ratio:0.6617262423714037 | Blacks:759 | Area:1147\n",
      "Componente:120 | Ratio:0.5851016799292661 | Blacks:2647 | Area:4524\n",
      "Componente:121 | Ratio:0.84 | Blacks:21 | Area:25\n",
      "Componente:122 | Ratio:0.6993333333333334 | Blacks:1049 | Area:1500\n",
      "Componente:123 | Ratio:0.92 | Blacks:23 | Area:25\n",
      "Componente:124 | Ratio:0.6204456094364351 | Blacks:2367 | Area:3815\n",
      "Componente:125 | Ratio:0.6921296296296297 | Blacks:1495 | Area:2160\n",
      "Componente:126 | Ratio:0.9063492063492063 | Blacks:571 | Area:630\n",
      "Componente:127 | Ratio:0.9010989010989011 | Blacks:1804 | Area:2002\n",
      "Componente:128 | Ratio:0.9633699633699634 | Blacks:526 | Area:546\n",
      "Componente:129 | Ratio:0.6509259259259259 | Blacks:703 | Area:1080\n",
      "Componente:130 | Ratio:0.6694444444444444 | Blacks:1205 | Area:1800\n",
      "Componente:131 | Ratio:0.6589002795899348 | Blacks:707 | Area:1073\n",
      "Componente:132 | Ratio:0.5658119658119658 | Blacks:3972 | Area:7020\n",
      "Componente:133 | Ratio:0.6285714285714286 | Blacks:682 | Area:1085\n",
      "Componente:134 | Ratio:0.6753246753246753 | Blacks:1560 | Area:2310\n",
      "Componente:135 | Ratio:0.5760905760905761 | Blacks:3460 | Area:6006\n",
      "Componente:136 | Ratio:0.7655086848635235 | Blacks:617 | Area:806\n",
      "Componente:137 | Ratio:0.814922480620155 | Blacks:841 | Area:1032\n",
      "Componente:138 | Ratio:0.6692810457516339 | Blacks:2048 | Area:3060\n",
      "Componente:139 | Ratio:0.935626102292769 | Blacks:1061 | Area:1134\n",
      "Componente:140 | Ratio:0.5654929577464789 | Blacks:2409 | Area:4260\n",
      "Componente:141 | Ratio:0.6919540229885057 | Blacks:1204 | Area:1740\n",
      "Componente:142 | Ratio:0.41397250092902266 | Blacks:3342 | Area:8073\n",
      "Componente:143 | Ratio:0.6548597933797174 | Blacks:3106 | Area:4743\n",
      "Componente:144 | Ratio:0.9 | Blacks:18 | Area:20\n",
      "Componente:145 | Ratio:0.6883597883597884 | Blacks:1301 | Area:1890\n",
      "Componente:146 | Ratio:0.6846715328467153 | Blacks:2814 | Area:4110\n",
      "Componente:147 | Ratio:0.725462962962963 | Blacks:1567 | Area:2160\n",
      "Componente:148 | Ratio:0.6786206896551724 | Blacks:984 | Area:1450\n",
      "Componente:149 | Ratio:0.6608294930875576 | Blacks:2868 | Area:4340\n",
      "Componente:150 | Ratio:0.6675675675675675 | Blacks:741 | Area:1110\n",
      "Componente:151 | Ratio:0.7213333333333334 | Blacks:1082 | Area:1500\n",
      "Componente:152 | Ratio:0.8877272727272727 | Blacks:1953 | Area:2200\n",
      "Componente:153 | Ratio:0.8241430700447094 | Blacks:1106 | Area:1342\n",
      "Componente:154 | Ratio:0.5045454545454545 | Blacks:111 | Area:220\n",
      "Componente:155 | Ratio:0.7943805874840357 | Blacks:622 | Area:783\n",
      "Componente:156 | Ratio:0.7210824967263204 | Blacks:1652 | Area:2291\n",
      "Componente:157 | Ratio:0.6875 | Blacks:11 | Area:16\n",
      "Componente:158 | Ratio:0.6875 | Blacks:11 | Area:16\n",
      "Componente:159 | Ratio:0.6816109422492401 | Blacks:897 | Area:1316\n",
      "Componente:160 | Ratio:0.5281506338553319 | Blacks:2833 | Area:5364\n",
      "Componente:161 | Ratio:0.9166666666666666 | Blacks:11 | Area:12\n",
      "Componente:162 | Ratio:0.059470037901620934 | Blacks:7202 | Area:121103\n",
      "Componente:163 | Ratio:0.5558305830583058 | Blacks:2021 | Area:3636\n",
      "Componente:164 | Ratio:0.7582184517497349 | Blacks:2145 | Area:2829\n",
      "Componente:165 | Ratio:0.8489795918367347 | Blacks:832 | Area:980\n",
      "Componente:166 | Ratio:0.9219600725952813 | Blacks:508 | Area:551\n",
      "Componente:167 | Ratio:0.32875 | Blacks:526 | Area:1600\n",
      "Componente:168 | Ratio:0.83 | Blacks:581 | Area:700\n",
      "Componente:169 | Ratio:0.9590643274853801 | Blacks:656 | Area:684\n",
      "Componente:170 | Ratio:0.4473684210526316 | Blacks:85 | Area:190\n",
      "Componente:171 | Ratio:0.5459822238345728 | Blacks:3010 | Area:5513\n",
      "Componente:172 | Ratio:0.681640625 | Blacks:2094 | Area:3072\n",
      "Componente:173 | Ratio:0.11866666666666667 | Blacks:801 | Area:6750\n",
      "Componente:174 | Ratio:0.8227040816326531 | Blacks:645 | Area:784\n",
      "Componente:175 | Ratio:0.7455357142857143 | Blacks:1670 | Area:2240\n",
      "Componente:176 | Ratio:0.5730958230958231 | Blacks:1866 | Area:3256\n",
      "Componente:177 | Ratio:0.8125 | Blacks:13 | Area:16\n",
      "Componente:178 | Ratio:0.6871552403467297 | Blacks:872 | Area:1269\n",
      "Componente:179 | Ratio:0.540268456375839 | Blacks:2898 | Area:5364\n",
      "Componente:180 | Ratio:0.9166666666666666 | Blacks:11 | Area:12\n",
      "Componente:181 | Ratio:0.7155388471177945 | Blacks:1142 | Area:1596\n",
      "Componente:182 | Ratio:0.5372150997150997 | Blacks:3017 | Area:5616\n",
      "Componente:183 | Ratio:0.9375 | Blacks:15 | Area:16\n",
      "Componente:184 | Ratio:0.95 | Blacks:722 | Area:760\n",
      "Componente:185 | Ratio:0.9259259259259259 | Blacks:500 | Area:540\n",
      "Componente:186 | Ratio:0.47875 | Blacks:766 | Area:1600\n",
      "Componente:187 | Ratio:0.8195488721804511 | Blacks:218 | Area:266\n",
      "Componente:188 | Ratio:0.75 | Blacks:36 | Area:48\n",
      "Componente:189 | Ratio:0.5720322704571648 | Blacks:2978 | Area:5206\n",
      "Componente:190 | Ratio:0.6277777777777778 | Blacks:1695 | Area:2700\n",
      "Componente:191 | Ratio:0.5226480836236934 | Blacks:750 | Area:1435\n",
      "Componente:192 | Ratio:0.12589928057553956 | Blacks:700 | Area:5560\n",
      "Componente:193 | Ratio:0.7976190476190477 | Blacks:603 | Area:756\n",
      "Componente:194 | Ratio:0.7337251356238698 | Blacks:1623 | Area:2212\n",
      "Componente:195 | Ratio:0.7303822937625755 | Blacks:1452 | Area:1988\n",
      "Componente:196 | Ratio:0.8125 | Blacks:13 | Area:16\n",
      "Componente:197 | Ratio:0.6745865362217563 | Blacks:2896 | Area:4293\n",
      "Componente:198 | Ratio:0.75 | Blacks:12 | Area:16\n",
      "Componente:199 | Ratio:0.6547619047619048 | Blacks:1210 | Area:1848\n",
      "Componente:200 | Ratio:0.5586249232658073 | Blacks:3640 | Area:6516\n",
      "Componente:201 | Ratio:0.8395061728395061 | Blacks:544 | Area:648\n",
      "Componente:202 | Ratio:0.2807017543859649 | Blacks:64 | Area:228\n",
      "Componente:203 | Ratio:0.7361827560795873 | Blacks:999 | Area:1357\n",
      "Componente:204 | Ratio:0.7702368328031106 | Blacks:2179 | Area:2829\n",
      "Componente:205 | Ratio:0.9326530612244898 | Blacks:914 | Area:980\n",
      "Componente:206 | Ratio:0.5975164353542732 | Blacks:1636 | Area:2738\n",
      "Componente:207 | Ratio:0.5953058321479374 | Blacks:1674 | Area:2812\n",
      "Componente:208 | Ratio:0.49857142857142855 | Blacks:698 | Area:1400\n",
      "Componente:209 | Ratio:0.9030303030303031 | Blacks:596 | Area:660\n",
      "Componente:210 | Ratio:0.8819628647214854 | Blacks:665 | Area:754\n",
      "Componente:211 | Ratio:0.7125 | Blacks:1653 | Area:2320\n",
      "Componente:212 | Ratio:0.75 | Blacks:15 | Area:20\n",
      "Componente:213 | Ratio:0.7072032662583844 | Blacks:2425 | Area:3429\n",
      "Componente:214 | Ratio:0.5157425466703818 | Blacks:1851 | Area:3589\n",
      "Componente:215 | Ratio:0.8333333333333334 | Blacks:10 | Area:12\n",
      "Componente:216 | Ratio:0.6777950310559007 | Blacks:873 | Area:1288\n",
      "Componente:217 | Ratio:0.5246741154562383 | Blacks:3381 | Area:6444\n",
      "Componente:218 | Ratio:0.9 | Blacks:18 | Area:20\n",
      "Componente:219 | Ratio:0.5277777777777778 | Blacks:95 | Area:180\n",
      "Componente:220 | Ratio:0.9083333333333333 | Blacks:436 | Area:480\n",
      "Componente:221 | Ratio:0.8458874458874459 | Blacks:977 | Area:1155\n",
      "Componente:222 | Ratio:0.8343653250773994 | Blacks:539 | Area:646\n",
      "Componente:223 | Ratio:0.9213775178687459 | Blacks:1418 | Area:1539\n",
      "Componente:224 | Ratio:0.8810344827586207 | Blacks:511 | Area:580\n",
      "Componente:225 | Ratio:0.5773052464228935 | Blacks:2905 | Area:5032\n",
      "Componente:226 | Ratio:0.6211111111111111 | Blacks:1677 | Area:2700\n",
      "Componente:227 | Ratio:0.5350140056022409 | Blacks:764 | Area:1428\n",
      "Componente:228 | Ratio:0.7464503042596349 | Blacks:1472 | Area:1972\n",
      "Componente:229 | Ratio:0.8125 | Blacks:13 | Area:16\n",
      "Componente:230 | Ratio:0.6718995290423861 | Blacks:1712 | Area:2548\n",
      "Componente:231 | Ratio:0.5165165165165165 | Blacks:688 | Area:1332\n",
      "Componente:232 | Ratio:0.7029156816390859 | Blacks:892 | Area:1269\n",
      "Componente:233 | Ratio:0.5481142857142857 | Blacks:2398 | Area:4375\n",
      "Componente:234 | Ratio:0.7 | Blacks:14 | Area:20\n",
      "Componente:235 | Ratio:0.6754201680672269 | Blacks:643 | Area:952\n",
      "Componente:236 | Ratio:0.6922492401215805 | Blacks:911 | Area:1316\n",
      "Componente:237 | Ratio:0.4772727272727273 | Blacks:105 | Area:220\n",
      "Componente:238 | Ratio:0.719047619047619 | Blacks:2718 | Area:3780\n",
      "Componente:239 | Ratio:0.6189839572192514 | Blacks:2778 | Area:4488\n",
      "Componente:240 | Ratio:0.8234250221827861 | Blacks:928 | Area:1127\n",
      "Componente:241 | Ratio:0.95625 | Blacks:459 | Area:480\n",
      "Componente:242 | Ratio:0.5841784989858012 | Blacks:576 | Area:986\n",
      "Componente:243 | Ratio:0.669112252384446 | Blacks:912 | Area:1363\n",
      "Componente:244 | Ratio:0.6949404761904762 | Blacks:934 | Area:1344\n",
      "Componente:245 | Ratio:0.5599731963368327 | Blacks:2507 | Area:4477\n",
      "Componente:246 | Ratio:0.5139459459459459 | Blacks:2377 | Area:4625\n",
      "Componente:247 | Ratio:0.875 | Blacks:14 | Area:16\n",
      "Componente:248 | Ratio:0.6467391304347826 | Blacks:714 | Area:1104\n",
      "Componente:249 | Ratio:0.6891025641025641 | Blacks:645 | Area:936\n",
      "Componente:250 | Ratio:0.5140916808149406 | Blacks:3028 | Area:5890\n",
      "Componente:251 | Ratio:0.5780274656679151 | Blacks:1852 | Area:3204\n",
      "Componente:252 | Ratio:0.7628571428571429 | Blacks:2136 | Area:2800\n",
      "Componente:253 | Ratio:0.6257763975155279 | Blacks:403 | Area:644\n",
      "Componente:254 | Ratio:0.9084595959595959 | Blacks:4317 | Area:4752\n",
      "Componente:255 | Ratio:0.5418300653594771 | Blacks:829 | Area:1530\n",
      "Componente:256 | Ratio:0.3731060606060606 | Blacks:197 | Area:528\n",
      "Componente:257 | Ratio:0.567703952901598 | Blacks:1350 | Area:2378\n",
      "Componente:258 | Ratio:0.8888888888888888 | Blacks:8 | Area:9\n",
      "Componente:259 | Ratio:0.9123263888888888 | Blacks:1051 | Area:1152\n",
      "Componente:260 | Ratio:0.7081521739130435 | Blacks:1303 | Area:1840\n",
      "Componente:261 | Ratio:0.9724137931034482 | Blacks:423 | Area:435\n",
      "Componente:262 | Ratio:0.5375048581422464 | Blacks:1383 | Area:2573\n",
      "Componente:263 | Ratio:0.5471174260983178 | Blacks:3350 | Area:6123\n",
      "Componente:264 | Ratio:0.7551224387806097 | Blacks:1511 | Area:2001\n",
      "Componente:265 | Ratio:0.5169637722829212 | Blacks:1798 | Area:3478\n",
      "Componente:266 | Ratio:0.9 | Blacks:18 | Area:20\n",
      "Componente:267 | Ratio:0.6571428571428571 | Blacks:644 | Area:980\n",
      "Componente:268 | Ratio:0.7674247982391783 | Blacks:1046 | Area:1363\n",
      "Componente:269 | Ratio:0.5940393518518519 | Blacks:2053 | Area:3456\n",
      "Componente:270 | Ratio:0.6937689969604863 | Blacks:913 | Area:1316\n",
      "Componente:271 | Ratio:0.6651175505740842 | Blacks:2433 | Area:3658\n",
      "Componente:272 | Ratio:1.0 | Blacks:2 | Area:2\n",
      "Componente:273 | Ratio:0.4935121107266436 | Blacks:1141 | Area:2312\n",
      "Componente:274 | Ratio:0.84 | Blacks:21 | Area:25\n",
      "Componente:275 | Ratio:0.9 | Blacks:18 | Area:20\n",
      "Componente:276 | Ratio:0.7242063492063492 | Blacks:2920 | Area:4032\n",
      "Componente:277 | Ratio:0.71412680756396 | Blacks:1926 | Area:2697\n",
      "Componente:278 | Ratio:0.9 | Blacks:18 | Area:20\n",
      "Componente:279 | Ratio:0.9 | Blacks:18 | Area:20\n",
      "Componente:280 | Ratio:0.8138825324180016 | Blacks:2134 | Area:2622\n",
      "Componente:281 | Ratio:0.5825757575757575 | Blacks:1538 | Area:2640\n",
      "Componente:282 | Ratio:0.7536231884057971 | Blacks:364 | Area:483\n",
      "Componente:283 | Ratio:1.0 | Blacks:456 | Area:456\n",
      "Componente:284 | Ratio:0.9040247678018576 | Blacks:292 | Area:323\n",
      "Componente:285 | Ratio:0.8931888544891641 | Blacks:577 | Area:646\n",
      "Componente:286 | Ratio:1.0 | Blacks:304 | Area:304\n",
      "Componente:287 | Ratio:0.9956140350877193 | Blacks:454 | Area:456\n",
      "Componente:288 | Ratio:0.7243842364532019 | Blacks:2941 | Area:4060\n",
      "Componente:289 | Ratio:0.7321428571428571 | Blacks:1107 | Area:1512\n",
      "Componente:290 | Ratio:0.536617262423714 | Blacks:1231 | Area:2294\n",
      "Componente:291 | Ratio:0.414021164021164 | Blacks:313 | Area:756\n",
      "Componente:292 | Ratio:0.8966666666666666 | Blacks:538 | Area:600\n"
     ]
    }
   ],
   "source": [
    "for label in black_pixels_ratios:\n",
    "    print('Componente:{} | Ratio:{} | Blacks:{} | Area:{}'.format(label,black_pixels_ratios[label], black_pixels_amount[label], component_area[label]))"
   ]
  },
  {
   "cell_type": "code",
   "execution_count": 33,
   "metadata": {},
   "outputs": [],
   "source": [
    "# np.sort(list(black_pixels_ratios.values()))"
   ]
  },
  {
   "cell_type": "markdown",
   "metadata": {},
   "source": [
    "##### b) Razão entre o número de transições de branco para preto e o número de pixels pretos, para cada retângulo envolvendo um componente conexo"
   ]
  },
  {
   "cell_type": "code",
   "execution_count": 46,
   "metadata": {},
   "outputs": [],
   "source": [
    "transition_ratios={}\n",
    "hor_tran_amount = {}\n",
    "ver_tran_amount = {}\n",
    "total_black_amount = {}"
   ]
  },
  {
   "cell_type": "code",
   "execution_count": 47,
   "metadata": {},
   "outputs": [],
   "source": [
    "for label, stat in zip(range(number_of_labels),stats):\n",
    "    transition_ratios[label], hor_tran_amount[label], ver_tran_amount[label], total_black_amount[label] = getTransitionsRate(np.copy(image_p6), stat, black_pixels_amount[label])"
   ]
  },
  {
   "cell_type": "code",
   "execution_count": 48,
   "metadata": {},
   "outputs": [
    {
     "name": "stdout",
     "output_type": "stream",
     "text": [
      "Componente:0 | Ratio:0.09486853470715995 | Horizontal:18246, Vertical:46444 | Blacks:681891\n",
      "Componente:1 | Ratio:0.05511527377521614 | Horizontal:10, Vertical:143 | Blacks:2776\n",
      "Componente:2 | Ratio:0.08630393996247655 | Horizontal:31, Vertical:61 | Blacks:1066\n",
      "Componente:3 | Ratio:0.13336992316136115 | Horizontal:55, Vertical:431 | Blacks:3644\n",
      "Componente:4 | Ratio:0.09100642398286937 | Horizontal:38, Vertical:47 | Blacks:934\n",
      "Componente:5 | Ratio:0.6592592592592592 | Horizontal:41, Vertical:48 | Blacks:135\n",
      "Componente:6 | Ratio:0.0468557336621455 | Horizontal:19, Vertical:19 | Blacks:811\n",
      "Componente:7 | Ratio:0.41013824884792627 | Horizontal:31, Vertical:58 | Blacks:217\n",
      "Componente:8 | Ratio:0.028051554207733132 | Horizontal:32, Vertical:5 | Blacks:1319\n",
      "Componente:9 | Ratio:0.0908130939809926 | Horizontal:8, Vertical:78 | Blacks:947\n",
      "Componente:10 | Ratio:0.09114959114959115 | Horizontal:49, Vertical:330 | Blacks:4158\n",
      "Componente:11 | Ratio:0.10138888888888889 | Horizontal:32, Vertical:41 | Blacks:720\n",
      "Componente:12 | Ratio:0.07345132743362832 | Horizontal:35, Vertical:48 | Blacks:1130\n",
      "Componente:13 | Ratio:0.10903873744619799 | Horizontal:28, Vertical:48 | Blacks:697\n",
      "Componente:14 | Ratio:0.009330614563289584 | Horizontal:1134, Vertical:1790 | Blacks:313377\n",
      "Componente:15 | Ratio:0.1382198952879581 | Horizontal:57, Vertical:339 | Blacks:2865\n",
      "Componente:16 | Ratio:0.4166666666666667 | Horizontal:2, Vertical:3 | Blacks:12\n",
      "Componente:17 | Ratio:0.09170013386880857 | Horizontal:90, Vertical:184 | Blacks:2988\n",
      "Componente:18 | Ratio:0.18181818181818182 | Horizontal:1, Vertical:1 | Blacks:11\n",
      "Componente:19 | Ratio:0.38461538461538464 | Horizontal:3, Vertical:2 | Blacks:13\n",
      "Componente:20 | Ratio:0.10230292294065545 | Horizontal:62, Vertical:169 | Blacks:2258\n",
      "Componente:21 | Ratio:0.18181818181818182 | Horizontal:1, Vertical:1 | Blacks:11\n",
      "Componente:22 | Ratio:0.10453400503778337 | Horizontal:60, Vertical:106 | Blacks:1588\n",
      "Componente:23 | Ratio:0.09420713867758923 | Horizontal:41, Vertical:120 | Blacks:1709\n",
      "Componente:24 | Ratio:0.10369609856262833 | Horizontal:33, Vertical:68 | Blacks:974\n",
      "Componente:25 | Ratio:0.13145539906103287 | Horizontal:32, Vertical:24 | Blacks:426\n",
      "Componente:26 | Ratio:0.13441955193482688 | Horizontal:35, Vertical:31 | Blacks:491\n",
      "Componente:27 | Ratio:0.2777777777777778 | Horizontal:34, Vertical:36 | Blacks:252\n",
      "Componente:28 | Ratio:0.0867892261650278 | Horizontal:50, Vertical:153 | Blacks:2339\n",
      "Componente:29 | Ratio:0.09692206941715782 | Horizontal:56, Vertical:92 | Blacks:1527\n",
      "Componente:30 | Ratio:0.3333333333333333 | Horizontal:3, Vertical:4 | Blacks:21\n",
      "Componente:31 | Ratio:0.2222222222222222 | Horizontal:2, Vertical:2 | Blacks:18\n",
      "Componente:32 | Ratio:0.07596201899050475 | Horizontal:49, Vertical:103 | Blacks:2001\n",
      "Componente:33 | Ratio:0.071475843812045 | Horizontal:36, Vertical:72 | Blacks:1511\n",
      "Componente:34 | Ratio:0.45 | Horizontal:5, Vertical:4 | Blacks:20\n",
      "Componente:35 | Ratio:0.11821428571428572 | Horizontal:61, Vertical:270 | Blacks:2800\n",
      "Componente:36 | Ratio:0.12922906267332224 | Horizontal:30, Vertical:203 | Blacks:1803\n",
      "Componente:37 | Ratio:0.08245083207261725 | Horizontal:46, Vertical:63 | Blacks:1322\n",
      "Componente:38 | Ratio:0.12108803743784732 | Horizontal:65, Vertical:349 | Blacks:3419\n",
      "Componente:39 | Ratio:0.04983388704318937 | Horizontal:20, Vertical:10 | Blacks:602\n",
      "Componente:40 | Ratio:0.2054794520547945 | Horizontal:33, Vertical:27 | Blacks:292\n",
      "Componente:41 | Ratio:0.07927927927927927 | Horizontal:19, Vertical:69 | Blacks:1110\n",
      "Componente:42 | Ratio:0.14705882352941177 | Horizontal:24, Vertical:66 | Blacks:612\n",
      "Componente:43 | Ratio:0.4 | Horizontal:3, Vertical:5 | Blacks:20\n",
      "Componente:44 | Ratio:0.11807909604519774 | Horizontal:39, Vertical:170 | Blacks:1770\n",
      "Componente:45 | Ratio:0.11074633398993215 | Horizontal:96, Vertical:410 | Blacks:4569\n",
      "Componente:46 | Ratio:0.21428571428571427 | Horizontal:1, Vertical:2 | Blacks:14\n",
      "Componente:47 | Ratio:0.08848133848133848 | Horizontal:68, Vertical:207 | Blacks:3108\n",
      "Componente:48 | Ratio:0.06561360874848117 | Horizontal:30, Vertical:78 | Blacks:1646\n",
      "Componente:49 | Ratio:0.14540059347181009 | Horizontal:17, Vertical:32 | Blacks:337\n",
      "Componente:50 | Ratio:0.06627680311890838 | Horizontal:7, Vertical:27 | Blacks:513\n",
      "Componente:51 | Ratio:0.14126611957796015 | Horizontal:70, Vertical:171 | Blacks:1706\n",
      "Componente:52 | Ratio:0.35 | Horizontal:3, Vertical:4 | Blacks:20\n",
      "Componente:53 | Ratio:0.17718120805369128 | Horizontal:52, Vertical:80 | Blacks:745\n",
      "Componente:54 | Ratio:0.09785804283914322 | Horizontal:67, Vertical:166 | Blacks:2381\n",
      "Componente:55 | Ratio:0.1292941911305434 | Horizontal:37, Vertical:170 | Blacks:1601\n",
      "Componente:56 | Ratio:0.7142857142857143 | Horizontal:4, Vertical:6 | Blacks:14\n",
      "Componente:57 | Ratio:0.1732283464566929 | Horizontal:54, Vertical:56 | Blacks:635\n",
      "Componente:58 | Ratio:0.13554555680539931 | Horizontal:98, Vertical:384 | Blacks:3556\n",
      "Componente:59 | Ratio:0.2222222222222222 | Horizontal:2, Vertical:2 | Blacks:18\n",
      "Componente:60 | Ratio:0.19260918253079506 | Horizontal:58, Vertical:114 | Blacks:893\n",
      "Componente:61 | Ratio:0.12560386473429952 | Horizontal:38, Vertical:66 | Blacks:828\n",
      "Componente:62 | Ratio:0.09808612440191387 | Horizontal:54, Vertical:110 | Blacks:1672\n",
      "Componente:63 | Ratio:0.17772511848341233 | Horizontal:32, Vertical:43 | Blacks:422\n",
      "Componente:64 | Ratio:0.23552123552123552 | Horizontal:31, Vertical:30 | Blacks:259\n",
      "Componente:65 | Ratio:0.2222222222222222 | Horizontal:2, Vertical:2 | Blacks:18\n",
      "Componente:66 | Ratio:0.19406674907292953 | Horizontal:70, Vertical:87 | Blacks:809\n",
      "Componente:67 | Ratio:0.13220675944333996 | Horizontal:48, Vertical:85 | Blacks:1006\n",
      "Componente:68 | Ratio:0.2222222222222222 | Horizontal:2, Vertical:2 | Blacks:18\n",
      "Componente:69 | Ratio:0.16264090177133655 | Horizontal:46, Vertical:55 | Blacks:621\n",
      "Componente:70 | Ratio:0.1398527865404837 | Horizontal:49, Vertical:84 | Blacks:951\n",
      "Componente:71 | Ratio:0.140041928721174 | Horizontal:70, Vertical:264 | Blacks:2385\n",
      "Componente:72 | Ratio:0.45 | Horizontal:5, Vertical:4 | Blacks:20\n",
      "Componente:73 | Ratio:0.12997444322745527 | Horizontal:63, Vertical:293 | Blacks:2739\n",
      "Componente:74 | Ratio:0.2222222222222222 | Horizontal:2, Vertical:2 | Blacks:18\n",
      "Componente:75 | Ratio:0.12378934624697337 | Horizontal:82, Vertical:327 | Blacks:3304\n",
      "Componente:76 | Ratio:0.11579206701157921 | Horizontal:45, Vertical:425 | Blacks:4059\n",
      "Componente:77 | Ratio:0.1075085324232082 | Horizontal:20, Vertical:43 | Blacks:586\n",
      "Componente:78 | Ratio:0.35294117647058826 | Horizontal:3, Vertical:3 | Blacks:17\n",
      "Componente:79 | Ratio:0.10029940119760479 | Horizontal:48, Vertical:19 | Blacks:668\n",
      "Componente:80 | Ratio:0.12018819503849444 | Horizontal:68, Vertical:213 | Blacks:2338\n",
      "Componente:81 | Ratio:0.16718266253869968 | Horizontal:50, Vertical:112 | Blacks:969\n",
      "Componente:82 | Ratio:0.13043478260869565 | Horizontal:36, Vertical:63 | Blacks:759\n",
      "Componente:83 | Ratio:0.6428571428571429 | Horizontal:4, Vertical:5 | Blacks:14\n",
      "Componente:84 | Ratio:0.06274703557312253 | Horizontal:27, Vertical:100 | Blacks:2024\n",
      "Componente:85 | Ratio:0.14041514041514042 | Horizontal:46, Vertical:184 | Blacks:1638\n",
      "Componente:86 | Ratio:0.07803790412486064 | Horizontal:15, Vertical:55 | Blacks:897\n",
      "Componente:87 | Ratio:0.057118857622847546 | Horizontal:14, Vertical:122 | Blacks:2381\n",
      "Componente:88 | Ratio:0.05461767626613704 | Horizontal:6, Vertical:49 | Blacks:1007\n",
      "Componente:89 | Ratio:0.03777335984095427 | Horizontal:5, Vertical:14 | Blacks:503\n",
      "Componente:90 | Ratio:0.06183456183456183 | Horizontal:28, Vertical:123 | Blacks:2442\n",
      "Componente:91 | Ratio:0.05378020265003897 | Horizontal:35, Vertical:34 | Blacks:1283\n",
      "Componente:92 | Ratio:0.06749274980226734 | Horizontal:41, Vertical:215 | Blacks:3793\n",
      "Componente:93 | Ratio:0.2727272727272727 | Horizontal:3, Vertical:3 | Blacks:22\n",
      "Componente:94 | Ratio:0.10614250614250614 | Horizontal:55, Vertical:161 | Blacks:2035\n",
      "Componente:95 | Ratio:0.12287712287712288 | Horizontal:35, Vertical:88 | Blacks:1001\n",
      "Componente:96 | Ratio:0.45 | Horizontal:4, Vertical:5 | Blacks:20\n",
      "Componente:97 | Ratio:0.11435449894673488 | Horizontal:50, Vertical:330 | Blacks:3323\n",
      "Componente:98 | Ratio:0.16883116883116883 | Horizontal:58, Vertical:85 | Blacks:847\n",
      "Componente:99 | Ratio:0.10748560460652591 | Horizontal:34, Vertical:78 | Blacks:1042\n",
      "Componente:100 | Ratio:0.0788712011577424 | Horizontal:42, Vertical:176 | Blacks:2764\n",
      "Componente:101 | Ratio:0.14897260273972604 | Horizontal:30, Vertical:57 | Blacks:584\n",
      "Componente:102 | Ratio:0.11343283582089553 | Horizontal:19, Vertical:171 | Blacks:1675\n",
      "Componente:103 | Ratio:0.03622047244094488 | Horizontal:6, Vertical:17 | Blacks:635\n",
      "Componente:104 | Ratio:0.1328647925033467 | Horizontal:68, Vertical:329 | Blacks:2988\n",
      "Componente:105 | Ratio:0.12232415902140673 | Horizontal:29, Vertical:51 | Blacks:654\n",
      "Componente:106 | Ratio:0.10251117991056072 | Horizontal:41, Vertical:257 | Blacks:2907\n",
      "Componente:107 | Ratio:0.13576642335766423 | Horizontal:47, Vertical:46 | Blacks:685\n",
      "Componente:108 | Ratio:0.11730013106159895 | Horizontal:54, Vertical:483 | Blacks:4578\n",
      "Componente:109 | Ratio:0.04419889502762431 | Horizontal:4, Vertical:4 | Blacks:181\n",
      "Componente:110 | Ratio:0.1452991452991453 | Horizontal:40, Vertical:113 | Blacks:1053\n",
      "Componente:111 | Ratio:0.11601307189542484 | Horizontal:47, Vertical:95 | Blacks:1224\n",
      "Componente:112 | Ratio:0.08644859813084112 | Horizontal:8, Vertical:177 | Blacks:2140\n",
      "Componente:113 | Ratio:0.08083333333333333 | Horizontal:32, Vertical:162 | Blacks:2400\n",
      "Componente:114 | Ratio:0.1023391812865497 | Horizontal:32, Vertical:3 | Blacks:342\n",
      "Componente:115 | Ratio:0.17430278884462153 | Horizontal:50, Vertical:125 | Blacks:1004\n",
      "Componente:116 | Ratio:0.0989816700610998 | Horizontal:68, Vertical:175 | Blacks:2455\n",
      "Componente:117 | Ratio:0.08436145381793932 | Horizontal:62, Vertical:191 | Blacks:2999\n",
      "Componente:118 | Ratio:0.4 | Horizontal:4, Vertical:4 | Blacks:20\n",
      "Componente:119 | Ratio:0.1541501976284585 | Horizontal:43, Vertical:74 | Blacks:759\n",
      "Componente:120 | Ratio:0.1224027200604458 | Horizontal:57, Vertical:267 | Blacks:2647\n",
      "Componente:121 | Ratio:0.2857142857142857 | Horizontal:3, Vertical:3 | Blacks:21\n",
      "Componente:122 | Ratio:0.14585319351763584 | Horizontal:33, Vertical:120 | Blacks:1049\n",
      "Componente:123 | Ratio:0.17391304347826086 | Horizontal:2, Vertical:2 | Blacks:23\n",
      "Componente:124 | Ratio:0.12420785804816223 | Horizontal:75, Vertical:219 | Blacks:2367\n",
      "Componente:125 | Ratio:0.11237458193979934 | Horizontal:36, Vertical:132 | Blacks:1495\n",
      "Componente:126 | Ratio:0.07705779334500876 | Horizontal:20, Vertical:24 | Blacks:571\n",
      "Componente:127 | Ratio:0.08869179600886919 | Horizontal:26, Vertical:134 | Blacks:1804\n",
      "Componente:128 | Ratio:0.039923954372623575 | Horizontal:5, Vertical:16 | Blacks:526\n",
      "Componente:129 | Ratio:0.1379800853485064 | Horizontal:31, Vertical:66 | Blacks:703\n",
      "Componente:130 | Ratio:0.15186721991701244 | Horizontal:42, Vertical:141 | Blacks:1205\n",
      "Componente:131 | Ratio:0.1485148514851485 | Horizontal:42, Vertical:63 | Blacks:707\n",
      "Componente:132 | Ratio:0.11228600201409869 | Horizontal:68, Vertical:378 | Blacks:3972\n",
      "Componente:133 | Ratio:0.14516129032258066 | Horizontal:30, Vertical:69 | Blacks:682\n",
      "Componente:134 | Ratio:0.09166666666666666 | Horizontal:37, Vertical:106 | Blacks:1560\n",
      "Componente:135 | Ratio:0.1199421965317919 | Horizontal:87, Vertical:328 | Blacks:3460\n",
      "Componente:136 | Ratio:0.1280388978930308 | Horizontal:20, Vertical:59 | Blacks:617\n",
      "Componente:137 | Ratio:0.08799048751486326 | Horizontal:19, Vertical:55 | Blacks:841\n",
      "Componente:138 | Ratio:0.12060546875 | Horizontal:51, Vertical:196 | Blacks:2048\n",
      "Componente:139 | Ratio:0.06691800188501414 | Horizontal:17, Vertical:54 | Blacks:1061\n",
      "Componente:140 | Ratio:0.11374014113740141 | Horizontal:71, Vertical:203 | Blacks:2409\n",
      "Componente:141 | Ratio:0.10465116279069768 | Horizontal:43, Vertical:83 | Blacks:1204\n",
      "Componente:142 | Ratio:0.16546977857570316 | Horizontal:130, Vertical:423 | Blacks:3342\n",
      "Componente:143 | Ratio:0.10077269800386349 | Horizontal:71, Vertical:242 | Blacks:3106\n",
      "Componente:144 | Ratio:0.16666666666666666 | Horizontal:2, Vertical:1 | Blacks:18\n",
      "Componente:145 | Ratio:0.1137586471944658 | Horizontal:46, Vertical:102 | Blacks:1301\n",
      "Componente:146 | Ratio:0.08599857853589196 | Horizontal:59, Vertical:183 | Blacks:2814\n",
      "Componente:147 | Ratio:0.10402042118698149 | Horizontal:58, Vertical:105 | Blacks:1567\n",
      "Componente:148 | Ratio:0.13211382113821138 | Horizontal:51, Vertical:79 | Blacks:984\n",
      "Componente:149 | Ratio:0.12587168758716877 | Horizontal:45, Vertical:316 | Blacks:2868\n",
      "Componente:150 | Ratio:0.11740890688259109 | Horizontal:44, Vertical:43 | Blacks:741\n",
      "Componente:151 | Ratio:0.10536044362292052 | Horizontal:45, Vertical:69 | Blacks:1082\n",
      "Componente:152 | Ratio:0.04608294930875576 | Horizontal:19, Vertical:71 | Blacks:1953\n",
      "Componente:153 | Ratio:0.12839059674502712 | Horizontal:20, Vertical:122 | Blacks:1106\n",
      "Componente:154 | Ratio:0.6216216216216216 | Horizontal:32, Vertical:37 | Blacks:111\n",
      "Componente:155 | Ratio:0.12540192926045016 | Horizontal:48, Vertical:30 | Blacks:622\n",
      "Componente:156 | Ratio:0.06476997578692494 | Horizontal:25, Vertical:82 | Blacks:1652\n",
      "Componente:157 | Ratio:0.7272727272727273 | Horizontal:4, Vertical:4 | Blacks:11\n",
      "Componente:158 | Ratio:0.7272727272727273 | Horizontal:4, Vertical:4 | Blacks:11\n",
      "Componente:159 | Ratio:0.12151616499442586 | Horizontal:54, Vertical:55 | Blacks:897\n",
      "Componente:160 | Ratio:0.15142957995058243 | Horizontal:110, Vertical:319 | Blacks:2833\n",
      "Componente:161 | Ratio:0.18181818181818182 | Horizontal:1, Vertical:1 | Blacks:11\n",
      "Componente:162 | Ratio:0.5359622327131353 | Horizontal:1665, Vertical:2195 | Blacks:7202\n",
      "Componente:163 | Ratio:0.15883226125680355 | Horizontal:93, Vertical:228 | Blacks:2021\n",
      "Componente:164 | Ratio:0.08811188811188811 | Horizontal:48, Vertical:141 | Blacks:2145\n",
      "Componente:165 | Ratio:0.15144230769230768 | Horizontal:28, Vertical:98 | Blacks:832\n",
      "Componente:166 | Ratio:0.05511811023622047 | Horizontal:20, Vertical:8 | Blacks:508\n",
      "Componente:167 | Ratio:0.4372623574144487 | Horizontal:70, Vertical:160 | Blacks:526\n",
      "Componente:168 | Ratio:0.1738382099827883 | Horizontal:33, Vertical:68 | Blacks:581\n",
      "Componente:169 | Ratio:0.039634146341463415 | Horizontal:11, Vertical:15 | Blacks:656\n",
      "Componente:170 | Ratio:0.6352941176470588 | Horizontal:23, Vertical:31 | Blacks:85\n",
      "Componente:171 | Ratio:0.1345514950166113 | Horizontal:84, Vertical:321 | Blacks:3010\n",
      "Componente:172 | Ratio:0.12607449856733524 | Horizontal:45, Vertical:219 | Blacks:2094\n",
      "Componente:173 | Ratio:0.5243445692883895 | Horizontal:157, Vertical:263 | Blacks:801\n",
      "Componente:174 | Ratio:0.12713178294573643 | Horizontal:50, Vertical:32 | Blacks:645\n",
      "Componente:175 | Ratio:0.06946107784431138 | Horizontal:16, Vertical:100 | Blacks:1670\n",
      "Componente:176 | Ratio:0.1264737406216506 | Horizontal:54, Vertical:182 | Blacks:1866\n",
      "Componente:177 | Ratio:0.38461538461538464 | Horizontal:3, Vertical:2 | Blacks:13\n",
      "Componente:178 | Ratio:0.13188073394495411 | Horizontal:46, Vertical:69 | Blacks:872\n",
      "Componente:179 | Ratio:0.1445824706694272 | Horizontal:111, Vertical:308 | Blacks:2898\n",
      "Componente:180 | Ratio:0.18181818181818182 | Horizontal:1, Vertical:1 | Blacks:11\n",
      "Componente:181 | Ratio:0.12084063047285463 | Horizontal:37, Vertical:101 | Blacks:1142\n",
      "Componente:182 | Ratio:0.1388796818031157 | Horizontal:98, Vertical:321 | Blacks:3017\n",
      "Componente:183 | Ratio:0.13333333333333333 | Horizontal:1, Vertical:1 | Blacks:15\n",
      "Componente:184 | Ratio:0.04709141274238227 | Horizontal:17, Vertical:17 | Blacks:722\n",
      "Componente:185 | Ratio:0.08 | Horizontal:12, Vertical:28 | Blacks:500\n",
      "Componente:186 | Ratio:0.2402088772845953 | Horizontal:42, Vertical:142 | Blacks:766\n",
      "Componente:187 | Ratio:0.19724770642201836 | Horizontal:22, Vertical:21 | Blacks:218\n",
      "Componente:188 | Ratio:0.3888888888888889 | Horizontal:6, Vertical:8 | Blacks:36\n",
      "Componente:189 | Ratio:0.1343183344526528 | Horizontal:102, Vertical:298 | Blacks:2978\n",
      "Componente:190 | Ratio:0.1480825958702065 | Horizontal:60, Vertical:191 | Blacks:1695\n",
      "Componente:191 | Ratio:0.21466666666666667 | Horizontal:57, Vertical:104 | Blacks:750\n",
      "Componente:192 | Ratio:0.5671428571428572 | Horizontal:124, Vertical:273 | Blacks:700\n",
      "Componente:193 | Ratio:0.12603648424543948 | Horizontal:46, Vertical:30 | Blacks:603\n",
      "Componente:194 | Ratio:0.0751694393099199 | Horizontal:35, Vertical:87 | Blacks:1623\n",
      "Componente:195 | Ratio:0.06680440771349862 | Horizontal:23, Vertical:74 | Blacks:1452\n",
      "Componente:196 | Ratio:0.38461538461538464 | Horizontal:3, Vertical:2 | Blacks:13\n",
      "Componente:197 | Ratio:0.08011049723756906 | Horizontal:63, Vertical:169 | Blacks:2896\n",
      "Componente:198 | Ratio:0.5833333333333334 | Horizontal:3, Vertical:4 | Blacks:12\n",
      "Componente:199 | Ratio:0.15289256198347106 | Horizontal:48, Vertical:137 | Blacks:1210\n",
      "Componente:200 | Ratio:0.12362637362637363 | Horizontal:105, Vertical:345 | Blacks:3640\n",
      "Componente:201 | Ratio:0.09191176470588236 | Horizontal:13, Vertical:37 | Blacks:544\n",
      "Componente:202 | Ratio:0.796875 | Horizontal:34, Vertical:17 | Blacks:64\n",
      "Componente:203 | Ratio:0.15315315315315314 | Horizontal:41, Vertical:112 | Blacks:999\n",
      "Componente:204 | Ratio:0.10692978430472694 | Horizontal:45, Vertical:188 | Blacks:2179\n",
      "Componente:205 | Ratio:0.07986870897155361 | Horizontal:20, Vertical:53 | Blacks:914\n",
      "Componente:206 | Ratio:0.11858190709046455 | Horizontal:49, Vertical:145 | Blacks:1636\n",
      "Componente:207 | Ratio:0.16786140979689368 | Horizontal:70, Vertical:211 | Blacks:1674\n",
      "Componente:208 | Ratio:0.2521489971346705 | Horizontal:59, Vertical:117 | Blacks:698\n",
      "Componente:209 | Ratio:0.11073825503355705 | Horizontal:19, Vertical:47 | Blacks:596\n",
      "Componente:210 | Ratio:0.081203007518797 | Horizontal:26, Vertical:28 | Blacks:665\n",
      "Componente:211 | Ratio:0.08892921960072596 | Horizontal:24, Vertical:123 | Blacks:1653\n",
      "Componente:212 | Ratio:0.5333333333333333 | Horizontal:5, Vertical:3 | Blacks:15\n",
      "Componente:213 | Ratio:0.088659793814433 | Horizontal:78, Vertical:137 | Blacks:2425\n",
      "Componente:214 | Ratio:0.15180983252296057 | Horizontal:65, Vertical:216 | Blacks:1851\n",
      "Componente:215 | Ratio:0.4 | Horizontal:2, Vertical:2 | Blacks:10\n",
      "Componente:216 | Ratio:0.13860252004581902 | Horizontal:47, Vertical:74 | Blacks:873\n",
      "Componente:217 | Ratio:0.13871635610766045 | Horizontal:99, Vertical:370 | Blacks:3381\n",
      "Componente:218 | Ratio:0.2222222222222222 | Horizontal:2, Vertical:2 | Blacks:18\n",
      "Componente:219 | Ratio:0.4421052631578947 | Horizontal:26, Vertical:16 | Blacks:95\n",
      "Componente:220 | Ratio:0.10550458715596331 | Horizontal:18, Vertical:28 | Blacks:436\n",
      "Componente:221 | Ratio:0.14841351074718526 | Horizontal:17, Vertical:128 | Blacks:977\n",
      "Componente:222 | Ratio:0.11317254174397032 | Horizontal:28, Vertical:33 | Blacks:539\n",
      "Componente:223 | Ratio:0.07122708039492243 | Horizontal:17, Vertical:84 | Blacks:1418\n",
      "Componente:224 | Ratio:0.10371819960861056 | Horizontal:22, Vertical:31 | Blacks:511\n",
      "Componente:225 | Ratio:0.13459552495697075 | Horizontal:100, Vertical:291 | Blacks:2905\n",
      "Componente:226 | Ratio:0.16219439475253428 | Horizontal:68, Vertical:204 | Blacks:1677\n",
      "Componente:227 | Ratio:0.21335078534031413 | Horizontal:59, Vertical:104 | Blacks:764\n",
      "Componente:228 | Ratio:0.12839673913043478 | Horizontal:32, Vertical:157 | Blacks:1472\n",
      "Componente:229 | Ratio:0.46153846153846156 | Horizontal:3, Vertical:3 | Blacks:13\n",
      "Componente:230 | Ratio:0.09929906542056074 | Horizontal:69, Vertical:101 | Blacks:1712\n",
      "Componente:231 | Ratio:0.21511627906976744 | Horizontal:67, Vertical:81 | Blacks:688\n",
      "Componente:232 | Ratio:0.1210762331838565 | Horizontal:43, Vertical:65 | Blacks:892\n",
      "Componente:233 | Ratio:0.14303586321934947 | Horizontal:71, Vertical:272 | Blacks:2398\n",
      "Componente:234 | Ratio:0.6428571428571429 | Horizontal:4, Vertical:5 | Blacks:14\n",
      "Componente:235 | Ratio:0.1104199066874028 | Horizontal:38, Vertical:33 | Blacks:643\n",
      "Componente:236 | Ratio:0.1119648737650933 | Horizontal:31, Vertical:71 | Blacks:911\n",
      "Componente:237 | Ratio:0.7238095238095238 | Horizontal:28, Vertical:48 | Blacks:105\n",
      "Componente:238 | Ratio:0.09271523178807947 | Horizontal:82, Vertical:170 | Blacks:2718\n",
      "Componente:239 | Ratio:0.12131029517638589 | Horizontal:49, Vertical:288 | Blacks:2778\n",
      "Componente:240 | Ratio:0.09482758620689655 | Horizontal:11, Vertical:77 | Blacks:928\n",
      "Componente:241 | Ratio:0.05010893246187364 | Horizontal:4, Vertical:19 | Blacks:459\n",
      "Componente:242 | Ratio:0.18229166666666666 | Horizontal:52, Vertical:53 | Blacks:576\n",
      "Componente:243 | Ratio:0.1425438596491228 | Horizontal:53, Vertical:77 | Blacks:912\n",
      "Componente:244 | Ratio:0.11991434689507495 | Horizontal:56, Vertical:56 | Blacks:934\n",
      "Componente:245 | Ratio:0.13003589948145194 | Horizontal:90, Vertical:236 | Blacks:2507\n",
      "Componente:246 | Ratio:0.15481699621371478 | Horizontal:80, Vertical:288 | Blacks:2377\n",
      "Componente:247 | Ratio:0.2857142857142857 | Horizontal:2, Vertical:2 | Blacks:14\n",
      "Componente:248 | Ratio:0.13585434173669467 | Horizontal:41, Vertical:56 | Blacks:714\n",
      "Componente:249 | Ratio:0.12248062015503876 | Horizontal:37, Vertical:42 | Blacks:645\n",
      "Componente:250 | Ratio:0.15521796565389695 | Horizontal:61, Vertical:409 | Blacks:3028\n",
      "Componente:251 | Ratio:0.13822894168466524 | Horizontal:82, Vertical:174 | Blacks:1852\n",
      "Componente:252 | Ratio:0.09644194756554307 | Horizontal:51, Vertical:155 | Blacks:2136\n",
      "Componente:253 | Ratio:0.17866004962779156 | Horizontal:35, Vertical:37 | Blacks:403\n",
      "Componente:254 | Ratio:0.06462821403752605 | Horizontal:53, Vertical:226 | Blacks:4317\n",
      "Componente:255 | Ratio:0.22677925211097708 | Horizontal:56, Vertical:132 | Blacks:829\n",
      "Componente:256 | Ratio:0.40609137055837563 | Horizontal:40, Vertical:40 | Blacks:197\n",
      "Componente:257 | Ratio:0.15925925925925927 | Horizontal:48, Vertical:167 | Blacks:1350\n",
      "Componente:258 | Ratio:0.25 | Horizontal:1, Vertical:1 | Blacks:8\n",
      "Componente:259 | Ratio:0.09895337773549001 | Horizontal:21, Vertical:83 | Blacks:1051\n",
      "Componente:260 | Ratio:0.1128165771297007 | Horizontal:36, Vertical:111 | Blacks:1303\n",
      "Componente:261 | Ratio:0.03546099290780142 | Horizontal:8, Vertical:7 | Blacks:423\n",
      "Componente:262 | Ratio:0.16558206796818511 | Horizontal:69, Vertical:160 | Blacks:1383\n",
      "Componente:263 | Ratio:0.13462686567164178 | Horizontal:84, Vertical:367 | Blacks:3350\n",
      "Componente:264 | Ratio:0.07081403044341496 | Horizontal:35, Vertical:72 | Blacks:1511\n",
      "Componente:265 | Ratio:0.1418242491657397 | Horizontal:49, Vertical:206 | Blacks:1798\n",
      "Componente:266 | Ratio:0.2222222222222222 | Horizontal:2, Vertical:2 | Blacks:18\n",
      "Componente:267 | Ratio:0.12111801242236025 | Horizontal:44, Vertical:34 | Blacks:644\n",
      "Componente:268 | Ratio:0.0994263862332696 | Horizontal:32, Vertical:72 | Blacks:1046\n",
      "Componente:269 | Ratio:0.13200194836824158 | Horizontal:46, Vertical:225 | Blacks:2053\n",
      "Componente:270 | Ratio:0.12157721796276014 | Horizontal:37, Vertical:74 | Blacks:913\n",
      "Componente:271 | Ratio:0.11179613645704892 | Horizontal:48, Vertical:224 | Blacks:2433\n",
      "Componente:272 | Ratio:0.0 | Horizontal:0, Vertical:0 | Blacks:2\n",
      "Componente:273 | Ratio:0.1971954425942156 | Horizontal:44, Vertical:181 | Blacks:1141\n",
      "Componente:274 | Ratio:0.3333333333333333 | Horizontal:3, Vertical:4 | Blacks:21\n",
      "Componente:275 | Ratio:0.2222222222222222 | Horizontal:2, Vertical:2 | Blacks:18\n",
      "Componente:276 | Ratio:0.08664383561643836 | Horizontal:77, Vertical:176 | Blacks:2920\n",
      "Componente:277 | Ratio:0.1407061266874351 | Horizontal:95, Vertical:176 | Blacks:1926\n",
      "Componente:278 | Ratio:0.16666666666666666 | Horizontal:2, Vertical:1 | Blacks:18\n",
      "Componente:279 | Ratio:0.16666666666666666 | Horizontal:1, Vertical:2 | Blacks:18\n",
      "Componente:280 | Ratio:0.08341143392689784 | Horizontal:34, Vertical:144 | Blacks:2134\n",
      "Componente:281 | Ratio:0.13003901170351106 | Horizontal:39, Vertical:161 | Blacks:1538\n",
      "Componente:282 | Ratio:0.14285714285714285 | Horizontal:24, Vertical:28 | Blacks:364\n",
      "Componente:283 | Ratio:0.0 | Horizontal:0, Vertical:0 | Blacks:456\n",
      "Componente:284 | Ratio:0.0958904109589041 | Horizontal:15, Vertical:13 | Blacks:292\n",
      "Componente:285 | Ratio:0.058925476603119586 | Horizontal:26, Vertical:8 | Blacks:577\n",
      "Componente:286 | Ratio:0.0 | Horizontal:0, Vertical:0 | Blacks:304\n",
      "Componente:287 | Ratio:0.006607929515418502 | Horizontal:2, Vertical:1 | Blacks:454\n",
      "Componente:288 | Ratio:0.06630397823869433 | Horizontal:47, Vertical:148 | Blacks:2941\n",
      "Componente:289 | Ratio:0.11833785004516711 | Horizontal:39, Vertical:92 | Blacks:1107\n",
      "Componente:290 | Ratio:0.21689683184402925 | Horizontal:68, Vertical:199 | Blacks:1231\n",
      "Componente:291 | Ratio:0.3610223642172524 | Horizontal:46, Vertical:67 | Blacks:313\n",
      "Componente:292 | Ratio:0.10408921933085502 | Horizontal:30, Vertical:26 | Blacks:538\n"
     ]
    }
   ],
   "source": [
    "for label in transition_ratios:\n",
    "    print('Componente:{} | Ratio:{} | Horizontal:{}, Vertical:{} | Blacks:{}'.format(label,transition_ratios[label], hor_tran_amount[label], ver_tran_amount[label], total_black_amount[label]))"
   ]
  },
  {
   "cell_type": "code",
   "execution_count": 71,
   "metadata": {},
   "outputs": [
    {
     "data": {
      "image/png": "[encoded data removed]",
      "text/plain": [
       "<Figure size 720x720 with 1 Axes>"
      ]
     },
     "metadata": {
      "needs_background": "light"
     },
     "output_type": "display_data"
    }
   ],
   "source": [
    "imshow_components_rectagles(image_labels, stats[272:273])"
   ]
  },
  {
   "cell_type": "code",
   "execution_count": 50,
   "metadata": {},
   "outputs": [],
   "source": [
    "# for key in transition_ratios:\n",
    "#     if transition_ratios[key] < 0.008 and transition_ratios[key] > 0 :\n",
    "#         break"
   ]
  },
  {
   "cell_type": "code",
   "execution_count": 51,
   "metadata": {},
   "outputs": [],
   "source": [
    "# np.sort(list(transition_ratios.values()))"
   ]
  },
  {
   "cell_type": "markdown",
   "metadata": {},
   "source": [
    "#### Etapa 9: Criar uma regra, baseada na Etapa 8, para determinar se um componente conexo é texto ou não"
   ]
  },
  {
   "cell_type": "code",
   "execution_count": 52,
   "metadata": {},
   "outputs": [],
   "source": [
    "component_classes = {}"
   ]
  },
  {
   "cell_type": "code",
   "execution_count": 80,
   "metadata": {},
   "outputs": [],
   "source": [
    "for comp_key in range(number_of_labels):\n",
    "    if black_pixels_ratios[comp_key] < 0.06:\n",
    "        component_classes[comp_key] = 0\n",
    "    elif transition_ratios[comp_key] < 0.01 and component_area[comp_key] < 5:\n",
    "        component_classes[comp_key] = 0\n",
    "    elif component_area[comp_key] < 5:\n",
    "        component_classes[comp_key] = 0\n",
    "    else:\n",
    "        component_classes[comp_key] = 1"
   ]
  },
  {
   "cell_type": "code",
   "execution_count": 81,
   "metadata": {},
   "outputs": [
    {
     "name": "stdout",
     "output_type": "stream",
     "text": [
      "Componente:0 | Text: 1\n",
      "Componente:1 | Text: 1\n",
      "Componente:2 | Text: 1\n",
      "Componente:3 | Text: 1\n",
      "Componente:4 | Text: 1\n",
      "Componente:5 | Text: 1\n",
      "Componente:6 | Text: 1\n",
      "Componente:7 | Text: 1\n",
      "Componente:8 | Text: 1\n",
      "Componente:9 | Text: 1\n",
      "Componente:10 | Text: 1\n",
      "Componente:11 | Text: 1\n",
      "Componente:12 | Text: 1\n",
      "Componente:13 | Text: 1\n",
      "Componente:14 | Text: 1\n",
      "Componente:15 | Text: 1\n",
      "Componente:16 | Text: 1\n",
      "Componente:17 | Text: 1\n",
      "Componente:18 | Text: 1\n",
      "Componente:19 | Text: 1\n",
      "Componente:20 | Text: 1\n",
      "Componente:21 | Text: 1\n",
      "Componente:22 | Text: 1\n",
      "Componente:23 | Text: 1\n",
      "Componente:24 | Text: 1\n",
      "Componente:25 | Text: 1\n",
      "Componente:26 | Text: 1\n",
      "Componente:27 | Text: 1\n",
      "Componente:28 | Text: 1\n",
      "Componente:29 | Text: 1\n",
      "Componente:30 | Text: 1\n",
      "Componente:31 | Text: 1\n",
      "Componente:32 | Text: 1\n",
      "Componente:33 | Text: 1\n",
      "Componente:34 | Text: 1\n",
      "Componente:35 | Text: 1\n",
      "Componente:36 | Text: 1\n",
      "Componente:37 | Text: 1\n",
      "Componente:38 | Text: 1\n",
      "Componente:39 | Text: 1\n",
      "Componente:40 | Text: 1\n",
      "Componente:41 | Text: 1\n",
      "Componente:42 | Text: 1\n",
      "Componente:43 | Text: 1\n",
      "Componente:44 | Text: 1\n",
      "Componente:45 | Text: 1\n",
      "Componente:46 | Text: 1\n",
      "Componente:47 | Text: 1\n",
      "Componente:48 | Text: 1\n",
      "Componente:49 | Text: 1\n",
      "Componente:50 | Text: 1\n",
      "Componente:51 | Text: 1\n",
      "Componente:52 | Text: 1\n",
      "Componente:53 | Text: 1\n",
      "Componente:54 | Text: 1\n",
      "Componente:55 | Text: 1\n",
      "Componente:56 | Text: 1\n",
      "Componente:57 | Text: 1\n",
      "Componente:58 | Text: 1\n",
      "Componente:59 | Text: 1\n",
      "Componente:60 | Text: 1\n",
      "Componente:61 | Text: 1\n",
      "Componente:62 | Text: 1\n",
      "Componente:63 | Text: 1\n",
      "Componente:64 | Text: 1\n",
      "Componente:65 | Text: 1\n",
      "Componente:66 | Text: 1\n",
      "Componente:67 | Text: 1\n",
      "Componente:68 | Text: 1\n",
      "Componente:69 | Text: 1\n",
      "Componente:70 | Text: 1\n",
      "Componente:71 | Text: 1\n",
      "Componente:72 | Text: 1\n",
      "Componente:73 | Text: 1\n",
      "Componente:74 | Text: 1\n",
      "Componente:75 | Text: 1\n",
      "Componente:76 | Text: 1\n",
      "Componente:77 | Text: 1\n",
      "Componente:78 | Text: 1\n",
      "Componente:79 | Text: 1\n",
      "Componente:80 | Text: 1\n",
      "Componente:81 | Text: 1\n",
      "Componente:82 | Text: 1\n",
      "Componente:83 | Text: 1\n",
      "Componente:84 | Text: 1\n",
      "Componente:85 | Text: 1\n",
      "Componente:86 | Text: 1\n",
      "Componente:87 | Text: 1\n",
      "Componente:88 | Text: 1\n",
      "Componente:89 | Text: 1\n",
      "Componente:90 | Text: 1\n",
      "Componente:91 | Text: 1\n",
      "Componente:92 | Text: 1\n",
      "Componente:93 | Text: 1\n",
      "Componente:94 | Text: 1\n",
      "Componente:95 | Text: 1\n",
      "Componente:96 | Text: 1\n",
      "Componente:97 | Text: 1\n",
      "Componente:98 | Text: 1\n",
      "Componente:99 | Text: 1\n",
      "Componente:100 | Text: 1\n",
      "Componente:101 | Text: 1\n",
      "Componente:102 | Text: 1\n",
      "Componente:103 | Text: 1\n",
      "Componente:104 | Text: 1\n",
      "Componente:105 | Text: 1\n",
      "Componente:106 | Text: 1\n",
      "Componente:107 | Text: 1\n",
      "Componente:108 | Text: 1\n",
      "Componente:109 | Text: 1\n",
      "Componente:110 | Text: 1\n",
      "Componente:111 | Text: 1\n",
      "Componente:112 | Text: 1\n",
      "Componente:113 | Text: 1\n",
      "Componente:114 | Text: 1\n",
      "Componente:115 | Text: 1\n",
      "Componente:116 | Text: 1\n",
      "Componente:117 | Text: 1\n",
      "Componente:118 | Text: 1\n",
      "Componente:119 | Text: 1\n",
      "Componente:120 | Text: 1\n",
      "Componente:121 | Text: 1\n",
      "Componente:122 | Text: 1\n",
      "Componente:123 | Text: 1\n",
      "Componente:124 | Text: 1\n",
      "Componente:125 | Text: 1\n",
      "Componente:126 | Text: 1\n",
      "Componente:127 | Text: 1\n",
      "Componente:128 | Text: 1\n",
      "Componente:129 | Text: 1\n",
      "Componente:130 | Text: 1\n",
      "Componente:131 | Text: 1\n",
      "Componente:132 | Text: 1\n",
      "Componente:133 | Text: 1\n",
      "Componente:134 | Text: 1\n",
      "Componente:135 | Text: 1\n",
      "Componente:136 | Text: 1\n",
      "Componente:137 | Text: 1\n",
      "Componente:138 | Text: 1\n",
      "Componente:139 | Text: 1\n",
      "Componente:140 | Text: 1\n",
      "Componente:141 | Text: 1\n",
      "Componente:142 | Text: 1\n",
      "Componente:143 | Text: 1\n",
      "Componente:144 | Text: 1\n",
      "Componente:145 | Text: 1\n",
      "Componente:146 | Text: 1\n",
      "Componente:147 | Text: 1\n",
      "Componente:148 | Text: 1\n",
      "Componente:149 | Text: 1\n",
      "Componente:150 | Text: 1\n",
      "Componente:151 | Text: 1\n",
      "Componente:152 | Text: 1\n",
      "Componente:153 | Text: 1\n",
      "Componente:154 | Text: 1\n",
      "Componente:155 | Text: 1\n",
      "Componente:156 | Text: 1\n",
      "Componente:157 | Text: 1\n",
      "Componente:158 | Text: 1\n",
      "Componente:159 | Text: 1\n",
      "Componente:160 | Text: 1\n",
      "Componente:161 | Text: 1\n",
      "Componente:162 | Text: 0\n",
      "Componente:163 | Text: 1\n",
      "Componente:164 | Text: 1\n",
      "Componente:165 | Text: 1\n",
      "Componente:166 | Text: 1\n",
      "Componente:167 | Text: 1\n",
      "Componente:168 | Text: 1\n",
      "Componente:169 | Text: 1\n",
      "Componente:170 | Text: 1\n",
      "Componente:171 | Text: 1\n",
      "Componente:172 | Text: 1\n",
      "Componente:173 | Text: 1\n",
      "Componente:174 | Text: 1\n",
      "Componente:175 | Text: 1\n",
      "Componente:176 | Text: 1\n",
      "Componente:177 | Text: 1\n",
      "Componente:178 | Text: 1\n",
      "Componente:179 | Text: 1\n",
      "Componente:180 | Text: 1\n",
      "Componente:181 | Text: 1\n",
      "Componente:182 | Text: 1\n",
      "Componente:183 | Text: 1\n",
      "Componente:184 | Text: 1\n",
      "Componente:185 | Text: 1\n",
      "Componente:186 | Text: 1\n",
      "Componente:187 | Text: 1\n",
      "Componente:188 | Text: 1\n",
      "Componente:189 | Text: 1\n",
      "Componente:190 | Text: 1\n",
      "Componente:191 | Text: 1\n",
      "Componente:192 | Text: 1\n",
      "Componente:193 | Text: 1\n",
      "Componente:194 | Text: 1\n",
      "Componente:195 | Text: 1\n",
      "Componente:196 | Text: 1\n",
      "Componente:197 | Text: 1\n",
      "Componente:198 | Text: 1\n",
      "Componente:199 | Text: 1\n",
      "Componente:200 | Text: 1\n",
      "Componente:201 | Text: 1\n",
      "Componente:202 | Text: 1\n",
      "Componente:203 | Text: 1\n",
      "Componente:204 | Text: 1\n",
      "Componente:205 | Text: 1\n",
      "Componente:206 | Text: 1\n",
      "Componente:207 | Text: 1\n",
      "Componente:208 | Text: 1\n",
      "Componente:209 | Text: 1\n",
      "Componente:210 | Text: 1\n",
      "Componente:211 | Text: 1\n",
      "Componente:212 | Text: 1\n",
      "Componente:213 | Text: 1\n",
      "Componente:214 | Text: 1\n",
      "Componente:215 | Text: 1\n",
      "Componente:216 | Text: 1\n",
      "Componente:217 | Text: 1\n",
      "Componente:218 | Text: 1\n",
      "Componente:219 | Text: 1\n",
      "Componente:220 | Text: 1\n",
      "Componente:221 | Text: 1\n",
      "Componente:222 | Text: 1\n",
      "Componente:223 | Text: 1\n",
      "Componente:224 | Text: 1\n",
      "Componente:225 | Text: 1\n",
      "Componente:226 | Text: 1\n",
      "Componente:227 | Text: 1\n",
      "Componente:228 | Text: 1\n",
      "Componente:229 | Text: 1\n",
      "Componente:230 | Text: 1\n",
      "Componente:231 | Text: 1\n",
      "Componente:232 | Text: 1\n",
      "Componente:233 | Text: 1\n",
      "Componente:234 | Text: 1\n",
      "Componente:235 | Text: 1\n",
      "Componente:236 | Text: 1\n",
      "Componente:237 | Text: 1\n",
      "Componente:238 | Text: 1\n",
      "Componente:239 | Text: 1\n",
      "Componente:240 | Text: 1\n",
      "Componente:241 | Text: 1\n",
      "Componente:242 | Text: 1\n",
      "Componente:243 | Text: 1\n",
      "Componente:244 | Text: 1\n",
      "Componente:245 | Text: 1\n",
      "Componente:246 | Text: 1\n",
      "Componente:247 | Text: 1\n",
      "Componente:248 | Text: 1\n",
      "Componente:249 | Text: 1\n",
      "Componente:250 | Text: 1\n",
      "Componente:251 | Text: 1\n",
      "Componente:252 | Text: 1\n",
      "Componente:253 | Text: 1\n",
      "Componente:254 | Text: 1\n",
      "Componente:255 | Text: 1\n",
      "Componente:256 | Text: 1\n",
      "Componente:257 | Text: 1\n",
      "Componente:258 | Text: 1\n",
      "Componente:259 | Text: 1\n",
      "Componente:260 | Text: 1\n",
      "Componente:261 | Text: 1\n",
      "Componente:262 | Text: 1\n",
      "Componente:263 | Text: 1\n",
      "Componente:264 | Text: 1\n",
      "Componente:265 | Text: 1\n",
      "Componente:266 | Text: 1\n",
      "Componente:267 | Text: 1\n",
      "Componente:268 | Text: 1\n",
      "Componente:269 | Text: 1\n",
      "Componente:270 | Text: 1\n",
      "Componente:271 | Text: 1\n",
      "Componente:272 | Text: 0\n",
      "Componente:273 | Text: 1\n",
      "Componente:274 | Text: 1\n",
      "Componente:275 | Text: 1\n",
      "Componente:276 | Text: 1\n",
      "Componente:277 | Text: 1\n",
      "Componente:278 | Text: 1\n",
      "Componente:279 | Text: 1\n",
      "Componente:280 | Text: 1\n",
      "Componente:281 | Text: 1\n",
      "Componente:282 | Text: 1\n",
      "Componente:283 | Text: 1\n",
      "Componente:284 | Text: 1\n",
      "Componente:285 | Text: 1\n",
      "Componente:286 | Text: 1\n",
      "Componente:287 | Text: 1\n",
      "Componente:288 | Text: 1\n",
      "Componente:289 | Text: 1\n",
      "Componente:290 | Text: 1\n",
      "Componente:291 | Text: 1\n",
      "Componente:292 | Text: 1\n"
     ]
    }
   ],
   "source": [
    "for key in component_classes:\n",
    "    print(\"Componente:{} | Text: {}\".format(key,component_classes[key]))"
   ]
  },
  {
   "cell_type": "code",
   "execution_count": 82,
   "metadata": {},
   "outputs": [],
   "source": [
    "text_labels = [key for key in component_classes if component_classes[key] == 1]\n",
    "no_text_labels = [key for key in component_classes if component_classes[key] == 0]\n",
    "text_stats = stats[text_labels]\n",
    "\n",
    "text_image = np.copy(image_labels)\n",
    "for l in no_text_labels:\n",
    "    text_image[text_image == l] = 0"
   ]
  },
  {
   "cell_type": "code",
   "execution_count": 83,
   "metadata": {},
   "outputs": [
    {
     "data": {
      "image/png": "[encoded data removed]",
      "text/plain": [
       "<Figure size 720x720 with 1 Axes>"
      ]
     },
     "metadata": {
      "needs_background": "light"
     },
     "output_type": "display_data"
    }
   ],
   "source": [
    "imshow_components_rectagles(text_image, text_stats)"
   ]
  },
  {
   "cell_type": "markdown",
   "metadata": {},
   "source": [
    "#### Etapa 10: Segmentar palavras, colocar retângulos e calcular quantidades "
   ]
  },
  {
   "cell_type": "markdown",
   "metadata": {},
   "source": [
    "##### a) Segmentar palavras"
   ]
  },
  {
   "cell_type": "code",
   "execution_count": null,
   "metadata": {},
   "outputs": [],
   "source": [
    "np.unique(text_image)\n",
    "text_image = np.uint8(text_image)\n",
    "teste_i = cv.bitwise_and(image,text_image)"
   ]
  },
  {
   "cell_type": "code",
   "execution_count": null,
   "metadata": {},
   "outputs": [],
   "source": [
    "image_10 = cv.morphologyEx(text_image, cv.MORPH_OPEN, kernel1_30)"
   ]
  },
  {
   "cell_type": "code",
   "execution_count": null,
   "metadata": {},
   "outputs": [],
   "source": [
    "print_image(image_10)"
   ]
  },
  {
   "cell_type": "code",
   "execution_count": null,
   "metadata": {},
   "outputs": [],
   "source": []
  }
 ],
 "metadata": {
  "kernelspec": {
   "display_name": "Python 3",
   "language": "python",
   "name": "python3"
  },
  "language_info": {
   "codemirror_mode": {
    "name": "ipython",
    "version": 3
   },
   "file_extension": ".py",
   "mimetype": "text/x-python",
   "name": "python",
   "nbconvert_exporter": "python",
   "pygments_lexer": "ipython3",
   "version": "3.7.4"
  }
 },
 "nbformat": 4,
 "nbformat_minor": 2
}
