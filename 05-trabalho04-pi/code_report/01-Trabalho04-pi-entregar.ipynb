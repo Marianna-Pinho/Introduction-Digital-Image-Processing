{
 "cells": [
  {
   "cell_type": "markdown",
   "metadata": {},
   "source": [
    "# <center> Trabalho 04 - Introdução ao Processamento de Imagem Digital </center>\n",
    "\n",
    "**Aluno(a):** Marianna de Pinho Severo <br>\n",
    "**RA:** 264960 <br>\n",
    "**Professor:** Hélio Pedrini"
   ]
  },
  {
   "cell_type": "markdown",
   "metadata": {},
   "source": [
    "### Passo 1: Importar bibliotecas"
   ]
  },
  {
   "cell_type": "code",
   "execution_count": 1,
   "metadata": {},
   "outputs": [],
   "source": [
    "%matplotlib inline\n",
    "import numpy as np\n",
    "import cv2 as cv\n",
    "import matplotlib.pyplot as plt"
   ]
  },
  {
   "cell_type": "markdown",
   "metadata": {},
   "source": [
    "### Passo 2: Definir funções auxiliares"
   ]
  },
  {
   "cell_type": "markdown",
   "metadata": {},
   "source": [
    "#### Passo 2.1: Funções para mostrar e salvar imagens"
   ]
  },
  {
   "cell_type": "code",
   "execution_count": 2,
   "metadata": {},
   "outputs": [],
   "source": [
    "#Prints an image using matplotlib imshow method\n",
    "def printImage(image):\n",
    "    plt.figure(figsize=(10,10))\n",
    "    plt.imshow(image, cmap='gray')"
   ]
  },
  {
   "cell_type": "code",
   "execution_count": 3,
   "metadata": {},
   "outputs": [],
   "source": [
    "#Prints an image with enveloping rectangules\n",
    "def printImageRectangles(labels, stats):\n",
    "        # Map component labels to hue val\n",
    "    label_hue = np.uint8(179*labels/np.max(labels))\n",
    "    blank_ch = 255*np.ones_like(label_hue)\n",
    "    black_ch = np.zeros_like(label_hue)\n",
    "    labeled_img = cv.merge([black_ch, black_ch, blank_ch])\n",
    "\n",
    "    # cvt to BGR for display\n",
    "    labeled_img = cv.cvtColor(labeled_img, cv.COLOR_HSV2BGR)\n",
    "\n",
    "    # set backgroung label to black\n",
    "    labeled_img[label_hue==0] = 0\n",
    "    \n",
    "    for stat in stats:\n",
    "        cv.rectangle(labeled_img, (stat[0], stat[1]), (stat[0]+stat[2], stat[1]+stat[3]), (0, 255, 255), 3) \n",
    "    printImage(labeled_img)"
   ]
  },
  {
   "cell_type": "code",
   "execution_count": 4,
   "metadata": {},
   "outputs": [],
   "source": [
    "#Prints the connected components with different colors\n",
    "#Function based in the code from https://stackoverflow.com/questions/46441893/connected-component-labeling-in-python\n",
    "def imshowComponents(labels):\n",
    "    # Map component labels to hue val\n",
    "    label_hue = np.uint8(179*labels/np.max(labels))\n",
    "    blank_ch = 255*np.ones_like(label_hue)\n",
    "    labeled_img = cv.merge([label_hue, blank_ch, blank_ch])\n",
    "\n",
    "    # cvt to BGR for display\n",
    "    labeled_img = cv.cvtColor(labeled_img, cv.COLOR_HSV2BGR)\n",
    "\n",
    "    # set background label to black\n",
    "    labeled_img[label_hue==0] = 0\n",
    "    \n",
    "    printImage(labeled_img)"
   ]
  },
  {
   "cell_type": "code",
   "execution_count": 5,
   "metadata": {},
   "outputs": [],
   "source": [
    "#Prints the connected components with different colors and put rectangles around them.\n",
    "#Function based in the code from https://stackoverflow.com/questions/46441893/connected-component-labeling-in-python\n",
    "def imshowComponentsRectangles(labels, stats):\n",
    "    # Map component labels to hue val\n",
    "    label_hue = np.uint8(179*labels/np.max(labels))\n",
    "    blank_ch = 255*np.ones_like(label_hue)\n",
    "    labeled_img = cv.merge([label_hue, blank_ch, blank_ch])\n",
    "\n",
    "    # cvt to BGR for display\n",
    "    labeled_img = cv.cvtColor(labeled_img, cv.COLOR_HSV2BGR)\n",
    "\n",
    "    # set backgroung label to black\n",
    "    labeled_img[label_hue==0] = 0\n",
    "    \n",
    "    for stat in stats:\n",
    "        cv.rectangle(labeled_img, (stat[0], stat[1]), (stat[0]+stat[2], stat[1]+stat[3]), (255, 255, 255), 3) \n",
    "    \n",
    "    printImage(labeled_img)"
   ]
  },
  {
   "cell_type": "code",
   "execution_count": 6,
   "metadata": {},
   "outputs": [],
   "source": [
    "#Returns an image with enveloping rectangles\n",
    "def getRectanglesImage(labels, stats):\n",
    "    # Map component labels to hue val\n",
    "    label_hue = np.uint8(179*labels/np.max(labels))\n",
    "    blank_ch = 255*np.ones_like(label_hue)\n",
    "    black_ch = np.zeros_like(label_hue)\n",
    "    labeled_img = cv.merge([black_ch, black_ch, blank_ch])\n",
    "\n",
    "    # cvt to BGR for display\n",
    "    labeled_img = cv.cvtColor(labeled_img, cv.COLOR_HSV2BGR)\n",
    "\n",
    "    # set backgroung label to black\n",
    "    labeled_img[label_hue==0] = 0\n",
    "    \n",
    "    for stat in stats:\n",
    "        cv.rectangle(labeled_img, (stat[0], stat[1]), (stat[0]+stat[2], stat[1]+stat[3]), (0, 255, 255), 3) \n",
    "    return labeled_img"
   ]
  },
  {
   "cell_type": "markdown",
   "metadata": {},
   "source": [
    "#### Passo 2.2: Função para calcular a taxa de pixels pretos (objeto) por área, de um componente conexo"
   ]
  },
  {
   "cell_type": "code",
   "execution_count": 7,
   "metadata": {},
   "outputs": [],
   "source": [
    "def getBlackPixelsRate(image,stat,color=1): #Black is considered 1 and White is considered 0\n",
    "    init_x = stat[0]\n",
    "    init_y = stat[1]\n",
    "    dx = stat[2]\n",
    "    dy = stat[3]\n",
    "    \n",
    "    area = (dx)*(dy)\n",
    "    \n",
    "    aux_image = image[init_y: init_y+dy,init_x:init_x + dx]\n",
    "    aux_image = aux_image[aux_image == color]\n",
    "    \n",
    "    return len(aux_image)/area, len(aux_image), area"
   ]
  },
  {
   "cell_type": "markdown",
   "metadata": {},
   "source": [
    "#### Passo 2.3: Função para calcular a taxa de transições de vizinhança 4 por total de pixels pretos, de um componente conexo"
   ]
  },
  {
   "cell_type": "code",
   "execution_count": 8,
   "metadata": {},
   "outputs": [],
   "source": [
    "def getTransitionsRate(image, stat, total_black): #Black is 1 and White is 0\n",
    "    \n",
    "    if total_black == 0:\n",
    "        return 0,0,0,0\n",
    "    \n",
    "    init_x = stat[0]\n",
    "    init_y = stat[1]\n",
    "    dx = stat[2]\n",
    "    dy = stat[3]\n",
    "    \n",
    "    hor_count = 0\n",
    "    ver_count = 0\n",
    "    \n",
    "    max_y = init_y+dy\n",
    "    max_x = init_x+dx\n",
    "    \n",
    "    for line in range(init_y, max_y):\n",
    "        for col in range(init_x, max_x):\n",
    "            north = line - 1\n",
    "            south = line + 1\n",
    "            west = col - 1\n",
    "            east = col + 1\n",
    "            \n",
    "            #left neighbor\n",
    "            if west >= 0 and (image[line, col] == 0 and image[line,west] == 1):\n",
    "                hor_count+=1\n",
    "                \n",
    "            # right neighbor\n",
    "            if east < max_x and (image[line, col] == 0 and image[line,east] == 1):\n",
    "                hor_count+=1\n",
    "                \n",
    "            #top neighbor\n",
    "            if north >= 0 and (image[line,col] == 0 and image[north, col] == 1):\n",
    "                ver_count+=1\n",
    "                \n",
    "            #bottom neighbor\n",
    "            if south < max_y and (image[line,col] == 0 and image[south, col] == 1):\n",
    "                ver_count+=1\n",
    "            \n",
    "    return (hor_count + ver_count)/total_black, hor_count, ver_count,total_black"
   ]
  },
  {
   "cell_type": "markdown",
   "metadata": {},
   "source": [
    "### Passo 3: Ler imagem\n",
    "\n",
    "A imagem que vamos usar neste projeto é do tipo *Portable Bitmap* (PBM). Dessa maneira, esperamos que os pixels do objeto (pixels pretos) sejam representados por valores iguais a 1 e os pixels do fundo (brancos) por valores iguais a 0.\n",
    "\n",
    "Quando lemos essa imagem utilizando o método **imread** do *opencv*, a imagem é lida no formato monocromático, o que significa que seus pixels poderão apresentar valores no intervalo de 0 a 255. Como na imagem lida só existem dois valores diferentes de pixels (0 e 255) e os valores 0 são atribuídos aos objetos, enquanto os valores 255 são atribuídos ao fundo, faremos a negação dessa imagem e dividiremos as intensidades de seus pixels por 255, de maneira a obtermos um arranjo de pixels como o esperado para uma imagem do tipo PBM. "
   ]
  },
  {
   "cell_type": "code",
   "execution_count": 9,
   "metadata": {},
   "outputs": [
    {
     "data": {
      "text/plain": [
       "(1374, 2233)"
      ]
     },
     "execution_count": 9,
     "metadata": {},
     "output_type": "execute_result"
    }
   ],
   "source": [
    "image = cv.imread('input_images/bitmap.pbm',0)\n",
    "image = cv.bitwise_not(image)//255\n",
    "image.shape"
   ]
  },
  {
   "cell_type": "markdown",
   "metadata": {},
   "source": [
    "### Passo 4: Definir elementos estruturantes"
   ]
  },
  {
   "cell_type": "markdown",
   "metadata": {},
   "source": [
    "#### Passo 4.1: Elementos estruturantes para identificação de linhas"
   ]
  },
  {
   "cell_type": "code",
   "execution_count": 10,
   "metadata": {},
   "outputs": [
    {
     "data": {
      "text/plain": [
       "array([[1, 1, 1, 1, 1, 1, 1, 1, 1, 1, 1, 1, 1, 1, 1, 1, 1, 1, 1, 1, 1, 1,\n",
       "        1, 1, 1, 1, 1, 1, 1, 1, 1, 1, 1, 1, 1, 1, 1, 1, 1, 1, 1, 1, 1, 1,\n",
       "        1, 1, 1, 1, 1, 1, 1, 1, 1, 1, 1, 1, 1, 1, 1, 1, 1, 1, 1, 1, 1, 1,\n",
       "        1, 1, 1, 1, 1, 1, 1, 1, 1, 1, 1, 1, 1, 1, 1, 1, 1, 1, 1, 1, 1, 1,\n",
       "        1, 1, 1, 1, 1, 1, 1, 1, 1, 1, 1, 1]], dtype=uint8)"
      ]
     },
     "execution_count": 10,
     "metadata": {},
     "output_type": "execute_result"
    }
   ],
   "source": [
    "kernel1_100 = np.ones((1,100),np.uint8)\n",
    "kernel1_100"
   ]
  },
  {
   "cell_type": "code",
   "execution_count": 11,
   "metadata": {},
   "outputs": [],
   "source": [
    "kernel200_1 = np.ones((200,1), np.uint8)"
   ]
  },
  {
   "cell_type": "code",
   "execution_count": 12,
   "metadata": {},
   "outputs": [
    {
     "data": {
      "text/plain": [
       "array([[1, 1, 1, 1, 1, 1, 1, 1, 1, 1, 1, 1, 1, 1, 1, 1, 1, 1, 1, 1, 1, 1,\n",
       "        1, 1, 1, 1, 1, 1, 1, 1]], dtype=uint8)"
      ]
     },
     "execution_count": 12,
     "metadata": {},
     "output_type": "execute_result"
    }
   ],
   "source": [
    "kernel1_30 = np.ones((1,30), np.uint8)\n",
    "kernel1_30"
   ]
  },
  {
   "cell_type": "markdown",
   "metadata": {},
   "source": [
    "#### Passo 4.2: Elementos estruturantes para identificação de palavras"
   ]
  },
  {
   "cell_type": "code",
   "execution_count": 13,
   "metadata": {},
   "outputs": [
    {
     "data": {
      "text/plain": [
       "array([[1, 1, 1, 1, 1, 1],\n",
       "       [1, 1, 1, 1, 1, 1],\n",
       "       [1, 1, 1, 1, 1, 1],\n",
       "       [1, 1, 1, 1, 1, 1],\n",
       "       [1, 1, 1, 1, 1, 1],\n",
       "       [1, 1, 1, 1, 1, 1]], dtype=uint8)"
      ]
     },
     "execution_count": 13,
     "metadata": {},
     "output_type": "execute_result"
    }
   ],
   "source": [
    "kernel6_6 = np.ones((6,6),np.uint8)\n",
    "kernel6_6"
   ]
  },
  {
   "cell_type": "code",
   "execution_count": 14,
   "metadata": {},
   "outputs": [
    {
     "data": {
      "text/plain": [
       "array([[1, 1, 1]], dtype=uint8)"
      ]
     },
     "execution_count": 14,
     "metadata": {},
     "output_type": "execute_result"
    }
   ],
   "source": [
    "kernel1_3 = np.ones((1,3), np.uint8)\n",
    "kernel1_3"
   ]
  },
  {
   "cell_type": "code",
   "execution_count": 15,
   "metadata": {},
   "outputs": [],
   "source": [
    "kernel10_1 = np.ones((10,1), np.uint8)"
   ]
  },
  {
   "cell_type": "code",
   "execution_count": 16,
   "metadata": {},
   "outputs": [
    {
     "data": {
      "text/plain": [
       "array([[1, 1, 1, 1, 1, 1, 1, 1]], dtype=uint8)"
      ]
     },
     "execution_count": 16,
     "metadata": {},
     "output_type": "execute_result"
    }
   ],
   "source": [
    "kernel1_8 = np.ones((1,8), np.uint8)\n",
    "kernel1_8"
   ]
  },
  {
   "cell_type": "markdown",
   "metadata": {},
   "source": [
    "Para a realização do passo 10 apresentado na descrição deste trabalho, duas abordagens serão seguidas: na primeira delas, aplicaremos os outros nove passos descritos no trabalho, o que nos permitirá identificar partes da imagem que representam texto e a contar o número de linhas; a segunda abordagem também nos permitirá identificar partes da imagem que representam texto, mas a empregaremos para a contagem da quantidade de palavras. As implementações dessas abordagens são apresentadas nas seções abaixo."
   ]
  },
  {
   "cell_type": "markdown",
   "metadata": {},
   "source": [
    "### Passo 5: Aplicar etapas indicadas na descrição do trabalho, de acordo com a primeira abordagem\n",
    "\n",
    "Todas as imagens intermediárias geradas nesta seção serão salvas no dicionário **line_processed_images**."
   ]
  },
  {
   "cell_type": "code",
   "execution_count": 17,
   "metadata": {},
   "outputs": [],
   "source": [
    "line_processed_images = {}"
   ]
  },
  {
   "cell_type": "markdown",
   "metadata": {},
   "source": [
    "#### Passo 5.1: Aplicar dilatação na imagem original com elemento estruturante de 1 x 100"
   ]
  },
  {
   "cell_type": "code",
   "execution_count": 18,
   "metadata": {},
   "outputs": [],
   "source": [
    "line_processed_images['dilate1_100'] = cv.dilate(np.copy(image),kernel1_100)"
   ]
  },
  {
   "cell_type": "code",
   "execution_count": 19,
   "metadata": {},
   "outputs": [],
   "source": [
    "# printImage(line_processed_images['dilate1_100'])"
   ]
  },
  {
   "cell_type": "markdown",
   "metadata": {},
   "source": [
    "#### Passo 5.2: Aplicar erosão, na imagem do passo anterior, com elemento estruturante de 1 x 100"
   ]
  },
  {
   "cell_type": "code",
   "execution_count": 20,
   "metadata": {},
   "outputs": [],
   "source": [
    "line_processed_images['erode1_100'] = cv.erode(np.copy(line_processed_images['dilate1_100']),kernel1_100)"
   ]
  },
  {
   "cell_type": "code",
   "execution_count": 21,
   "metadata": {},
   "outputs": [],
   "source": [
    "# printImage(line_processed_images['erode1_100'])"
   ]
  },
  {
   "cell_type": "markdown",
   "metadata": {},
   "source": [
    "#### Passo 5.3: Aplicar dilatação na imagem original com elemento estruturante de 200 x 1"
   ]
  },
  {
   "cell_type": "code",
   "execution_count": 22,
   "metadata": {},
   "outputs": [],
   "source": [
    "line_processed_images['dilate200_1'] = cv.dilate(np.copy(image),kernel200_1)"
   ]
  },
  {
   "cell_type": "code",
   "execution_count": 23,
   "metadata": {},
   "outputs": [],
   "source": [
    "# printImage(line_processed_images['dilate200_1'])"
   ]
  },
  {
   "cell_type": "markdown",
   "metadata": {},
   "source": [
    "#### Passo 5.4: Aplicar erosão, na imagem do passo anterior, com elemento estruturante de 200 x 1"
   ]
  },
  {
   "cell_type": "code",
   "execution_count": 24,
   "metadata": {},
   "outputs": [],
   "source": [
    "line_processed_images['erode200_1'] = cv.erode(np.copy(line_processed_images['dilate200_1']),kernel200_1)"
   ]
  },
  {
   "cell_type": "code",
   "execution_count": 25,
   "metadata": {},
   "outputs": [],
   "source": [
    "# printImage(line_processed_images['erode200_1'])"
   ]
  },
  {
   "cell_type": "markdown",
   "metadata": {},
   "source": [
    "#### Passo 5.5: Fazer interseção das imagens produzidas nos passos 5.2 e 5.4"
   ]
  },
  {
   "cell_type": "code",
   "execution_count": 26,
   "metadata": {},
   "outputs": [],
   "source": [
    "line_processed_images['inter2_4'] = cv.bitwise_and(line_processed_images['erode1_100'], line_processed_images['erode200_1'])\n"
   ]
  },
  {
   "cell_type": "code",
   "execution_count": 27,
   "metadata": {},
   "outputs": [],
   "source": [
    "# printImage(line_processed_images['inter2_4'])"
   ]
  },
  {
   "cell_type": "markdown",
   "metadata": {},
   "source": [
    "#### Passo 5.6: Aplicar fechamento, na imagem do passo anterior, com elemento estruturante de 1 x 30"
   ]
  },
  {
   "cell_type": "code",
   "execution_count": 28,
   "metadata": {},
   "outputs": [],
   "source": [
    "line_processed_images['close1_30'] = cv.morphologyEx(line_processed_images['inter2_4'], cv.MORPH_CLOSE, kernel1_30)\n"
   ]
  },
  {
   "cell_type": "code",
   "execution_count": 29,
   "metadata": {},
   "outputs": [],
   "source": [
    "# printImage(line_processed_images['close1_30'])"
   ]
  },
  {
   "cell_type": "markdown",
   "metadata": {},
   "source": [
    "#### Passo 5.7: Identificação de componentes conexos na imagem do passo anterior"
   ]
  },
  {
   "cell_type": "code",
   "execution_count": 30,
   "metadata": {},
   "outputs": [],
   "source": [
    "line_num_labels, line_image_labels, line_stats, line_centroids = cv.connectedComponentsWithStats(line_processed_images['close1_30'])\n"
   ]
  },
  {
   "cell_type": "code",
   "execution_count": 31,
   "metadata": {},
   "outputs": [
    {
     "name": "stdout",
     "output_type": "stream",
     "text": [
      "54\n"
     ]
    }
   ],
   "source": [
    "print(line_num_labels)"
   ]
  },
  {
   "cell_type": "code",
   "execution_count": 32,
   "metadata": {},
   "outputs": [],
   "source": [
    "# imshowComponents(np.copy(line_image_labels))"
   ]
  },
  {
   "cell_type": "code",
   "execution_count": 33,
   "metadata": {},
   "outputs": [
    {
     "data": {
      "image/png": "[encoded data removed]",
      "text/plain": [
       "<Figure size 720x720 with 1 Axes>"
      ]
     },
     "metadata": {
      "needs_background": "light"
     },
     "output_type": "display_data"
    }
   ],
   "source": [
    "imshowComponentsRectangles(np.copy(line_image_labels),line_stats)"
   ]
  },
  {
   "cell_type": "markdown",
   "metadata": {},
   "source": [
    "#### Passo 5.8: Calcular razões para os componentes conexos obtidos no passo anterior\n",
    "\n",
    "Neste passo, o cálculo das razões será feito utilizando a imagem original e os retângulos envolventes obtidos na etapa de identificação de componentes conexos. Também é importante lembrar que aqui estamos considerando como pixels pretos aqueles que têm valor igual a 1, ou seja, que pertencem aos objetos."
   ]
  },
  {
   "cell_type": "markdown",
   "metadata": {},
   "source": [
    "##### Passo 5.8.1: Calcular razão entre o número de pixels pretos e o número total de pixels, para cada retângulo envolvendo um componente conexo"
   ]
  },
  {
   "cell_type": "code",
   "execution_count": 35,
   "metadata": {},
   "outputs": [],
   "source": [
    "line_black_ratios={}\n",
    "line_black_amounts = {}\n",
    "line_component_areas = {}"
   ]
  },
  {
   "cell_type": "code",
   "execution_count": 36,
   "metadata": {},
   "outputs": [],
   "source": [
    "for label, stat in zip(range(line_num_labels),line_stats):\n",
    "    line_black_ratios[label], line_black_amounts[label], line_component_areas[label] = getBlackPixelsRate(np.copy(image),stat)"
   ]
  },
  {
   "cell_type": "code",
   "execution_count": 37,
   "metadata": {
    "scrolled": true
   },
   "outputs": [
    {
     "name": "stdout",
     "output_type": "stream",
     "text": [
      "Componente:0 | Ratio:0.15326995947384442 | Blacks:470254 | Area:3068142\n",
      "Componente:1 | Ratio:0.29763478260869564 | Blacks:8557 | Area:28750\n",
      "Componente:2 | Ratio:0.36848072562358275 | Blacks:325 | Area:882\n",
      "Componente:3 | Ratio:0.0 | Blacks:0 | Area:6\n",
      "Componente:4 | Ratio:0.8370760255786994 | Blacks:268611 | Area:320892\n",
      "Componente:5 | Ratio:0.21467495219885277 | Blacks:8982 | Area:41840\n",
      "Componente:6 | Ratio:0.22251434034416825 | Blacks:9310 | Area:41840\n",
      "Componente:7 | Ratio:0.2552410901467505 | Blacks:6331 | Area:24804\n",
      "Componente:8 | Ratio:0.20510274234206707 | Blacks:8055 | Area:39273\n",
      "Componente:9 | Ratio:0.20871537726838588 | Blacks:8741 | Area:41880\n",
      "Componente:10 | Ratio:0.45 | Blacks:9 | Area:20\n",
      "Componente:11 | Ratio:0.2235205237975321 | Blacks:8876 | Area:39710\n",
      "Componente:12 | Ratio:0.4 | Blacks:8 | Area:20\n",
      "Componente:13 | Ratio:0.2167304015296367 | Blacks:9068 | Area:41840\n",
      "Componente:14 | Ratio:0.23410611854684513 | Blacks:9795 | Area:41840\n",
      "Componente:15 | Ratio:0.22114463601532566 | Blacks:9235 | Area:41760\n",
      "Componente:16 | Ratio:0.2165514536451439 | Blacks:8834 | Area:40794\n",
      "Componente:17 | Ratio:0.21003088689513164 | Blacks:8568 | Area:40794\n",
      "Componente:18 | Ratio:0.3038932146829811 | Blacks:4098 | Area:13485\n",
      "Componente:19 | Ratio:0.4125 | Blacks:99 | Area:240\n",
      "Componente:20 | Ratio:0.22203742203742205 | Blacks:6408 | Area:28860\n",
      "Componente:21 | Ratio:0.06213158654934691 | Blacks:7958 | Area:128083\n",
      "Componente:22 | Ratio:0.3115468409586057 | Blacks:1144 | Area:3672\n",
      "Componente:23 | Ratio:0.2800041420731076 | Blacks:2704 | Area:9657\n",
      "Componente:24 | Ratio:0.0 | Blacks:0 | Area:1\n",
      "Componente:25 | Ratio:0.21770334928229665 | Blacks:6461 | Area:29678\n",
      "Componente:26 | Ratio:0.2964365639524875 | Blacks:1722 | Area:5809\n",
      "Componente:27 | Ratio:0.6875 | Blacks:33 | Area:48\n",
      "Componente:28 | Ratio:0.2602540834845735 | Blacks:2868 | Area:11020\n",
      "Componente:29 | Ratio:0.28764957264957264 | Blacks:6731 | Area:23400\n",
      "Componente:30 | Ratio:0.52 | Blacks:13 | Area:25\n",
      "Componente:31 | Ratio:0.296448087431694 | Blacks:1953 | Area:6588\n",
      "Componente:32 | Ratio:0.35526315789473684 | Blacks:81 | Area:228\n",
      "Componente:33 | Ratio:0.2305032654629274 | Blacks:2400 | Area:10412\n",
      "Componente:34 | Ratio:0.2134240851809421 | Blacks:6334 | Area:29678\n",
      "Componente:35 | Ratio:0.2786322233836046 | Blacks:1866 | Area:6697\n",
      "Componente:36 | Ratio:0.45454545454545453 | Blacks:95 | Area:209\n",
      "Componente:37 | Ratio:0.26157299167679793 | Blacks:2797 | Area:10693\n",
      "Componente:38 | Ratio:0.56 | Blacks:14 | Area:25\n",
      "Componente:39 | Ratio:0.23493877015003775 | Blacks:7156 | Area:30459\n",
      "Componente:40 | Ratio:0.4166666666666667 | Blacks:105 | Area:252\n",
      "Componente:41 | Ratio:0.37456271864067964 | Blacks:1499 | Area:4002\n",
      "Componente:42 | Ratio:0.0 | Blacks:0 | Area:7\n",
      "Componente:43 | Ratio:0.0 | Blacks:0 | Area:7\n",
      "Componente:44 | Ratio:0.21017771657157847 | Blacks:6410 | Area:30498\n",
      "Componente:45 | Ratio:0.23585969100192294 | Blacks:7114 | Area:30162\n",
      "Componente:46 | Ratio:0.75 | Blacks:9 | Area:12\n",
      "Componente:47 | Ratio:0.22395833333333334 | Blacks:645 | Area:2880\n",
      "Componente:48 | Ratio:0.2980956082394092 | Blacks:767 | Area:2573\n",
      "Componente:49 | Ratio:0.2354043392504931 | Blacks:7161 | Area:30420\n",
      "Componente:50 | Ratio:0.0 | Blacks:0 | Area:1\n",
      "Componente:51 | Ratio:0.0 | Blacks:0 | Area:2\n",
      "Componente:52 | Ratio:0.220748987854251 | Blacks:6543 | Area:29640\n",
      "Componente:53 | Ratio:0.23690878378378377 | Blacks:3366 | Area:14208\n"
     ]
    }
   ],
   "source": [
    "for label in line_black_ratios:\n",
    "    print('Componente:{} | Ratio:{} | Blacks:{} | Area:{}'.format(label,line_black_ratios[label], line_black_amounts[label], line_component_areas[label]))"
   ]
  },
  {
   "cell_type": "markdown",
   "metadata": {},
   "source": [
    "##### Passo 5.8.2: Calcular razão entre o número de transições de branco para preto e o número de pixels pretos, para cada retângulo envolvendo um componente conexo"
   ]
  },
  {
   "cell_type": "code",
   "execution_count": 38,
   "metadata": {},
   "outputs": [],
   "source": [
    "line_transition_ratios={}\n",
    "line_hor_tran_amount = {}\n",
    "line_ver_tran_amount = {}\n",
    "line_total_black_amount = {}"
   ]
  },
  {
   "cell_type": "code",
   "execution_count": 39,
   "metadata": {},
   "outputs": [],
   "source": [
    "for label, stat in zip(range(line_num_labels),line_stats):\n",
    "    line_transition_ratios[label], line_hor_tran_amount[label], line_ver_tran_amount[label], line_total_black_amount[label] = getTransitionsRate(np.copy(image), stat, line_black_amounts[label])"
   ]
  },
  {
   "cell_type": "code",
   "execution_count": 40,
   "metadata": {},
   "outputs": [
    {
     "name": "stdout",
     "output_type": "stream",
     "text": [
      "Componente:0 | Ratio:0.47456480965605824 | Horizontal:116812, Vertical:106354 | Blacks:470254\n",
      "Componente:1 | Ratio:0.7386934673366834 | Horizontal:3575, Vertical:2746 | Blacks:8557\n",
      "Componente:2 | Ratio:0.7538461538461538 | Horizontal:162, Vertical:83 | Blacks:325\n",
      "Componente:3 | Ratio:0 | Horizontal:0, Vertical:0 | Blacks:0\n",
      "Componente:4 | Ratio:0.3358872123628593 | Horizontal:45224, Vertical:44999 | Blacks:268611\n",
      "Componente:5 | Ratio:0.6410598975729236 | Horizontal:3080, Vertical:2678 | Blacks:8982\n",
      "Componente:6 | Ratio:0.6180451127819548 | Horizontal:3211, Vertical:2543 | Blacks:9310\n",
      "Componente:7 | Ratio:0.6270731322066024 | Horizontal:2190, Vertical:1780 | Blacks:6331\n",
      "Componente:8 | Ratio:0.6636871508379888 | Horizontal:2887, Vertical:2459 | Blacks:8055\n",
      "Componente:9 | Ratio:0.6478663768447546 | Horizontal:3093, Vertical:2570 | Blacks:8741\n",
      "Componente:10 | Ratio:0.6666666666666666 | Horizontal:5, Vertical:1 | Blacks:9\n",
      "Componente:11 | Ratio:0.6609959441189726 | Horizontal:3101, Vertical:2766 | Blacks:8876\n",
      "Componente:12 | Ratio:0.875 | Horizontal:5, Vertical:2 | Blacks:8\n",
      "Componente:13 | Ratio:0.6575871195412439 | Horizontal:3186, Vertical:2777 | Blacks:9068\n",
      "Componente:14 | Ratio:0.6355283307810107 | Horizontal:3320, Vertical:2905 | Blacks:9795\n",
      "Componente:15 | Ratio:0.639956686518679 | Horizontal:3265, Vertical:2645 | Blacks:9235\n",
      "Componente:16 | Ratio:0.6469323069956985 | Horizontal:3128, Vertical:2587 | Blacks:8834\n",
      "Componente:17 | Ratio:0.6519607843137255 | Horizontal:3110, Vertical:2476 | Blacks:8568\n",
      "Componente:18 | Ratio:0.612249877989263 | Horizontal:1394, Vertical:1115 | Blacks:4098\n",
      "Componente:19 | Ratio:0.7070707070707071 | Horizontal:36, Vertical:34 | Blacks:99\n",
      "Componente:20 | Ratio:0.6744694132334582 | Horizontal:2320, Vertical:2002 | Blacks:6408\n",
      "Componente:21 | Ratio:0.5114350339281226 | Horizontal:1828, Vertical:2242 | Blacks:7958\n",
      "Componente:22 | Ratio:0.6101398601398601 | Horizontal:395, Vertical:303 | Blacks:1144\n",
      "Componente:23 | Ratio:0.6275887573964497 | Horizontal:947, Vertical:750 | Blacks:2704\n",
      "Componente:24 | Ratio:0 | Horizontal:0, Vertical:0 | Blacks:0\n",
      "Componente:25 | Ratio:0.6395294845999071 | Horizontal:2249, Vertical:1883 | Blacks:6461\n",
      "Componente:26 | Ratio:0.6196283391405343 | Horizontal:549, Vertical:518 | Blacks:1722\n",
      "Componente:27 | Ratio:0.45454545454545453 | Horizontal:9, Vertical:6 | Blacks:33\n",
      "Componente:28 | Ratio:0.6464435146443515 | Horizontal:1018, Vertical:836 | Blacks:2868\n",
      "Componente:29 | Ratio:0.6511662457287178 | Horizontal:2421, Vertical:1962 | Blacks:6731\n",
      "Componente:30 | Ratio:0.5384615384615384 | Horizontal:5, Vertical:2 | Blacks:13\n",
      "Componente:31 | Ratio:0.6180235535074244 | Horizontal:668, Vertical:539 | Blacks:1953\n",
      "Componente:32 | Ratio:0.5555555555555556 | Horizontal:32, Vertical:13 | Blacks:81\n",
      "Componente:33 | Ratio:0.66875 | Horizontal:845, Vertical:760 | Blacks:2400\n",
      "Componente:34 | Ratio:0.6657720239974739 | Horizontal:2230, Vertical:1987 | Blacks:6334\n",
      "Componente:35 | Ratio:0.6639871382636656 | Horizontal:687, Vertical:552 | Blacks:1866\n",
      "Componente:36 | Ratio:0.7263157894736842 | Horizontal:43, Vertical:26 | Blacks:95\n",
      "Componente:37 | Ratio:0.6353235609581694 | Horizontal:1003, Vertical:774 | Blacks:2797\n",
      "Componente:38 | Ratio:0.42857142857142855 | Horizontal:5, Vertical:1 | Blacks:14\n",
      "Componente:39 | Ratio:0.6621017328116267 | Horizontal:2587, Vertical:2151 | Blacks:7156\n",
      "Componente:40 | Ratio:0.780952380952381 | Horizontal:33, Vertical:49 | Blacks:105\n",
      "Componente:41 | Ratio:0.6037358238825884 | Horizontal:548, Vertical:357 | Blacks:1499\n",
      "Componente:42 | Ratio:0 | Horizontal:0, Vertical:0 | Blacks:0\n",
      "Componente:43 | Ratio:0 | Horizontal:0, Vertical:0 | Blacks:0\n",
      "Componente:44 | Ratio:0.6460218408736349 | Horizontal:2307, Vertical:1834 | Blacks:6410\n",
      "Componente:45 | Ratio:0.7555524318245712 | Horizontal:2874, Vertical:2501 | Blacks:7114\n",
      "Componente:46 | Ratio:0.3333333333333333 | Horizontal:3, Vertical:0 | Blacks:9\n",
      "Componente:47 | Ratio:0.7069767441860465 | Horizontal:240, Vertical:216 | Blacks:645\n",
      "Componente:48 | Ratio:0.7209908735332464 | Horizontal:301, Vertical:252 | Blacks:767\n",
      "Componente:49 | Ratio:0.6394358329842201 | Horizontal:2605, Vertical:1974 | Blacks:7161\n",
      "Componente:50 | Ratio:0 | Horizontal:0, Vertical:0 | Blacks:0\n",
      "Componente:51 | Ratio:0 | Horizontal:0, Vertical:0 | Blacks:0\n",
      "Componente:52 | Ratio:0.6678893473941617 | Horizontal:2384, Vertical:1986 | Blacks:6543\n",
      "Componente:53 | Ratio:0.6458704693998811 | Horizontal:1140, Vertical:1034 | Blacks:3366\n"
     ]
    }
   ],
   "source": [
    "for label in line_transition_ratios:\n",
    "    print('Componente:{} | Ratio:{} | Horizontal:{}, Vertical:{} | Blacks:{}'.format(label,line_transition_ratios[label], line_hor_tran_amount[label], line_ver_tran_amount[label], line_total_black_amount[label]))"
   ]
  },
  {
   "cell_type": "markdown",
   "metadata": {},
   "source": [
    "#### Passo 5.9: Criar uma regra para determinar se um componente conexo é texto ou não\n",
    "\n",
    "Para cada componente conexo identificado, atribuiremos uma flag dizendo se ele é texto (1) ou não (0). Essa associação será armazenada no dicionário **line_component_classes**, em que a chave é o número que representa o componente conexo, e o valor é essa flag.\n",
    "\n",
    "De acordo com o que foi observado na identificação de componentes conexos, o componente de número 0 é o fundo. Assim, atribuimos a ele a flag 0."
   ]
  },
  {
   "cell_type": "code",
   "execution_count": 41,
   "metadata": {},
   "outputs": [],
   "source": [
    "line_component_classes = {}"
   ]
  },
  {
   "cell_type": "code",
   "execution_count": 42,
   "metadata": {},
   "outputs": [],
   "source": [
    "for comp_key in range(line_num_labels):\n",
    "    if comp_key == 0:\n",
    "        line_component_classes[comp_key] = 0\n",
    "    elif line_black_ratios[comp_key] < 0.07:\n",
    "        line_component_classes[comp_key] = 0\n",
    "    elif line_transition_ratios[comp_key] < 0.46:\n",
    "        line_component_classes[comp_key] = 0\n",
    "    else:\n",
    "        line_component_classes[comp_key] = 1"
   ]
  },
  {
   "cell_type": "code",
   "execution_count": 43,
   "metadata": {},
   "outputs": [],
   "source": [
    "# for key in line_component_classes:\n",
    "#     print(\"Componente:{} | Text: {}\".format(key,line_component_classes[key]))"
   ]
  },
  {
   "cell_type": "code",
   "execution_count": 44,
   "metadata": {},
   "outputs": [
    {
     "name": "stdout",
     "output_type": "stream",
     "text": [
      "42\n"
     ]
    },
    {
     "data": {
      "image/png": "[encoded data removed]",
      "text/plain": [
       "<Figure size 720x720 with 1 Axes>"
      ]
     },
     "metadata": {
      "needs_background": "light"
     },
     "output_type": "display_data"
    }
   ],
   "source": [
    "#To show the text selected components\n",
    "\n",
    "text_labels = [key for key in line_component_classes if line_component_classes[key] == 1]\n",
    "no_text_labels = [key for key in line_component_classes if line_component_classes[key] == 0]\n",
    "text_stats = line_stats[text_labels]\n",
    "\n",
    "text_image = np.copy(line_image_labels)\n",
    "for l in no_text_labels:\n",
    "    text_image[text_image == l] = 0\n",
    "\n",
    "print(len(text_labels))\n",
    "imshowComponentsRectangles(text_image, text_stats)"
   ]
  },
  {
   "cell_type": "markdown",
   "metadata": {},
   "source": [
    "### Passo 06: Aplicação dos passos para identificação de texto e contagem de palavras"
   ]
  },
  {
   "cell_type": "markdown",
   "metadata": {},
   "source": [
    "Todas as imagens intermediárias geradas nesta seção serão salvas no dicionário **word_processed_images**."
   ]
  },
  {
   "cell_type": "code",
   "execution_count": 46,
   "metadata": {},
   "outputs": [],
   "source": [
    "word_processed_images = {}"
   ]
  },
  {
   "cell_type": "markdown",
   "metadata": {},
   "source": [
    "#### Passo 6.1: Aplicar dilatação na imagem original, com elemento estruturante 6x6"
   ]
  },
  {
   "cell_type": "code",
   "execution_count": 47,
   "metadata": {},
   "outputs": [],
   "source": [
    "word_processed_images['dilate6_6'] = cv.dilate(np.copy(image), kernel6_6)"
   ]
  },
  {
   "cell_type": "code",
   "execution_count": 48,
   "metadata": {},
   "outputs": [],
   "source": [
    "# printImage(word_processed_images['dilate6_6'])"
   ]
  },
  {
   "cell_type": "markdown",
   "metadata": {},
   "source": [
    "#### Passo 6.2: Aplicar erosão, na imagem resultante do passo anterior, com elemento estruturante 1x3"
   ]
  },
  {
   "cell_type": "code",
   "execution_count": 49,
   "metadata": {},
   "outputs": [],
   "source": [
    "word_processed_images['erode1_3'] = cv.erode(np.copy(word_processed_images['dilate6_6']), kernel1_3)\n"
   ]
  },
  {
   "cell_type": "code",
   "execution_count": 50,
   "metadata": {},
   "outputs": [],
   "source": [
    "# printImage(word_processed_images['erode1_3'])"
   ]
  },
  {
   "cell_type": "markdown",
   "metadata": {},
   "source": [
    "#### Passo 6.3: Aplicar dilatação, na imagem resultante do passo anterior, com elemento estruturante 10x1"
   ]
  },
  {
   "cell_type": "code",
   "execution_count": 51,
   "metadata": {},
   "outputs": [],
   "source": [
    "word_processed_images['dilate10_1'] = cv.dilate(np.copy(word_processed_images['erode1_3']), kernel10_1)"
   ]
  },
  {
   "cell_type": "code",
   "execution_count": 52,
   "metadata": {},
   "outputs": [],
   "source": [
    "# printImage(word_processed_images['dilate10_1'])"
   ]
  },
  {
   "cell_type": "markdown",
   "metadata": {},
   "source": [
    "#### Passo 6.4: Aplicar erosão, na imagem resultante do passo anterior, com elemento estruturante 1x3"
   ]
  },
  {
   "cell_type": "code",
   "execution_count": 53,
   "metadata": {},
   "outputs": [],
   "source": [
    "word_processed_images['erode1_3_2'] = cv.erode(np.copy(word_processed_images['dilate10_1']), kernel1_3)"
   ]
  },
  {
   "cell_type": "code",
   "execution_count": 54,
   "metadata": {},
   "outputs": [],
   "source": [
    "# printImage(word_processed_images['erode1_3_2'])"
   ]
  },
  {
   "cell_type": "markdown",
   "metadata": {},
   "source": [
    "#### Passo 6.5: Aplicar interseção com as imagens resultantes dos passos 6.2 e 6.4"
   ]
  },
  {
   "cell_type": "code",
   "execution_count": 55,
   "metadata": {},
   "outputs": [],
   "source": [
    "word_processed_images['inter2_4_w'] = cv.bitwise_and(np.copy(word_processed_images['erode1_3']), np.copy(word_processed_images['erode1_3_2']))\n"
   ]
  },
  {
   "cell_type": "code",
   "execution_count": 56,
   "metadata": {},
   "outputs": [],
   "source": [
    "# printImage(word_processed_images['inter2_4_w'])"
   ]
  },
  {
   "cell_type": "markdown",
   "metadata": {},
   "source": [
    "#### Passo 6.6: Aplicar fechamento, na imagem do passo anterior, com elemento estruturante 1x8"
   ]
  },
  {
   "cell_type": "code",
   "execution_count": 57,
   "metadata": {},
   "outputs": [],
   "source": [
    "word_processed_images['close1_8'] = cv.morphologyEx(np.copy(word_processed_images['inter2_4_w']), cv.MORPH_CLOSE, kernel1_8)\n"
   ]
  },
  {
   "cell_type": "code",
   "execution_count": 58,
   "metadata": {},
   "outputs": [],
   "source": [
    "# printImage(word_processed_images['close1_8'])"
   ]
  },
  {
   "cell_type": "markdown",
   "metadata": {},
   "source": [
    "#### Passo 6.7:  Identificação de componentes conexos na imagem do passo anterior"
   ]
  },
  {
   "cell_type": "code",
   "execution_count": 59,
   "metadata": {},
   "outputs": [],
   "source": [
    "word_num_labels, word_image_labels, word_stats, word_centroids = cv.connectedComponentsWithStats(word_processed_images['close1_8'], connectivity = 8)\n"
   ]
  },
  {
   "cell_type": "code",
   "execution_count": 60,
   "metadata": {},
   "outputs": [
    {
     "name": "stdout",
     "output_type": "stream",
     "text": [
      "251\n"
     ]
    }
   ],
   "source": [
    "print(word_num_labels)"
   ]
  },
  {
   "cell_type": "code",
   "execution_count": 61,
   "metadata": {},
   "outputs": [],
   "source": [
    "# imshowComponents(np.copy(word_image_labels))"
   ]
  },
  {
   "cell_type": "code",
   "execution_count": 62,
   "metadata": {},
   "outputs": [
    {
     "data": {
      "image/png": "[encoded data removed]",
      "text/plain": [
       "<Figure size 720x720 with 1 Axes>"
      ]
     },
     "metadata": {
      "needs_background": "light"
     },
     "output_type": "display_data"
    }
   ],
   "source": [
    "imshowComponentsRectangles(np.copy(word_image_labels),word_stats)"
   ]
  },
  {
   "cell_type": "markdown",
   "metadata": {},
   "source": [
    "#### Passo 6.8: Calcular razões para os componentes conexos obtidos no passo anterior\n",
    "\n",
    "Neste passo, para calcular as razões, empregaremos a imagem gerada no Passo 6.6, que foi a imagem utilizada para a identificação de componentes conexos."
   ]
  },
  {
   "cell_type": "markdown",
   "metadata": {},
   "source": [
    "##### Passo 6.8.1: Calcular razão entre o número de pixels pretos e o número total de pixels, para cada retângulo envolvendo um componente conexo"
   ]
  },
  {
   "cell_type": "code",
   "execution_count": 63,
   "metadata": {},
   "outputs": [],
   "source": [
    "word_black_ratios={}\n",
    "word_black_amounts = {}\n",
    "word_component_areas = {}"
   ]
  },
  {
   "cell_type": "code",
   "execution_count": 64,
   "metadata": {},
   "outputs": [],
   "source": [
    "for label, stat in zip(range(word_num_labels),word_stats):\n",
    "    word_black_ratios[label], word_black_amounts[label], word_component_areas[label] = getBlackPixelsRate(np.copy(word_processed_images['close1_8']),stat)"
   ]
  },
  {
   "cell_type": "code",
   "execution_count": 65,
   "metadata": {},
   "outputs": [
    {
     "name": "stdout",
     "output_type": "stream",
     "text": [
      "Componente:0 | Ratio:0.26355853151516456 | Blacks:808635 | Area:3068142\n",
      "Componente:1 | Ratio:0.9123630672926447 | Blacks:3498 | Area:3834\n",
      "Componente:2 | Ratio:0.8901098901098901 | Blacks:1458 | Area:1638\n",
      "Componente:3 | Ratio:0.7600961538461538 | Blacks:4743 | Area:6240\n",
      "Componente:4 | Ratio:0.7669683257918553 | Blacks:1356 | Area:1768\n",
      "Componente:5 | Ratio:0.5318840579710145 | Blacks:367 | Area:690\n",
      "Componente:6 | Ratio:0.8615384615384616 | Blacks:1120 | Area:1300\n",
      "Componente:7 | Ratio:0.6181818181818182 | Blacks:408 | Area:660\n",
      "Componente:8 | Ratio:0.9621917808219178 | Blacks:1756 | Area:1825\n",
      "Componente:9 | Ratio:0.896575821104123 | Blacks:1283 | Area:1431\n",
      "Componente:10 | Ratio:0.8818818818818819 | Blacks:5286 | Area:5994\n",
      "Componente:11 | Ratio:0.9148351648351648 | Blacks:999 | Area:1092\n",
      "Componente:12 | Ratio:0.9495192307692307 | Blacks:1580 | Area:1664\n",
      "Componente:13 | Ratio:0.924865831842576 | Blacks:1034 | Area:1118\n",
      "Componente:14 | Ratio:1.0 | Blacks:27 | Area:27\n",
      "Componente:15 | Ratio:0.9740459590793615 | Blacks:320916 | Area:329467\n",
      "Componente:16 | Ratio:0.7351598173515982 | Blacks:3864 | Area:5256\n",
      "Componente:17 | Ratio:0.7643809523809524 | Blacks:4013 | Area:5250\n",
      "Componente:18 | Ratio:0.7365079365079366 | Blacks:696 | Area:945\n",
      "Componente:19 | Ratio:0.7034813925570228 | Blacks:2930 | Area:4165\n",
      "Componente:20 | Ratio:0.734375 | Blacks:799 | Area:1088\n",
      "Componente:21 | Ratio:0.7365079365079366 | Blacks:2088 | Area:2835\n",
      "Componente:22 | Ratio:0.7608695652173914 | Blacks:2380 | Area:3128\n",
      "Componente:23 | Ratio:0.8314465408805032 | Blacks:1322 | Area:1590\n",
      "Componente:24 | Ratio:0.8603238866396761 | Blacks:425 | Area:494\n",
      "Componente:25 | Ratio:0.7226890756302521 | Blacks:3096 | Area:4284\n",
      "Componente:26 | Ratio:0.7333333333333333 | Blacks:2541 | Area:3465\n",
      "Componente:27 | Ratio:0.7527777777777778 | Blacks:1897 | Area:2520\n",
      "Componente:28 | Ratio:0.74375 | Blacks:833 | Area:1120\n",
      "Componente:29 | Ratio:0.5974025974025974 | Blacks:3496 | Area:5852\n",
      "Componente:30 | Ratio:0.7267080745341615 | Blacks:2340 | Area:3220\n",
      "Componente:31 | Ratio:0.754054054054054 | Blacks:1953 | Area:2590\n",
      "Componente:32 | Ratio:0.5797425118234367 | Blacks:4413 | Area:7612\n",
      "Componente:33 | Ratio:0.7482142857142857 | Blacks:1676 | Area:2240\n",
      "Componente:34 | Ratio:0.5711538461538461 | Blacks:891 | Area:1560\n",
      "Componente:35 | Ratio:0.9467948717948718 | Blacks:1477 | Area:1560\n",
      "Componente:36 | Ratio:0.8974358974358975 | Blacks:420 | Area:468\n",
      "Componente:37 | Ratio:0.7016229712858927 | Blacks:2248 | Area:3204\n",
      "Componente:38 | Ratio:0.6479863868406126 | Blacks:5712 | Area:8815\n",
      "Componente:39 | Ratio:0.720164609053498 | Blacks:700 | Area:972\n",
      "Componente:40 | Ratio:0.7118095238095238 | Blacks:3737 | Area:5250\n",
      "Componente:41 | Ratio:0.853763440860215 | Blacks:1985 | Area:2325\n",
      "Componente:42 | Ratio:0.8557504873294347 | Blacks:439 | Area:513\n",
      "Componente:43 | Ratio:0.5979591836734693 | Blacks:879 | Area:1470\n",
      "Componente:44 | Ratio:0.7593220338983051 | Blacks:3136 | Area:4130\n",
      "Componente:45 | Ratio:0.7212355212355213 | Blacks:1868 | Area:2590\n",
      "Componente:46 | Ratio:0.7181069958847737 | Blacks:698 | Area:972\n",
      "Componente:47 | Ratio:0.7885714285714286 | Blacks:2346 | Area:2975\n",
      "Componente:48 | Ratio:0.7052631578947368 | Blacks:938 | Area:1330\n",
      "Componente:49 | Ratio:0.6200365726227796 | Blacks:4747 | Area:7656\n",
      "Componente:50 | Ratio:0.746218487394958 | Blacks:1332 | Area:1785\n",
      "Componente:51 | Ratio:0.8246376811594203 | Blacks:1138 | Area:1380\n",
      "Componente:52 | Ratio:0.8527472527472527 | Blacks:2328 | Area:2730\n",
      "Componente:53 | Ratio:0.8933333333333333 | Blacks:402 | Area:450\n",
      "Componente:54 | Ratio:0.7081081081081081 | Blacks:917 | Area:1295\n",
      "Componente:55 | Ratio:0.7635854341736694 | Blacks:1363 | Area:1785\n",
      "Componente:56 | Ratio:0.5695652173913044 | Blacks:2882 | Area:5060\n",
      "Componente:57 | Ratio:0.72806484295846 | Blacks:3593 | Area:4935\n",
      "Componente:58 | Ratio:0.5774667405764967 | Blacks:4167 | Area:7216\n",
      "Componente:59 | Ratio:0.6211003970504821 | Blacks:1095 | Area:1763\n",
      "Componente:60 | Ratio:0.7563025210084033 | Blacks:1350 | Area:1785\n",
      "Componente:61 | Ratio:0.7097035040431267 | Blacks:5266 | Area:7420\n",
      "Componente:62 | Ratio:0.9682352941176471 | Blacks:823 | Area:850\n",
      "Componente:63 | Ratio:0.6411363636363636 | Blacks:2821 | Area:4400\n",
      "Componente:64 | Ratio:0.7495798319327731 | Blacks:1338 | Area:1785\n",
      "Componente:65 | Ratio:0.7030075187969925 | Blacks:935 | Area:1330\n",
      "Componente:66 | Ratio:0.7428571428571429 | Blacks:702 | Area:945\n",
      "Componente:67 | Ratio:0.5548418972332015 | Blacks:2246 | Area:4048\n",
      "Componente:68 | Ratio:0.8244781783681214 | Blacks:869 | Area:1054\n",
      "Componente:69 | Ratio:0.8338008415147266 | Blacks:2378 | Area:2852\n",
      "Componente:70 | Ratio:0.8268115942028985 | Blacks:1141 | Area:1380\n",
      "Componente:71 | Ratio:0.9087995337995338 | Blacks:3119 | Area:3432\n",
      "Componente:72 | Ratio:0.927536231884058 | Blacks:1600 | Area:1725\n",
      "Componente:73 | Ratio:0.9637452711223203 | Blacks:3057 | Area:3172\n",
      "Componente:74 | Ratio:0.9437869822485208 | Blacks:1276 | Area:1352\n",
      "Componente:75 | Ratio:0.564440133037694 | Blacks:4073 | Area:7216\n",
      "Componente:76 | Ratio:0.6108905275099262 | Blacks:1077 | Area:1763\n",
      "Componente:77 | Ratio:0.7607466063348416 | Blacks:1345 | Area:1768\n",
      "Componente:78 | Ratio:0.7791738382099828 | Blacks:4527 | Area:5810\n",
      "Componente:79 | Ratio:0.732871012482663 | Blacks:2642 | Area:3605\n",
      "Componente:80 | Ratio:0.743546339399069 | Blacks:3514 | Area:4726\n",
      "Componente:81 | Ratio:0.754325259515571 | Blacks:1308 | Area:1734\n",
      "Componente:82 | Ratio:0.793939393939394 | Blacks:786 | Area:990\n",
      "Componente:83 | Ratio:0.9214046822742475 | Blacks:2204 | Area:2392\n",
      "Componente:84 | Ratio:0.9505882352941176 | Blacks:808 | Area:850\n",
      "Componente:85 | Ratio:0.6136363636363636 | Blacks:3429 | Area:5588\n",
      "Componente:86 | Ratio:0.7189189189189189 | Blacks:931 | Area:1295\n",
      "Componente:87 | Ratio:0.614986498649865 | Blacks:5466 | Area:8888\n",
      "Componente:88 | Ratio:0.7607843137254902 | Blacks:1358 | Area:1785\n",
      "Componente:89 | Ratio:0.7318627450980392 | Blacks:1493 | Area:2040\n",
      "Componente:90 | Ratio:0.5829844497607656 | Blacks:3899 | Area:6688\n",
      "Componente:91 | Ratio:0.8051020408163265 | Blacks:789 | Area:980\n",
      "Componente:92 | Ratio:0.8643724696356275 | Blacks:427 | Area:494\n",
      "Componente:93 | Ratio:0.9032921810699589 | Blacks:2634 | Area:2916\n",
      "Componente:94 | Ratio:0.9054366685945633 | Blacks:3131 | Area:3458\n",
      "Componente:95 | Ratio:0.6922514619883041 | Blacks:947 | Area:1368\n",
      "Componente:96 | Ratio:0.6194638694638694 | Blacks:3189 | Area:5148\n",
      "Componente:97 | Ratio:0.7428571428571429 | Blacks:806 | Area:1085\n",
      "Componente:98 | Ratio:0.7549019607843137 | Blacks:1386 | Area:1836\n",
      "Componente:99 | Ratio:0.7534391534391535 | Blacks:712 | Area:945\n",
      "Componente:100 | Ratio:0.6470454545454546 | Blacks:2847 | Area:4400\n",
      "Componente:101 | Ratio:0.7315068493150685 | Blacks:1869 | Area:2555\n",
      "Componente:102 | Ratio:0.7291666666666666 | Blacks:1365 | Area:1872\n",
      "Componente:103 | Ratio:0.6073926073926074 | Blacks:3040 | Area:5005\n",
      "Componente:104 | Ratio:0.7607142857142857 | Blacks:3834 | Area:5040\n",
      "Componente:105 | Ratio:0.9182769726247987 | Blacks:2281 | Area:2484\n",
      "Componente:106 | Ratio:0.6130153999006458 | Blacks:4936 | Area:8052\n",
      "Componente:107 | Ratio:0.7435897435897436 | Blacks:2030 | Area:2730\n",
      "Componente:108 | Ratio:0.6312316715542522 | Blacks:4305 | Area:6820\n",
      "Componente:109 | Ratio:0.7135135135135136 | Blacks:924 | Area:1295\n",
      "Componente:110 | Ratio:0.7587822014051522 | Blacks:1620 | Area:2135\n",
      "Componente:111 | Ratio:0.7147058823529412 | Blacks:972 | Area:1360\n",
      "Componente:112 | Ratio:0.6684451219512195 | Blacks:877 | Area:1312\n",
      "Componente:113 | Ratio:0.8074596774193549 | Blacks:801 | Area:992\n",
      "Componente:114 | Ratio:0.8217391304347826 | Blacks:1134 | Area:1380\n",
      "Componente:115 | Ratio:0.7070735090152566 | Blacks:2549 | Area:3605\n",
      "Componente:116 | Ratio:0.9270557029177718 | Blacks:1398 | Area:1508\n",
      "Componente:117 | Ratio:0.4699519230769231 | Blacks:4301 | Area:9152\n",
      "Componente:118 | Ratio:0.703763440860215 | Blacks:3927 | Area:5580\n",
      "Componente:119 | Ratio:0.7120879120879121 | Blacks:1620 | Area:2275\n",
      "Componente:120 | Ratio:0.7387461459403906 | Blacks:3594 | Area:4865\n",
      "Componente:121 | Ratio:0.759073359073359 | Blacks:1966 | Area:2590\n",
      "Componente:122 | Ratio:0.7681660899653979 | Blacks:1332 | Area:1734\n",
      "Componente:123 | Ratio:0.6067932067932068 | Blacks:3037 | Area:5005\n",
      "Componente:124 | Ratio:0.7390476190476191 | Blacks:1552 | Area:2100\n",
      "Componente:125 | Ratio:0.7165413533834587 | Blacks:953 | Area:1330\n",
      "Componente:126 | Ratio:0.7753501400560224 | Blacks:1384 | Area:1785\n",
      "Componente:127 | Ratio:0.7202521670606777 | Blacks:3656 | Area:5076\n",
      "Componente:128 | Ratio:0.8744444444444445 | Blacks:2361 | Area:2700\n",
      "Componente:129 | Ratio:0.9121863799283154 | Blacks:1527 | Area:1674\n",
      "Componente:130 | Ratio:0.8830769230769231 | Blacks:287 | Area:325\n",
      "Componente:131 | Ratio:0.8164300202839757 | Blacks:805 | Area:986\n",
      "Componente:132 | Ratio:0.7463235294117647 | Blacks:2030 | Area:2720\n",
      "Componente:133 | Ratio:0.7080170777988615 | Blacks:2985 | Area:4216\n",
      "Componente:134 | Ratio:0.7258064516129032 | Blacks:765 | Area:1054\n",
      "Componente:135 | Ratio:0.7622549019607843 | Blacks:1244 | Area:1632\n",
      "Componente:136 | Ratio:0.6292063492063492 | Blacks:3964 | Area:6300\n",
      "Componente:137 | Ratio:0.4339250493096647 | Blacks:1100 | Area:2535\n",
      "Componente:138 | Ratio:0.12996778527835787 | Blacks:16057 | Area:123546\n",
      "Componente:139 | Ratio:0.6547842401500938 | Blacks:2792 | Area:4264\n",
      "Componente:140 | Ratio:0.9002079002079002 | Blacks:866 | Area:962\n",
      "Componente:141 | Ratio:0.9352 | Blacks:1169 | Area:1250\n",
      "Componente:142 | Ratio:0.9594017094017094 | Blacks:898 | Area:936\n",
      "Componente:143 | Ratio:0.87 | Blacks:261 | Area:300\n",
      "Componente:144 | Ratio:0.6246031746031746 | Blacks:3935 | Area:6300\n",
      "Componente:145 | Ratio:0.7027027027027027 | Blacks:2548 | Area:3626\n",
      "Componente:146 | Ratio:0.21244588744588744 | Blacks:1963 | Area:9240\n",
      "Componente:147 | Ratio:1.0 | Blacks:12 | Area:12\n",
      "Componente:148 | Ratio:0.8141414141414142 | Blacks:806 | Area:990\n",
      "Componente:149 | Ratio:0.7598204264870931 | Blacks:2031 | Area:2673\n",
      "Componente:150 | Ratio:0.6326912787586945 | Blacks:2365 | Area:3738\n",
      "Componente:151 | Ratio:0.7458455522971652 | Blacks:763 | Area:1023\n",
      "Componente:152 | Ratio:0.7922979797979798 | Blacks:1255 | Area:1584\n",
      "Componente:153 | Ratio:0.6355555555555555 | Blacks:4004 | Area:6300\n",
      "Componente:154 | Ratio:0.42672064777327934 | Blacks:1054 | Area:2470\n",
      "Componente:155 | Ratio:0.7608486017357763 | Blacks:1578 | Area:2074\n",
      "Componente:156 | Ratio:0.604073075771189 | Blacks:4034 | Area:6678\n",
      "Componente:157 | Ratio:0.9374358974358974 | Blacks:914 | Area:975\n",
      "Componente:158 | Ratio:0.8711111111111111 | Blacks:392 | Area:450\n",
      "Componente:159 | Ratio:0.6461794019933554 | Blacks:3890 | Area:6020\n",
      "Componente:160 | Ratio:0.649749373433584 | Blacks:2074 | Area:3192\n",
      "Componente:161 | Ratio:0.6098837209302326 | Blacks:1049 | Area:1720\n",
      "Componente:162 | Ratio:0.26541471048513304 | Blacks:1696 | Area:6390\n",
      "Componente:163 | Ratio:0.7264302981466559 | Blacks:1803 | Area:2482\n",
      "Componente:164 | Ratio:0.7049335863377609 | Blacks:2972 | Area:4216\n",
      "Componente:165 | Ratio:0.725189393939394 | Blacks:3829 | Area:5280\n",
      "Componente:166 | Ratio:0.742540494458653 | Blacks:1742 | Area:2346\n",
      "Componente:167 | Ratio:0.5998712998712998 | Blacks:4661 | Area:7770\n",
      "Componente:168 | Ratio:0.8338557993730408 | Blacks:798 | Area:957\n",
      "Componente:169 | Ratio:0.759090909090909 | Blacks:2004 | Area:2640\n",
      "Componente:170 | Ratio:0.6314285714285715 | Blacks:221 | Area:350\n",
      "Componente:171 | Ratio:0.8399014778325123 | Blacks:682 | Area:812\n",
      "Componente:172 | Ratio:0.7965517241379311 | Blacks:1386 | Area:1740\n",
      "Componente:173 | Ratio:0.9376 | Blacks:1172 | Area:1250\n",
      "Componente:174 | Ratio:0.6291472868217054 | Blacks:2029 | Area:3225\n",
      "Componente:175 | Ratio:0.651219512195122 | Blacks:1068 | Area:1640\n",
      "Componente:176 | Ratio:0.6393650793650794 | Blacks:2014 | Area:3150\n",
      "Componente:177 | Ratio:0.9383783783783783 | Blacks:868 | Area:925\n",
      "Componente:178 | Ratio:0.8316430020283976 | Blacks:820 | Area:986\n",
      "Componente:179 | Ratio:0.7334785766158315 | Blacks:2020 | Area:2754\n",
      "Componente:180 | Ratio:0.7458823529411764 | Blacks:634 | Area:850\n",
      "Componente:181 | Ratio:0.7836504580690627 | Blacks:3336 | Area:4257\n",
      "Componente:182 | Ratio:0.5968201233981965 | Blacks:2515 | Area:4214\n",
      "Componente:183 | Ratio:0.7286527514231499 | Blacks:768 | Area:1054\n",
      "Componente:184 | Ratio:0.7702205882352942 | Blacks:1257 | Area:1632\n",
      "Componente:185 | Ratio:0.6005724694249285 | Blacks:4616 | Area:7686\n",
      "Componente:186 | Ratio:0.75 | Blacks:234 | Area:312\n",
      "Componente:187 | Ratio:0.9141483516483516 | Blacks:1331 | Area:1456\n",
      "Componente:188 | Ratio:0.964390243902439 | Blacks:1977 | Area:2050\n",
      "Componente:189 | Ratio:0.888095238095238 | Blacks:746 | Area:840\n",
      "Componente:190 | Ratio:0.65775950668037 | Blacks:3840 | Area:5838\n",
      "Componente:191 | Ratio:0.6492297817715019 | Blacks:2023 | Area:3116\n",
      "Componente:192 | Ratio:0.6088252832438878 | Blacks:1021 | Area:1677\n",
      "Componente:193 | Ratio:0.7611764705882353 | Blacks:647 | Area:850\n",
      "Componente:194 | Ratio:0.7372122762148338 | Blacks:2306 | Area:3128\n",
      "Componente:195 | Ratio:0.6025641025641025 | Blacks:987 | Area:1638\n",
      "Componente:196 | Ratio:0.7779839208410637 | Blacks:1258 | Area:1617\n",
      "Componente:197 | Ratio:0.6245275888133031 | Blacks:3305 | Area:5292\n",
      "Componente:198 | Ratio:0.7075163398692811 | Blacks:866 | Area:1224\n",
      "Componente:199 | Ratio:0.7506127450980392 | Blacks:1225 | Area:1632\n",
      "Componente:200 | Ratio:0.8905325443786982 | Blacks:301 | Area:338\n",
      "Componente:201 | Ratio:0.7533613445378151 | Blacks:3586 | Area:4760\n",
      "Componente:202 | Ratio:0.7247899159663865 | Blacks:1725 | Area:2380\n",
      "Componente:203 | Ratio:0.6479062620053784 | Blacks:3373 | Area:5206\n",
      "Componente:204 | Ratio:0.8220689655172414 | Blacks:1192 | Area:1450\n",
      "Componente:205 | Ratio:1.0 | Blacks:12 | Area:12\n",
      "Componente:206 | Ratio:0.6322964669738863 | Blacks:3293 | Area:5208\n",
      "Componente:207 | Ratio:0.610236220472441 | Blacks:3255 | Area:5334\n",
      "Componente:208 | Ratio:0.701797385620915 | Blacks:859 | Area:1224\n",
      "Componente:209 | Ratio:0.7617046818727491 | Blacks:1269 | Area:1666\n",
      "Componente:210 | Ratio:0.7423611111111111 | Blacks:1069 | Area:1440\n",
      "Componente:211 | Ratio:0.7616666666666667 | Blacks:914 | Area:1200\n",
      "Componente:212 | Ratio:0.6107826576576577 | Blacks:4339 | Area:7104\n",
      "Componente:213 | Ratio:0.6413043478260869 | Blacks:2478 | Area:3864\n",
      "Componente:214 | Ratio:0.7468805704099821 | Blacks:1257 | Area:1683\n",
      "Componente:215 | Ratio:0.7264367816091954 | Blacks:632 | Area:870\n",
      "Componente:216 | Ratio:0.8658333333333333 | Blacks:5195 | Area:6000\n",
      "Componente:217 | Ratio:0.8023188405797101 | Blacks:2768 | Area:3450\n",
      "Componente:218 | Ratio:0.6519916142557652 | Blacks:1244 | Area:1908\n",
      "Componente:219 | Ratio:0.5769230769230769 | Blacks:420 | Area:728\n",
      "Componente:220 | Ratio:0.6681063122923588 | Blacks:2011 | Area:3010\n",
      "Componente:221 | Ratio:0.6443758573388203 | Blacks:1879 | Area:2916\n",
      "Componente:222 | Ratio:0.9570361145703612 | Blacks:1537 | Area:1606\n",
      "Componente:223 | Ratio:0.978494623655914 | Blacks:637 | Area:651\n",
      "Componente:224 | Ratio:0.6294117647058823 | Blacks:1926 | Area:3060\n",
      "Componente:225 | Ratio:0.5666666666666667 | Blacks:4080 | Area:7200\n",
      "Componente:226 | Ratio:1.0 | Blacks:12 | Area:12\n",
      "Componente:227 | Ratio:0.7247474747474747 | Blacks:861 | Area:1188\n",
      "Componente:228 | Ratio:0.7647058823529411 | Blacks:1248 | Area:1632\n",
      "Componente:229 | Ratio:0.6386723661051044 | Blacks:2540 | Area:3977\n",
      "Componente:230 | Ratio:0.6703296703296703 | Blacks:1830 | Area:2730\n",
      "Componente:231 | Ratio:0.7555147058823529 | Blacks:1233 | Area:1632\n",
      "Componente:232 | Ratio:0.5819548872180451 | Blacks:2322 | Area:3990\n",
      "Componente:233 | Ratio:0.700204406086759 | Blacks:3083 | Area:4403\n",
      "Componente:234 | Ratio:0.807070707070707 | Blacks:799 | Area:990\n",
      "Componente:235 | Ratio:0.7773109243697479 | Blacks:1480 | Area:1904\n",
      "Componente:236 | Ratio:0.7575757575757576 | Blacks:625 | Area:825\n",
      "Componente:237 | Ratio:0.5952380952380952 | Blacks:2025 | Area:3402\n",
      "Componente:238 | Ratio:0.6098901098901099 | Blacks:1665 | Area:2730\n",
      "Componente:239 | Ratio:0.7988980716253443 | Blacks:580 | Area:726\n",
      "Componente:240 | Ratio:0.7466666666666667 | Blacks:616 | Area:825\n",
      "Componente:241 | Ratio:0.7909921129099211 | Blacks:3811 | Area:4818\n",
      "Componente:242 | Ratio:0.8032983508245877 | Blacks:2679 | Area:3335\n",
      "Componente:243 | Ratio:0.8666666666666667 | Blacks:728 | Area:840\n",
      "Componente:244 | Ratio:0.8970588235294118 | Blacks:366 | Area:408\n",
      "Componente:245 | Ratio:0.8842592592592593 | Blacks:382 | Area:432\n",
      "Componente:246 | Ratio:0.7329995828118482 | Blacks:3514 | Area:4794\n",
      "Componente:247 | Ratio:0.6281179138321995 | Blacks:1662 | Area:2646\n",
      "Componente:248 | Ratio:0.6266233766233766 | Blacks:579 | Area:924\n",
      "Componente:249 | Ratio:0.8165289256198347 | Blacks:1482 | Area:1815\n",
      "Componente:250 | Ratio:0.95375 | Blacks:763 | Area:800\n"
     ]
    }
   ],
   "source": [
    "for label in word_black_ratios:\n",
    "    print('Componente:{} | Ratio:{} | Blacks:{} | Area:{}'.format(label,word_black_ratios[label], word_black_amounts[label], word_component_areas[label]))"
   ]
  },
  {
   "cell_type": "markdown",
   "metadata": {},
   "source": [
    "##### Passo 6.8.2: Calcular razão entre o número de transições de branco para preto e o número de pixels pretos, para cada retângulo envolvendo um componente conexo"
   ]
  },
  {
   "cell_type": "code",
   "execution_count": 66,
   "metadata": {},
   "outputs": [],
   "source": [
    "word_transition_ratios={}\n",
    "word_hor_tran_amount = {}\n",
    "word_ver_tran_amount = {}\n",
    "word_total_black_amount = {}"
   ]
  },
  {
   "cell_type": "code",
   "execution_count": 67,
   "metadata": {},
   "outputs": [],
   "source": [
    "for label, stat in zip(range(word_num_labels),word_stats):\n",
    "    word_transition_ratios[label], word_hor_tran_amount[label], word_ver_tran_amount[label], word_total_black_amount[label] = getTransitionsRate(np.copy(word_processed_images['close1_8']), stat, word_black_amounts[label])"
   ]
  },
  {
   "cell_type": "code",
   "execution_count": 68,
   "metadata": {},
   "outputs": [
    {
     "name": "stdout",
     "output_type": "stream",
     "text": [
      "Componente:0 | Ratio:0.08346410927056089 | Horizontal:23530, Vertical:43962 | Blacks:808635\n",
      "Componente:1 | Ratio:0.08033161806746712 | Horizontal:39, Vertical:242 | Blacks:3498\n",
      "Componente:2 | Ratio:0.0720164609053498 | Horizontal:35, Vertical:70 | Blacks:1458\n",
      "Componente:3 | Ratio:0.11933375500737929 | Horizontal:113, Vertical:453 | Blacks:4743\n",
      "Componente:4 | Ratio:0.07890855457227139 | Horizontal:46, Vertical:61 | Blacks:1356\n",
      "Componente:5 | Ratio:0.21525885558583105 | Horizontal:42, Vertical:37 | Blacks:367\n",
      "Componente:6 | Ratio:0.06964285714285715 | Horizontal:41, Vertical:37 | Blacks:1120\n",
      "Componente:7 | Ratio:0.18872549019607843 | Horizontal:33, Vertical:44 | Blacks:408\n",
      "Componente:8 | Ratio:0.02733485193621868 | Horizontal:33, Vertical:15 | Blacks:1756\n",
      "Componente:9 | Ratio:0.10366328916601715 | Horizontal:45, Vertical:88 | Blacks:1283\n",
      "Componente:10 | Ratio:0.088157396897465 | Horizontal:88, Vertical:378 | Blacks:5286\n",
      "Componente:11 | Ratio:0.08008008008008008 | Horizontal:32, Vertical:48 | Blacks:999\n",
      "Componente:12 | Ratio:0.052531645569620256 | Horizontal:37, Vertical:46 | Blacks:1580\n",
      "Componente:13 | Ratio:0.07640232108317214 | Horizontal:23, Vertical:56 | Blacks:1034\n",
      "Componente:14 | Ratio:0.0 | Horizontal:0, Vertical:0 | Blacks:27\n",
      "Componente:15 | Ratio:0.007649976941006369 | Horizontal:1186, Vertical:1269 | Blacks:320916\n",
      "Componente:16 | Ratio:0.09497929606625259 | Horizontal:75, Vertical:292 | Blacks:3864\n",
      "Componente:17 | Ratio:0.07949165213057563 | Horizontal:105, Vertical:214 | Blacks:4013\n",
      "Componente:18 | Ratio:0.11063218390804598 | Horizontal:50, Vertical:27 | Blacks:696\n",
      "Componente:19 | Ratio:0.11638225255972696 | Horizontal:106, Vertical:235 | Blacks:2930\n",
      "Componente:20 | Ratio:0.09887359198998748 | Horizontal:48, Vertical:31 | Blacks:799\n",
      "Componente:21 | Ratio:0.11302681992337164 | Horizontal:81, Vertical:155 | Blacks:2088\n",
      "Componente:22 | Ratio:0.06302521008403361 | Horizontal:49, Vertical:101 | Blacks:2380\n",
      "Componente:23 | Ratio:0.0907715582450832 | Horizontal:32, Vertical:88 | Blacks:1322\n",
      "Componente:24 | Ratio:0.1011764705882353 | Horizontal:29, Vertical:14 | Blacks:425\n",
      "Componente:25 | Ratio:0.07202842377260982 | Horizontal:69, Vertical:154 | Blacks:3096\n",
      "Componente:26 | Ratio:0.06139315230224321 | Horizontal:51, Vertical:105 | Blacks:2541\n",
      "Componente:27 | Ratio:0.06852925672113865 | Horizontal:58, Vertical:72 | Blacks:1897\n",
      "Componente:28 | Ratio:0.10204081632653061 | Horizontal:48, Vertical:37 | Blacks:833\n",
      "Componente:29 | Ratio:0.10440503432494279 | Horizontal:95, Vertical:270 | Blacks:3496\n",
      "Componente:30 | Ratio:0.09444444444444444 | Horizontal:43, Vertical:178 | Blacks:2340\n",
      "Componente:31 | Ratio:0.07578084997439836 | Horizontal:67, Vertical:81 | Blacks:1953\n",
      "Componente:32 | Ratio:0.10174484477679584 | Horizontal:89, Vertical:360 | Blacks:4413\n",
      "Componente:33 | Ratio:0.09606205250596658 | Horizontal:67, Vertical:94 | Blacks:1676\n",
      "Componente:34 | Ratio:0.14702581369248036 | Horizontal:55, Vertical:76 | Blacks:891\n",
      "Componente:35 | Ratio:0.05010155721056195 | Horizontal:27, Vertical:47 | Blacks:1477\n",
      "Componente:36 | Ratio:0.09285714285714286 | Horizontal:28, Vertical:11 | Blacks:420\n",
      "Componente:37 | Ratio:0.10097864768683273 | Horizontal:57, Vertical:170 | Blacks:2248\n",
      "Componente:38 | Ratio:0.0938375350140056 | Horizontal:155, Vertical:381 | Blacks:5712\n",
      "Componente:39 | Ratio:0.13857142857142857 | Horizontal:46, Vertical:51 | Blacks:700\n",
      "Componente:40 | Ratio:0.10436178753010436 | Horizontal:105, Vertical:285 | Blacks:3737\n",
      "Componente:41 | Ratio:0.05340050377833753 | Horizontal:30, Vertical:76 | Blacks:1985\n",
      "Componente:42 | Ratio:0.13895216400911162 | Horizontal:33, Vertical:28 | Blacks:439\n",
      "Componente:43 | Ratio:0.20819112627986347 | Horizontal:98, Vertical:85 | Blacks:879\n",
      "Componente:44 | Ratio:0.07557397959183673 | Horizontal:73, Vertical:164 | Blacks:3136\n",
      "Componente:45 | Ratio:0.1322269807280514 | Horizontal:87, Vertical:160 | Blacks:1868\n",
      "Componente:46 | Ratio:0.14040114613180515 | Horizontal:46, Vertical:52 | Blacks:698\n",
      "Componente:47 | Ratio:0.06308610400682012 | Horizontal:65, Vertical:83 | Blacks:2346\n",
      "Componente:48 | Ratio:0.09914712153518124 | Horizontal:47, Vertical:46 | Blacks:938\n",
      "Componente:49 | Ratio:0.10132715399199495 | Horizontal:115, Vertical:366 | Blacks:4747\n",
      "Componente:50 | Ratio:0.10285285285285285 | Horizontal:53, Vertical:84 | Blacks:1332\n",
      "Componente:51 | Ratio:0.06766256590509666 | Horizontal:28, Vertical:49 | Blacks:1138\n",
      "Componente:52 | Ratio:0.055412371134020616 | Horizontal:44, Vertical:85 | Blacks:2328\n",
      "Componente:53 | Ratio:0.09203980099502487 | Horizontal:27, Vertical:10 | Blacks:402\n",
      "Componente:54 | Ratio:0.09596510359869138 | Horizontal:43, Vertical:45 | Blacks:917\n",
      "Componente:55 | Ratio:0.07556859867938372 | Horizontal:50, Vertical:53 | Blacks:1363\n",
      "Componente:56 | Ratio:0.13601665510062458 | Horizontal:133, Vertical:259 | Blacks:2882\n",
      "Componente:57 | Ratio:0.09796827163929864 | Horizontal:74, Vertical:278 | Blacks:3593\n",
      "Componente:58 | Ratio:0.11159107271418287 | Horizontal:124, Vertical:341 | Blacks:4167\n",
      "Componente:59 | Ratio:0.14703196347031963 | Horizontal:73, Vertical:88 | Blacks:1095\n",
      "Componente:60 | Ratio:0.08888888888888889 | Horizontal:48, Vertical:72 | Blacks:1350\n",
      "Componente:61 | Ratio:0.09266995822255981 | Horizontal:70, Vertical:418 | Blacks:5266\n",
      "Componente:62 | Ratio:0.03645200486026731 | Horizontal:23, Vertical:7 | Blacks:823\n",
      "Componente:63 | Ratio:0.10811768876285005 | Horizontal:95, Vertical:210 | Blacks:2821\n",
      "Componente:64 | Ratio:0.09715994020926756 | Horizontal:48, Vertical:82 | Blacks:1338\n",
      "Componente:65 | Ratio:0.11871657754010695 | Horizontal:44, Vertical:67 | Blacks:935\n",
      "Componente:66 | Ratio:0.10683760683760683 | Horizontal:45, Vertical:30 | Blacks:702\n",
      "Componente:67 | Ratio:0.11353517364203028 | Horizontal:74, Vertical:181 | Blacks:2246\n",
      "Componente:68 | Ratio:0.08630609896432681 | Horizontal:47, Vertical:28 | Blacks:869\n",
      "Componente:69 | Ratio:0.07401177460050462 | Horizontal:52, Vertical:124 | Blacks:2378\n",
      "Componente:70 | Ratio:0.09290096406660824 | Horizontal:36, Vertical:70 | Blacks:1141\n",
      "Componente:71 | Ratio:0.05995511381853158 | Horizontal:35, Vertical:152 | Blacks:3119\n",
      "Componente:72 | Ratio:0.05875 | Horizontal:44, Vertical:50 | Blacks:1600\n",
      "Componente:73 | Ratio:0.040235525024533855 | Horizontal:18, Vertical:105 | Blacks:3057\n",
      "Componente:74 | Ratio:0.0603448275862069 | Horizontal:28, Vertical:49 | Blacks:1276\n",
      "Componente:75 | Ratio:0.1185858089860054 | Horizontal:124, Vertical:359 | Blacks:4073\n",
      "Componente:76 | Ratio:0.1532033426183844 | Horizontal:75, Vertical:90 | Blacks:1077\n",
      "Componente:77 | Ratio:0.07806691449814127 | Horizontal:50, Vertical:55 | Blacks:1345\n",
      "Componente:78 | Ratio:0.07157057654075547 | Horizontal:111, Vertical:213 | Blacks:4527\n",
      "Componente:79 | Ratio:0.09348978046934141 | Horizontal:77, Vertical:170 | Blacks:2642\n",
      "Componente:80 | Ratio:0.0811041548093341 | Horizontal:79, Vertical:206 | Blacks:3514\n",
      "Componente:81 | Ratio:0.09480122324159021 | Horizontal:52, Vertical:72 | Blacks:1308\n",
      "Componente:82 | Ratio:0.12340966921119594 | Horizontal:39, Vertical:58 | Blacks:786\n",
      "Componente:83 | Ratio:0.08938294010889292 | Horizontal:30, Vertical:167 | Blacks:2204\n",
      "Componente:84 | Ratio:0.050742574257425746 | Horizontal:26, Vertical:15 | Blacks:808\n",
      "Componente:85 | Ratio:0.10294546515018956 | Horizontal:83, Vertical:270 | Blacks:3429\n",
      "Componente:86 | Ratio:0.09774436090225563 | Horizontal:46, Vertical:45 | Blacks:931\n",
      "Componente:87 | Ratio:0.09165751920965971 | Horizontal:110, Vertical:391 | Blacks:5466\n",
      "Componente:88 | Ratio:0.10235640648011782 | Horizontal:55, Vertical:84 | Blacks:1358\n",
      "Componente:89 | Ratio:0.09444072337575352 | Horizontal:72, Vertical:69 | Blacks:1493\n",
      "Componente:90 | Ratio:0.09617850730956655 | Horizontal:75, Vertical:300 | Blacks:3899\n",
      "Componente:91 | Ratio:0.10266159695817491 | Horizontal:54, Vertical:27 | Blacks:789\n",
      "Componente:92 | Ratio:0.09601873536299765 | Horizontal:29, Vertical:12 | Blacks:427\n",
      "Componente:93 | Ratio:0.08580106302201974 | Horizontal:38, Vertical:188 | Blacks:2634\n",
      "Componente:94 | Ratio:0.05972532737144682 | Horizontal:31, Vertical:156 | Blacks:3131\n",
      "Componente:95 | Ratio:0.11932418162618796 | Horizontal:47, Vertical:66 | Blacks:947\n",
      "Componente:96 | Ratio:0.11790529946691752 | Horizontal:111, Vertical:265 | Blacks:3189\n",
      "Componente:97 | Ratio:0.09553349875930521 | Horizontal:45, Vertical:32 | Blacks:806\n",
      "Componente:98 | Ratio:0.09884559884559885 | Horizontal:46, Vertical:91 | Blacks:1386\n",
      "Componente:99 | Ratio:0.10955056179775281 | Horizontal:48, Vertical:30 | Blacks:712\n",
      "Componente:100 | Ratio:0.10677906568317527 | Horizontal:98, Vertical:206 | Blacks:2847\n",
      "Componente:101 | Ratio:0.09951845906902086 | Horizontal:59, Vertical:127 | Blacks:1869\n",
      "Componente:102 | Ratio:0.10695970695970695 | Horizontal:51, Vertical:95 | Blacks:1365\n",
      "Componente:103 | Ratio:0.10888157894736843 | Horizontal:105, Vertical:226 | Blacks:3040\n",
      "Componente:104 | Ratio:0.07198748043818466 | Horizontal:70, Vertical:206 | Blacks:3834\n",
      "Componente:105 | Ratio:0.08505041648399825 | Horizontal:34, Vertical:160 | Blacks:2281\n",
      "Componente:106 | Ratio:0.09481361426256078 | Horizontal:111, Vertical:357 | Blacks:4936\n",
      "Componente:107 | Ratio:0.07142857142857142 | Horizontal:53, Vertical:92 | Blacks:2030\n",
      "Componente:108 | Ratio:0.09895470383275261 | Horizontal:111, Vertical:315 | Blacks:4305\n",
      "Componente:109 | Ratio:0.09632034632034632 | Horizontal:46, Vertical:43 | Blacks:924\n",
      "Componente:110 | Ratio:0.08024691358024691 | Horizontal:52, Vertical:78 | Blacks:1620\n",
      "Componente:111 | Ratio:0.09979423868312758 | Horizontal:46, Vertical:51 | Blacks:972\n",
      "Componente:112 | Ratio:0.1322690992018244 | Horizontal:58, Vertical:58 | Blacks:877\n",
      "Componente:113 | Ratio:0.10861423220973783 | Horizontal:31, Vertical:56 | Blacks:801\n",
      "Componente:114 | Ratio:0.07671957671957672 | Horizontal:38, Vertical:49 | Blacks:1134\n",
      "Componente:115 | Ratio:0.095723813260102 | Horizontal:53, Vertical:191 | Blacks:2549\n",
      "Componente:116 | Ratio:0.07439198855507868 | Horizontal:34, Vertical:70 | Blacks:1398\n",
      "Componente:117 | Ratio:0.1385724250174378 | Horizontal:178, Vertical:418 | Blacks:4301\n",
      "Componente:118 | Ratio:0.08632543926661573 | Horizontal:82, Vertical:257 | Blacks:3927\n",
      "Componente:119 | Ratio:0.10246913580246914 | Horizontal:67, Vertical:99 | Blacks:1620\n",
      "Componente:120 | Ratio:0.08681135225375626 | Horizontal:89, Vertical:223 | Blacks:3594\n",
      "Componente:121 | Ratio:0.09969481180061038 | Horizontal:78, Vertical:118 | Blacks:1966\n",
      "Componente:122 | Ratio:0.07432432432432433 | Horizontal:49, Vertical:50 | Blacks:1332\n",
      "Componente:123 | Ratio:0.1080013170892328 | Horizontal:100, Vertical:228 | Blacks:3037\n",
      "Componente:124 | Ratio:0.07603092783505154 | Horizontal:55, Vertical:63 | Blacks:1552\n",
      "Componente:125 | Ratio:0.09338929695697797 | Horizontal:45, Vertical:44 | Blacks:953\n",
      "Componente:126 | Ratio:0.07008670520231214 | Horizontal:45, Vertical:52 | Blacks:1384\n",
      "Componente:127 | Ratio:0.09327133479212253 | Horizontal:75, Vertical:266 | Blacks:3656\n",
      "Componente:128 | Ratio:0.04743752647183397 | Horizontal:30, Vertical:82 | Blacks:2361\n",
      "Componente:129 | Ratio:0.0870988867059594 | Horizontal:24, Vertical:109 | Blacks:1527\n",
      "Componente:130 | Ratio:0.14285714285714285 | Horizontal:22, Vertical:19 | Blacks:287\n",
      "Componente:131 | Ratio:0.11428571428571428 | Horizontal:45, Vertical:47 | Blacks:805\n",
      "Componente:132 | Ratio:0.0916256157635468 | Horizontal:53, Vertical:133 | Blacks:2030\n",
      "Componente:133 | Ratio:0.07738693467336684 | Horizontal:62, Vertical:169 | Blacks:2985\n",
      "Componente:134 | Ratio:0.1084967320261438 | Horizontal:47, Vertical:36 | Blacks:765\n",
      "Componente:135 | Ratio:0.07797427652733119 | Horizontal:46, Vertical:51 | Blacks:1244\n",
      "Componente:136 | Ratio:0.09737638748738647 | Horizontal:109, Vertical:277 | Blacks:3964\n",
      "Componente:137 | Ratio:0.19 | Horizontal:84, Vertical:125 | Blacks:1100\n",
      "Componente:138 | Ratio:0.2420128292956343 | Horizontal:1714, Vertical:2172 | Blacks:16057\n",
      "Componente:139 | Ratio:0.10565902578796561 | Horizontal:90, Vertical:205 | Blacks:2792\n",
      "Componente:140 | Ratio:0.09815242494226328 | Horizontal:28, Vertical:57 | Blacks:866\n",
      "Componente:141 | Ratio:0.07014542343883662 | Horizontal:26, Vertical:56 | Blacks:1169\n",
      "Componente:142 | Ratio:0.045657015590200446 | Horizontal:20, Vertical:21 | Blacks:898\n",
      "Componente:143 | Ratio:0.11494252873563218 | Horizontal:13, Vertical:17 | Blacks:261\n",
      "Componente:144 | Ratio:0.09529860228716645 | Horizontal:102, Vertical:273 | Blacks:3935\n",
      "Componente:145 | Ratio:0.09929356357927786 | Horizontal:71, Vertical:182 | Blacks:2548\n",
      "Componente:146 | Ratio:0.22567498726439122 | Horizontal:178, Vertical:265 | Blacks:1963\n",
      "Componente:147 | Ratio:0.0 | Horizontal:0, Vertical:0 | Blacks:12\n",
      "Componente:148 | Ratio:0.10173697270471464 | Horizontal:43, Vertical:39 | Blacks:806\n",
      "Componente:149 | Ratio:0.06499261447562776 | Horizontal:50, Vertical:82 | Blacks:2031\n",
      "Componente:150 | Ratio:0.09471458773784355 | Horizontal:62, Vertical:162 | Blacks:2365\n",
      "Componente:151 | Ratio:0.10615989515072084 | Horizontal:51, Vertical:30 | Blacks:763\n",
      "Componente:152 | Ratio:0.06772908366533864 | Horizontal:37, Vertical:48 | Blacks:1255\n",
      "Componente:153 | Ratio:0.09315684315684315 | Horizontal:108, Vertical:265 | Blacks:4004\n",
      "Componente:154 | Ratio:0.2030360531309298 | Horizontal:88, Vertical:126 | Blacks:1054\n",
      "Componente:155 | Ratio:0.10012674271229405 | Horizontal:53, Vertical:105 | Blacks:1578\n",
      "Componente:156 | Ratio:0.11328705999008429 | Horizontal:129, Vertical:328 | Blacks:4034\n",
      "Componente:157 | Ratio:0.060175054704595186 | Horizontal:29, Vertical:26 | Blacks:914\n",
      "Componente:158 | Ratio:0.11479591836734694 | Horizontal:30, Vertical:15 | Blacks:392\n",
      "Componente:159 | Ratio:0.09845758354755783 | Horizontal:108, Vertical:275 | Blacks:3890\n",
      "Componente:160 | Ratio:0.12825458052073288 | Horizontal:102, Vertical:164 | Blacks:2074\n",
      "Componente:161 | Ratio:0.1773117254528122 | Horizontal:75, Vertical:111 | Blacks:1049\n",
      "Componente:162 | Ratio:0.23997641509433962 | Horizontal:134, Vertical:273 | Blacks:1696\n",
      "Componente:163 | Ratio:0.08430393788130892 | Horizontal:68, Vertical:84 | Blacks:1803\n",
      "Componente:164 | Ratio:0.09825033647375504 | Horizontal:65, Vertical:227 | Blacks:2972\n",
      "Componente:165 | Ratio:0.09715330373465657 | Horizontal:79, Vertical:293 | Blacks:3829\n",
      "Componente:166 | Ratio:0.1079219288174512 | Horizontal:61, Vertical:127 | Blacks:1742\n",
      "Componente:167 | Ratio:0.11993134520489165 | Horizontal:168, Vertical:391 | Blacks:4661\n",
      "Componente:168 | Ratio:0.09649122807017543 | Horizontal:42, Vertical:35 | Blacks:798\n",
      "Componente:169 | Ratio:0.058383233532934134 | Horizontal:38, Vertical:79 | Blacks:2004\n",
      "Componente:170 | Ratio:0.20361990950226244 | Horizontal:32, Vertical:13 | Blacks:221\n",
      "Componente:171 | Ratio:0.08651026392961877 | Horizontal:29, Vertical:30 | Blacks:682\n",
      "Componente:172 | Ratio:0.11038961038961038 | Horizontal:42, Vertical:111 | Blacks:1386\n",
      "Componente:173 | Ratio:0.06143344709897611 | Horizontal:31, Vertical:41 | Blacks:1172\n",
      "Componente:174 | Ratio:0.13652045342533267 | Horizontal:110, Vertical:167 | Blacks:2029\n",
      "Componente:175 | Ratio:0.13202247191011235 | Horizontal:51, Vertical:90 | Blacks:1068\n",
      "Componente:176 | Ratio:0.10278053624627606 | Horizontal:67, Vertical:140 | Blacks:2014\n",
      "Componente:177 | Ratio:0.056451612903225805 | Horizontal:21, Vertical:28 | Blacks:868\n",
      "Componente:178 | Ratio:0.1024390243902439 | Horizontal:45, Vertical:39 | Blacks:820\n",
      "Componente:179 | Ratio:0.0900990099009901 | Horizontal:54, Vertical:128 | Blacks:2020\n",
      "Componente:180 | Ratio:0.13406940063091483 | Horizontal:41, Vertical:44 | Blacks:634\n",
      "Componente:181 | Ratio:0.06564748201438848 | Horizontal:75, Vertical:144 | Blacks:3336\n",
      "Componente:182 | Ratio:0.12365805168986084 | Horizontal:68, Vertical:243 | Blacks:2515\n",
      "Componente:183 | Ratio:0.09765625 | Horizontal:45, Vertical:30 | Blacks:768\n",
      "Componente:184 | Ratio:0.08432776451869531 | Horizontal:43, Vertical:63 | Blacks:1257\n",
      "Componente:185 | Ratio:0.10203639514731369 | Horizontal:122, Vertical:349 | Blacks:4616\n",
      "Componente:186 | Ratio:0.17094017094017094 | Horizontal:26, Vertical:14 | Blacks:234\n",
      "Componente:187 | Ratio:0.0879038317054846 | Horizontal:15, Vertical:102 | Blacks:1331\n",
      "Componente:188 | Ratio:0.03945371775417299 | Horizontal:18, Vertical:60 | Blacks:1977\n",
      "Componente:189 | Ratio:0.05227882037533512 | Horizontal:23, Vertical:16 | Blacks:746\n",
      "Componente:190 | Ratio:0.0953125 | Horizontal:104, Vertical:262 | Blacks:3840\n",
      "Componente:191 | Ratio:0.12209589718240237 | Horizontal:113, Vertical:134 | Blacks:2023\n",
      "Componente:192 | Ratio:0.14103819784524976 | Horizontal:60, Vertical:84 | Blacks:1021\n",
      "Componente:193 | Ratio:0.10200927357032458 | Horizontal:39, Vertical:27 | Blacks:647\n",
      "Componente:194 | Ratio:0.09843885516045099 | Horizontal:76, Vertical:151 | Blacks:2306\n",
      "Componente:195 | Ratio:0.15501519756838905 | Horizontal:71, Vertical:82 | Blacks:987\n",
      "Componente:196 | Ratio:0.07313195548489666 | Horizontal:42, Vertical:50 | Blacks:1258\n",
      "Componente:197 | Ratio:0.09561270801815432 | Horizontal:74, Vertical:242 | Blacks:3305\n",
      "Componente:198 | Ratio:0.09699769053117784 | Horizontal:41, Vertical:43 | Blacks:866\n",
      "Componente:199 | Ratio:0.09959183673469388 | Horizontal:45, Vertical:77 | Blacks:1225\n",
      "Componente:200 | Ratio:0.15946843853820597 | Horizontal:20, Vertical:28 | Blacks:301\n",
      "Componente:201 | Ratio:0.08895705521472393 | Horizontal:126, Vertical:193 | Blacks:3586\n",
      "Componente:202 | Ratio:0.13855072463768117 | Horizontal:85, Vertical:154 | Blacks:1725\n",
      "Componente:203 | Ratio:0.12273940112659354 | Horizontal:103, Vertical:311 | Blacks:3373\n",
      "Componente:204 | Ratio:0.10318791946308725 | Horizontal:29, Vertical:94 | Blacks:1192\n",
      "Componente:205 | Ratio:0.0 | Horizontal:0, Vertical:0 | Blacks:12\n",
      "Componente:206 | Ratio:0.09687215305192834 | Horizontal:89, Vertical:230 | Blacks:3293\n",
      "Componente:207 | Ratio:0.09831029185867896 | Horizontal:78, Vertical:242 | Blacks:3255\n",
      "Componente:208 | Ratio:0.10710128055878929 | Horizontal:48, Vertical:44 | Blacks:859\n",
      "Componente:209 | Ratio:0.07959022852639874 | Horizontal:50, Vertical:51 | Blacks:1269\n",
      "Componente:210 | Ratio:0.08044901777362021 | Horizontal:38, Vertical:48 | Blacks:1069\n",
      "Componente:211 | Ratio:0.1050328227571116 | Horizontal:32, Vertical:64 | Blacks:914\n",
      "Componente:212 | Ratio:0.10232772528232312 | Horizontal:69, Vertical:375 | Blacks:4339\n",
      "Componente:213 | Ratio:0.10088781275221953 | Horizontal:84, Vertical:166 | Blacks:2478\n",
      "Componente:214 | Ratio:0.09466984884645982 | Horizontal:55, Vertical:64 | Blacks:1257\n",
      "Componente:215 | Ratio:0.10917721518987342 | Horizontal:33, Vertical:36 | Blacks:632\n",
      "Componente:216 | Ratio:0.10240615976900866 | Horizontal:130, Vertical:402 | Blacks:5195\n",
      "Componente:217 | Ratio:0.08995664739884393 | Horizontal:62, Vertical:187 | Blacks:2768\n",
      "Componente:218 | Ratio:0.12620578778135047 | Horizontal:61, Vertical:96 | Blacks:1244\n",
      "Componente:219 | Ratio:0.1595238095238095 | Horizontal:37, Vertical:30 | Blacks:420\n",
      "Componente:220 | Ratio:0.09646941819990054 | Horizontal:43, Vertical:151 | Blacks:2011\n",
      "Componente:221 | Ratio:0.10697179350718468 | Horizontal:48, Vertical:153 | Blacks:1879\n",
      "Componente:222 | Ratio:0.048796356538711776 | Horizontal:15, Vertical:60 | Blacks:1537\n",
      "Componente:223 | Ratio:0.02511773940345369 | Horizontal:11, Vertical:5 | Blacks:637\n",
      "Componente:224 | Ratio:0.11007268951194185 | Horizontal:66, Vertical:146 | Blacks:1926\n",
      "Componente:225 | Ratio:0.12794117647058822 | Horizontal:163, Vertical:359 | Blacks:4080\n",
      "Componente:226 | Ratio:0.0 | Horizontal:0, Vertical:0 | Blacks:12\n",
      "Componente:227 | Ratio:0.0975609756097561 | Horizontal:43, Vertical:41 | Blacks:861\n",
      "Componente:228 | Ratio:0.09775641025641026 | Horizontal:42, Vertical:80 | Blacks:1248\n",
      "Componente:229 | Ratio:0.11692913385826771 | Horizontal:91, Vertical:206 | Blacks:2540\n",
      "Componente:230 | Ratio:0.10765027322404372 | Horizontal:68, Vertical:129 | Blacks:1830\n",
      "Componente:231 | Ratio:0.0908353609083536 | Horizontal:45, Vertical:67 | Blacks:1233\n",
      "Componente:232 | Ratio:0.10637381567614125 | Horizontal:66, Vertical:181 | Blacks:2322\n",
      "Componente:233 | Ratio:0.09665909828089524 | Horizontal:64, Vertical:234 | Blacks:3083\n",
      "Componente:234 | Ratio:0.1113892365456821 | Horizontal:51, Vertical:38 | Blacks:799\n",
      "Componente:235 | Ratio:0.10743243243243243 | Horizontal:62, Vertical:97 | Blacks:1480\n",
      "Componente:236 | Ratio:0.1136 | Horizontal:38, Vertical:33 | Blacks:625\n",
      "Componente:237 | Ratio:0.11506172839506174 | Horizontal:69, Vertical:164 | Blacks:2025\n",
      "Componente:238 | Ratio:0.11051051051051052 | Horizontal:60, Vertical:124 | Blacks:1665\n",
      "Componente:239 | Ratio:0.11896551724137931 | Horizontal:45, Vertical:24 | Blacks:580\n",
      "Componente:240 | Ratio:0.1038961038961039 | Horizontal:40, Vertical:24 | Blacks:616\n",
      "Componente:241 | Ratio:0.06533718184203621 | Horizontal:86, Vertical:163 | Blacks:3811\n",
      "Componente:242 | Ratio:0.09929078014184398 | Horizontal:60, Vertical:206 | Blacks:2679\n",
      "Componente:243 | Ratio:0.08516483516483517 | Horizontal:26, Vertical:36 | Blacks:728\n",
      "Componente:244 | Ratio:0.07923497267759563 | Horizontal:19, Vertical:10 | Blacks:366\n",
      "Componente:245 | Ratio:0.09424083769633508 | Horizontal:26, Vertical:10 | Blacks:382\n",
      "Componente:246 | Ratio:0.06772908366533864 | Horizontal:79, Vertical:159 | Blacks:3514\n",
      "Componente:247 | Ratio:0.1233453670276775 | Horizontal:78, Vertical:127 | Blacks:1662\n",
      "Componente:248 | Ratio:0.17443868739205526 | Horizontal:52, Vertical:49 | Blacks:579\n",
      "Componente:249 | Ratio:0.07692307692307693 | Horizontal:39, Vertical:75 | Blacks:1482\n",
      "Componente:250 | Ratio:0.057667103538663174 | Horizontal:22, Vertical:22 | Blacks:763\n"
     ]
    }
   ],
   "source": [
    "for label in word_transition_ratios:\n",
    "    print('Componente:{} | Ratio:{} | Horizontal:{}, Vertical:{} | Blacks:{}'.format(label,word_transition_ratios[label], word_hor_tran_amount[label], word_ver_tran_amount[label], word_total_black_amount[label]))"
   ]
  },
  {
   "cell_type": "markdown",
   "metadata": {},
   "source": [
    "#### Passo 6.9: Criar uma regra para determinar se um componente conexo é texto ou não\n",
    "\n",
    "Da mesma maneira que foi feito na Etapa 5.9, nesta etapa salvaremos a relação entre os componentes conexos e sua identificação como texto (1) ou não texto (0) em um dicionário, em que a chave é o número do componente conexo e o valor é a flag. O dicionário utilizado para esse fim é chamado **word_component_classes**.\n",
    "\n",
    "Assim como feito anteriormente, o fundo da imagem, que é o componente de número 0, recebe flag 0, indicando que ele não é texto."
   ]
  },
  {
   "cell_type": "code",
   "execution_count": 69,
   "metadata": {},
   "outputs": [],
   "source": [
    "word_component_classes = {}"
   ]
  },
  {
   "cell_type": "code",
   "execution_count": 70,
   "metadata": {},
   "outputs": [],
   "source": [
    "for comp_key in range(word_num_labels):\n",
    "    if comp_key == 0:\n",
    "        word_component_classes[comp_key] = 0\n",
    "    elif word_black_ratios[comp_key] <= 0.27:\n",
    "        word_component_classes[comp_key] = 0\n",
    "    elif word_transition_ratios[comp_key] < 0.008:\n",
    "        word_component_classes[comp_key] = 0\n",
    "    else:\n",
    "        word_component_classes[comp_key] = 1"
   ]
  },
  {
   "cell_type": "code",
   "execution_count": 71,
   "metadata": {},
   "outputs": [],
   "source": [
    "# for key in word_component_classes:\n",
    "#     print(\"Componente:{} | Text: {}\".format(key,word_component_classes[key]))"
   ]
  },
  {
   "cell_type": "code",
   "execution_count": 72,
   "metadata": {},
   "outputs": [
    {
     "name": "stdout",
     "output_type": "stream",
     "text": [
      "242\n"
     ]
    },
    {
     "data": {
      "image/png": "[encoded data removed]",
      "text/plain": [
       "<Figure size 720x720 with 1 Axes>"
      ]
     },
     "metadata": {
      "needs_background": "light"
     },
     "output_type": "display_data"
    }
   ],
   "source": [
    "text_labels = [key for key in word_component_classes if word_component_classes[key] == 1]\n",
    "no_text_labels = [key for key in word_component_classes if word_component_classes[key] == 0]\n",
    "text_stats = word_stats[text_labels]\n",
    "\n",
    "text_image = np.copy(word_image_labels)\n",
    "for l in no_text_labels:\n",
    "    text_image[text_image == l] = 0\n",
    "\n",
    "print(len(text_stats))\n",
    "imshowComponentsRectangles(text_image, text_stats)"
   ]
  },
  {
   "cell_type": "markdown",
   "metadata": {},
   "source": [
    "### Passo 07: Contar o número de blocos de palavras e colocar retângulos envolventes na imagem original"
   ]
  },
  {
   "cell_type": "markdown",
   "metadata": {},
   "source": [
    "#### Passo 7.1: Contar número de palavras\n",
    "\n",
    "Como no Passo 6 identificamos os blocos de palavras existentes na imagem, para contarmos quantos deles existem, basta olharmos quantos dos itens do dicionário **word_component_classes** possuem valor igual a 1, pois foi nesse dicionário que armazenamos o resultado das regras desenvolvidas no Passo 6.9."
   ]
  },
  {
   "cell_type": "code",
   "execution_count": 73,
   "metadata": {},
   "outputs": [
    {
     "name": "stdout",
     "output_type": "stream",
     "text": [
      "O número de blocos de palavras é:242\n"
     ]
    }
   ],
   "source": [
    "word_classes_values = np.array(list(word_component_classes.values()))\n",
    "number_of_words = word_classes_values[word_classes_values == 1]\n",
    "print(\"O número de blocos de palavras é:{}\".format(len(number_of_words)))"
   ]
  },
  {
   "cell_type": "markdown",
   "metadata": {},
   "source": [
    "#### Passo 7.2: Colocar retângulo envolvente em torno dos blocos de palavras\n",
    "\n",
    "Para colocarmos retângulos em volta apenas dos blocos de palavras, filtraremos a estrutura de dados que armazena as localizações dos componentes conexos obtidos no Passo 6.7 (**word_stats**), mantendo apenas aquelas que indicam palavras. Elas serão salvas em uma lista chamada **clean_word_stats**. "
   ]
  },
  {
   "cell_type": "code",
   "execution_count": 74,
   "metadata": {},
   "outputs": [],
   "source": [
    "clean_word_stats = []\n",
    "for key in word_component_classes:\n",
    "    if word_component_classes[key]:\n",
    "        clean_word_stats.append(word_stats[key])"
   ]
  },
  {
   "cell_type": "code",
   "execution_count": 75,
   "metadata": {},
   "outputs": [
    {
     "data": {
      "image/png": "[encoded data removed]",
      "text/plain": [
       "<Figure size 720x720 with 1 Axes>"
      ]
     },
     "metadata": {
      "needs_background": "light"
     },
     "output_type": "display_data"
    }
   ],
   "source": [
    "printImageRectangles(np.copy(image), clean_word_stats)"
   ]
  },
  {
   "cell_type": "markdown",
   "metadata": {},
   "source": [
    "### Passo 08: Contar número de linhas de texto\n",
    "\n",
    "Para contarmos o número de linhas de texto, usaremos o dicionário **line_component_classes**, cujos itens indicam quais componentes conexos são considerados textos, considerando as etapas realizadas no Passo 5. Entretanto, ao contrário do que fizemos na seção anterior, não basta contar o número de itens que possuem valor igual a 1. Isso acontece porque, de acordo com as operações que foram aplicadas, podemos ter mais de um componente conexo que está na mesma linha.\n",
    "\n",
    "Assim, primeiro filtraremos a estrutura que armazena as localizações dos componentes conexos obtidos no Passo 5.7 (**line_stats**), para manter apenas as localizações que indicam linhas de texto. Armazenaremos essas localizações na lista **clean_line_stats**.\n",
    "\n",
    "Então, para cada componente conexo considerado texto, procuraremos outros componentes conexos que estejam na mesma linha. Para determinarmos se dois componentes conexos estão na mesma linha, utilizamos as coordenadas na direção $y$ (linhas) de cada um. Se a coordenada $y$ de um componente $i$ estiver dentro do intervalo de valores da coordenada $y$ de um outro componente $j$, em que esse intervalo é $(y' + dy')$, para $i != j$, então dizemos que $i$ e $j$ estão na mesma linha."
   ]
  },
  {
   "cell_type": "code",
   "execution_count": 76,
   "metadata": {},
   "outputs": [],
   "source": [
    "clean_line_stats = []\n",
    "for key in line_component_classes:\n",
    "    if line_component_classes[key]:\n",
    "        clean_line_stats.append(line_stats[key])"
   ]
  },
  {
   "cell_type": "code",
   "execution_count": 77,
   "metadata": {},
   "outputs": [],
   "source": [
    "same_line_dict = {}\n",
    "for pos in range(len(clean_line_stats)):\n",
    "    same_line_dict[pos] = []"
   ]
  },
  {
   "cell_type": "code",
   "execution_count": 78,
   "metadata": {},
   "outputs": [],
   "source": [
    "for pos in range(len(clean_line_stats)):\n",
    "    for pos2 in range (len(clean_line_stats)):\n",
    "        if pos == pos2:\n",
    "            continue\n",
    "        reference = clean_line_stats[pos]\n",
    "        check = clean_line_stats[pos2]\n",
    "        if check[1] >= reference[1] and check[1] <= reference[1] + reference[3]:\n",
    "            same_line_dict[pos].append(pos2)"
   ]
  },
  {
   "cell_type": "code",
   "execution_count": 79,
   "metadata": {},
   "outputs": [],
   "source": [
    "aux_same_line_dict = same_line_dict.copy()\n",
    "for key in same_line_dict:        \n",
    "    for comp in same_line_dict[key]:\n",
    "        aux_same_line_dict.pop(comp,-1)"
   ]
  },
  {
   "cell_type": "code",
   "execution_count": 80,
   "metadata": {},
   "outputs": [
    {
     "name": "stdout",
     "output_type": "stream",
     "text": [
      "O número de linhas de texto é: 26\n"
     ]
    }
   ],
   "source": [
    "number_of_lines = len(aux_same_line_dict.keys())\n",
    "print(\"O número de linhas de texto é: {}\".format(number_of_lines))"
   ]
  },
  {
   "cell_type": "markdown",
   "metadata": {},
   "source": [
    "### Passo 09: Salvar imagens"
   ]
  },
  {
   "cell_type": "code",
   "execution_count": 81,
   "metadata": {},
   "outputs": [],
   "source": [
    "# for key in line_processed_images:\n",
    "#     cv.imwrite('output_images/line_processed_'+key+'.pbm', line_processed_images[key])"
   ]
  },
  {
   "cell_type": "code",
   "execution_count": 82,
   "metadata": {},
   "outputs": [],
   "source": [
    "# for key in word_processed_images:\n",
    "#     cv.imwrite('output_images/word_processed_'+key+'.pbm', word_processed_images[key])"
   ]
  },
  {
   "cell_type": "code",
   "execution_count": null,
   "metadata": {},
   "outputs": [],
   "source": [
    "# cv.imwrite('output_images/word_rectangles.png', getRectanglesImage(np.copy(image), clean_word_stats))"
   ]
  },
  {
   "cell_type": "code",
   "execution_count": null,
   "metadata": {},
   "outputs": [],
   "source": []
  }
 ],
 "metadata": {
  "kernelspec": {
   "display_name": "Python 3",
   "language": "python",
   "name": "python3"
  },
  "language_info": {
   "codemirror_mode": {
    "name": "ipython",
    "version": 3
   },
   "file_extension": ".py",
   "mimetype": "text/x-python",
   "name": "python",
   "nbconvert_exporter": "python",
   "pygments_lexer": "ipython3",
   "version": "3.7.4"
  }
 },
 "nbformat": 4,
 "nbformat_minor": 2
}
