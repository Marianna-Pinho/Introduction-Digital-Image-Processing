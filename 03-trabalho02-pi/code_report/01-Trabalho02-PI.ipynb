{
 "cells": [
  {
   "cell_type": "markdown",
   "metadata": {},
   "source": [
    "# <center>Trabalho 02 - Introdução ao Processamento de Imagem Digital</center>\n",
    "\n",
    "**Aluno(a):** Marianna de Pinho Severo <br>\n",
    "**RA:** 264960 <br>\n",
    "**Professor:** Hélio Pedrini\n"
   ]
  },
  {
   "cell_type": "markdown",
   "metadata": {},
   "source": [
    "### Passo 01: Importar bibliotecas"
   ]
  },
  {
   "cell_type": "code",
   "execution_count": 1,
   "metadata": {},
   "outputs": [],
   "source": [
    "%matplotlib inline\n",
    "import cv2 as cv\n",
    "import numpy as np\n",
    "import matplotlib.pyplot as plt\n",
    "from scipy import signal"
   ]
  },
  {
   "cell_type": "markdown",
   "metadata": {},
   "source": [
    "### Passo 02: Criar funções auxiliares"
   ]
  },
  {
   "cell_type": "code",
   "execution_count": 2,
   "metadata": {},
   "outputs": [],
   "source": [
    "def plotImage(image):\n",
    "    plt.figure(figsize=(5, 5))\n",
    "    plt.imshow(image, cmap='gray', vmin=0, vmax=255)\n",
    "    plt.show()"
   ]
  },
  {
   "cell_type": "code",
   "execution_count": 3,
   "metadata": {},
   "outputs": [],
   "source": [
    "def plotAllImages(images):\n",
    "    columns = 5\n",
    "    rows = 12\n",
    "    i = 1\n",
    "    fig=plt.figure(figsize=(50, 50))\n",
    "\n",
    "    for key in images.keys():\n",
    "        fig.add_subplot(rows, columns, i)\n",
    "        plt.xlabel(str(key))\n",
    "        plt.imshow(images[key], cmap = 'gray', vmin=0, vmax=255)\n",
    "        i = i+1\n",
    "\n",
    "    plt.subplots_adjust(bottom=0.40, top=0.75)\n",
    "    plt.show()"
   ]
  },
  {
   "cell_type": "markdown",
   "metadata": {},
   "source": [
    "### Passo 03: Criar Filtros"
   ]
  },
  {
   "cell_type": "code",
   "execution_count": 4,
   "metadata": {},
   "outputs": [],
   "source": [
    "filters = {}"
   ]
  },
  {
   "cell_type": "markdown",
   "metadata": {},
   "source": [
    "#### Filtro h1: Filtro Laplaciano com centro positivo (passa-alta) 5x5 "
   ]
  },
  {
   "cell_type": "code",
   "execution_count": 5,
   "metadata": {},
   "outputs": [
    {
     "data": {
      "text/plain": [
       "array([[ 0,  0, -1,  0,  0],\n",
       "       [ 0, -1, -2, -1,  0],\n",
       "       [-1, -2, 16, -2, -1],\n",
       "       [ 0, -1, -2, -1,  0],\n",
       "       [ 0,  0, -1,  0,  0]])"
      ]
     },
     "execution_count": 5,
     "metadata": {},
     "output_type": "execute_result"
    }
   ],
   "source": [
    "filters['filter_h1'] = np.array([[0,0,-1,0,0],[0,-1,-2,-1,0],[-1,-2,16,-2,-1],[0,-1,-2,-1,0],[0,0,-1,0,0]])\n",
    "filters['filter_h1']"
   ]
  },
  {
   "cell_type": "markdown",
   "metadata": {},
   "source": [
    "#### Filtro h2: Filtro Gaussiano"
   ]
  },
  {
   "cell_type": "code",
   "execution_count": 6,
   "metadata": {},
   "outputs": [
    {
     "data": {
      "text/plain": [
       "array([[0.00390625, 0.015625  , 0.0234375 , 0.015625  , 0.00390625],\n",
       "       [0.015625  , 0.0625    , 0.09375   , 0.0625    , 0.015625  ],\n",
       "       [0.0234375 , 0.09375   , 0.140625  , 0.09375   , 0.0234375 ],\n",
       "       [0.015625  , 0.0625    , 0.09375   , 0.0625    , 0.015625  ],\n",
       "       [0.00390625, 0.015625  , 0.0234375 , 0.015625  , 0.00390625]])"
      ]
     },
     "execution_count": 6,
     "metadata": {},
     "output_type": "execute_result"
    }
   ],
   "source": [
    "filters['filter_h2'] = (1/256)*np.array([[1,4,6,4,1],[4,16,24,16,4],[6,24,36,24,6],[4,16,24,16,4],[1,4,6,4,1]])\n",
    "filters['filter_h2']"
   ]
  },
  {
   "cell_type": "markdown",
   "metadata": {},
   "source": [
    "#### Filtro h3: Operador de Sobel usado para filtro de gradiente (gy)"
   ]
  },
  {
   "cell_type": "code",
   "execution_count": 7,
   "metadata": {},
   "outputs": [
    {
     "data": {
      "text/plain": [
       "array([[-1,  0,  1],\n",
       "       [-2,  0,  2],\n",
       "       [-1,  0,  1]])"
      ]
     },
     "execution_count": 7,
     "metadata": {},
     "output_type": "execute_result"
    }
   ],
   "source": [
    "filters['filter_h3'] = np.array([[-1,0,1],[-2,0,2],[-1,0,1]])\n",
    "filters['filter_h3']"
   ]
  },
  {
   "cell_type": "markdown",
   "metadata": {},
   "source": [
    "#### Filtro h4: Operador de Sobel usado para filtro de gradiente (gx)"
   ]
  },
  {
   "cell_type": "code",
   "execution_count": 8,
   "metadata": {},
   "outputs": [
    {
     "data": {
      "text/plain": [
       "array([[-1, -2, -1],\n",
       "       [ 0,  0,  0],\n",
       "       [ 1,  2,  1]])"
      ]
     },
     "execution_count": 8,
     "metadata": {},
     "output_type": "execute_result"
    }
   ],
   "source": [
    "filters['filter_h4'] = np.array([[-1,-2,-1],[0,0,0],[1,2,1]])\n",
    "filters['filter_h4']"
   ]
  },
  {
   "cell_type": "markdown",
   "metadata": {},
   "source": [
    "#### Filtro h5: filtro laplaciano com centro positivo (passa alta) 3x3"
   ]
  },
  {
   "cell_type": "code",
   "execution_count": 9,
   "metadata": {},
   "outputs": [
    {
     "data": {
      "text/plain": [
       "array([[-1, -1, -1],\n",
       "       [-1,  8, -1],\n",
       "       [-1, -1, -1]])"
      ]
     },
     "execution_count": 9,
     "metadata": {},
     "output_type": "execute_result"
    }
   ],
   "source": [
    "filters['filter_h5'] = np.array([[-1,-1,-1],[-1,8,-1],[-1,-1,-1]])\n",
    "filters['filter_h5']"
   ]
  },
  {
   "cell_type": "markdown",
   "metadata": {},
   "source": [
    "#### Filtro h6: filtro da média (passa baixa)"
   ]
  },
  {
   "cell_type": "code",
   "execution_count": 10,
   "metadata": {},
   "outputs": [
    {
     "data": {
      "text/plain": [
       "array([[0.11111111, 0.11111111, 0.11111111],\n",
       "       [0.11111111, 0.11111111, 0.11111111],\n",
       "       [0.11111111, 0.11111111, 0.11111111]])"
      ]
     },
     "execution_count": 10,
     "metadata": {},
     "output_type": "execute_result"
    }
   ],
   "source": [
    "filters['filter_h6'] = (1/9)*np.array([[1,1,1],[1,1,1],[1,1,1]])\n",
    "filters['filter_h6']"
   ]
  },
  {
   "cell_type": "markdown",
   "metadata": {},
   "source": [
    "#### Filtro h7"
   ]
  },
  {
   "cell_type": "code",
   "execution_count": 11,
   "metadata": {},
   "outputs": [
    {
     "data": {
      "text/plain": [
       "array([[-1, -1,  2],\n",
       "       [-1,  2, -1],\n",
       "       [ 2, -1, -1]])"
      ]
     },
     "execution_count": 11,
     "metadata": {},
     "output_type": "execute_result"
    }
   ],
   "source": [
    "filters['filter_h7'] = np.array([[-1,-1,2],[-1,2,-1],[2,-1,-1]])\n",
    "filters['filter_h7']"
   ]
  },
  {
   "cell_type": "markdown",
   "metadata": {},
   "source": [
    "#### Filtro h8"
   ]
  },
  {
   "cell_type": "code",
   "execution_count": 12,
   "metadata": {},
   "outputs": [
    {
     "data": {
      "text/plain": [
       "array([[ 2, -1, -1],\n",
       "       [-1,  2, -1],\n",
       "       [-1, -1,  2]])"
      ]
     },
     "execution_count": 12,
     "metadata": {},
     "output_type": "execute_result"
    }
   ],
   "source": [
    "filters['filter_h8'] = np.array([[2,-1,-1],[-1,2,-1],[-1,-1,2]])\n",
    "filters['filter_h8']"
   ]
  },
  {
   "cell_type": "markdown",
   "metadata": {},
   "source": [
    "### Passo 04: Carregar imagens"
   ]
  },
  {
   "cell_type": "code",
   "execution_count": 13,
   "metadata": {},
   "outputs": [],
   "source": [
    "images = {}"
   ]
  },
  {
   "cell_type": "code",
   "execution_count": 14,
   "metadata": {},
   "outputs": [],
   "source": [
    "images['seagull'] = cv.imread('input_images/seagull.png',0)\n",
    "images['butterfly'] = cv.imread('input_images/butterfly.png',0)\n",
    "images['window'] = cv.imread('input_images/window.png',0)"
   ]
  },
  {
   "cell_type": "code",
   "execution_count": 15,
   "metadata": {},
   "outputs": [],
   "source": [
    "# plotAllImages(images)"
   ]
  },
  {
   "cell_type": "markdown",
   "metadata": {},
   "source": [
    "### Passo 04: Aplicar filtros\n",
    "\n",
    "Os filtros são aplicados usando dois tipos de operação, a convolução e a correlação; sobre três diferentes imagens; e empregando dois tipos de borda: constante e reflexiva."
   ]
  },
  {
   "cell_type": "code",
   "execution_count": 16,
   "metadata": {},
   "outputs": [],
   "source": [
    "scipy_conv_images = {}\n",
    "open_corr_images = {}\n",
    "\n",
    "scipy_conv_images['original_seagull'] = images['seagull']\n",
    "open_corr_images['original_seagull'] = images['seagull']\n",
    "\n",
    "scipy_conv_images['original_butterfly'] = images['butterfly']\n",
    "open_corr_images['original_butterfly'] = images['butterfly']\n",
    "\n",
    "scipy_conv_images['original_window'] = images['window']\n",
    "open_corr_images['original_window'] = images['window']"
   ]
  },
  {
   "cell_type": "markdown",
   "metadata": {},
   "source": [
    "#### Borda: constante, preenchida com zeros"
   ]
  },
  {
   "cell_type": "code",
   "execution_count": 17,
   "metadata": {},
   "outputs": [],
   "source": [
    "for fkey in filters.keys():\n",
    "    for ikey in images.keys():\n",
    "        scipy_conv_images['conv_' + fkey + '_const' + '_' + ikey] = signal.convolve2d(images[ikey],filters[fkey], boundary='fill', mode='same')\n",
    "        open_corr_images['corr_' + fkey + '_const' + '_' + ikey] = cv.filter2D(images[ikey], -1, filters[fkey], borderType = cv.BORDER_CONSTANT)"
   ]
  },
  {
   "cell_type": "markdown",
   "metadata": {},
   "source": [
    "Combinação dos filtros h3 e h4 para cada imagem, em que a exponenciação e raiz quadrada são aplicadas às imagens e, não, aos filtros."
   ]
  },
  {
   "cell_type": "code",
   "execution_count": 18,
   "metadata": {},
   "outputs": [],
   "source": [
    "for ikey in images.keys():\n",
    "    scipy_conv_images['conv_' + 'filter_h3h4' + '_const' + '_' + ikey] = np.sqrt(np.power(scipy_conv_images['conv_' + 'filter_h3' + '_const' + '_' + ikey].astype(np.float), 2) + np.power(scipy_conv_images['conv_' + 'filter_h4' + '_const' + '_' + ikey].astype(np.float),2))\n",
    "    scipy_conv_images['conv_' + 'filter_h3h4' + '_const' + '_' + ikey] = (scipy_conv_images['conv_' + 'filter_h3h4' + '_const' + '_' + ikey]/np.max(scipy_conv_images['conv_' + 'filter_h3h4' + '_const' + '_' + ikey]))*255\n",
    "   \n",
    "    open_corr_images['corr_' + 'filter_h3h4' + '_const' + '_' + ikey] = np.sqrt(np.power(open_corr_images['corr_' + 'filter_h3' + '_const' + '_' + ikey].astype(np.float), 2) + np.power(open_corr_images['corr_' + 'filter_h4' + '_const' + '_' + ikey].astype(np.float),2))\n",
    "    open_corr_images['corr_' + 'filter_h3h4' + '_const' + '_' + ikey] = (open_corr_images['corr_' + 'filter_h3h4' + '_const' + '_' + ikey]/np.max(open_corr_images['corr_' + 'filter_h3h4' + '_const' + '_' + ikey]))*255"
   ]
  },
  {
   "cell_type": "markdown",
   "metadata": {},
   "source": [
    "#### Borda: reflexão dos valores a partir da borda"
   ]
  },
  {
   "cell_type": "code",
   "execution_count": 19,
   "metadata": {},
   "outputs": [],
   "source": [
    "for fkey in filters.keys():\n",
    "    for ikey in images.keys():\n",
    "        scipy_conv_images['conv_' + fkey + '_symm' + '_' + ikey] = signal.convolve2d(images[ikey],filters[fkey], boundary='symm', mode='same')\n",
    "        open_corr_images['corr_' + fkey + '_symm' + '_' + ikey] = cv.filter2D(images[ikey], -1, filters[fkey], borderType = cv.BORDER_REFLECT)"
   ]
  },
  {
   "cell_type": "markdown",
   "metadata": {},
   "source": [
    "Combinação dos filtros h3 e h4 para cada imagem, em que a exponenciação e raiz quadrada são aplicadas às imagens e, não, aos filtros."
   ]
  },
  {
   "cell_type": "code",
   "execution_count": 20,
   "metadata": {},
   "outputs": [],
   "source": [
    "for ikey in images.keys():\n",
    "    scipy_conv_images['conv_' + 'filter_h3h4' + '_symm' + '_' + ikey] = np.sqrt(np.power(scipy_conv_images['conv_' + 'filter_h3' + '_symm' + '_' + ikey].astype(np.float), 2) + np.power(scipy_conv_images['conv_' + 'filter_h4' + '_symm' + '_' + ikey].astype(np.float),2))\n",
    "    scipy_conv_images['conv_' + 'filter_h3h4' + '_symm' + '_' + ikey] = (scipy_conv_images['conv_' + 'filter_h3h4' + '_symm' + '_' + ikey]/np.max(scipy_conv_images['conv_' + 'filter_h3h4' + '_symm' + '_' + ikey]))*255\n",
    "   \n",
    "    open_corr_images['corr_' + 'filter_h3h4' + '_symm' + '_' + ikey] = np.sqrt(np.power(open_corr_images['corr_' + 'filter_h3' + '_symm' + '_' + ikey].astype(np.float), 2) + np.power(open_corr_images['corr_' + 'filter_h4' + '_symm' + '_' + ikey].astype(np.float),2))\n",
    "    open_corr_images['corr_' + 'filter_h3h4' + '_symm' + '_' + ikey] = (open_corr_images['corr_' + 'filter_h3h4' + '_symm' + '_' + ikey]/np.max(open_corr_images['corr_' + 'filter_h3h4' + '_symm' + '_' + ikey]))*255"
   ]
  },
  {
   "cell_type": "markdown",
   "metadata": {},
   "source": [
    "### Passo 05: Salvar imagens"
   ]
  },
  {
   "cell_type": "code",
   "execution_count": 21,
   "metadata": {},
   "outputs": [],
   "source": [
    "# for key in scipy_conv_images.keys():\n",
    "#     cv.imwrite('output_images/scipy_conv_images/' + key + '.png', scipy_conv_images[key])"
   ]
  },
  {
   "cell_type": "code",
   "execution_count": 22,
   "metadata": {},
   "outputs": [],
   "source": [
    "# for key in open_corr_images.keys():\n",
    "#     cv.imwrite('output_images/open_corr_images/' + key + '.png', open_corr_images[key])"
   ]
  },
  {
   "cell_type": "code",
   "execution_count": null,
   "metadata": {},
   "outputs": [],
   "source": []
  }
 ],
 "metadata": {
  "kernelspec": {
   "display_name": "Python 3",
   "language": "python",
   "name": "python3"
  },
  "language_info": {
   "codemirror_mode": {
    "name": "ipython",
    "version": 3
   },
   "file_extension": ".py",
   "mimetype": "text/x-python",
   "name": "python",
   "nbconvert_exporter": "python",
   "pygments_lexer": "ipython3",
   "version": "3.7.4"
  }
 },
 "nbformat": 4,
 "nbformat_minor": 2
}
